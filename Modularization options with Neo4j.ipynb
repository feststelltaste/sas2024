{
 "cells": [
  {
   "cell_type": "markdown",
   "id": "2547501f",
   "metadata": {},
   "source": [
    "# Set up connection to Neo4J"
   ]
  },
  {
   "cell_type": "markdown",
   "id": "28cd5b24",
   "metadata": {},
   "source": [
    "Esablish connection to Neo4j graph database"
   ]
  },
  {
   "cell_type": "code",
   "execution_count": 1,
   "id": "28462fc2",
   "metadata": {},
   "outputs": [],
   "source": [
    "from neo4j import GraphDatabase\n",
    "\n",
    "URI = \"bolt://localhost\"\n",
    "AUTH = (\"neo4j\", \"neo4j\")\n",
    "\n",
    "driver = GraphDatabase.driver(URI, auth=AUTH)\n",
    "driver.verify_connectivity()\n",
    "session = driver.session()"
   ]
  },
  {
   "cell_type": "markdown",
   "id": "5e38f4ae",
   "metadata": {},
   "source": [
    "Clean data from previous run"
   ]
  },
  {
   "cell_type": "code",
   "execution_count": 2,
   "id": "d8ae598a",
   "metadata": {},
   "outputs": [],
   "source": [
    "query=\"\"\"\n",
    "   MATCH (n:Type)\n",
    "   DETACH DELETE n\n",
    "\"\"\"\n",
    "session.run(query);"
   ]
  },
  {
   "cell_type": "code",
   "execution_count": 3,
   "id": "a68b6366",
   "metadata": {},
   "outputs": [],
   "source": [
    "query=\"\"\"\n",
    "   MATCH (n:Measure)\n",
    "   DETACH DELETE n\n",
    "\"\"\"\n",
    "session.run(query);"
   ]
  },
  {
   "cell_type": "code",
   "execution_count": 4,
   "id": "5493c4d4",
   "metadata": {},
   "outputs": [],
   "source": [
    "query=\"\"\"\n",
    "   MATCH (n:Module)\n",
    "   DETACH DELETE n\n",
    "\"\"\"\n",
    "session.run(query);"
   ]
  },
  {
   "cell_type": "markdown",
   "id": "9e5ecd3f",
   "metadata": {},
   "source": [
    "# Data import"
   ]
  },
  {
   "cell_type": "markdown",
   "id": "d164dac2",
   "metadata": {},
   "source": [
    "## Import dependencies (from jdeps)"
   ]
  },
  {
   "cell_type": "markdown",
   "id": "9868271e",
   "metadata": {},
   "source": [
    "### Generating dataset\n",
    "\n",
    "You can generate this kind of data with any tool that can show you dependencies between your classes. E.g. in Java, using `jdeps`:\n",
    "    \n",
    "    \n",
    "`jdeps -e 'org.springframework.samples.petclinic.*' -v target/classes/ > spring_petclinic_deps.txt`"
   ]
  },
  {
   "cell_type": "markdown",
   "id": "57b338a0",
   "metadata": {},
   "source": [
    "### Show dataset"
   ]
  },
  {
   "cell_type": "code",
   "execution_count": 5,
   "id": "2f46cee5",
   "metadata": {},
   "outputs": [
    {
     "name": "stdout",
     "output_type": "stream",
     "text": [
      "   org.springframework.samples.petclinic.model.NamedEntity -> org.springframework.samples.petclinic.model.BaseEntity classes\r\n",
      "   org.springframework.samples.petclinic.model.Owner  -> org.springframework.samples.petclinic.model.Person classes\r\n",
      "   org.springframework.samples.petclinic.model.Owner  -> org.springframework.samples.petclinic.model.Pet    classes\r\n",
      "   org.springframework.samples.petclinic.model.Person -> org.springframework.samples.petclinic.model.BaseEntity classes\r\n",
      "   org.springframework.samples.petclinic.model.Pet    -> org.springframework.samples.petclinic.model.NamedEntity classes\r\n",
      "   org.springframework.samples.petclinic.model.Pet    -> org.springframework.samples.petclinic.model.Owner  classes\r\n",
      "   org.springframework.samples.petclinic.model.Pet    -> org.springframework.samples.petclinic.model.PetType classes\r\n",
      "   org.springframework.samples.petclinic.model.Pet    -> org.springframework.samples.petclinic.model.Visit  classes\r\n",
      "   org.springframework.samples.petclinic.model.PetType -> org.springframework.samples.petclinic.model.NamedEntity classes\r\n",
      "   org.springframework.samples.petclinic.model.Specialty -> org.springframework.samples.petclinic.model.NamedEntity classes\r\n"
     ]
    }
   ],
   "source": [
    "!head data/spring_petclinic_deps.txt"
   ]
  },
  {
   "cell_type": "markdown",
   "id": "dbd01617",
   "metadata": {},
   "source": [
    "### Import dataset to pandas"
   ]
  },
  {
   "cell_type": "code",
   "execution_count": 6,
   "id": "5efea052",
   "metadata": {},
   "outputs": [
    {
     "data": {
      "text/html": [
       "<div>\n",
       "<style scoped>\n",
       "    .dataframe tbody tr th:only-of-type {\n",
       "        vertical-align: middle;\n",
       "    }\n",
       "\n",
       "    .dataframe tbody tr th {\n",
       "        vertical-align: top;\n",
       "    }\n",
       "\n",
       "    .dataframe thead th {\n",
       "        text-align: right;\n",
       "    }\n",
       "</style>\n",
       "<table border=\"1\" class=\"dataframe\">\n",
       "  <thead>\n",
       "    <tr style=\"text-align: right;\">\n",
       "      <th></th>\n",
       "      <th>raw</th>\n",
       "    </tr>\n",
       "  </thead>\n",
       "  <tbody>\n",
       "    <tr>\n",
       "      <th>0</th>\n",
       "      <td>org.springframework.samples.petclinic.model...</td>\n",
       "    </tr>\n",
       "    <tr>\n",
       "      <th>1</th>\n",
       "      <td>org.springframework.samples.petclinic.model...</td>\n",
       "    </tr>\n",
       "    <tr>\n",
       "      <th>2</th>\n",
       "      <td>org.springframework.samples.petclinic.model...</td>\n",
       "    </tr>\n",
       "    <tr>\n",
       "      <th>3</th>\n",
       "      <td>org.springframework.samples.petclinic.model...</td>\n",
       "    </tr>\n",
       "    <tr>\n",
       "      <th>4</th>\n",
       "      <td>org.springframework.samples.petclinic.model...</td>\n",
       "    </tr>\n",
       "  </tbody>\n",
       "</table>\n",
       "</div>"
      ],
      "text/plain": [
       "                                                 raw\n",
       "0     org.springframework.samples.petclinic.model...\n",
       "1     org.springframework.samples.petclinic.model...\n",
       "2     org.springframework.samples.petclinic.model...\n",
       "3     org.springframework.samples.petclinic.model...\n",
       "4     org.springframework.samples.petclinic.model..."
      ]
     },
     "execution_count": 6,
     "metadata": {},
     "output_type": "execute_result"
    }
   ],
   "source": [
    "import pandas as pd\n",
    "\n",
    "deps = pd.read_csv(\"data/spring_petclinic_deps.txt\", names=[\"raw\"], sep=\"\\r\")\n",
    "deps.head()"
   ]
  },
  {
   "cell_type": "markdown",
   "id": "8d1e8774",
   "metadata": {},
   "source": [
    "### Normalize data"
   ]
  },
  {
   "cell_type": "code",
   "execution_count": 7,
   "id": "1c6b1c36",
   "metadata": {
    "scrolled": true
   },
   "outputs": [
    {
     "data": {
      "text/html": [
       "<div>\n",
       "<style scoped>\n",
       "    .dataframe tbody tr th:only-of-type {\n",
       "        vertical-align: middle;\n",
       "    }\n",
       "\n",
       "    .dataframe tbody tr th {\n",
       "        vertical-align: top;\n",
       "    }\n",
       "\n",
       "    .dataframe thead th {\n",
       "        text-align: right;\n",
       "    }\n",
       "</style>\n",
       "<table border=\"1\" class=\"dataframe\">\n",
       "  <thead>\n",
       "    <tr style=\"text-align: right;\">\n",
       "      <th></th>\n",
       "      <th>raw</th>\n",
       "      <th>from</th>\n",
       "      <th>to</th>\n",
       "      <th>type</th>\n",
       "      <th>name</th>\n",
       "    </tr>\n",
       "  </thead>\n",
       "  <tbody>\n",
       "    <tr>\n",
       "      <th>0</th>\n",
       "      <td>org.springframework.samples.petclinic.model...</td>\n",
       "      <td>org.springframework.samples.petclinic.model.Na...</td>\n",
       "      <td>org.springframework.samples.petclinic.model.Ba...</td>\n",
       "      <td>classes</td>\n",
       "      <td>NamedEntity</td>\n",
       "    </tr>\n",
       "    <tr>\n",
       "      <th>1</th>\n",
       "      <td>org.springframework.samples.petclinic.model...</td>\n",
       "      <td>org.springframework.samples.petclinic.model.Owner</td>\n",
       "      <td>org.springframework.samples.petclinic.model.Pe...</td>\n",
       "      <td>classes</td>\n",
       "      <td>Owner</td>\n",
       "    </tr>\n",
       "    <tr>\n",
       "      <th>2</th>\n",
       "      <td>org.springframework.samples.petclinic.model...</td>\n",
       "      <td>org.springframework.samples.petclinic.model.Owner</td>\n",
       "      <td>org.springframework.samples.petclinic.model.Pet</td>\n",
       "      <td>classes</td>\n",
       "      <td>Owner</td>\n",
       "    </tr>\n",
       "    <tr>\n",
       "      <th>3</th>\n",
       "      <td>org.springframework.samples.petclinic.model...</td>\n",
       "      <td>org.springframework.samples.petclinic.model.Pe...</td>\n",
       "      <td>org.springframework.samples.petclinic.model.Ba...</td>\n",
       "      <td>classes</td>\n",
       "      <td>Person</td>\n",
       "    </tr>\n",
       "    <tr>\n",
       "      <th>4</th>\n",
       "      <td>org.springframework.samples.petclinic.model...</td>\n",
       "      <td>org.springframework.samples.petclinic.model.Pet</td>\n",
       "      <td>org.springframework.samples.petclinic.model.Na...</td>\n",
       "      <td>classes</td>\n",
       "      <td>Pet</td>\n",
       "    </tr>\n",
       "  </tbody>\n",
       "</table>\n",
       "</div>"
      ],
      "text/plain": [
       "                                                 raw  \\\n",
       "0     org.springframework.samples.petclinic.model...   \n",
       "1     org.springframework.samples.petclinic.model...   \n",
       "2     org.springframework.samples.petclinic.model...   \n",
       "3     org.springframework.samples.petclinic.model...   \n",
       "4     org.springframework.samples.petclinic.model...   \n",
       "\n",
       "                                                from  \\\n",
       "0  org.springframework.samples.petclinic.model.Na...   \n",
       "1  org.springframework.samples.petclinic.model.Owner   \n",
       "2  org.springframework.samples.petclinic.model.Owner   \n",
       "3  org.springframework.samples.petclinic.model.Pe...   \n",
       "4    org.springframework.samples.petclinic.model.Pet   \n",
       "\n",
       "                                                  to     type         name  \n",
       "0  org.springframework.samples.petclinic.model.Ba...  classes  NamedEntity  \n",
       "1  org.springframework.samples.petclinic.model.Pe...  classes        Owner  \n",
       "2    org.springframework.samples.petclinic.model.Pet  classes        Owner  \n",
       "3  org.springframework.samples.petclinic.model.Ba...  classes       Person  \n",
       "4  org.springframework.samples.petclinic.model.Na...  classes          Pet  "
      ]
     },
     "execution_count": 7,
     "metadata": {},
     "output_type": "execute_result"
    }
   ],
   "source": [
    "# class entries begin with three whitespaces\n",
    "deps = deps[deps['raw'].str.startswith(\"   \")]\n",
    "# separates the source from the target\n",
    "splitted = deps['raw'].str.split(\"->\", n=1, expand=True)\n",
    "# remove whitespaces from source and get rid of inner classes\n",
    "deps['from'] = splitted[0].str.strip().str.split(\"\\$\").str[0]\n",
    "# get the target and the artifact names\n",
    "splitted_2 = splitted[1].str.split(\" \", n=2)\n",
    "# get also rid of inner classes\n",
    "deps['to'] = splitted_2.str[1].str.split(\"\\$\").str[0]\n",
    "deps['type'] = splitted_2.str[2].str.strip()\n",
    "deps['name'] = deps['from'].str.split(\".\").str[-1]\n",
    "deps.head()"
   ]
  },
  {
   "cell_type": "markdown",
   "id": "d1aadcb8",
   "metadata": {},
   "source": [
    "### Transform data for source code file names into dictionary"
   ]
  },
  {
   "cell_type": "code",
   "execution_count": 8,
   "id": "fec364c2",
   "metadata": {},
   "outputs": [
    {
     "data": {
      "text/plain": [
       "[{'from': 'org.springframework.samples.petclinic.model.NamedEntity',\n",
       "  'name': 'NamedEntity'},\n",
       " {'from': 'org.springframework.samples.petclinic.model.Owner',\n",
       "  'name': 'Owner'},\n",
       " {'from': 'org.springframework.samples.petclinic.model.Person',\n",
       "  'name': 'Person'},\n",
       " {'from': 'org.springframework.samples.petclinic.model.Pet', 'name': 'Pet'},\n",
       " {'from': 'org.springframework.samples.petclinic.model.PetType',\n",
       "  'name': 'PetType'}]"
      ]
     },
     "execution_count": 8,
     "metadata": {},
     "output_type": "execute_result"
    }
   ],
   "source": [
    "names_data = deps[['from', 'name']].drop_duplicates().to_dict(orient='records')\n",
    "names_data[:5]"
   ]
  },
  {
   "cell_type": "markdown",
   "id": "3e4d7026",
   "metadata": {},
   "source": [
    "### Import data into Neo4j"
   ]
  },
  {
   "cell_type": "code",
   "execution_count": 9,
   "id": "82f67b2e",
   "metadata": {},
   "outputs": [
    {
     "data": {
      "text/html": [
       "<div>\n",
       "<style scoped>\n",
       "    .dataframe tbody tr th:only-of-type {\n",
       "        vertical-align: middle;\n",
       "    }\n",
       "\n",
       "    .dataframe tbody tr th {\n",
       "        vertical-align: top;\n",
       "    }\n",
       "\n",
       "    .dataframe thead th {\n",
       "        text-align: right;\n",
       "    }\n",
       "</style>\n",
       "<table border=\"1\" class=\"dataframe\">\n",
       "  <thead>\n",
       "    <tr style=\"text-align: right;\">\n",
       "      <th></th>\n",
       "      <th>t.fqn</th>\n",
       "      <th>t.name</th>\n",
       "    </tr>\n",
       "  </thead>\n",
       "  <tbody>\n",
       "    <tr>\n",
       "      <th>0</th>\n",
       "      <td>org.springframework.samples.petclinic.model.Na...</td>\n",
       "      <td>NamedEntity</td>\n",
       "    </tr>\n",
       "    <tr>\n",
       "      <th>1</th>\n",
       "      <td>org.springframework.samples.petclinic.model.Owner</td>\n",
       "      <td>Owner</td>\n",
       "    </tr>\n",
       "    <tr>\n",
       "      <th>2</th>\n",
       "      <td>org.springframework.samples.petclinic.model.Pe...</td>\n",
       "      <td>Person</td>\n",
       "    </tr>\n",
       "    <tr>\n",
       "      <th>3</th>\n",
       "      <td>org.springframework.samples.petclinic.model.Pet</td>\n",
       "      <td>Pet</td>\n",
       "    </tr>\n",
       "    <tr>\n",
       "      <th>4</th>\n",
       "      <td>org.springframework.samples.petclinic.model.Pe...</td>\n",
       "      <td>PetType</td>\n",
       "    </tr>\n",
       "  </tbody>\n",
       "</table>\n",
       "</div>"
      ],
      "text/plain": [
       "                                               t.fqn       t.name\n",
       "0  org.springframework.samples.petclinic.model.Na...  NamedEntity\n",
       "1  org.springframework.samples.petclinic.model.Owner        Owner\n",
       "2  org.springframework.samples.petclinic.model.Pe...       Person\n",
       "3    org.springframework.samples.petclinic.model.Pet          Pet\n",
       "4  org.springframework.samples.petclinic.model.Pe...      PetType"
      ]
     },
     "execution_count": 9,
     "metadata": {},
     "output_type": "execute_result"
    }
   ],
   "source": [
    "query=\"\"\"\n",
    "    UNWIND {data} as dep_name\n",
    "    CREATE\n",
    "        (t:Type)\n",
    "    SET\n",
    "        t.fqn = dep_name.from,\n",
    "        t.name = dep_name.name\n",
    "    RETURN t.fqn, t.name\n",
    "\"\"\"\n",
    "session.run(query, data=names_data).to_df().head()"
   ]
  },
  {
   "cell_type": "markdown",
   "id": "780e24b4",
   "metadata": {},
   "source": [
    "### Create index for `fqn` for faster queries"
   ]
  },
  {
   "cell_type": "code",
   "execution_count": 10,
   "id": "8f295674",
   "metadata": {},
   "outputs": [],
   "source": [
    "query=\"\"\"\n",
    "  CREATE INDEX ON :Type(fqn)\n",
    "\"\"\"\n",
    "session.run(query);"
   ]
  },
  {
   "cell_type": "markdown",
   "id": "4efdf8ab",
   "metadata": {},
   "source": [
    "### Transform data for dependencies into a dictionary"
   ]
  },
  {
   "cell_type": "code",
   "execution_count": 11,
   "id": "87511d55",
   "metadata": {},
   "outputs": [
    {
     "data": {
      "text/plain": [
       "[{'raw': '   org.springframework.samples.petclinic.model.NamedEntity -> org.springframework.samples.petclinic.model.BaseEntity classes',\n",
       "  'from': 'org.springframework.samples.petclinic.model.NamedEntity',\n",
       "  'to': 'org.springframework.samples.petclinic.model.BaseEntity',\n",
       "  'type': 'classes',\n",
       "  'name': 'NamedEntity'},\n",
       " {'raw': '   org.springframework.samples.petclinic.model.Owner  -> org.springframework.samples.petclinic.model.Person classes',\n",
       "  'from': 'org.springframework.samples.petclinic.model.Owner',\n",
       "  'to': 'org.springframework.samples.petclinic.model.Person',\n",
       "  'type': 'classes',\n",
       "  'name': 'Owner'}]"
      ]
     },
     "execution_count": 11,
     "metadata": {},
     "output_type": "execute_result"
    }
   ],
   "source": [
    "deps_data = deps.to_dict(orient='records')\n",
    "deps_data[:2]"
   ]
  },
  {
   "cell_type": "markdown",
   "id": "f36502e9",
   "metadata": {},
   "source": [
    "### Connect nodes that depend on each other"
   ]
  },
  {
   "cell_type": "code",
   "execution_count": 12,
   "id": "e2e6ee8e",
   "metadata": {
    "scrolled": true
   },
   "outputs": [
    {
     "data": {
      "text/html": [
       "<div>\n",
       "<style scoped>\n",
       "    .dataframe tbody tr th:only-of-type {\n",
       "        vertical-align: middle;\n",
       "    }\n",
       "\n",
       "    .dataframe tbody tr th {\n",
       "        vertical-align: top;\n",
       "    }\n",
       "\n",
       "    .dataframe thead th {\n",
       "        text-align: right;\n",
       "    }\n",
       "</style>\n",
       "<table border=\"1\" class=\"dataframe\">\n",
       "  <thead>\n",
       "    <tr style=\"text-align: right;\">\n",
       "      <th></th>\n",
       "      <th>from.fqn</th>\n",
       "      <th>to.fqn</th>\n",
       "    </tr>\n",
       "  </thead>\n",
       "  <tbody>\n",
       "    <tr>\n",
       "      <th>0</th>\n",
       "      <td>org.springframework.samples.petclinic.model.Owner</td>\n",
       "      <td>org.springframework.samples.petclinic.model.Pe...</td>\n",
       "    </tr>\n",
       "    <tr>\n",
       "      <th>1</th>\n",
       "      <td>org.springframework.samples.petclinic.model.Owner</td>\n",
       "      <td>org.springframework.samples.petclinic.model.Pet</td>\n",
       "    </tr>\n",
       "    <tr>\n",
       "      <th>2</th>\n",
       "      <td>org.springframework.samples.petclinic.model.Pet</td>\n",
       "      <td>org.springframework.samples.petclinic.model.Na...</td>\n",
       "    </tr>\n",
       "    <tr>\n",
       "      <th>3</th>\n",
       "      <td>org.springframework.samples.petclinic.model.Pet</td>\n",
       "      <td>org.springframework.samples.petclinic.model.Owner</td>\n",
       "    </tr>\n",
       "    <tr>\n",
       "      <th>4</th>\n",
       "      <td>org.springframework.samples.petclinic.model.Pet</td>\n",
       "      <td>org.springframework.samples.petclinic.model.Pe...</td>\n",
       "    </tr>\n",
       "    <tr>\n",
       "      <th>...</th>\n",
       "      <td>...</td>\n",
       "      <td>...</td>\n",
       "    </tr>\n",
       "    <tr>\n",
       "      <th>96</th>\n",
       "      <td>org.springframework.samples.petclinic.web.VetC...</td>\n",
       "      <td>org.springframework.samples.petclinic.model.Vets</td>\n",
       "    </tr>\n",
       "    <tr>\n",
       "      <th>97</th>\n",
       "      <td>org.springframework.samples.petclinic.web.VetC...</td>\n",
       "      <td>org.springframework.samples.petclinic.service....</td>\n",
       "    </tr>\n",
       "    <tr>\n",
       "      <th>98</th>\n",
       "      <td>org.springframework.samples.petclinic.web.Visi...</td>\n",
       "      <td>org.springframework.samples.petclinic.model.Pet</td>\n",
       "    </tr>\n",
       "    <tr>\n",
       "      <th>99</th>\n",
       "      <td>org.springframework.samples.petclinic.web.Visi...</td>\n",
       "      <td>org.springframework.samples.petclinic.model.Visit</td>\n",
       "    </tr>\n",
       "    <tr>\n",
       "      <th>100</th>\n",
       "      <td>org.springframework.samples.petclinic.web.Visi...</td>\n",
       "      <td>org.springframework.samples.petclinic.service....</td>\n",
       "    </tr>\n",
       "  </tbody>\n",
       "</table>\n",
       "<p>101 rows × 2 columns</p>\n",
       "</div>"
      ],
      "text/plain": [
       "                                              from.fqn  \\\n",
       "0    org.springframework.samples.petclinic.model.Owner   \n",
       "1    org.springframework.samples.petclinic.model.Owner   \n",
       "2      org.springframework.samples.petclinic.model.Pet   \n",
       "3      org.springframework.samples.petclinic.model.Pet   \n",
       "4      org.springframework.samples.petclinic.model.Pet   \n",
       "..                                                 ...   \n",
       "96   org.springframework.samples.petclinic.web.VetC...   \n",
       "97   org.springframework.samples.petclinic.web.VetC...   \n",
       "98   org.springframework.samples.petclinic.web.Visi...   \n",
       "99   org.springframework.samples.petclinic.web.Visi...   \n",
       "100  org.springframework.samples.petclinic.web.Visi...   \n",
       "\n",
       "                                                to.fqn  \n",
       "0    org.springframework.samples.petclinic.model.Pe...  \n",
       "1      org.springframework.samples.petclinic.model.Pet  \n",
       "2    org.springframework.samples.petclinic.model.Na...  \n",
       "3    org.springframework.samples.petclinic.model.Owner  \n",
       "4    org.springframework.samples.petclinic.model.Pe...  \n",
       "..                                                 ...  \n",
       "96    org.springframework.samples.petclinic.model.Vets  \n",
       "97   org.springframework.samples.petclinic.service....  \n",
       "98     org.springframework.samples.petclinic.model.Pet  \n",
       "99   org.springframework.samples.petclinic.model.Visit  \n",
       "100  org.springframework.samples.petclinic.service....  \n",
       "\n",
       "[101 rows x 2 columns]"
      ]
     },
     "execution_count": 12,
     "metadata": {},
     "output_type": "execute_result"
    }
   ],
   "source": [
    "query=\"\"\"\n",
    "    UNWIND {data} as dep\n",
    "    MATCH (from:Type {fqn : dep.from})\n",
    "    MATCH (to:Type {fqn: dep.to})\n",
    "    MERGE (from)-[:DEPENDS_ON]->(to)\n",
    "    RETURN from.fqn, to.fqn\n",
    "\"\"\"\n",
    "session.run(query, data=deps_data).to_df()"
   ]
  },
  {
   "cell_type": "markdown",
   "id": "b926d42a",
   "metadata": {},
   "source": [
    "### Prepare results for dependency analysis"
   ]
  },
  {
   "cell_type": "code",
   "execution_count": 13,
   "id": "51f838c2",
   "metadata": {},
   "outputs": [
    {
     "name": "stdout",
     "output_type": "stream",
     "text": [
      "[{\"name\":\"org.springframework.samples.petclinic.model.NamedEntity\",\"imports\":[\"org.springframework.samples.petclinic.model.NamedEntity\"]},{\"name\":\"org.springframework.samples.petclinic.model.Pet\",\"imp\n"
     ]
    }
   ],
   "source": [
    "query=\"\"\"\n",
    "MATCH\n",
    "    (t:Type)\n",
    "WITH DISTINCT t\n",
    "MATCH\n",
    "    (type)-[:DEPENDS_ON*0..1]->(directDependency:Type)\n",
    "RETURN type.fqn as name, COLLECT(DISTINCT directDependency.fqn) as imports\n",
    "\"\"\"\n",
    "\n",
    "json_data = session.run(query).to_df().to_json(orient=\"records\")\n",
    "print(json_data[:200])"
   ]
  },
  {
   "cell_type": "markdown",
   "id": "cecddcd4",
   "metadata": {},
   "source": [
    "### Visualize dependencies"
   ]
  },
  {
   "cell_type": "code",
   "execution_count": 14,
   "id": "39dd3437",
   "metadata": {},
   "outputs": [],
   "source": [
    "with open ( \"output/hierarchical-edge-bundling.json\", mode='w') as json_file:\n",
    "    json_file.write(json_data)"
   ]
  },
  {
   "cell_type": "markdown",
   "id": "407ab67d",
   "metadata": {},
   "source": [
    "### Show link for visualization\n",
    "<a href=\"vis/hierarchical-edge-bundling.html\">hierarchical-edge-bundling.html</a>"
   ]
  },
  {
   "cell_type": "markdown",
   "id": "7037f1bb",
   "metadata": {},
   "source": [
    "## Import lines of code information"
   ]
  },
  {
   "cell_type": "markdown",
   "id": "8a24d403",
   "metadata": {},
   "source": [
    "### Generate dataset\n",
    "\n",
    "You can generate this data for various source code projects e.g. via `cloc`:\n",
    "\n",
    "`src/main/java/cloc . --by-file --quiet --csv --out spring_petclinic_cloc.csv`\n"
   ]
  },
  {
   "cell_type": "markdown",
   "id": "6e295ff8",
   "metadata": {},
   "source": [
    "### Show dataset"
   ]
  },
  {
   "cell_type": "code",
   "execution_count": 15,
   "id": "f9f4ba76",
   "metadata": {},
   "outputs": [
    {
     "name": "stdout",
     "output_type": "stream",
     "text": [
      "language,filename,blank,comment,code,\"github.com/AlDanial/cloc v 1.82  T=0.19 s (244.7 files/s, 16290.7 lines/s)\"\r\n",
      "Java,./org/springframework/samples/petclinic/repository/jdbc/JdbcOwnerRepositoryImpl.java,19,41,98\r\n",
      "Java,./org/springframework/samples/petclinic/model/Owner.java,22,35,96\r\n",
      "Java,./org/springframework/samples/petclinic/web/OwnerController.java,18,32,85\r\n",
      "Java,./org/springframework/samples/petclinic/web/PetController.java,15,20,78\r\n",
      "Java,./org/springframework/samples/petclinic/repository/jdbc/JdbcPetRepositoryImpl.java,15,26,75\r\n",
      "Java,./org/springframework/samples/petclinic/service/ClinicServiceImpl.java,18,21,74\r\n",
      "Java,./org/springframework/samples/petclinic/repository/jdbc/OneToManyResultSetExtractor.java,15,74,70\r\n",
      "Java,./org/springframework/samples/petclinic/model/Pet.java,20,22,69\r\n",
      "Java,./org/springframework/samples/petclinic/repository/jdbc/JdbcVisitRepositoryImpl.java,17,29,57\r\n"
     ]
    }
   ],
   "source": [
    "!head data/spring_petclinic_cloc.csv"
   ]
  },
  {
   "cell_type": "markdown",
   "id": "997fcabe",
   "metadata": {},
   "source": [
    "### Import data"
   ]
  },
  {
   "cell_type": "code",
   "execution_count": 16,
   "id": "5e11f9dd",
   "metadata": {},
   "outputs": [
    {
     "data": {
      "text/html": [
       "<div>\n",
       "<style scoped>\n",
       "    .dataframe tbody tr th:only-of-type {\n",
       "        vertical-align: middle;\n",
       "    }\n",
       "\n",
       "    .dataframe tbody tr th {\n",
       "        vertical-align: top;\n",
       "    }\n",
       "\n",
       "    .dataframe thead th {\n",
       "        text-align: right;\n",
       "    }\n",
       "</style>\n",
       "<table border=\"1\" class=\"dataframe\">\n",
       "  <thead>\n",
       "    <tr style=\"text-align: right;\">\n",
       "      <th></th>\n",
       "      <th>language</th>\n",
       "      <th>filename</th>\n",
       "      <th>blank</th>\n",
       "      <th>comment</th>\n",
       "      <th>code</th>\n",
       "      <th>github.com/AlDanial/cloc v 1.82  T=0.19 s (244.7 files/s, 16290.7 lines/s)</th>\n",
       "    </tr>\n",
       "  </thead>\n",
       "  <tbody>\n",
       "    <tr>\n",
       "      <th>42</th>\n",
       "      <td>Java</td>\n",
       "      <td>./org/springframework/samples/petclinic/reposi...</td>\n",
       "      <td>2</td>\n",
       "      <td>21</td>\n",
       "      <td>6</td>\n",
       "      <td>NaN</td>\n",
       "    </tr>\n",
       "    <tr>\n",
       "      <th>43</th>\n",
       "      <td>Java</td>\n",
       "      <td>./org/springframework/samples/petclinic/web/pa...</td>\n",
       "      <td>1</td>\n",
       "      <td>3</td>\n",
       "      <td>1</td>\n",
       "      <td>NaN</td>\n",
       "    </tr>\n",
       "    <tr>\n",
       "      <th>44</th>\n",
       "      <td>Java</td>\n",
       "      <td>./org/springframework/samples/petclinic/model/...</td>\n",
       "      <td>1</td>\n",
       "      <td>3</td>\n",
       "      <td>1</td>\n",
       "      <td>NaN</td>\n",
       "    </tr>\n",
       "    <tr>\n",
       "      <th>45</th>\n",
       "      <td>Java</td>\n",
       "      <td>./org/springframework/samples/petclinic/reposi...</td>\n",
       "      <td>1</td>\n",
       "      <td>4</td>\n",
       "      <td>1</td>\n",
       "      <td>NaN</td>\n",
       "    </tr>\n",
       "    <tr>\n",
       "      <th>46</th>\n",
       "      <td>Java</td>\n",
       "      <td>./org/springframework/samples/petclinic/reposi...</td>\n",
       "      <td>1</td>\n",
       "      <td>4</td>\n",
       "      <td>1</td>\n",
       "      <td>NaN</td>\n",
       "    </tr>\n",
       "  </tbody>\n",
       "</table>\n",
       "</div>"
      ],
      "text/plain": [
       "   language                                           filename  blank  \\\n",
       "42     Java  ./org/springframework/samples/petclinic/reposi...      2   \n",
       "43     Java  ./org/springframework/samples/petclinic/web/pa...      1   \n",
       "44     Java  ./org/springframework/samples/petclinic/model/...      1   \n",
       "45     Java  ./org/springframework/samples/petclinic/reposi...      1   \n",
       "46     Java  ./org/springframework/samples/petclinic/reposi...      1   \n",
       "\n",
       "    comment  code  \\\n",
       "42       21     6   \n",
       "43        3     1   \n",
       "44        3     1   \n",
       "45        4     1   \n",
       "46        4     1   \n",
       "\n",
       "    github.com/AlDanial/cloc v 1.82  T=0.19 s (244.7 files/s, 16290.7 lines/s)  \n",
       "42                                                NaN                           \n",
       "43                                                NaN                           \n",
       "44                                                NaN                           \n",
       "45                                                NaN                           \n",
       "46                                                NaN                           "
      ]
     },
     "execution_count": 16,
     "metadata": {},
     "output_type": "execute_result"
    }
   ],
   "source": [
    "cloc = pd.read_csv(\"data/spring_petclinic_cloc.csv\")[:-1].copy()\n",
    "cloc.tail()"
   ]
  },
  {
   "cell_type": "markdown",
   "id": "a5dfdf83",
   "metadata": {},
   "source": [
    "### Normalize data\n",
    "cloc delivers paths, but we need a full qualified name (\"fqn\") that matches with exiting data"
   ]
  },
  {
   "cell_type": "code",
   "execution_count": 17,
   "id": "54b39a23",
   "metadata": {},
   "outputs": [
    {
     "data": {
      "text/html": [
       "<div>\n",
       "<style scoped>\n",
       "    .dataframe tbody tr th:only-of-type {\n",
       "        vertical-align: middle;\n",
       "    }\n",
       "\n",
       "    .dataframe tbody tr th {\n",
       "        vertical-align: top;\n",
       "    }\n",
       "\n",
       "    .dataframe thead th {\n",
       "        text-align: right;\n",
       "    }\n",
       "</style>\n",
       "<table border=\"1\" class=\"dataframe\">\n",
       "  <thead>\n",
       "    <tr style=\"text-align: right;\">\n",
       "      <th></th>\n",
       "      <th>language</th>\n",
       "      <th>filename</th>\n",
       "      <th>blank</th>\n",
       "      <th>comment</th>\n",
       "      <th>code</th>\n",
       "      <th>github.com/AlDanial/cloc v 1.82  T=0.19 s (244.7 files/s, 16290.7 lines/s)</th>\n",
       "      <th>fqn</th>\n",
       "    </tr>\n",
       "  </thead>\n",
       "  <tbody>\n",
       "    <tr>\n",
       "      <th>0</th>\n",
       "      <td>Java</td>\n",
       "      <td>./org/springframework/samples/petclinic/reposi...</td>\n",
       "      <td>19</td>\n",
       "      <td>41</td>\n",
       "      <td>98</td>\n",
       "      <td>NaN</td>\n",
       "      <td>org.springframework.samples.petclinic.reposito...</td>\n",
       "    </tr>\n",
       "    <tr>\n",
       "      <th>1</th>\n",
       "      <td>Java</td>\n",
       "      <td>./org/springframework/samples/petclinic/model/...</td>\n",
       "      <td>22</td>\n",
       "      <td>35</td>\n",
       "      <td>96</td>\n",
       "      <td>NaN</td>\n",
       "      <td>org.springframework.samples.petclinic.model.Owner</td>\n",
       "    </tr>\n",
       "    <tr>\n",
       "      <th>2</th>\n",
       "      <td>Java</td>\n",
       "      <td>./org/springframework/samples/petclinic/web/Ow...</td>\n",
       "      <td>18</td>\n",
       "      <td>32</td>\n",
       "      <td>85</td>\n",
       "      <td>NaN</td>\n",
       "      <td>org.springframework.samples.petclinic.web.Owne...</td>\n",
       "    </tr>\n",
       "    <tr>\n",
       "      <th>3</th>\n",
       "      <td>Java</td>\n",
       "      <td>./org/springframework/samples/petclinic/web/Pe...</td>\n",
       "      <td>15</td>\n",
       "      <td>20</td>\n",
       "      <td>78</td>\n",
       "      <td>NaN</td>\n",
       "      <td>org.springframework.samples.petclinic.web.PetC...</td>\n",
       "    </tr>\n",
       "    <tr>\n",
       "      <th>4</th>\n",
       "      <td>Java</td>\n",
       "      <td>./org/springframework/samples/petclinic/reposi...</td>\n",
       "      <td>15</td>\n",
       "      <td>26</td>\n",
       "      <td>75</td>\n",
       "      <td>NaN</td>\n",
       "      <td>org.springframework.samples.petclinic.reposito...</td>\n",
       "    </tr>\n",
       "  </tbody>\n",
       "</table>\n",
       "</div>"
      ],
      "text/plain": [
       "  language                                           filename  blank  comment  \\\n",
       "0     Java  ./org/springframework/samples/petclinic/reposi...     19       41   \n",
       "1     Java  ./org/springframework/samples/petclinic/model/...     22       35   \n",
       "2     Java  ./org/springframework/samples/petclinic/web/Ow...     18       32   \n",
       "3     Java  ./org/springframework/samples/petclinic/web/Pe...     15       20   \n",
       "4     Java  ./org/springframework/samples/petclinic/reposi...     15       26   \n",
       "\n",
       "   code  \\\n",
       "0    98   \n",
       "1    96   \n",
       "2    85   \n",
       "3    78   \n",
       "4    75   \n",
       "\n",
       "   github.com/AlDanial/cloc v 1.82  T=0.19 s (244.7 files/s, 16290.7 lines/s)  \\\n",
       "0                                                NaN                            \n",
       "1                                                NaN                            \n",
       "2                                                NaN                            \n",
       "3                                                NaN                            \n",
       "4                                                NaN                            \n",
       "\n",
       "                                                 fqn  \n",
       "0  org.springframework.samples.petclinic.reposito...  \n",
       "1  org.springframework.samples.petclinic.model.Owner  \n",
       "2  org.springframework.samples.petclinic.web.Owne...  \n",
       "3  org.springframework.samples.petclinic.web.PetC...  \n",
       "4  org.springframework.samples.petclinic.reposito...  "
      ]
     },
     "execution_count": 17,
     "metadata": {},
     "output_type": "execute_result"
    }
   ],
   "source": [
    "cloc['fqn'] = cloc['filename'].str.replace(\"./\", \"\", regex=False)\\\n",
    "                              .str.replace(\"/\",\".\", regex=False)\\\n",
    "                              .str.replace(\".java\",\"\", regex=False)\n",
    "cloc.head()"
   ]
  },
  {
   "cell_type": "markdown",
   "id": "2cc869ce",
   "metadata": {},
   "source": [
    "### Clean up dataset"
   ]
  },
  {
   "cell_type": "code",
   "execution_count": 18,
   "id": "efa83efc",
   "metadata": {},
   "outputs": [
    {
     "data": {
      "text/html": [
       "<div>\n",
       "<style scoped>\n",
       "    .dataframe tbody tr th:only-of-type {\n",
       "        vertical-align: middle;\n",
       "    }\n",
       "\n",
       "    .dataframe tbody tr th {\n",
       "        vertical-align: top;\n",
       "    }\n",
       "\n",
       "    .dataframe thead th {\n",
       "        text-align: right;\n",
       "    }\n",
       "</style>\n",
       "<table border=\"1\" class=\"dataframe\">\n",
       "  <thead>\n",
       "    <tr style=\"text-align: right;\">\n",
       "      <th></th>\n",
       "      <th>fqn</th>\n",
       "      <th>code</th>\n",
       "      <th>comment</th>\n",
       "      <th>blank</th>\n",
       "    </tr>\n",
       "  </thead>\n",
       "  <tbody>\n",
       "    <tr>\n",
       "      <th>0</th>\n",
       "      <td>org.springframework.samples.petclinic.reposito...</td>\n",
       "      <td>98</td>\n",
       "      <td>41</td>\n",
       "      <td>19</td>\n",
       "    </tr>\n",
       "    <tr>\n",
       "      <th>1</th>\n",
       "      <td>org.springframework.samples.petclinic.model.Owner</td>\n",
       "      <td>96</td>\n",
       "      <td>35</td>\n",
       "      <td>22</td>\n",
       "    </tr>\n",
       "    <tr>\n",
       "      <th>2</th>\n",
       "      <td>org.springframework.samples.petclinic.web.Owne...</td>\n",
       "      <td>85</td>\n",
       "      <td>32</td>\n",
       "      <td>18</td>\n",
       "    </tr>\n",
       "    <tr>\n",
       "      <th>3</th>\n",
       "      <td>org.springframework.samples.petclinic.web.PetC...</td>\n",
       "      <td>78</td>\n",
       "      <td>20</td>\n",
       "      <td>15</td>\n",
       "    </tr>\n",
       "    <tr>\n",
       "      <th>4</th>\n",
       "      <td>org.springframework.samples.petclinic.reposito...</td>\n",
       "      <td>75</td>\n",
       "      <td>26</td>\n",
       "      <td>15</td>\n",
       "    </tr>\n",
       "  </tbody>\n",
       "</table>\n",
       "</div>"
      ],
      "text/plain": [
       "                                                 fqn  code  comment  blank\n",
       "0  org.springframework.samples.petclinic.reposito...    98       41     19\n",
       "1  org.springframework.samples.petclinic.model.Owner    96       35     22\n",
       "2  org.springframework.samples.petclinic.web.Owne...    85       32     18\n",
       "3  org.springframework.samples.petclinic.web.PetC...    78       20     15\n",
       "4  org.springframework.samples.petclinic.reposito...    75       26     15"
      ]
     },
     "execution_count": 18,
     "metadata": {},
     "output_type": "execute_result"
    }
   ],
   "source": [
    "loc = cloc[['fqn', 'code', 'comment', 'blank']].dropna().copy()\n",
    "loc.head()"
   ]
  },
  {
   "cell_type": "markdown",
   "id": "88b4de8d",
   "metadata": {},
   "source": [
    "### Generate dictionary"
   ]
  },
  {
   "cell_type": "code",
   "execution_count": 19,
   "id": "1d3a2154",
   "metadata": {},
   "outputs": [
    {
     "data": {
      "text/plain": [
       "[{'fqn': 'org.springframework.samples.petclinic.repository.jdbc.JdbcOwnerRepositoryImpl',\n",
       "  'code': 98,\n",
       "  'comment': 41,\n",
       "  'blank': 19},\n",
       " {'fqn': 'org.springframework.samples.petclinic.model.Owner',\n",
       "  'code': 96,\n",
       "  'comment': 35,\n",
       "  'blank': 22}]"
      ]
     },
     "execution_count": 19,
     "metadata": {},
     "output_type": "execute_result"
    }
   ],
   "source": [
    "loc_data = loc.to_dict(orient='records')\n",
    "loc_data[:2]"
   ]
  },
  {
   "cell_type": "markdown",
   "id": "3dbcf220",
   "metadata": {},
   "source": [
    "### Import into Neo4j"
   ]
  },
  {
   "cell_type": "code",
   "execution_count": 20,
   "id": "1b795fc7",
   "metadata": {},
   "outputs": [
    {
     "data": {
      "text/html": [
       "<div>\n",
       "<style scoped>\n",
       "    .dataframe tbody tr th:only-of-type {\n",
       "        vertical-align: middle;\n",
       "    }\n",
       "\n",
       "    .dataframe tbody tr th {\n",
       "        vertical-align: top;\n",
       "    }\n",
       "\n",
       "    .dataframe thead th {\n",
       "        text-align: right;\n",
       "    }\n",
       "</style>\n",
       "<table border=\"1\" class=\"dataframe\">\n",
       "  <thead>\n",
       "    <tr style=\"text-align: right;\">\n",
       "      <th></th>\n",
       "      <th>t.fqn</th>\n",
       "      <th>t.name</th>\n",
       "      <th>t.lines</th>\n",
       "      <th>t.comments</th>\n",
       "      <th>t.blanks</th>\n",
       "    </tr>\n",
       "  </thead>\n",
       "  <tbody>\n",
       "    <tr>\n",
       "      <th>0</th>\n",
       "      <td>org.springframework.samples.petclinic.reposito...</td>\n",
       "      <td>JdbcOwnerRepositoryImpl</td>\n",
       "      <td>98</td>\n",
       "      <td>41</td>\n",
       "      <td>19</td>\n",
       "    </tr>\n",
       "    <tr>\n",
       "      <th>1</th>\n",
       "      <td>org.springframework.samples.petclinic.model.Owner</td>\n",
       "      <td>Owner</td>\n",
       "      <td>96</td>\n",
       "      <td>35</td>\n",
       "      <td>22</td>\n",
       "    </tr>\n",
       "    <tr>\n",
       "      <th>2</th>\n",
       "      <td>org.springframework.samples.petclinic.web.Owne...</td>\n",
       "      <td>OwnerController</td>\n",
       "      <td>85</td>\n",
       "      <td>32</td>\n",
       "      <td>18</td>\n",
       "    </tr>\n",
       "    <tr>\n",
       "      <th>3</th>\n",
       "      <td>org.springframework.samples.petclinic.web.PetC...</td>\n",
       "      <td>PetController</td>\n",
       "      <td>78</td>\n",
       "      <td>20</td>\n",
       "      <td>15</td>\n",
       "    </tr>\n",
       "    <tr>\n",
       "      <th>4</th>\n",
       "      <td>org.springframework.samples.petclinic.reposito...</td>\n",
       "      <td>JdbcPetRepositoryImpl</td>\n",
       "      <td>75</td>\n",
       "      <td>26</td>\n",
       "      <td>15</td>\n",
       "    </tr>\n",
       "  </tbody>\n",
       "</table>\n",
       "</div>"
      ],
      "text/plain": [
       "                                               t.fqn                   t.name  \\\n",
       "0  org.springframework.samples.petclinic.reposito...  JdbcOwnerRepositoryImpl   \n",
       "1  org.springframework.samples.petclinic.model.Owner                    Owner   \n",
       "2  org.springframework.samples.petclinic.web.Owne...          OwnerController   \n",
       "3  org.springframework.samples.petclinic.web.PetC...            PetController   \n",
       "4  org.springframework.samples.petclinic.reposito...    JdbcPetRepositoryImpl   \n",
       "\n",
       "   t.lines  t.comments  t.blanks  \n",
       "0       98          41        19  \n",
       "1       96          35        22  \n",
       "2       85          32        18  \n",
       "3       78          20        15  \n",
       "4       75          26        15  "
      ]
     },
     "execution_count": 20,
     "metadata": {},
     "output_type": "execute_result"
    }
   ],
   "source": [
    "query=\"\"\"\n",
    "    UNWIND {data} as loc\n",
    "    MATCH (t:Type {fqn : loc.fqn})\n",
    "    SET\n",
    "        t.lines = loc.code,\n",
    "        t.comments = loc.comment,\n",
    "        t.blanks = loc.blank\n",
    "    RETURN t.fqn, t.name, t.lines, t.comments, t.blanks\n",
    "\"\"\"\n",
    "\n",
    "session.run(query, data=loc_data).to_df().head()"
   ]
  },
  {
   "cell_type": "markdown",
   "id": "47cba5cc",
   "metadata": {},
   "source": [
    "## Import usage data"
   ]
  },
  {
   "cell_type": "markdown",
   "id": "f036f654",
   "metadata": {},
   "source": [
    "### Generate dataset\n",
    "\n",
    "E.g. via coverage tools like JaCoCo you can get a glimpse on what's happening during the usage of your application.\n",
    "\n",
    "See here for more details: https://www.feststelltaste.de/visualizing-production-coverage-with-jacoco-pandas-and-d3/"
   ]
  },
  {
   "cell_type": "markdown",
   "id": "c971ee30",
   "metadata": {},
   "source": [
    "### Show dataset"
   ]
  },
  {
   "cell_type": "code",
   "execution_count": 21,
   "id": "c9439db2",
   "metadata": {},
   "outputs": [
    {
     "name": "stdout",
     "output_type": "stream",
     "text": [
      "PACKAGE,CLASS,LINE_MISSED,LINE_COVERED\r",
      "\r\n",
      "org.springframework.samples.petclinic,PetclinicInitializer,0,24\r",
      "\r\n",
      "org.springframework.samples.petclinic.model,NamedEntity,1,4\r",
      "\r\n",
      "org.springframework.samples.petclinic.model,Specialty,0,1\r",
      "\r\n",
      "org.springframework.samples.petclinic.model,PetType,0,1\r",
      "\r\n",
      "org.springframework.samples.petclinic.model,Vets,4,0\r",
      "\r\n",
      "org.springframework.samples.petclinic.model,Visit,0,12\r",
      "\r\n",
      "org.springframework.samples.petclinic.model,BaseEntity,0,5\r",
      "\r\n",
      "org.springframework.samples.petclinic.model,Person,0,7\r",
      "\r\n",
      "org.springframework.samples.petclinic.model,Owner,14,26\r",
      "\r\n"
     ]
    }
   ],
   "source": [
    "!head data/spring_petclinic_production_coverage_data.csv"
   ]
  },
  {
   "cell_type": "markdown",
   "id": "5e7baf4b",
   "metadata": {},
   "source": [
    "### Import dataset"
   ]
  },
  {
   "cell_type": "code",
   "execution_count": 22,
   "id": "758742cb",
   "metadata": {},
   "outputs": [
    {
     "data": {
      "text/html": [
       "<div>\n",
       "<style scoped>\n",
       "    .dataframe tbody tr th:only-of-type {\n",
       "        vertical-align: middle;\n",
       "    }\n",
       "\n",
       "    .dataframe tbody tr th {\n",
       "        vertical-align: top;\n",
       "    }\n",
       "\n",
       "    .dataframe thead th {\n",
       "        text-align: right;\n",
       "    }\n",
       "</style>\n",
       "<table border=\"1\" class=\"dataframe\">\n",
       "  <thead>\n",
       "    <tr style=\"text-align: right;\">\n",
       "      <th></th>\n",
       "      <th>PACKAGE</th>\n",
       "      <th>CLASS</th>\n",
       "      <th>LINE_MISSED</th>\n",
       "      <th>LINE_COVERED</th>\n",
       "    </tr>\n",
       "  </thead>\n",
       "  <tbody>\n",
       "    <tr>\n",
       "      <th>0</th>\n",
       "      <td>org.springframework.samples.petclinic</td>\n",
       "      <td>PetclinicInitializer</td>\n",
       "      <td>0</td>\n",
       "      <td>24</td>\n",
       "    </tr>\n",
       "    <tr>\n",
       "      <th>1</th>\n",
       "      <td>org.springframework.samples.petclinic.model</td>\n",
       "      <td>NamedEntity</td>\n",
       "      <td>1</td>\n",
       "      <td>4</td>\n",
       "    </tr>\n",
       "    <tr>\n",
       "      <th>2</th>\n",
       "      <td>org.springframework.samples.petclinic.model</td>\n",
       "      <td>Specialty</td>\n",
       "      <td>0</td>\n",
       "      <td>1</td>\n",
       "    </tr>\n",
       "    <tr>\n",
       "      <th>3</th>\n",
       "      <td>org.springframework.samples.petclinic.model</td>\n",
       "      <td>PetType</td>\n",
       "      <td>0</td>\n",
       "      <td>1</td>\n",
       "    </tr>\n",
       "    <tr>\n",
       "      <th>4</th>\n",
       "      <td>org.springframework.samples.petclinic.model</td>\n",
       "      <td>Vets</td>\n",
       "      <td>4</td>\n",
       "      <td>0</td>\n",
       "    </tr>\n",
       "  </tbody>\n",
       "</table>\n",
       "</div>"
      ],
      "text/plain": [
       "                                       PACKAGE                 CLASS  \\\n",
       "0        org.springframework.samples.petclinic  PetclinicInitializer   \n",
       "1  org.springframework.samples.petclinic.model           NamedEntity   \n",
       "2  org.springframework.samples.petclinic.model             Specialty   \n",
       "3  org.springframework.samples.petclinic.model               PetType   \n",
       "4  org.springframework.samples.petclinic.model                  Vets   \n",
       "\n",
       "   LINE_MISSED  LINE_COVERED  \n",
       "0            0            24  \n",
       "1            1             4  \n",
       "2            0             1  \n",
       "3            0             1  \n",
       "4            4             0  "
      ]
     },
     "execution_count": 22,
     "metadata": {},
     "output_type": "execute_result"
    }
   ],
   "source": [
    "coverage = pd.read_csv(\"data/spring_petclinic_production_coverage_data.csv\")\n",
    "coverage.head()"
   ]
  },
  {
   "cell_type": "markdown",
   "id": "a35e24a7",
   "metadata": {},
   "source": [
    "### Enrich data\n",
    "Calculate the percentage of executed lines of code per class"
   ]
  },
  {
   "cell_type": "code",
   "execution_count": 23,
   "id": "62b82095",
   "metadata": {},
   "outputs": [
    {
     "data": {
      "text/html": [
       "<div>\n",
       "<style scoped>\n",
       "    .dataframe tbody tr th:only-of-type {\n",
       "        vertical-align: middle;\n",
       "    }\n",
       "\n",
       "    .dataframe tbody tr th {\n",
       "        vertical-align: top;\n",
       "    }\n",
       "\n",
       "    .dataframe thead th {\n",
       "        text-align: right;\n",
       "    }\n",
       "</style>\n",
       "<table border=\"1\" class=\"dataframe\">\n",
       "  <thead>\n",
       "    <tr style=\"text-align: right;\">\n",
       "      <th></th>\n",
       "      <th>PACKAGE</th>\n",
       "      <th>CLASS</th>\n",
       "      <th>LINE_MISSED</th>\n",
       "      <th>LINE_COVERED</th>\n",
       "      <th>lines</th>\n",
       "      <th>ratio</th>\n",
       "    </tr>\n",
       "  </thead>\n",
       "  <tbody>\n",
       "    <tr>\n",
       "      <th>0</th>\n",
       "      <td>org.springframework.samples.petclinic</td>\n",
       "      <td>PetclinicInitializer</td>\n",
       "      <td>0</td>\n",
       "      <td>24</td>\n",
       "      <td>24</td>\n",
       "      <td>1.0</td>\n",
       "    </tr>\n",
       "    <tr>\n",
       "      <th>1</th>\n",
       "      <td>org.springframework.samples.petclinic.model</td>\n",
       "      <td>NamedEntity</td>\n",
       "      <td>1</td>\n",
       "      <td>4</td>\n",
       "      <td>5</td>\n",
       "      <td>0.8</td>\n",
       "    </tr>\n",
       "    <tr>\n",
       "      <th>2</th>\n",
       "      <td>org.springframework.samples.petclinic.model</td>\n",
       "      <td>Specialty</td>\n",
       "      <td>0</td>\n",
       "      <td>1</td>\n",
       "      <td>1</td>\n",
       "      <td>1.0</td>\n",
       "    </tr>\n",
       "    <tr>\n",
       "      <th>3</th>\n",
       "      <td>org.springframework.samples.petclinic.model</td>\n",
       "      <td>PetType</td>\n",
       "      <td>0</td>\n",
       "      <td>1</td>\n",
       "      <td>1</td>\n",
       "      <td>1.0</td>\n",
       "    </tr>\n",
       "    <tr>\n",
       "      <th>4</th>\n",
       "      <td>org.springframework.samples.petclinic.model</td>\n",
       "      <td>Vets</td>\n",
       "      <td>4</td>\n",
       "      <td>0</td>\n",
       "      <td>4</td>\n",
       "      <td>0.0</td>\n",
       "    </tr>\n",
       "  </tbody>\n",
       "</table>\n",
       "</div>"
      ],
      "text/plain": [
       "                                       PACKAGE                 CLASS  \\\n",
       "0        org.springframework.samples.petclinic  PetclinicInitializer   \n",
       "1  org.springframework.samples.petclinic.model           NamedEntity   \n",
       "2  org.springframework.samples.petclinic.model             Specialty   \n",
       "3  org.springframework.samples.petclinic.model               PetType   \n",
       "4  org.springframework.samples.petclinic.model                  Vets   \n",
       "\n",
       "   LINE_MISSED  LINE_COVERED  lines  ratio  \n",
       "0            0            24     24    1.0  \n",
       "1            1             4      5    0.8  \n",
       "2            0             1      1    1.0  \n",
       "3            0             1      1    1.0  \n",
       "4            4             0      4    0.0  "
      ]
     },
     "execution_count": 23,
     "metadata": {},
     "output_type": "execute_result"
    }
   ],
   "source": [
    "coverage['lines'] = coverage.LINE_COVERED + coverage.LINE_MISSED\n",
    "coverage['ratio'] = coverage.LINE_COVERED / coverage.lines\n",
    "coverage.head()"
   ]
  },
  {
   "cell_type": "markdown",
   "id": "06ac0838",
   "metadata": {},
   "source": [
    "### Normalize data"
   ]
  },
  {
   "cell_type": "code",
   "execution_count": 24,
   "id": "f1b8cd47",
   "metadata": {},
   "outputs": [
    {
     "data": {
      "text/html": [
       "<div>\n",
       "<style scoped>\n",
       "    .dataframe tbody tr th:only-of-type {\n",
       "        vertical-align: middle;\n",
       "    }\n",
       "\n",
       "    .dataframe tbody tr th {\n",
       "        vertical-align: top;\n",
       "    }\n",
       "\n",
       "    .dataframe thead th {\n",
       "        text-align: right;\n",
       "    }\n",
       "</style>\n",
       "<table border=\"1\" class=\"dataframe\">\n",
       "  <thead>\n",
       "    <tr style=\"text-align: right;\">\n",
       "      <th></th>\n",
       "      <th>PACKAGE</th>\n",
       "      <th>CLASS</th>\n",
       "      <th>LINE_MISSED</th>\n",
       "      <th>LINE_COVERED</th>\n",
       "      <th>lines</th>\n",
       "      <th>ratio</th>\n",
       "      <th>fqn</th>\n",
       "    </tr>\n",
       "  </thead>\n",
       "  <tbody>\n",
       "    <tr>\n",
       "      <th>0</th>\n",
       "      <td>org.springframework.samples.petclinic</td>\n",
       "      <td>PetclinicInitializer</td>\n",
       "      <td>0</td>\n",
       "      <td>24</td>\n",
       "      <td>24</td>\n",
       "      <td>1.0</td>\n",
       "      <td>org.springframework.samples.petclinic.Petclini...</td>\n",
       "    </tr>\n",
       "    <tr>\n",
       "      <th>1</th>\n",
       "      <td>org.springframework.samples.petclinic.model</td>\n",
       "      <td>NamedEntity</td>\n",
       "      <td>1</td>\n",
       "      <td>4</td>\n",
       "      <td>5</td>\n",
       "      <td>0.8</td>\n",
       "      <td>org.springframework.samples.petclinic.model.Na...</td>\n",
       "    </tr>\n",
       "    <tr>\n",
       "      <th>2</th>\n",
       "      <td>org.springframework.samples.petclinic.model</td>\n",
       "      <td>Specialty</td>\n",
       "      <td>0</td>\n",
       "      <td>1</td>\n",
       "      <td>1</td>\n",
       "      <td>1.0</td>\n",
       "      <td>org.springframework.samples.petclinic.model.Sp...</td>\n",
       "    </tr>\n",
       "    <tr>\n",
       "      <th>3</th>\n",
       "      <td>org.springframework.samples.petclinic.model</td>\n",
       "      <td>PetType</td>\n",
       "      <td>0</td>\n",
       "      <td>1</td>\n",
       "      <td>1</td>\n",
       "      <td>1.0</td>\n",
       "      <td>org.springframework.samples.petclinic.model.Pe...</td>\n",
       "    </tr>\n",
       "    <tr>\n",
       "      <th>4</th>\n",
       "      <td>org.springframework.samples.petclinic.model</td>\n",
       "      <td>Vets</td>\n",
       "      <td>4</td>\n",
       "      <td>0</td>\n",
       "      <td>4</td>\n",
       "      <td>0.0</td>\n",
       "      <td>org.springframework.samples.petclinic.model.Vets</td>\n",
       "    </tr>\n",
       "  </tbody>\n",
       "</table>\n",
       "</div>"
      ],
      "text/plain": [
       "                                       PACKAGE                 CLASS  \\\n",
       "0        org.springframework.samples.petclinic  PetclinicInitializer   \n",
       "1  org.springframework.samples.petclinic.model           NamedEntity   \n",
       "2  org.springframework.samples.petclinic.model             Specialty   \n",
       "3  org.springframework.samples.petclinic.model               PetType   \n",
       "4  org.springframework.samples.petclinic.model                  Vets   \n",
       "\n",
       "   LINE_MISSED  LINE_COVERED  lines  ratio  \\\n",
       "0            0            24     24    1.0   \n",
       "1            1             4      5    0.8   \n",
       "2            0             1      1    1.0   \n",
       "3            0             1      1    1.0   \n",
       "4            4             0      4    0.0   \n",
       "\n",
       "                                                 fqn  \n",
       "0  org.springframework.samples.petclinic.Petclini...  \n",
       "1  org.springframework.samples.petclinic.model.Na...  \n",
       "2  org.springframework.samples.petclinic.model.Sp...  \n",
       "3  org.springframework.samples.petclinic.model.Pe...  \n",
       "4   org.springframework.samples.petclinic.model.Vets  "
      ]
     },
     "execution_count": 24,
     "metadata": {},
     "output_type": "execute_result"
    }
   ],
   "source": [
    "coverage['fqn'] = coverage[\"PACKAGE\"] + \".\" + coverage[\"CLASS\"]\n",
    "coverage.head()"
   ]
  },
  {
   "cell_type": "markdown",
   "id": "bdce153c",
   "metadata": {},
   "source": [
    "### Import data into Neo4j"
   ]
  },
  {
   "cell_type": "code",
   "execution_count": 25,
   "id": "154c82b4",
   "metadata": {},
   "outputs": [
    {
     "data": {
      "text/html": [
       "<div>\n",
       "<style scoped>\n",
       "    .dataframe tbody tr th:only-of-type {\n",
       "        vertical-align: middle;\n",
       "    }\n",
       "\n",
       "    .dataframe tbody tr th {\n",
       "        vertical-align: top;\n",
       "    }\n",
       "\n",
       "    .dataframe thead th {\n",
       "        text-align: right;\n",
       "    }\n",
       "</style>\n",
       "<table border=\"1\" class=\"dataframe\">\n",
       "  <thead>\n",
       "    <tr style=\"text-align: right;\">\n",
       "      <th></th>\n",
       "      <th>fqn</th>\n",
       "      <th>ratio</th>\n",
       "      <th>lines</th>\n",
       "    </tr>\n",
       "  </thead>\n",
       "  <tbody>\n",
       "    <tr>\n",
       "      <th>0</th>\n",
       "      <td>org.springframework.samples.petclinic.model.Na...</td>\n",
       "      <td>0.8</td>\n",
       "      <td>5</td>\n",
       "    </tr>\n",
       "    <tr>\n",
       "      <th>1</th>\n",
       "      <td>org.springframework.samples.petclinic.model.Sp...</td>\n",
       "      <td>1.0</td>\n",
       "      <td>1</td>\n",
       "    </tr>\n",
       "    <tr>\n",
       "      <th>2</th>\n",
       "      <td>org.springframework.samples.petclinic.model.Pe...</td>\n",
       "      <td>1.0</td>\n",
       "      <td>1</td>\n",
       "    </tr>\n",
       "    <tr>\n",
       "      <th>3</th>\n",
       "      <td>org.springframework.samples.petclinic.model.Vets</td>\n",
       "      <td>0.0</td>\n",
       "      <td>4</td>\n",
       "    </tr>\n",
       "    <tr>\n",
       "      <th>4</th>\n",
       "      <td>org.springframework.samples.petclinic.model.Visit</td>\n",
       "      <td>1.0</td>\n",
       "      <td>12</td>\n",
       "    </tr>\n",
       "  </tbody>\n",
       "</table>\n",
       "</div>"
      ],
      "text/plain": [
       "                                                 fqn  ratio  lines\n",
       "0  org.springframework.samples.petclinic.model.Na...    0.8      5\n",
       "1  org.springframework.samples.petclinic.model.Sp...    1.0      1\n",
       "2  org.springframework.samples.petclinic.model.Pe...    1.0      1\n",
       "3   org.springframework.samples.petclinic.model.Vets    0.0      4\n",
       "4  org.springframework.samples.petclinic.model.Visit    1.0     12"
      ]
     },
     "execution_count": 25,
     "metadata": {},
     "output_type": "execute_result"
    }
   ],
   "source": [
    "query=\"\"\"\n",
    "    UNWIND {data} as coverage\n",
    "    MATCH (t:Type {fqn : coverage.fqn})\n",
    "    MERGE (t)-[:HAS_MEASURE]->(m)\n",
    "    SET \n",
    "        m:Measure:Coverage,\n",
    "        m.ratio = coverage.ratio,\n",
    "        m.lines = coverage.lines\n",
    "    RETURN t.fqn as fqn, m.ratio as ratio, m.lines as lines\n",
    "\"\"\"\n",
    "\n",
    "session.run(query, data=coverage.to_dict(orient='records')).to_df().head()"
   ]
  },
  {
   "cell_type": "markdown",
   "id": "c1001337",
   "metadata": {},
   "source": [
    "# Check data"
   ]
  },
  {
   "cell_type": "markdown",
   "id": "f11de2d4",
   "metadata": {},
   "source": [
    "## Query Nodes"
   ]
  },
  {
   "cell_type": "markdown",
   "id": "55bc1975",
   "metadata": {},
   "source": [
    "### List measures"
   ]
  },
  {
   "cell_type": "code",
   "execution_count": 26,
   "id": "7750a7cb",
   "metadata": {},
   "outputs": [
    {
     "data": {
      "text/html": [
       "<div>\n",
       "<style scoped>\n",
       "    .dataframe tbody tr th:only-of-type {\n",
       "        vertical-align: middle;\n",
       "    }\n",
       "\n",
       "    .dataframe tbody tr th {\n",
       "        vertical-align: top;\n",
       "    }\n",
       "\n",
       "    .dataframe thead th {\n",
       "        text-align: right;\n",
       "    }\n",
       "</style>\n",
       "<table border=\"1\" class=\"dataframe\">\n",
       "  <thead>\n",
       "    <tr style=\"text-align: right;\">\n",
       "      <th></th>\n",
       "      <th>fqn</th>\n",
       "      <th>lines</th>\n",
       "      <th>ratio</th>\n",
       "    </tr>\n",
       "  </thead>\n",
       "  <tbody>\n",
       "    <tr>\n",
       "      <th>0</th>\n",
       "      <td>org.springframework.samples.petclinic.model.Pe...</td>\n",
       "      <td>7</td>\n",
       "      <td>1.000000</td>\n",
       "    </tr>\n",
       "    <tr>\n",
       "      <th>1</th>\n",
       "      <td>org.springframework.samples.petclinic.model.Vets</td>\n",
       "      <td>16</td>\n",
       "      <td>0.000000</td>\n",
       "    </tr>\n",
       "    <tr>\n",
       "      <th>2</th>\n",
       "      <td>org.springframework.samples.petclinic.model.Visit</td>\n",
       "      <td>43</td>\n",
       "      <td>1.000000</td>\n",
       "    </tr>\n",
       "    <tr>\n",
       "      <th>3</th>\n",
       "      <td>org.springframework.samples.petclinic.model.Pe...</td>\n",
       "      <td>25</td>\n",
       "      <td>1.000000</td>\n",
       "    </tr>\n",
       "    <tr>\n",
       "      <th>4</th>\n",
       "      <td>org.springframework.samples.petclinic.model.Owner</td>\n",
       "      <td>96</td>\n",
       "      <td>0.650000</td>\n",
       "    </tr>\n",
       "    <tr>\n",
       "      <th>5</th>\n",
       "      <td>org.springframework.samples.petclinic.model.Pet</td>\n",
       "      <td>69</td>\n",
       "      <td>0.857143</td>\n",
       "    </tr>\n",
       "    <tr>\n",
       "      <th>6</th>\n",
       "      <td>org.springframework.samples.petclinic.model.Vet</td>\n",
       "      <td>44</td>\n",
       "      <td>0.083333</td>\n",
       "    </tr>\n",
       "    <tr>\n",
       "      <th>7</th>\n",
       "      <td>org.springframework.samples.petclinic.service....</td>\n",
       "      <td>74</td>\n",
       "      <td>0.888889</td>\n",
       "    </tr>\n",
       "    <tr>\n",
       "      <th>8</th>\n",
       "      <td>org.springframework.samples.petclinic.web.Owne...</td>\n",
       "      <td>85</td>\n",
       "      <td>0.638889</td>\n",
       "    </tr>\n",
       "    <tr>\n",
       "      <th>9</th>\n",
       "      <td>org.springframework.samples.petclinic.web.PetT...</td>\n",
       "      <td>29</td>\n",
       "      <td>0.900000</td>\n",
       "    </tr>\n",
       "    <tr>\n",
       "      <th>10</th>\n",
       "      <td>org.springframework.samples.petclinic.web.PetC...</td>\n",
       "      <td>78</td>\n",
       "      <td>0.600000</td>\n",
       "    </tr>\n",
       "    <tr>\n",
       "      <th>11</th>\n",
       "      <td>org.springframework.samples.petclinic.web.PetV...</td>\n",
       "      <td>26</td>\n",
       "      <td>0.727273</td>\n",
       "    </tr>\n",
       "    <tr>\n",
       "      <th>12</th>\n",
       "      <td>org.springframework.samples.petclinic.web.Visi...</td>\n",
       "      <td>35</td>\n",
       "      <td>0.812500</td>\n",
       "    </tr>\n",
       "    <tr>\n",
       "      <th>13</th>\n",
       "      <td>org.springframework.samples.petclinic.web.VetC...</td>\n",
       "      <td>40</td>\n",
       "      <td>0.300000</td>\n",
       "    </tr>\n",
       "    <tr>\n",
       "      <th>14</th>\n",
       "      <td>org.springframework.samples.petclinic.util.Ent...</td>\n",
       "      <td>16</td>\n",
       "      <td>0.000000</td>\n",
       "    </tr>\n",
       "    <tr>\n",
       "      <th>15</th>\n",
       "      <td>org.springframework.samples.petclinic.reposito...</td>\n",
       "      <td>16</td>\n",
       "      <td>0.000000</td>\n",
       "    </tr>\n",
       "    <tr>\n",
       "      <th>16</th>\n",
       "      <td>org.springframework.samples.petclinic.reposito...</td>\n",
       "      <td>75</td>\n",
       "      <td>0.000000</td>\n",
       "    </tr>\n",
       "    <tr>\n",
       "      <th>17</th>\n",
       "      <td>org.springframework.samples.petclinic.reposito...</td>\n",
       "      <td>48</td>\n",
       "      <td>0.000000</td>\n",
       "    </tr>\n",
       "    <tr>\n",
       "      <th>18</th>\n",
       "      <td>org.springframework.samples.petclinic.reposito...</td>\n",
       "      <td>17</td>\n",
       "      <td>0.000000</td>\n",
       "    </tr>\n",
       "    <tr>\n",
       "      <th>19</th>\n",
       "      <td>org.springframework.samples.petclinic.model.Na...</td>\n",
       "      <td>18</td>\n",
       "      <td>0.800000</td>\n",
       "    </tr>\n",
       "    <tr>\n",
       "      <th>20</th>\n",
       "      <td>org.springframework.samples.petclinic.model.Sp...</td>\n",
       "      <td>7</td>\n",
       "      <td>1.000000</td>\n",
       "    </tr>\n",
       "    <tr>\n",
       "      <th>21</th>\n",
       "      <td>org.springframework.samples.petclinic.reposito...</td>\n",
       "      <td>57</td>\n",
       "      <td>0.000000</td>\n",
       "    </tr>\n",
       "    <tr>\n",
       "      <th>22</th>\n",
       "      <td>org.springframework.samples.petclinic.reposito...</td>\n",
       "      <td>18</td>\n",
       "      <td>0.000000</td>\n",
       "    </tr>\n",
       "    <tr>\n",
       "      <th>23</th>\n",
       "      <td>org.springframework.samples.petclinic.reposito...</td>\n",
       "      <td>27</td>\n",
       "      <td>0.000000</td>\n",
       "    </tr>\n",
       "    <tr>\n",
       "      <th>24</th>\n",
       "      <td>org.springframework.samples.petclinic.reposito...</td>\n",
       "      <td>98</td>\n",
       "      <td>0.000000</td>\n",
       "    </tr>\n",
       "    <tr>\n",
       "      <th>25</th>\n",
       "      <td>org.springframework.samples.petclinic.reposito...</td>\n",
       "      <td>28</td>\n",
       "      <td>0.500000</td>\n",
       "    </tr>\n",
       "    <tr>\n",
       "      <th>26</th>\n",
       "      <td>org.springframework.samples.petclinic.reposito...</td>\n",
       "      <td>34</td>\n",
       "      <td>0.909091</td>\n",
       "    </tr>\n",
       "    <tr>\n",
       "      <th>27</th>\n",
       "      <td>org.springframework.samples.petclinic.reposito...</td>\n",
       "      <td>17</td>\n",
       "      <td>0.500000</td>\n",
       "    </tr>\n",
       "    <tr>\n",
       "      <th>28</th>\n",
       "      <td>org.springframework.samples.petclinic.reposito...</td>\n",
       "      <td>30</td>\n",
       "      <td>0.857143</td>\n",
       "    </tr>\n",
       "  </tbody>\n",
       "</table>\n",
       "</div>"
      ],
      "text/plain": [
       "                                                  fqn  lines     ratio\n",
       "0   org.springframework.samples.petclinic.model.Pe...      7  1.000000\n",
       "1    org.springframework.samples.petclinic.model.Vets     16  0.000000\n",
       "2   org.springframework.samples.petclinic.model.Visit     43  1.000000\n",
       "3   org.springframework.samples.petclinic.model.Pe...     25  1.000000\n",
       "4   org.springframework.samples.petclinic.model.Owner     96  0.650000\n",
       "5     org.springframework.samples.petclinic.model.Pet     69  0.857143\n",
       "6     org.springframework.samples.petclinic.model.Vet     44  0.083333\n",
       "7   org.springframework.samples.petclinic.service....     74  0.888889\n",
       "8   org.springframework.samples.petclinic.web.Owne...     85  0.638889\n",
       "9   org.springframework.samples.petclinic.web.PetT...     29  0.900000\n",
       "10  org.springframework.samples.petclinic.web.PetC...     78  0.600000\n",
       "11  org.springframework.samples.petclinic.web.PetV...     26  0.727273\n",
       "12  org.springframework.samples.petclinic.web.Visi...     35  0.812500\n",
       "13  org.springframework.samples.petclinic.web.VetC...     40  0.300000\n",
       "14  org.springframework.samples.petclinic.util.Ent...     16  0.000000\n",
       "15  org.springframework.samples.petclinic.reposito...     16  0.000000\n",
       "16  org.springframework.samples.petclinic.reposito...     75  0.000000\n",
       "17  org.springframework.samples.petclinic.reposito...     48  0.000000\n",
       "18  org.springframework.samples.petclinic.reposito...     17  0.000000\n",
       "19  org.springframework.samples.petclinic.model.Na...     18  0.800000\n",
       "20  org.springframework.samples.petclinic.model.Sp...      7  1.000000\n",
       "21  org.springframework.samples.petclinic.reposito...     57  0.000000\n",
       "22  org.springframework.samples.petclinic.reposito...     18  0.000000\n",
       "23  org.springframework.samples.petclinic.reposito...     27  0.000000\n",
       "24  org.springframework.samples.petclinic.reposito...     98  0.000000\n",
       "25  org.springframework.samples.petclinic.reposito...     28  0.500000\n",
       "26  org.springframework.samples.petclinic.reposito...     34  0.909091\n",
       "27  org.springframework.samples.petclinic.reposito...     17  0.500000\n",
       "28  org.springframework.samples.petclinic.reposito...     30  0.857143"
      ]
     },
     "execution_count": 26,
     "metadata": {},
     "output_type": "execute_result"
    }
   ],
   "source": [
    "query=\"\"\"\n",
    "   MATCH (n:Type)-[:HAS_MEASURE]->(m:Measure)\n",
    "   RETURN n.fqn as fqn, n.lines as lines, m.ratio as ratio\n",
    "\"\"\"\n",
    "\n",
    "module_options = session.run(query).to_df()\n",
    "module_options"
   ]
  },
  {
   "cell_type": "markdown",
   "id": "f9259876",
   "metadata": {},
   "source": [
    "# Explore modularization options"
   ]
  },
  {
   "cell_type": "markdown",
   "id": "291e11c8",
   "metadata": {},
   "source": [
    "## Explore existing modularization"
   ]
  },
  {
   "cell_type": "markdown",
   "id": "99600213",
   "metadata": {},
   "source": [
    "### Extract existing main module structure"
   ]
  },
  {
   "cell_type": "code",
   "execution_count": 27,
   "id": "fc65e639",
   "metadata": {},
   "outputs": [
    {
     "data": {
      "text/html": [
       "<div>\n",
       "<style scoped>\n",
       "    .dataframe tbody tr th:only-of-type {\n",
       "        vertical-align: middle;\n",
       "    }\n",
       "\n",
       "    .dataframe tbody tr th {\n",
       "        vertical-align: top;\n",
       "    }\n",
       "\n",
       "    .dataframe thead th {\n",
       "        text-align: right;\n",
       "    }\n",
       "</style>\n",
       "<table border=\"1\" class=\"dataframe\">\n",
       "  <thead>\n",
       "    <tr style=\"text-align: right;\">\n",
       "      <th></th>\n",
       "      <th>fqn</th>\n",
       "      <th>lines</th>\n",
       "      <th>ratio</th>\n",
       "      <th>base_module</th>\n",
       "    </tr>\n",
       "  </thead>\n",
       "  <tbody>\n",
       "    <tr>\n",
       "      <th>0</th>\n",
       "      <td>org.springframework.samples.petclinic.model.Pe...</td>\n",
       "      <td>7</td>\n",
       "      <td>1.00</td>\n",
       "      <td>model</td>\n",
       "    </tr>\n",
       "    <tr>\n",
       "      <th>1</th>\n",
       "      <td>org.springframework.samples.petclinic.model.Vets</td>\n",
       "      <td>16</td>\n",
       "      <td>0.00</td>\n",
       "      <td>model</td>\n",
       "    </tr>\n",
       "    <tr>\n",
       "      <th>2</th>\n",
       "      <td>org.springframework.samples.petclinic.model.Visit</td>\n",
       "      <td>43</td>\n",
       "      <td>1.00</td>\n",
       "      <td>model</td>\n",
       "    </tr>\n",
       "    <tr>\n",
       "      <th>3</th>\n",
       "      <td>org.springframework.samples.petclinic.model.Pe...</td>\n",
       "      <td>25</td>\n",
       "      <td>1.00</td>\n",
       "      <td>model</td>\n",
       "    </tr>\n",
       "    <tr>\n",
       "      <th>4</th>\n",
       "      <td>org.springframework.samples.petclinic.model.Owner</td>\n",
       "      <td>96</td>\n",
       "      <td>0.65</td>\n",
       "      <td>model</td>\n",
       "    </tr>\n",
       "  </tbody>\n",
       "</table>\n",
       "</div>"
      ],
      "text/plain": [
       "                                                 fqn  lines  ratio base_module\n",
       "0  org.springframework.samples.petclinic.model.Pe...      7   1.00       model\n",
       "1   org.springframework.samples.petclinic.model.Vets     16   0.00       model\n",
       "2  org.springframework.samples.petclinic.model.Visit     43   1.00       model\n",
       "3  org.springframework.samples.petclinic.model.Pe...     25   1.00       model\n",
       "4  org.springframework.samples.petclinic.model.Owner     96   0.65       model"
      ]
     },
     "execution_count": 27,
     "metadata": {},
     "output_type": "execute_result"
    }
   ],
   "source": [
    "module_options['base_module'] = result['fqn'].str.split(\".\").str[4]\n",
    "result.head()"
   ]
  },
  {
   "cell_type": "markdown",
   "id": "f29c2706",
   "metadata": {},
   "source": [
    "### Add information to graph"
   ]
  },
  {
   "cell_type": "code",
   "execution_count": 28,
   "id": "68b01f3e",
   "metadata": {},
   "outputs": [
    {
     "data": {
      "text/html": [
       "<div>\n",
       "<style scoped>\n",
       "    .dataframe tbody tr th:only-of-type {\n",
       "        vertical-align: middle;\n",
       "    }\n",
       "\n",
       "    .dataframe tbody tr th {\n",
       "        vertical-align: top;\n",
       "    }\n",
       "\n",
       "    .dataframe thead th {\n",
       "        text-align: right;\n",
       "    }\n",
       "</style>\n",
       "<table border=\"1\" class=\"dataframe\">\n",
       "  <thead>\n",
       "    <tr style=\"text-align: right;\">\n",
       "      <th></th>\n",
       "      <th>fqn</th>\n",
       "      <th>m.name</th>\n",
       "    </tr>\n",
       "  </thead>\n",
       "  <tbody>\n",
       "    <tr>\n",
       "      <th>0</th>\n",
       "      <td>org.springframework.samples.petclinic.model.Pe...</td>\n",
       "      <td>model</td>\n",
       "    </tr>\n",
       "    <tr>\n",
       "      <th>1</th>\n",
       "      <td>org.springframework.samples.petclinic.model.Vets</td>\n",
       "      <td>model</td>\n",
       "    </tr>\n",
       "    <tr>\n",
       "      <th>2</th>\n",
       "      <td>org.springframework.samples.petclinic.model.Visit</td>\n",
       "      <td>model</td>\n",
       "    </tr>\n",
       "    <tr>\n",
       "      <th>3</th>\n",
       "      <td>org.springframework.samples.petclinic.model.Pe...</td>\n",
       "      <td>model</td>\n",
       "    </tr>\n",
       "    <tr>\n",
       "      <th>4</th>\n",
       "      <td>org.springframework.samples.petclinic.model.Owner</td>\n",
       "      <td>model</td>\n",
       "    </tr>\n",
       "  </tbody>\n",
       "</table>\n",
       "</div>"
      ],
      "text/plain": [
       "                                                 fqn m.name\n",
       "0  org.springframework.samples.petclinic.model.Pe...  model\n",
       "1   org.springframework.samples.petclinic.model.Vets  model\n",
       "2  org.springframework.samples.petclinic.model.Visit  model\n",
       "3  org.springframework.samples.petclinic.model.Pe...  model\n",
       "4  org.springframework.samples.petclinic.model.Owner  model"
      ]
     },
     "execution_count": 28,
     "metadata": {},
     "output_type": "execute_result"
    }
   ],
   "source": [
    "query=\"\"\"\n",
    "    UNWIND {data} as module\n",
    "    MATCH (t:Type {fqn : module.fqn})\n",
    "    MERGE (t)-[:BELONGS_TO]->(m)\n",
    "    SET \n",
    "        m:Base:Module,\n",
    "        m.name = module.base_module\n",
    "    RETURN t.fqn as fqn, m.name\n",
    "\"\"\"\n",
    "\n",
    "session.run(query, data=result.to_dict(orient='records')).to_df().head()"
   ]
  },
  {
   "cell_type": "markdown",
   "id": "0248e2a0",
   "metadata": {},
   "source": [
    "### Query for basic statisics"
   ]
  },
  {
   "cell_type": "code",
   "execution_count": 29,
   "id": "a1ba5a63",
   "metadata": {},
   "outputs": [
    {
     "data": {
      "text/html": [
       "<div>\n",
       "<style scoped>\n",
       "    .dataframe tbody tr th:only-of-type {\n",
       "        vertical-align: middle;\n",
       "    }\n",
       "\n",
       "    .dataframe tbody tr th {\n",
       "        vertical-align: top;\n",
       "    }\n",
       "\n",
       "    .dataframe thead th {\n",
       "        text-align: right;\n",
       "    }\n",
       "</style>\n",
       "<table border=\"1\" class=\"dataframe\">\n",
       "  <thead>\n",
       "    <tr style=\"text-align: right;\">\n",
       "      <th></th>\n",
       "      <th>module_name</th>\n",
       "      <th>classes</th>\n",
       "    </tr>\n",
       "  </thead>\n",
       "  <tbody>\n",
       "    <tr>\n",
       "      <th>0</th>\n",
       "      <td>model</td>\n",
       "      <td>9</td>\n",
       "    </tr>\n",
       "    <tr>\n",
       "      <th>1</th>\n",
       "      <td>service</td>\n",
       "      <td>1</td>\n",
       "    </tr>\n",
       "    <tr>\n",
       "      <th>2</th>\n",
       "      <td>web</td>\n",
       "      <td>6</td>\n",
       "    </tr>\n",
       "    <tr>\n",
       "      <th>3</th>\n",
       "      <td>util</td>\n",
       "      <td>1</td>\n",
       "    </tr>\n",
       "    <tr>\n",
       "      <th>4</th>\n",
       "      <td>repository</td>\n",
       "      <td>12</td>\n",
       "    </tr>\n",
       "  </tbody>\n",
       "</table>\n",
       "</div>"
      ],
      "text/plain": [
       "  module_name  classes\n",
       "0       model        9\n",
       "1     service        1\n",
       "2         web        6\n",
       "3        util        1\n",
       "4  repository       12"
      ]
     },
     "execution_count": 29,
     "metadata": {},
     "output_type": "execute_result"
    }
   ],
   "source": [
    "query=\"\"\"\n",
    "    MATCH (t:Type)-[:BELONGS_TO]->(m:Module)\n",
    "    RETURN m.name as module_name, count(t) as classes\n",
    "\"\"\"\n",
    "\n",
    "session.run(query).to_df().head()"
   ]
  },
  {
   "cell_type": "markdown",
   "id": "06c5d449",
   "metadata": {},
   "source": [
    "### Analyze fan in"
   ]
  },
  {
   "cell_type": "code",
   "execution_count": 30,
   "id": "ad293b40",
   "metadata": {},
   "outputs": [
    {
     "data": {
      "text/html": [
       "<div>\n",
       "<style scoped>\n",
       "    .dataframe tbody tr th:only-of-type {\n",
       "        vertical-align: middle;\n",
       "    }\n",
       "\n",
       "    .dataframe tbody tr th {\n",
       "        vertical-align: top;\n",
       "    }\n",
       "\n",
       "    .dataframe thead th {\n",
       "        text-align: right;\n",
       "    }\n",
       "</style>\n",
       "<table border=\"1\" class=\"dataframe\">\n",
       "  <thead>\n",
       "    <tr style=\"text-align: right;\">\n",
       "      <th></th>\n",
       "      <th>moduleName</th>\n",
       "      <th>totalTypesInModule</th>\n",
       "      <th>totalFanIn</th>\n",
       "      <th>totalFanOut</th>\n",
       "    </tr>\n",
       "  </thead>\n",
       "  <tbody>\n",
       "    <tr>\n",
       "      <th>0</th>\n",
       "      <td>model</td>\n",
       "      <td>7</td>\n",
       "      <td>55</td>\n",
       "      <td>12</td>\n",
       "    </tr>\n",
       "    <tr>\n",
       "      <th>1</th>\n",
       "      <td>service</td>\n",
       "      <td>1</td>\n",
       "      <td>0</td>\n",
       "      <td>10</td>\n",
       "    </tr>\n",
       "    <tr>\n",
       "      <th>2</th>\n",
       "      <td>web</td>\n",
       "      <td>6</td>\n",
       "      <td>1</td>\n",
       "      <td>16</td>\n",
       "    </tr>\n",
       "    <tr>\n",
       "      <th>3</th>\n",
       "      <td>repository</td>\n",
       "      <td>12</td>\n",
       "      <td>10</td>\n",
       "      <td>41</td>\n",
       "    </tr>\n",
       "  </tbody>\n",
       "</table>\n",
       "</div>"
      ],
      "text/plain": [
       "   moduleName  totalTypesInModule  totalFanIn  totalFanOut\n",
       "0       model                   7          55           12\n",
       "1     service                   1           0           10\n",
       "2         web                   6           1           16\n",
       "3  repository                  12          10           41"
      ]
     },
     "execution_count": 30,
     "metadata": {},
     "output_type": "execute_result"
    }
   ],
   "source": [
    "query=\"\"\"\n",
    "MATCH (t1:Type)-[:BELONGS_TO]->(m1:Module)\n",
    "WITH m1, t1\n",
    "MATCH (t1)-[:DEPENDS_ON]->(t2:Type)\n",
    "WHERE NOT (t2)-[:BELONGS_TO]->(m1)\n",
    "WITH m1, t1, count(DISTINCT t2) AS totalTypes,\n",
    "     size(()-[:DEPENDS_ON]->(t1)) AS fanIn,\n",
    "     size((t1)-[:DEPENDS_ON]->()) AS fanOut\n",
    "RETURN m1.name AS moduleName, \n",
    "       count(DISTINCT t1) AS totalTypesInModule, \n",
    "       sum(fanIn) AS totalFanIn, \n",
    "       sum(fanOut) AS totalFanOut\n",
    "\n",
    "\"\"\"\n",
    "session.run(query).to_df()"
   ]
  },
  {
   "cell_type": "markdown",
   "id": "1fbf5a8b",
   "metadata": {},
   "source": [
    "## Explore alternative modularization"
   ]
  },
  {
   "cell_type": "code",
   "execution_count": null,
   "id": "dc38e7e8",
   "metadata": {},
   "outputs": [],
   "source": [
    "analysis['domain'] = \"Other\"\n",
    "\n",
    "domains = [\"Owner\", \"Pet\", \"Visit\", \"Vet\", \"Specialty\", \"Clinic\"]\n",
    "for domain in domains:\n",
    "    analysis.loc[analysis.index.str.contains(domain), 'domain'] = domain\n",
    "\n",
    "analysis.head()"
   ]
  }
 ],
 "metadata": {
  "kernelspec": {
   "display_name": "Python 3 (ipykernel)",
   "language": "python",
   "name": "python3"
  },
  "language_info": {
   "codemirror_mode": {
    "name": "ipython",
    "version": 3
   },
   "file_extension": ".py",
   "mimetype": "text/x-python",
   "name": "python",
   "nbconvert_exporter": "python",
   "pygments_lexer": "ipython3",
   "version": "3.9.18"
  }
 },
 "nbformat": 4,
 "nbformat_minor": 5
}
