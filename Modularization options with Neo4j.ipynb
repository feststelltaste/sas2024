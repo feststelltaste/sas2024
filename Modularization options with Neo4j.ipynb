{
 "cells": [
  {
   "cell_type": "markdown",
   "id": "2547501f",
   "metadata": {},
   "source": [
    "# Set up connection to Neo4J"
   ]
  },
  {
   "cell_type": "markdown",
   "id": "28cd5b24",
   "metadata": {},
   "source": [
    "Esablish connection to Neo4j graph database"
   ]
  },
  {
   "cell_type": "code",
   "execution_count": 1,
   "id": "28462fc2",
   "metadata": {},
   "outputs": [],
   "source": [
    "from neo4j import GraphDatabase\n",
    "\n",
    "URI = \"bolt://localhost\"\n",
    "AUTH = (\"neo4j\", \"neo4j\")\n",
    "\n",
    "driver = GraphDatabase.driver(URI, auth=AUTH)\n",
    "driver.verify_connectivity()\n",
    "session = driver.session()"
   ]
  },
  {
   "cell_type": "markdown",
   "id": "5e38f4ae",
   "metadata": {},
   "source": [
    "Clean data from previous run"
   ]
  },
  {
   "cell_type": "code",
   "execution_count": 2,
   "id": "d8ae598a",
   "metadata": {},
   "outputs": [],
   "source": [
    "query=\"\"\"\n",
    "MATCH (a) -[r] -> () DELETE a, r\n",
    "\"\"\"\n",
    "session.run(query);"
   ]
  },
  {
   "cell_type": "code",
   "execution_count": 3,
   "id": "a68b6366",
   "metadata": {},
   "outputs": [],
   "source": [
    "query=\"\"\"\n",
    "   MATCH (a) DELETE a\n",
    "\"\"\"\n",
    "session.run(query);"
   ]
  },
  {
   "cell_type": "markdown",
   "id": "9e5ecd3f",
   "metadata": {},
   "source": [
    "# Data import"
   ]
  },
  {
   "cell_type": "markdown",
   "id": "d164dac2",
   "metadata": {},
   "source": [
    "## Import dependencies (from jdeps)"
   ]
  },
  {
   "cell_type": "markdown",
   "id": "9868271e",
   "metadata": {},
   "source": [
    "### Generating dataset\n",
    "\n",
    "You can generate this kind of data with any tool that can show you dependencies between your classes. E.g. in Java, using `jdeps`:\n",
    "    \n",
    "    \n",
    "`jdeps -e 'org.springframework.samples.petclinic.*' -v target/classes/ > spring_petclinic_deps.txt`\n",
    "\n",
    "*Vorsicht: `jdeps` ist nur eine Annäherung an die Abhängigkeiten. Z. B. werden hier Typen, die in Generics verwendet werden, nicht angezeigt.*"
   ]
  },
  {
   "cell_type": "markdown",
   "id": "57b338a0",
   "metadata": {},
   "source": [
    "### Show dataset"
   ]
  },
  {
   "cell_type": "code",
   "execution_count": 4,
   "id": "2f46cee5",
   "metadata": {},
   "outputs": [
    {
     "name": "stdout",
     "output_type": "stream",
     "text": [
      "   org.springframework.samples.petclinic.model.NamedEntity -> org.springframework.samples.petclinic.model.BaseEntity classes\r\n",
      "   org.springframework.samples.petclinic.model.Owner  -> org.springframework.samples.petclinic.model.Person classes\r\n",
      "   org.springframework.samples.petclinic.model.Owner  -> org.springframework.samples.petclinic.model.Pet    classes\r\n",
      "   org.springframework.samples.petclinic.model.Person -> org.springframework.samples.petclinic.model.BaseEntity classes\r\n",
      "   org.springframework.samples.petclinic.model.Pet    -> org.springframework.samples.petclinic.model.NamedEntity classes\r\n",
      "   org.springframework.samples.petclinic.model.Pet    -> org.springframework.samples.petclinic.model.Owner  classes\r\n",
      "   org.springframework.samples.petclinic.model.Pet    -> org.springframework.samples.petclinic.model.PetType classes\r\n",
      "   org.springframework.samples.petclinic.model.Pet    -> org.springframework.samples.petclinic.model.Visit  classes\r\n",
      "   org.springframework.samples.petclinic.model.PetType -> org.springframework.samples.petclinic.model.NamedEntity classes\r\n",
      "   org.springframework.samples.petclinic.model.Specialty -> org.springframework.samples.petclinic.model.NamedEntity classes\r\n"
     ]
    }
   ],
   "source": [
    "!head data/spring_petclinic_deps.txt"
   ]
  },
  {
   "cell_type": "markdown",
   "id": "dbd01617",
   "metadata": {},
   "source": [
    "### Import dataset to pandas"
   ]
  },
  {
   "cell_type": "code",
   "execution_count": 5,
   "id": "5efea052",
   "metadata": {},
   "outputs": [
    {
     "data": {
      "text/html": [
       "<div>\n",
       "<style scoped>\n",
       "    .dataframe tbody tr th:only-of-type {\n",
       "        vertical-align: middle;\n",
       "    }\n",
       "\n",
       "    .dataframe tbody tr th {\n",
       "        vertical-align: top;\n",
       "    }\n",
       "\n",
       "    .dataframe thead th {\n",
       "        text-align: right;\n",
       "    }\n",
       "</style>\n",
       "<table border=\"1\" class=\"dataframe\">\n",
       "  <thead>\n",
       "    <tr style=\"text-align: right;\">\n",
       "      <th></th>\n",
       "      <th>raw</th>\n",
       "    </tr>\n",
       "  </thead>\n",
       "  <tbody>\n",
       "    <tr>\n",
       "      <th>0</th>\n",
       "      <td>org.springframework.samples.petclinic.model...</td>\n",
       "    </tr>\n",
       "    <tr>\n",
       "      <th>1</th>\n",
       "      <td>org.springframework.samples.petclinic.model...</td>\n",
       "    </tr>\n",
       "    <tr>\n",
       "      <th>2</th>\n",
       "      <td>org.springframework.samples.petclinic.model...</td>\n",
       "    </tr>\n",
       "    <tr>\n",
       "      <th>3</th>\n",
       "      <td>org.springframework.samples.petclinic.model...</td>\n",
       "    </tr>\n",
       "    <tr>\n",
       "      <th>4</th>\n",
       "      <td>org.springframework.samples.petclinic.model...</td>\n",
       "    </tr>\n",
       "  </tbody>\n",
       "</table>\n",
       "</div>"
      ],
      "text/plain": [
       "                                                 raw\n",
       "0     org.springframework.samples.petclinic.model...\n",
       "1     org.springframework.samples.petclinic.model...\n",
       "2     org.springframework.samples.petclinic.model...\n",
       "3     org.springframework.samples.petclinic.model...\n",
       "4     org.springframework.samples.petclinic.model..."
      ]
     },
     "execution_count": 5,
     "metadata": {},
     "output_type": "execute_result"
    }
   ],
   "source": [
    "import pandas as pd\n",
    "\n",
    "deps = pd.read_csv(\"data/spring_petclinic_deps.txt\", names=[\"raw\"], sep=\"\\r\")\n",
    "deps.head()"
   ]
  },
  {
   "cell_type": "markdown",
   "id": "8d1e8774",
   "metadata": {},
   "source": [
    "### Normalize data"
   ]
  },
  {
   "cell_type": "code",
   "execution_count": 6,
   "id": "1c6b1c36",
   "metadata": {
    "scrolled": true
   },
   "outputs": [
    {
     "data": {
      "text/html": [
       "<div>\n",
       "<style scoped>\n",
       "    .dataframe tbody tr th:only-of-type {\n",
       "        vertical-align: middle;\n",
       "    }\n",
       "\n",
       "    .dataframe tbody tr th {\n",
       "        vertical-align: top;\n",
       "    }\n",
       "\n",
       "    .dataframe thead th {\n",
       "        text-align: right;\n",
       "    }\n",
       "</style>\n",
       "<table border=\"1\" class=\"dataframe\">\n",
       "  <thead>\n",
       "    <tr style=\"text-align: right;\">\n",
       "      <th></th>\n",
       "      <th>raw</th>\n",
       "      <th>from</th>\n",
       "      <th>to</th>\n",
       "      <th>type</th>\n",
       "      <th>name</th>\n",
       "    </tr>\n",
       "  </thead>\n",
       "  <tbody>\n",
       "    <tr>\n",
       "      <th>0</th>\n",
       "      <td>org.springframework.samples.petclinic.model...</td>\n",
       "      <td>org.springframework.samples.petclinic.model.Na...</td>\n",
       "      <td>org.springframework.samples.petclinic.model.Ba...</td>\n",
       "      <td>classes</td>\n",
       "      <td>NamedEntity</td>\n",
       "    </tr>\n",
       "    <tr>\n",
       "      <th>1</th>\n",
       "      <td>org.springframework.samples.petclinic.model...</td>\n",
       "      <td>org.springframework.samples.petclinic.model.Owner</td>\n",
       "      <td>org.springframework.samples.petclinic.model.Pe...</td>\n",
       "      <td>classes</td>\n",
       "      <td>Owner</td>\n",
       "    </tr>\n",
       "    <tr>\n",
       "      <th>2</th>\n",
       "      <td>org.springframework.samples.petclinic.model...</td>\n",
       "      <td>org.springframework.samples.petclinic.model.Owner</td>\n",
       "      <td>org.springframework.samples.petclinic.model.Pet</td>\n",
       "      <td>classes</td>\n",
       "      <td>Owner</td>\n",
       "    </tr>\n",
       "    <tr>\n",
       "      <th>3</th>\n",
       "      <td>org.springframework.samples.petclinic.model...</td>\n",
       "      <td>org.springframework.samples.petclinic.model.Pe...</td>\n",
       "      <td>org.springframework.samples.petclinic.model.Ba...</td>\n",
       "      <td>classes</td>\n",
       "      <td>Person</td>\n",
       "    </tr>\n",
       "    <tr>\n",
       "      <th>4</th>\n",
       "      <td>org.springframework.samples.petclinic.model...</td>\n",
       "      <td>org.springframework.samples.petclinic.model.Pet</td>\n",
       "      <td>org.springframework.samples.petclinic.model.Na...</td>\n",
       "      <td>classes</td>\n",
       "      <td>Pet</td>\n",
       "    </tr>\n",
       "  </tbody>\n",
       "</table>\n",
       "</div>"
      ],
      "text/plain": [
       "                                                 raw  \\\n",
       "0     org.springframework.samples.petclinic.model...   \n",
       "1     org.springframework.samples.petclinic.model...   \n",
       "2     org.springframework.samples.petclinic.model...   \n",
       "3     org.springframework.samples.petclinic.model...   \n",
       "4     org.springframework.samples.petclinic.model...   \n",
       "\n",
       "                                                from  \\\n",
       "0  org.springframework.samples.petclinic.model.Na...   \n",
       "1  org.springframework.samples.petclinic.model.Owner   \n",
       "2  org.springframework.samples.petclinic.model.Owner   \n",
       "3  org.springframework.samples.petclinic.model.Pe...   \n",
       "4    org.springframework.samples.petclinic.model.Pet   \n",
       "\n",
       "                                                  to     type         name  \n",
       "0  org.springframework.samples.petclinic.model.Ba...  classes  NamedEntity  \n",
       "1  org.springframework.samples.petclinic.model.Pe...  classes        Owner  \n",
       "2    org.springframework.samples.petclinic.model.Pet  classes        Owner  \n",
       "3  org.springframework.samples.petclinic.model.Ba...  classes       Person  \n",
       "4  org.springframework.samples.petclinic.model.Na...  classes          Pet  "
      ]
     },
     "execution_count": 6,
     "metadata": {},
     "output_type": "execute_result"
    }
   ],
   "source": [
    "# class entries begin with three whitespaces\n",
    "deps = deps[deps['raw'].str.startswith(\"   \")]\n",
    "# separates the source from the target\n",
    "splitted = deps['raw'].str.split(\"->\", n=1, expand=True)\n",
    "# remove whitespaces from source and get rid of inner classes\n",
    "deps['from'] = splitted[0].str.strip().str.split(\"\\$\").str[0]\n",
    "# get the target and the artifact names\n",
    "splitted_2 = splitted[1].str.split(\" \", n=2)\n",
    "# get also rid of inner classes\n",
    "deps['to'] = splitted_2.str[1].str.split(\"\\$\").str[0]\n",
    "deps['type'] = splitted_2.str[2].str.strip()\n",
    "deps['name'] = deps['from'].str.split(\".\").str[-1]\n",
    "deps.head()"
   ]
  },
  {
   "cell_type": "markdown",
   "id": "d1aadcb8",
   "metadata": {},
   "source": [
    "### Transform data for source code file names into dictionary"
   ]
  },
  {
   "cell_type": "code",
   "execution_count": 7,
   "id": "fec364c2",
   "metadata": {},
   "outputs": [
    {
     "data": {
      "text/plain": [
       "[{'from': 'org.springframework.samples.petclinic.model.NamedEntity',\n",
       "  'name': 'NamedEntity'},\n",
       " {'from': 'org.springframework.samples.petclinic.model.Owner',\n",
       "  'name': 'Owner'},\n",
       " {'from': 'org.springframework.samples.petclinic.model.Person',\n",
       "  'name': 'Person'},\n",
       " {'from': 'org.springframework.samples.petclinic.model.Pet', 'name': 'Pet'},\n",
       " {'from': 'org.springframework.samples.petclinic.model.PetType',\n",
       "  'name': 'PetType'}]"
      ]
     },
     "execution_count": 7,
     "metadata": {},
     "output_type": "execute_result"
    }
   ],
   "source": [
    "names_data = deps[['from', 'name']].drop_duplicates().to_dict(orient='records')\n",
    "names_data[:5]"
   ]
  },
  {
   "cell_type": "markdown",
   "id": "3e4d7026",
   "metadata": {},
   "source": [
    "### Import data into Neo4j"
   ]
  },
  {
   "cell_type": "code",
   "execution_count": 8,
   "id": "82f67b2e",
   "metadata": {},
   "outputs": [
    {
     "data": {
      "text/html": [
       "<div>\n",
       "<style scoped>\n",
       "    .dataframe tbody tr th:only-of-type {\n",
       "        vertical-align: middle;\n",
       "    }\n",
       "\n",
       "    .dataframe tbody tr th {\n",
       "        vertical-align: top;\n",
       "    }\n",
       "\n",
       "    .dataframe thead th {\n",
       "        text-align: right;\n",
       "    }\n",
       "</style>\n",
       "<table border=\"1\" class=\"dataframe\">\n",
       "  <thead>\n",
       "    <tr style=\"text-align: right;\">\n",
       "      <th></th>\n",
       "      <th>t.fqn</th>\n",
       "      <th>t.name</th>\n",
       "    </tr>\n",
       "  </thead>\n",
       "  <tbody>\n",
       "    <tr>\n",
       "      <th>0</th>\n",
       "      <td>org.springframework.samples.petclinic.model.Na...</td>\n",
       "      <td>NamedEntity</td>\n",
       "    </tr>\n",
       "    <tr>\n",
       "      <th>1</th>\n",
       "      <td>org.springframework.samples.petclinic.model.Owner</td>\n",
       "      <td>Owner</td>\n",
       "    </tr>\n",
       "    <tr>\n",
       "      <th>2</th>\n",
       "      <td>org.springframework.samples.petclinic.model.Pe...</td>\n",
       "      <td>Person</td>\n",
       "    </tr>\n",
       "    <tr>\n",
       "      <th>3</th>\n",
       "      <td>org.springframework.samples.petclinic.model.Pet</td>\n",
       "      <td>Pet</td>\n",
       "    </tr>\n",
       "    <tr>\n",
       "      <th>4</th>\n",
       "      <td>org.springframework.samples.petclinic.model.Pe...</td>\n",
       "      <td>PetType</td>\n",
       "    </tr>\n",
       "  </tbody>\n",
       "</table>\n",
       "</div>"
      ],
      "text/plain": [
       "                                               t.fqn       t.name\n",
       "0  org.springframework.samples.petclinic.model.Na...  NamedEntity\n",
       "1  org.springframework.samples.petclinic.model.Owner        Owner\n",
       "2  org.springframework.samples.petclinic.model.Pe...       Person\n",
       "3    org.springframework.samples.petclinic.model.Pet          Pet\n",
       "4  org.springframework.samples.petclinic.model.Pe...      PetType"
      ]
     },
     "execution_count": 8,
     "metadata": {},
     "output_type": "execute_result"
    }
   ],
   "source": [
    "query=\"\"\"\n",
    "    UNWIND {data} as dep_name\n",
    "    CREATE\n",
    "        (t:Type)\n",
    "    SET\n",
    "        t.fqn = dep_name.from,\n",
    "        t.name = dep_name.name\n",
    "    RETURN t.fqn, t.name\n",
    "\"\"\"\n",
    "session.run(query, data=names_data).to_df().head()"
   ]
  },
  {
   "cell_type": "markdown",
   "id": "780e24b4",
   "metadata": {},
   "source": [
    "### Create index for `fqn` for faster queries"
   ]
  },
  {
   "cell_type": "code",
   "execution_count": 9,
   "id": "8f295674",
   "metadata": {},
   "outputs": [],
   "source": [
    "query=\"\"\"\n",
    "  CREATE INDEX ON :Type(fqn)\n",
    "\"\"\"\n",
    "session.run(query);"
   ]
  },
  {
   "cell_type": "markdown",
   "id": "4efdf8ab",
   "metadata": {},
   "source": [
    "### Transform data for dependencies into a dictionary"
   ]
  },
  {
   "cell_type": "code",
   "execution_count": 10,
   "id": "87511d55",
   "metadata": {},
   "outputs": [
    {
     "data": {
      "text/plain": [
       "[{'raw': '   org.springframework.samples.petclinic.model.NamedEntity -> org.springframework.samples.petclinic.model.BaseEntity classes',\n",
       "  'from': 'org.springframework.samples.petclinic.model.NamedEntity',\n",
       "  'to': 'org.springframework.samples.petclinic.model.BaseEntity',\n",
       "  'type': 'classes',\n",
       "  'name': 'NamedEntity'},\n",
       " {'raw': '   org.springframework.samples.petclinic.model.Owner  -> org.springframework.samples.petclinic.model.Person classes',\n",
       "  'from': 'org.springframework.samples.petclinic.model.Owner',\n",
       "  'to': 'org.springframework.samples.petclinic.model.Person',\n",
       "  'type': 'classes',\n",
       "  'name': 'Owner'}]"
      ]
     },
     "execution_count": 10,
     "metadata": {},
     "output_type": "execute_result"
    }
   ],
   "source": [
    "deps_data = deps.to_dict(orient='records')\n",
    "deps_data[:2]"
   ]
  },
  {
   "cell_type": "markdown",
   "id": "f36502e9",
   "metadata": {},
   "source": [
    "### Connect nodes that depend on each other"
   ]
  },
  {
   "cell_type": "code",
   "execution_count": 11,
   "id": "e2e6ee8e",
   "metadata": {
    "scrolled": true
   },
   "outputs": [
    {
     "data": {
      "text/html": [
       "<div>\n",
       "<style scoped>\n",
       "    .dataframe tbody tr th:only-of-type {\n",
       "        vertical-align: middle;\n",
       "    }\n",
       "\n",
       "    .dataframe tbody tr th {\n",
       "        vertical-align: top;\n",
       "    }\n",
       "\n",
       "    .dataframe thead th {\n",
       "        text-align: right;\n",
       "    }\n",
       "</style>\n",
       "<table border=\"1\" class=\"dataframe\">\n",
       "  <thead>\n",
       "    <tr style=\"text-align: right;\">\n",
       "      <th></th>\n",
       "      <th>from.fqn</th>\n",
       "      <th>to.fqn</th>\n",
       "    </tr>\n",
       "  </thead>\n",
       "  <tbody>\n",
       "    <tr>\n",
       "      <th>0</th>\n",
       "      <td>org.springframework.samples.petclinic.model.Owner</td>\n",
       "      <td>org.springframework.samples.petclinic.model.Pe...</td>\n",
       "    </tr>\n",
       "    <tr>\n",
       "      <th>1</th>\n",
       "      <td>org.springframework.samples.petclinic.model.Owner</td>\n",
       "      <td>org.springframework.samples.petclinic.model.Pet</td>\n",
       "    </tr>\n",
       "    <tr>\n",
       "      <th>2</th>\n",
       "      <td>org.springframework.samples.petclinic.model.Pet</td>\n",
       "      <td>org.springframework.samples.petclinic.model.Na...</td>\n",
       "    </tr>\n",
       "    <tr>\n",
       "      <th>3</th>\n",
       "      <td>org.springframework.samples.petclinic.model.Pet</td>\n",
       "      <td>org.springframework.samples.petclinic.model.Owner</td>\n",
       "    </tr>\n",
       "    <tr>\n",
       "      <th>4</th>\n",
       "      <td>org.springframework.samples.petclinic.model.Pet</td>\n",
       "      <td>org.springframework.samples.petclinic.model.Pe...</td>\n",
       "    </tr>\n",
       "  </tbody>\n",
       "</table>\n",
       "</div>"
      ],
      "text/plain": [
       "                                            from.fqn  \\\n",
       "0  org.springframework.samples.petclinic.model.Owner   \n",
       "1  org.springframework.samples.petclinic.model.Owner   \n",
       "2    org.springframework.samples.petclinic.model.Pet   \n",
       "3    org.springframework.samples.petclinic.model.Pet   \n",
       "4    org.springframework.samples.petclinic.model.Pet   \n",
       "\n",
       "                                              to.fqn  \n",
       "0  org.springframework.samples.petclinic.model.Pe...  \n",
       "1    org.springframework.samples.petclinic.model.Pet  \n",
       "2  org.springframework.samples.petclinic.model.Na...  \n",
       "3  org.springframework.samples.petclinic.model.Owner  \n",
       "4  org.springframework.samples.petclinic.model.Pe...  "
      ]
     },
     "execution_count": 11,
     "metadata": {},
     "output_type": "execute_result"
    }
   ],
   "source": [
    "query=\"\"\"\n",
    "    UNWIND {data} as dep\n",
    "    MATCH (from:Type {fqn : dep.from})\n",
    "    MATCH (to:Type {fqn: dep.to})\n",
    "    MERGE (from)-[:DEPENDS_ON]->(to)\n",
    "    RETURN from.fqn, to.fqn\n",
    "\"\"\"\n",
    "session.run(query, data=deps_data).to_df().head()"
   ]
  },
  {
   "cell_type": "markdown",
   "id": "b926d42a",
   "metadata": {},
   "source": [
    "### Prepare results for dependency analysis"
   ]
  },
  {
   "cell_type": "code",
   "execution_count": 12,
   "id": "51f838c2",
   "metadata": {},
   "outputs": [
    {
     "name": "stdout",
     "output_type": "stream",
     "text": [
      "[{\"name\":\"org.springframework.samples.petclinic.model.Vet\",\"imports\":[\"org.springframework.samples.petclinic.model.Vet\",\"org.springframework.samples.petclinic.model.Person\",\"org.springframework.sample\n"
     ]
    }
   ],
   "source": [
    "query=\"\"\"\n",
    "MATCH\n",
    "    (t:Type)\n",
    "WITH DISTINCT t\n",
    "MATCH\n",
    "    (type)-[:DEPENDS_ON*0..1]->(directDependency:Type)\n",
    "RETURN type.fqn as name, COLLECT(DISTINCT directDependency.fqn) as imports\n",
    "\"\"\"\n",
    "\n",
    "json_data = session.run(query).to_df().to_json(orient=\"records\")\n",
    "print(json_data[:200])"
   ]
  },
  {
   "cell_type": "markdown",
   "id": "cecddcd4",
   "metadata": {},
   "source": [
    "### Visualize dependencies"
   ]
  },
  {
   "cell_type": "code",
   "execution_count": 13,
   "id": "39dd3437",
   "metadata": {},
   "outputs": [],
   "source": [
    "with open ( \"output/hierarchical-edge-bundling.json\", mode='w') as json_file:\n",
    "    json_file.write(json_data)"
   ]
  },
  {
   "cell_type": "markdown",
   "id": "407ab67d",
   "metadata": {},
   "source": [
    "### Show link for visualization\n",
    "<a href=\"vis/hierarchical-edge-bundling.html\">hierarchical-edge-bundling.html</a>"
   ]
  },
  {
   "cell_type": "markdown",
   "id": "7037f1bb",
   "metadata": {},
   "source": [
    "## Import lines of code information"
   ]
  },
  {
   "cell_type": "markdown",
   "id": "8a24d403",
   "metadata": {},
   "source": [
    "### Generate dataset\n",
    "\n",
    "You can generate this data for various source code projects e.g. via `cloc`:\n",
    "\n",
    "`src/main/java/cloc . --by-file --quiet --csv --out spring_petclinic_cloc.csv`\n"
   ]
  },
  {
   "cell_type": "markdown",
   "id": "6e295ff8",
   "metadata": {},
   "source": [
    "### Show dataset"
   ]
  },
  {
   "cell_type": "code",
   "execution_count": 14,
   "id": "f9f4ba76",
   "metadata": {},
   "outputs": [
    {
     "name": "stdout",
     "output_type": "stream",
     "text": [
      "language,filename,blank,comment,code,\"github.com/AlDanial/cloc v 1.82  T=0.19 s (244.7 files/s, 16290.7 lines/s)\"\r\n",
      "Java,./org/springframework/samples/petclinic/repository/jdbc/JdbcOwnerRepositoryImpl.java,19,41,98\r\n",
      "Java,./org/springframework/samples/petclinic/model/Owner.java,22,35,96\r\n",
      "Java,./org/springframework/samples/petclinic/web/OwnerController.java,18,32,85\r\n",
      "Java,./org/springframework/samples/petclinic/web/PetController.java,15,20,78\r\n",
      "Java,./org/springframework/samples/petclinic/repository/jdbc/JdbcPetRepositoryImpl.java,15,26,75\r\n",
      "Java,./org/springframework/samples/petclinic/service/ClinicServiceImpl.java,18,21,74\r\n",
      "Java,./org/springframework/samples/petclinic/repository/jdbc/OneToManyResultSetExtractor.java,15,74,70\r\n",
      "Java,./org/springframework/samples/petclinic/model/Pet.java,20,22,69\r\n",
      "Java,./org/springframework/samples/petclinic/repository/jdbc/JdbcVisitRepositoryImpl.java,17,29,57\r\n"
     ]
    }
   ],
   "source": [
    "!head data/spring_petclinic_cloc.csv"
   ]
  },
  {
   "cell_type": "markdown",
   "id": "997fcabe",
   "metadata": {},
   "source": [
    "### Import data"
   ]
  },
  {
   "cell_type": "code",
   "execution_count": 15,
   "id": "5e11f9dd",
   "metadata": {},
   "outputs": [
    {
     "data": {
      "text/html": [
       "<div>\n",
       "<style scoped>\n",
       "    .dataframe tbody tr th:only-of-type {\n",
       "        vertical-align: middle;\n",
       "    }\n",
       "\n",
       "    .dataframe tbody tr th {\n",
       "        vertical-align: top;\n",
       "    }\n",
       "\n",
       "    .dataframe thead th {\n",
       "        text-align: right;\n",
       "    }\n",
       "</style>\n",
       "<table border=\"1\" class=\"dataframe\">\n",
       "  <thead>\n",
       "    <tr style=\"text-align: right;\">\n",
       "      <th></th>\n",
       "      <th>language</th>\n",
       "      <th>filename</th>\n",
       "      <th>blank</th>\n",
       "      <th>comment</th>\n",
       "      <th>code</th>\n",
       "      <th>github.com/AlDanial/cloc v 1.82  T=0.19 s (244.7 files/s, 16290.7 lines/s)</th>\n",
       "    </tr>\n",
       "  </thead>\n",
       "  <tbody>\n",
       "    <tr>\n",
       "      <th>42</th>\n",
       "      <td>Java</td>\n",
       "      <td>./org/springframework/samples/petclinic/reposi...</td>\n",
       "      <td>2</td>\n",
       "      <td>21</td>\n",
       "      <td>6</td>\n",
       "      <td>NaN</td>\n",
       "    </tr>\n",
       "    <tr>\n",
       "      <th>43</th>\n",
       "      <td>Java</td>\n",
       "      <td>./org/springframework/samples/petclinic/web/pa...</td>\n",
       "      <td>1</td>\n",
       "      <td>3</td>\n",
       "      <td>1</td>\n",
       "      <td>NaN</td>\n",
       "    </tr>\n",
       "    <tr>\n",
       "      <th>44</th>\n",
       "      <td>Java</td>\n",
       "      <td>./org/springframework/samples/petclinic/model/...</td>\n",
       "      <td>1</td>\n",
       "      <td>3</td>\n",
       "      <td>1</td>\n",
       "      <td>NaN</td>\n",
       "    </tr>\n",
       "    <tr>\n",
       "      <th>45</th>\n",
       "      <td>Java</td>\n",
       "      <td>./org/springframework/samples/petclinic/reposi...</td>\n",
       "      <td>1</td>\n",
       "      <td>4</td>\n",
       "      <td>1</td>\n",
       "      <td>NaN</td>\n",
       "    </tr>\n",
       "    <tr>\n",
       "      <th>46</th>\n",
       "      <td>Java</td>\n",
       "      <td>./org/springframework/samples/petclinic/reposi...</td>\n",
       "      <td>1</td>\n",
       "      <td>4</td>\n",
       "      <td>1</td>\n",
       "      <td>NaN</td>\n",
       "    </tr>\n",
       "  </tbody>\n",
       "</table>\n",
       "</div>"
      ],
      "text/plain": [
       "   language                                           filename  blank  \\\n",
       "42     Java  ./org/springframework/samples/petclinic/reposi...      2   \n",
       "43     Java  ./org/springframework/samples/petclinic/web/pa...      1   \n",
       "44     Java  ./org/springframework/samples/petclinic/model/...      1   \n",
       "45     Java  ./org/springframework/samples/petclinic/reposi...      1   \n",
       "46     Java  ./org/springframework/samples/petclinic/reposi...      1   \n",
       "\n",
       "    comment  code  \\\n",
       "42       21     6   \n",
       "43        3     1   \n",
       "44        3     1   \n",
       "45        4     1   \n",
       "46        4     1   \n",
       "\n",
       "    github.com/AlDanial/cloc v 1.82  T=0.19 s (244.7 files/s, 16290.7 lines/s)  \n",
       "42                                                NaN                           \n",
       "43                                                NaN                           \n",
       "44                                                NaN                           \n",
       "45                                                NaN                           \n",
       "46                                                NaN                           "
      ]
     },
     "execution_count": 15,
     "metadata": {},
     "output_type": "execute_result"
    }
   ],
   "source": [
    "cloc = pd.read_csv(\"data/spring_petclinic_cloc.csv\")[:-1].copy()\n",
    "cloc.tail()"
   ]
  },
  {
   "cell_type": "markdown",
   "id": "a5dfdf83",
   "metadata": {},
   "source": [
    "### Normalize data\n",
    "cloc delivers paths, but we need a full qualified name (\"fqn\") that matches with exiting data"
   ]
  },
  {
   "cell_type": "code",
   "execution_count": 16,
   "id": "54b39a23",
   "metadata": {},
   "outputs": [
    {
     "data": {
      "text/html": [
       "<div>\n",
       "<style scoped>\n",
       "    .dataframe tbody tr th:only-of-type {\n",
       "        vertical-align: middle;\n",
       "    }\n",
       "\n",
       "    .dataframe tbody tr th {\n",
       "        vertical-align: top;\n",
       "    }\n",
       "\n",
       "    .dataframe thead th {\n",
       "        text-align: right;\n",
       "    }\n",
       "</style>\n",
       "<table border=\"1\" class=\"dataframe\">\n",
       "  <thead>\n",
       "    <tr style=\"text-align: right;\">\n",
       "      <th></th>\n",
       "      <th>language</th>\n",
       "      <th>filename</th>\n",
       "      <th>blank</th>\n",
       "      <th>comment</th>\n",
       "      <th>code</th>\n",
       "      <th>github.com/AlDanial/cloc v 1.82  T=0.19 s (244.7 files/s, 16290.7 lines/s)</th>\n",
       "      <th>fqn</th>\n",
       "    </tr>\n",
       "  </thead>\n",
       "  <tbody>\n",
       "    <tr>\n",
       "      <th>0</th>\n",
       "      <td>Java</td>\n",
       "      <td>./org/springframework/samples/petclinic/reposi...</td>\n",
       "      <td>19</td>\n",
       "      <td>41</td>\n",
       "      <td>98</td>\n",
       "      <td>NaN</td>\n",
       "      <td>org.springframework.samples.petclinic.reposito...</td>\n",
       "    </tr>\n",
       "    <tr>\n",
       "      <th>1</th>\n",
       "      <td>Java</td>\n",
       "      <td>./org/springframework/samples/petclinic/model/...</td>\n",
       "      <td>22</td>\n",
       "      <td>35</td>\n",
       "      <td>96</td>\n",
       "      <td>NaN</td>\n",
       "      <td>org.springframework.samples.petclinic.model.Owner</td>\n",
       "    </tr>\n",
       "    <tr>\n",
       "      <th>2</th>\n",
       "      <td>Java</td>\n",
       "      <td>./org/springframework/samples/petclinic/web/Ow...</td>\n",
       "      <td>18</td>\n",
       "      <td>32</td>\n",
       "      <td>85</td>\n",
       "      <td>NaN</td>\n",
       "      <td>org.springframework.samples.petclinic.web.Owne...</td>\n",
       "    </tr>\n",
       "    <tr>\n",
       "      <th>3</th>\n",
       "      <td>Java</td>\n",
       "      <td>./org/springframework/samples/petclinic/web/Pe...</td>\n",
       "      <td>15</td>\n",
       "      <td>20</td>\n",
       "      <td>78</td>\n",
       "      <td>NaN</td>\n",
       "      <td>org.springframework.samples.petclinic.web.PetC...</td>\n",
       "    </tr>\n",
       "    <tr>\n",
       "      <th>4</th>\n",
       "      <td>Java</td>\n",
       "      <td>./org/springframework/samples/petclinic/reposi...</td>\n",
       "      <td>15</td>\n",
       "      <td>26</td>\n",
       "      <td>75</td>\n",
       "      <td>NaN</td>\n",
       "      <td>org.springframework.samples.petclinic.reposito...</td>\n",
       "    </tr>\n",
       "  </tbody>\n",
       "</table>\n",
       "</div>"
      ],
      "text/plain": [
       "  language                                           filename  blank  comment  \\\n",
       "0     Java  ./org/springframework/samples/petclinic/reposi...     19       41   \n",
       "1     Java  ./org/springframework/samples/petclinic/model/...     22       35   \n",
       "2     Java  ./org/springframework/samples/petclinic/web/Ow...     18       32   \n",
       "3     Java  ./org/springframework/samples/petclinic/web/Pe...     15       20   \n",
       "4     Java  ./org/springframework/samples/petclinic/reposi...     15       26   \n",
       "\n",
       "   code  \\\n",
       "0    98   \n",
       "1    96   \n",
       "2    85   \n",
       "3    78   \n",
       "4    75   \n",
       "\n",
       "   github.com/AlDanial/cloc v 1.82  T=0.19 s (244.7 files/s, 16290.7 lines/s)  \\\n",
       "0                                                NaN                            \n",
       "1                                                NaN                            \n",
       "2                                                NaN                            \n",
       "3                                                NaN                            \n",
       "4                                                NaN                            \n",
       "\n",
       "                                                 fqn  \n",
       "0  org.springframework.samples.petclinic.reposito...  \n",
       "1  org.springframework.samples.petclinic.model.Owner  \n",
       "2  org.springframework.samples.petclinic.web.Owne...  \n",
       "3  org.springframework.samples.petclinic.web.PetC...  \n",
       "4  org.springframework.samples.petclinic.reposito...  "
      ]
     },
     "execution_count": 16,
     "metadata": {},
     "output_type": "execute_result"
    }
   ],
   "source": [
    "cloc['fqn'] = cloc['filename'].str.replace(\"./\", \"\", regex=False)\\\n",
    "                              .str.replace(\"/\",\".\", regex=False)\\\n",
    "                              .str.replace(\".java\",\"\", regex=False)\n",
    "cloc.head()"
   ]
  },
  {
   "cell_type": "markdown",
   "id": "2cc869ce",
   "metadata": {},
   "source": [
    "### Clean up dataset"
   ]
  },
  {
   "cell_type": "code",
   "execution_count": 17,
   "id": "efa83efc",
   "metadata": {},
   "outputs": [
    {
     "data": {
      "text/html": [
       "<div>\n",
       "<style scoped>\n",
       "    .dataframe tbody tr th:only-of-type {\n",
       "        vertical-align: middle;\n",
       "    }\n",
       "\n",
       "    .dataframe tbody tr th {\n",
       "        vertical-align: top;\n",
       "    }\n",
       "\n",
       "    .dataframe thead th {\n",
       "        text-align: right;\n",
       "    }\n",
       "</style>\n",
       "<table border=\"1\" class=\"dataframe\">\n",
       "  <thead>\n",
       "    <tr style=\"text-align: right;\">\n",
       "      <th></th>\n",
       "      <th>fqn</th>\n",
       "      <th>code</th>\n",
       "      <th>comment</th>\n",
       "      <th>blank</th>\n",
       "    </tr>\n",
       "  </thead>\n",
       "  <tbody>\n",
       "    <tr>\n",
       "      <th>0</th>\n",
       "      <td>org.springframework.samples.petclinic.reposito...</td>\n",
       "      <td>98</td>\n",
       "      <td>41</td>\n",
       "      <td>19</td>\n",
       "    </tr>\n",
       "    <tr>\n",
       "      <th>1</th>\n",
       "      <td>org.springframework.samples.petclinic.model.Owner</td>\n",
       "      <td>96</td>\n",
       "      <td>35</td>\n",
       "      <td>22</td>\n",
       "    </tr>\n",
       "    <tr>\n",
       "      <th>2</th>\n",
       "      <td>org.springframework.samples.petclinic.web.Owne...</td>\n",
       "      <td>85</td>\n",
       "      <td>32</td>\n",
       "      <td>18</td>\n",
       "    </tr>\n",
       "    <tr>\n",
       "      <th>3</th>\n",
       "      <td>org.springframework.samples.petclinic.web.PetC...</td>\n",
       "      <td>78</td>\n",
       "      <td>20</td>\n",
       "      <td>15</td>\n",
       "    </tr>\n",
       "    <tr>\n",
       "      <th>4</th>\n",
       "      <td>org.springframework.samples.petclinic.reposito...</td>\n",
       "      <td>75</td>\n",
       "      <td>26</td>\n",
       "      <td>15</td>\n",
       "    </tr>\n",
       "  </tbody>\n",
       "</table>\n",
       "</div>"
      ],
      "text/plain": [
       "                                                 fqn  code  comment  blank\n",
       "0  org.springframework.samples.petclinic.reposito...    98       41     19\n",
       "1  org.springframework.samples.petclinic.model.Owner    96       35     22\n",
       "2  org.springframework.samples.petclinic.web.Owne...    85       32     18\n",
       "3  org.springframework.samples.petclinic.web.PetC...    78       20     15\n",
       "4  org.springframework.samples.petclinic.reposito...    75       26     15"
      ]
     },
     "execution_count": 17,
     "metadata": {},
     "output_type": "execute_result"
    }
   ],
   "source": [
    "loc = cloc[['fqn', 'code', 'comment', 'blank']].dropna().copy()\n",
    "loc.head()"
   ]
  },
  {
   "cell_type": "markdown",
   "id": "88b4de8d",
   "metadata": {},
   "source": [
    "### Generate dictionary"
   ]
  },
  {
   "cell_type": "code",
   "execution_count": 18,
   "id": "1d3a2154",
   "metadata": {},
   "outputs": [
    {
     "data": {
      "text/plain": [
       "[{'fqn': 'org.springframework.samples.petclinic.repository.jdbc.JdbcOwnerRepositoryImpl',\n",
       "  'code': 98,\n",
       "  'comment': 41,\n",
       "  'blank': 19},\n",
       " {'fqn': 'org.springframework.samples.petclinic.model.Owner',\n",
       "  'code': 96,\n",
       "  'comment': 35,\n",
       "  'blank': 22}]"
      ]
     },
     "execution_count": 18,
     "metadata": {},
     "output_type": "execute_result"
    }
   ],
   "source": [
    "loc_data = loc.to_dict(orient='records')\n",
    "loc_data[:2]"
   ]
  },
  {
   "cell_type": "markdown",
   "id": "3dbcf220",
   "metadata": {},
   "source": [
    "### Import into Neo4j"
   ]
  },
  {
   "cell_type": "code",
   "execution_count": 19,
   "id": "1b795fc7",
   "metadata": {},
   "outputs": [
    {
     "data": {
      "text/html": [
       "<div>\n",
       "<style scoped>\n",
       "    .dataframe tbody tr th:only-of-type {\n",
       "        vertical-align: middle;\n",
       "    }\n",
       "\n",
       "    .dataframe tbody tr th {\n",
       "        vertical-align: top;\n",
       "    }\n",
       "\n",
       "    .dataframe thead th {\n",
       "        text-align: right;\n",
       "    }\n",
       "</style>\n",
       "<table border=\"1\" class=\"dataframe\">\n",
       "  <thead>\n",
       "    <tr style=\"text-align: right;\">\n",
       "      <th></th>\n",
       "      <th>t.fqn</th>\n",
       "      <th>t.name</th>\n",
       "      <th>t.lines</th>\n",
       "      <th>t.comments</th>\n",
       "      <th>t.blanks</th>\n",
       "    </tr>\n",
       "  </thead>\n",
       "  <tbody>\n",
       "    <tr>\n",
       "      <th>0</th>\n",
       "      <td>org.springframework.samples.petclinic.reposito...</td>\n",
       "      <td>JdbcOwnerRepositoryImpl</td>\n",
       "      <td>98</td>\n",
       "      <td>41</td>\n",
       "      <td>19</td>\n",
       "    </tr>\n",
       "    <tr>\n",
       "      <th>1</th>\n",
       "      <td>org.springframework.samples.petclinic.model.Owner</td>\n",
       "      <td>Owner</td>\n",
       "      <td>96</td>\n",
       "      <td>35</td>\n",
       "      <td>22</td>\n",
       "    </tr>\n",
       "    <tr>\n",
       "      <th>2</th>\n",
       "      <td>org.springframework.samples.petclinic.web.Owne...</td>\n",
       "      <td>OwnerController</td>\n",
       "      <td>85</td>\n",
       "      <td>32</td>\n",
       "      <td>18</td>\n",
       "    </tr>\n",
       "    <tr>\n",
       "      <th>3</th>\n",
       "      <td>org.springframework.samples.petclinic.web.PetC...</td>\n",
       "      <td>PetController</td>\n",
       "      <td>78</td>\n",
       "      <td>20</td>\n",
       "      <td>15</td>\n",
       "    </tr>\n",
       "    <tr>\n",
       "      <th>4</th>\n",
       "      <td>org.springframework.samples.petclinic.reposito...</td>\n",
       "      <td>JdbcPetRepositoryImpl</td>\n",
       "      <td>75</td>\n",
       "      <td>26</td>\n",
       "      <td>15</td>\n",
       "    </tr>\n",
       "  </tbody>\n",
       "</table>\n",
       "</div>"
      ],
      "text/plain": [
       "                                               t.fqn                   t.name  \\\n",
       "0  org.springframework.samples.petclinic.reposito...  JdbcOwnerRepositoryImpl   \n",
       "1  org.springframework.samples.petclinic.model.Owner                    Owner   \n",
       "2  org.springframework.samples.petclinic.web.Owne...          OwnerController   \n",
       "3  org.springframework.samples.petclinic.web.PetC...            PetController   \n",
       "4  org.springframework.samples.petclinic.reposito...    JdbcPetRepositoryImpl   \n",
       "\n",
       "   t.lines  t.comments  t.blanks  \n",
       "0       98          41        19  \n",
       "1       96          35        22  \n",
       "2       85          32        18  \n",
       "3       78          20        15  \n",
       "4       75          26        15  "
      ]
     },
     "execution_count": 19,
     "metadata": {},
     "output_type": "execute_result"
    }
   ],
   "source": [
    "query=\"\"\"\n",
    "    UNWIND {data} as loc\n",
    "    MATCH (t:Type {fqn : loc.fqn})\n",
    "    SET\n",
    "        t.lines = loc.code,\n",
    "        t.comments = loc.comment,\n",
    "        t.blanks = loc.blank\n",
    "    RETURN t.fqn, t.name, t.lines, t.comments, t.blanks\n",
    "\"\"\"\n",
    "\n",
    "session.run(query, data=loc_data).to_df().head()"
   ]
  },
  {
   "cell_type": "markdown",
   "id": "47cba5cc",
   "metadata": {},
   "source": [
    "## Import usage data"
   ]
  },
  {
   "cell_type": "markdown",
   "id": "f036f654",
   "metadata": {},
   "source": [
    "### Generate dataset\n",
    "\n",
    "E.g. via coverage tools like JaCoCo you can get a glimpse on what's happening during the usage of your application.\n",
    "\n",
    "See here for more details: https://www.feststelltaste.de/visualizing-production-coverage-with-jacoco-pandas-and-d3/"
   ]
  },
  {
   "cell_type": "markdown",
   "id": "c971ee30",
   "metadata": {},
   "source": [
    "### Show dataset"
   ]
  },
  {
   "cell_type": "code",
   "execution_count": 20,
   "id": "c9439db2",
   "metadata": {},
   "outputs": [
    {
     "name": "stdout",
     "output_type": "stream",
     "text": [
      "PACKAGE,CLASS,LINE_MISSED,LINE_COVERED\r",
      "\r\n",
      "org.springframework.samples.petclinic,PetclinicInitializer,0,24\r",
      "\r\n",
      "org.springframework.samples.petclinic.model,NamedEntity,1,4\r",
      "\r\n",
      "org.springframework.samples.petclinic.model,Specialty,0,1\r",
      "\r\n",
      "org.springframework.samples.petclinic.model,PetType,0,1\r",
      "\r\n",
      "org.springframework.samples.petclinic.model,Vets,4,0\r",
      "\r\n",
      "org.springframework.samples.petclinic.model,Visit,0,12\r",
      "\r\n",
      "org.springframework.samples.petclinic.model,BaseEntity,0,5\r",
      "\r\n",
      "org.springframework.samples.petclinic.model,Person,0,7\r",
      "\r\n",
      "org.springframework.samples.petclinic.model,Owner,14,26\r",
      "\r\n"
     ]
    }
   ],
   "source": [
    "!head data/spring_petclinic_production_coverage_data.csv"
   ]
  },
  {
   "cell_type": "markdown",
   "id": "5e7baf4b",
   "metadata": {},
   "source": [
    "### Import dataset"
   ]
  },
  {
   "cell_type": "code",
   "execution_count": 21,
   "id": "758742cb",
   "metadata": {},
   "outputs": [
    {
     "data": {
      "text/html": [
       "<div>\n",
       "<style scoped>\n",
       "    .dataframe tbody tr th:only-of-type {\n",
       "        vertical-align: middle;\n",
       "    }\n",
       "\n",
       "    .dataframe tbody tr th {\n",
       "        vertical-align: top;\n",
       "    }\n",
       "\n",
       "    .dataframe thead th {\n",
       "        text-align: right;\n",
       "    }\n",
       "</style>\n",
       "<table border=\"1\" class=\"dataframe\">\n",
       "  <thead>\n",
       "    <tr style=\"text-align: right;\">\n",
       "      <th></th>\n",
       "      <th>PACKAGE</th>\n",
       "      <th>CLASS</th>\n",
       "      <th>LINE_MISSED</th>\n",
       "      <th>LINE_COVERED</th>\n",
       "    </tr>\n",
       "  </thead>\n",
       "  <tbody>\n",
       "    <tr>\n",
       "      <th>0</th>\n",
       "      <td>org.springframework.samples.petclinic</td>\n",
       "      <td>PetclinicInitializer</td>\n",
       "      <td>0</td>\n",
       "      <td>24</td>\n",
       "    </tr>\n",
       "    <tr>\n",
       "      <th>1</th>\n",
       "      <td>org.springframework.samples.petclinic.model</td>\n",
       "      <td>NamedEntity</td>\n",
       "      <td>1</td>\n",
       "      <td>4</td>\n",
       "    </tr>\n",
       "    <tr>\n",
       "      <th>2</th>\n",
       "      <td>org.springframework.samples.petclinic.model</td>\n",
       "      <td>Specialty</td>\n",
       "      <td>0</td>\n",
       "      <td>1</td>\n",
       "    </tr>\n",
       "    <tr>\n",
       "      <th>3</th>\n",
       "      <td>org.springframework.samples.petclinic.model</td>\n",
       "      <td>PetType</td>\n",
       "      <td>0</td>\n",
       "      <td>1</td>\n",
       "    </tr>\n",
       "    <tr>\n",
       "      <th>4</th>\n",
       "      <td>org.springframework.samples.petclinic.model</td>\n",
       "      <td>Vets</td>\n",
       "      <td>4</td>\n",
       "      <td>0</td>\n",
       "    </tr>\n",
       "  </tbody>\n",
       "</table>\n",
       "</div>"
      ],
      "text/plain": [
       "                                       PACKAGE                 CLASS  \\\n",
       "0        org.springframework.samples.petclinic  PetclinicInitializer   \n",
       "1  org.springframework.samples.petclinic.model           NamedEntity   \n",
       "2  org.springframework.samples.petclinic.model             Specialty   \n",
       "3  org.springframework.samples.petclinic.model               PetType   \n",
       "4  org.springframework.samples.petclinic.model                  Vets   \n",
       "\n",
       "   LINE_MISSED  LINE_COVERED  \n",
       "0            0            24  \n",
       "1            1             4  \n",
       "2            0             1  \n",
       "3            0             1  \n",
       "4            4             0  "
      ]
     },
     "execution_count": 21,
     "metadata": {},
     "output_type": "execute_result"
    }
   ],
   "source": [
    "coverage = pd.read_csv(\"data/spring_petclinic_production_coverage_data.csv\")\n",
    "coverage.head()"
   ]
  },
  {
   "cell_type": "markdown",
   "id": "a35e24a7",
   "metadata": {},
   "source": [
    "### Enrich data\n",
    "Calculate the percentage of executed lines of code per class"
   ]
  },
  {
   "cell_type": "code",
   "execution_count": 22,
   "id": "62b82095",
   "metadata": {},
   "outputs": [
    {
     "data": {
      "text/html": [
       "<div>\n",
       "<style scoped>\n",
       "    .dataframe tbody tr th:only-of-type {\n",
       "        vertical-align: middle;\n",
       "    }\n",
       "\n",
       "    .dataframe tbody tr th {\n",
       "        vertical-align: top;\n",
       "    }\n",
       "\n",
       "    .dataframe thead th {\n",
       "        text-align: right;\n",
       "    }\n",
       "</style>\n",
       "<table border=\"1\" class=\"dataframe\">\n",
       "  <thead>\n",
       "    <tr style=\"text-align: right;\">\n",
       "      <th></th>\n",
       "      <th>PACKAGE</th>\n",
       "      <th>CLASS</th>\n",
       "      <th>LINE_MISSED</th>\n",
       "      <th>LINE_COVERED</th>\n",
       "      <th>lines</th>\n",
       "      <th>ratio</th>\n",
       "    </tr>\n",
       "  </thead>\n",
       "  <tbody>\n",
       "    <tr>\n",
       "      <th>0</th>\n",
       "      <td>org.springframework.samples.petclinic</td>\n",
       "      <td>PetclinicInitializer</td>\n",
       "      <td>0</td>\n",
       "      <td>24</td>\n",
       "      <td>24</td>\n",
       "      <td>1.0</td>\n",
       "    </tr>\n",
       "    <tr>\n",
       "      <th>1</th>\n",
       "      <td>org.springframework.samples.petclinic.model</td>\n",
       "      <td>NamedEntity</td>\n",
       "      <td>1</td>\n",
       "      <td>4</td>\n",
       "      <td>5</td>\n",
       "      <td>0.8</td>\n",
       "    </tr>\n",
       "    <tr>\n",
       "      <th>2</th>\n",
       "      <td>org.springframework.samples.petclinic.model</td>\n",
       "      <td>Specialty</td>\n",
       "      <td>0</td>\n",
       "      <td>1</td>\n",
       "      <td>1</td>\n",
       "      <td>1.0</td>\n",
       "    </tr>\n",
       "    <tr>\n",
       "      <th>3</th>\n",
       "      <td>org.springframework.samples.petclinic.model</td>\n",
       "      <td>PetType</td>\n",
       "      <td>0</td>\n",
       "      <td>1</td>\n",
       "      <td>1</td>\n",
       "      <td>1.0</td>\n",
       "    </tr>\n",
       "    <tr>\n",
       "      <th>4</th>\n",
       "      <td>org.springframework.samples.petclinic.model</td>\n",
       "      <td>Vets</td>\n",
       "      <td>4</td>\n",
       "      <td>0</td>\n",
       "      <td>4</td>\n",
       "      <td>0.0</td>\n",
       "    </tr>\n",
       "  </tbody>\n",
       "</table>\n",
       "</div>"
      ],
      "text/plain": [
       "                                       PACKAGE                 CLASS  \\\n",
       "0        org.springframework.samples.petclinic  PetclinicInitializer   \n",
       "1  org.springframework.samples.petclinic.model           NamedEntity   \n",
       "2  org.springframework.samples.petclinic.model             Specialty   \n",
       "3  org.springframework.samples.petclinic.model               PetType   \n",
       "4  org.springframework.samples.petclinic.model                  Vets   \n",
       "\n",
       "   LINE_MISSED  LINE_COVERED  lines  ratio  \n",
       "0            0            24     24    1.0  \n",
       "1            1             4      5    0.8  \n",
       "2            0             1      1    1.0  \n",
       "3            0             1      1    1.0  \n",
       "4            4             0      4    0.0  "
      ]
     },
     "execution_count": 22,
     "metadata": {},
     "output_type": "execute_result"
    }
   ],
   "source": [
    "coverage['lines'] = coverage.LINE_COVERED + coverage.LINE_MISSED\n",
    "coverage['ratio'] = coverage.LINE_COVERED / coverage.lines\n",
    "coverage.head()"
   ]
  },
  {
   "cell_type": "markdown",
   "id": "06ac0838",
   "metadata": {},
   "source": [
    "### Normalize data"
   ]
  },
  {
   "cell_type": "code",
   "execution_count": 23,
   "id": "f1b8cd47",
   "metadata": {},
   "outputs": [
    {
     "data": {
      "text/html": [
       "<div>\n",
       "<style scoped>\n",
       "    .dataframe tbody tr th:only-of-type {\n",
       "        vertical-align: middle;\n",
       "    }\n",
       "\n",
       "    .dataframe tbody tr th {\n",
       "        vertical-align: top;\n",
       "    }\n",
       "\n",
       "    .dataframe thead th {\n",
       "        text-align: right;\n",
       "    }\n",
       "</style>\n",
       "<table border=\"1\" class=\"dataframe\">\n",
       "  <thead>\n",
       "    <tr style=\"text-align: right;\">\n",
       "      <th></th>\n",
       "      <th>PACKAGE</th>\n",
       "      <th>CLASS</th>\n",
       "      <th>LINE_MISSED</th>\n",
       "      <th>LINE_COVERED</th>\n",
       "      <th>lines</th>\n",
       "      <th>ratio</th>\n",
       "      <th>fqn</th>\n",
       "    </tr>\n",
       "  </thead>\n",
       "  <tbody>\n",
       "    <tr>\n",
       "      <th>0</th>\n",
       "      <td>org.springframework.samples.petclinic</td>\n",
       "      <td>PetclinicInitializer</td>\n",
       "      <td>0</td>\n",
       "      <td>24</td>\n",
       "      <td>24</td>\n",
       "      <td>1.0</td>\n",
       "      <td>org.springframework.samples.petclinic.Petclini...</td>\n",
       "    </tr>\n",
       "    <tr>\n",
       "      <th>1</th>\n",
       "      <td>org.springframework.samples.petclinic.model</td>\n",
       "      <td>NamedEntity</td>\n",
       "      <td>1</td>\n",
       "      <td>4</td>\n",
       "      <td>5</td>\n",
       "      <td>0.8</td>\n",
       "      <td>org.springframework.samples.petclinic.model.Na...</td>\n",
       "    </tr>\n",
       "    <tr>\n",
       "      <th>2</th>\n",
       "      <td>org.springframework.samples.petclinic.model</td>\n",
       "      <td>Specialty</td>\n",
       "      <td>0</td>\n",
       "      <td>1</td>\n",
       "      <td>1</td>\n",
       "      <td>1.0</td>\n",
       "      <td>org.springframework.samples.petclinic.model.Sp...</td>\n",
       "    </tr>\n",
       "    <tr>\n",
       "      <th>3</th>\n",
       "      <td>org.springframework.samples.petclinic.model</td>\n",
       "      <td>PetType</td>\n",
       "      <td>0</td>\n",
       "      <td>1</td>\n",
       "      <td>1</td>\n",
       "      <td>1.0</td>\n",
       "      <td>org.springframework.samples.petclinic.model.Pe...</td>\n",
       "    </tr>\n",
       "    <tr>\n",
       "      <th>4</th>\n",
       "      <td>org.springframework.samples.petclinic.model</td>\n",
       "      <td>Vets</td>\n",
       "      <td>4</td>\n",
       "      <td>0</td>\n",
       "      <td>4</td>\n",
       "      <td>0.0</td>\n",
       "      <td>org.springframework.samples.petclinic.model.Vets</td>\n",
       "    </tr>\n",
       "  </tbody>\n",
       "</table>\n",
       "</div>"
      ],
      "text/plain": [
       "                                       PACKAGE                 CLASS  \\\n",
       "0        org.springframework.samples.petclinic  PetclinicInitializer   \n",
       "1  org.springframework.samples.petclinic.model           NamedEntity   \n",
       "2  org.springframework.samples.petclinic.model             Specialty   \n",
       "3  org.springframework.samples.petclinic.model               PetType   \n",
       "4  org.springframework.samples.petclinic.model                  Vets   \n",
       "\n",
       "   LINE_MISSED  LINE_COVERED  lines  ratio  \\\n",
       "0            0            24     24    1.0   \n",
       "1            1             4      5    0.8   \n",
       "2            0             1      1    1.0   \n",
       "3            0             1      1    1.0   \n",
       "4            4             0      4    0.0   \n",
       "\n",
       "                                                 fqn  \n",
       "0  org.springframework.samples.petclinic.Petclini...  \n",
       "1  org.springframework.samples.petclinic.model.Na...  \n",
       "2  org.springframework.samples.petclinic.model.Sp...  \n",
       "3  org.springframework.samples.petclinic.model.Pe...  \n",
       "4   org.springframework.samples.petclinic.model.Vets  "
      ]
     },
     "execution_count": 23,
     "metadata": {},
     "output_type": "execute_result"
    }
   ],
   "source": [
    "coverage['fqn'] = coverage[\"PACKAGE\"] + \".\" + coverage[\"CLASS\"]\n",
    "coverage.head()"
   ]
  },
  {
   "cell_type": "markdown",
   "id": "bdce153c",
   "metadata": {},
   "source": [
    "### Import data into Neo4j"
   ]
  },
  {
   "cell_type": "code",
   "execution_count": 24,
   "id": "154c82b4",
   "metadata": {},
   "outputs": [
    {
     "data": {
      "text/html": [
       "<div>\n",
       "<style scoped>\n",
       "    .dataframe tbody tr th:only-of-type {\n",
       "        vertical-align: middle;\n",
       "    }\n",
       "\n",
       "    .dataframe tbody tr th {\n",
       "        vertical-align: top;\n",
       "    }\n",
       "\n",
       "    .dataframe thead th {\n",
       "        text-align: right;\n",
       "    }\n",
       "</style>\n",
       "<table border=\"1\" class=\"dataframe\">\n",
       "  <thead>\n",
       "    <tr style=\"text-align: right;\">\n",
       "      <th></th>\n",
       "      <th>fqn</th>\n",
       "      <th>ratio</th>\n",
       "      <th>lines</th>\n",
       "    </tr>\n",
       "  </thead>\n",
       "  <tbody>\n",
       "    <tr>\n",
       "      <th>0</th>\n",
       "      <td>org.springframework.samples.petclinic.model.Na...</td>\n",
       "      <td>0.8</td>\n",
       "      <td>5</td>\n",
       "    </tr>\n",
       "    <tr>\n",
       "      <th>1</th>\n",
       "      <td>org.springframework.samples.petclinic.model.Sp...</td>\n",
       "      <td>1.0</td>\n",
       "      <td>1</td>\n",
       "    </tr>\n",
       "    <tr>\n",
       "      <th>2</th>\n",
       "      <td>org.springframework.samples.petclinic.model.Pe...</td>\n",
       "      <td>1.0</td>\n",
       "      <td>1</td>\n",
       "    </tr>\n",
       "    <tr>\n",
       "      <th>3</th>\n",
       "      <td>org.springframework.samples.petclinic.model.Vets</td>\n",
       "      <td>0.0</td>\n",
       "      <td>4</td>\n",
       "    </tr>\n",
       "    <tr>\n",
       "      <th>4</th>\n",
       "      <td>org.springframework.samples.petclinic.model.Visit</td>\n",
       "      <td>1.0</td>\n",
       "      <td>12</td>\n",
       "    </tr>\n",
       "  </tbody>\n",
       "</table>\n",
       "</div>"
      ],
      "text/plain": [
       "                                                 fqn  ratio  lines\n",
       "0  org.springframework.samples.petclinic.model.Na...    0.8      5\n",
       "1  org.springframework.samples.petclinic.model.Sp...    1.0      1\n",
       "2  org.springframework.samples.petclinic.model.Pe...    1.0      1\n",
       "3   org.springframework.samples.petclinic.model.Vets    0.0      4\n",
       "4  org.springframework.samples.petclinic.model.Visit    1.0     12"
      ]
     },
     "execution_count": 24,
     "metadata": {},
     "output_type": "execute_result"
    }
   ],
   "source": [
    "query=\"\"\"\n",
    "    UNWIND {data} as coverage\n",
    "    MATCH (t:Type {fqn : coverage.fqn})\n",
    "    MERGE (t)-[:HAS_MEASURE]->(m)\n",
    "    SET \n",
    "        m:Measure:Coverage,\n",
    "        m.ratio = coverage.ratio,\n",
    "        m.lines = coverage.lines\n",
    "    RETURN t.fqn as fqn, m.ratio as ratio, m.lines as lines\n",
    "\"\"\"\n",
    "\n",
    "session.run(query, data=coverage.to_dict(orient='records')).to_df().head()"
   ]
  },
  {
   "cell_type": "markdown",
   "id": "c1001337",
   "metadata": {},
   "source": [
    "# Check data"
   ]
  },
  {
   "cell_type": "markdown",
   "id": "f11de2d4",
   "metadata": {},
   "source": [
    "## Query Nodes"
   ]
  },
  {
   "cell_type": "markdown",
   "id": "55bc1975",
   "metadata": {},
   "source": [
    "### List measures"
   ]
  },
  {
   "cell_type": "code",
   "execution_count": 25,
   "id": "7750a7cb",
   "metadata": {},
   "outputs": [
    {
     "data": {
      "text/html": [
       "<div>\n",
       "<style scoped>\n",
       "    .dataframe tbody tr th:only-of-type {\n",
       "        vertical-align: middle;\n",
       "    }\n",
       "\n",
       "    .dataframe tbody tr th {\n",
       "        vertical-align: top;\n",
       "    }\n",
       "\n",
       "    .dataframe thead th {\n",
       "        text-align: right;\n",
       "    }\n",
       "</style>\n",
       "<table border=\"1\" class=\"dataframe\">\n",
       "  <thead>\n",
       "    <tr style=\"text-align: right;\">\n",
       "      <th></th>\n",
       "      <th>fqn</th>\n",
       "      <th>lines</th>\n",
       "      <th>ratio</th>\n",
       "    </tr>\n",
       "  </thead>\n",
       "  <tbody>\n",
       "    <tr>\n",
       "      <th>0</th>\n",
       "      <td>org.springframework.samples.petclinic.model.Na...</td>\n",
       "      <td>18</td>\n",
       "      <td>0.8</td>\n",
       "    </tr>\n",
       "    <tr>\n",
       "      <th>1</th>\n",
       "      <td>org.springframework.samples.petclinic.model.Sp...</td>\n",
       "      <td>7</td>\n",
       "      <td>1.0</td>\n",
       "    </tr>\n",
       "    <tr>\n",
       "      <th>2</th>\n",
       "      <td>org.springframework.samples.petclinic.model.Pe...</td>\n",
       "      <td>7</td>\n",
       "      <td>1.0</td>\n",
       "    </tr>\n",
       "    <tr>\n",
       "      <th>3</th>\n",
       "      <td>org.springframework.samples.petclinic.model.Vets</td>\n",
       "      <td>16</td>\n",
       "      <td>0.0</td>\n",
       "    </tr>\n",
       "    <tr>\n",
       "      <th>4</th>\n",
       "      <td>org.springframework.samples.petclinic.model.Visit</td>\n",
       "      <td>43</td>\n",
       "      <td>1.0</td>\n",
       "    </tr>\n",
       "  </tbody>\n",
       "</table>\n",
       "</div>"
      ],
      "text/plain": [
       "                                                 fqn  lines  ratio\n",
       "0  org.springframework.samples.petclinic.model.Na...     18    0.8\n",
       "1  org.springframework.samples.petclinic.model.Sp...      7    1.0\n",
       "2  org.springframework.samples.petclinic.model.Pe...      7    1.0\n",
       "3   org.springframework.samples.petclinic.model.Vets     16    0.0\n",
       "4  org.springframework.samples.petclinic.model.Visit     43    1.0"
      ]
     },
     "execution_count": 25,
     "metadata": {},
     "output_type": "execute_result"
    }
   ],
   "source": [
    "query=\"\"\"\n",
    "   MATCH (n:Type)-[:HAS_MEASURE]->(m:Measure)\n",
    "   RETURN n.fqn as fqn, n.lines as lines, m.ratio as ratio\n",
    "\"\"\"\n",
    "\n",
    "module_options = session.run(query).to_df()\n",
    "module_options.head()"
   ]
  },
  {
   "cell_type": "markdown",
   "id": "f9259876",
   "metadata": {},
   "source": [
    "# Explore modularization options"
   ]
  },
  {
   "cell_type": "markdown",
   "id": "291e11c8",
   "metadata": {},
   "source": [
    "## Explore existing modularization"
   ]
  },
  {
   "cell_type": "markdown",
   "id": "99600213",
   "metadata": {},
   "source": [
    "### Extract existing main module structure"
   ]
  },
  {
   "cell_type": "code",
   "execution_count": 26,
   "id": "fc65e639",
   "metadata": {},
   "outputs": [
    {
     "data": {
      "text/html": [
       "<div>\n",
       "<style scoped>\n",
       "    .dataframe tbody tr th:only-of-type {\n",
       "        vertical-align: middle;\n",
       "    }\n",
       "\n",
       "    .dataframe tbody tr th {\n",
       "        vertical-align: top;\n",
       "    }\n",
       "\n",
       "    .dataframe thead th {\n",
       "        text-align: right;\n",
       "    }\n",
       "</style>\n",
       "<table border=\"1\" class=\"dataframe\">\n",
       "  <thead>\n",
       "    <tr style=\"text-align: right;\">\n",
       "      <th></th>\n",
       "      <th>fqn</th>\n",
       "      <th>lines</th>\n",
       "      <th>ratio</th>\n",
       "      <th>base_module</th>\n",
       "    </tr>\n",
       "  </thead>\n",
       "  <tbody>\n",
       "    <tr>\n",
       "      <th>0</th>\n",
       "      <td>org.springframework.samples.petclinic.model.Na...</td>\n",
       "      <td>18</td>\n",
       "      <td>0.8</td>\n",
       "      <td>model</td>\n",
       "    </tr>\n",
       "    <tr>\n",
       "      <th>1</th>\n",
       "      <td>org.springframework.samples.petclinic.model.Sp...</td>\n",
       "      <td>7</td>\n",
       "      <td>1.0</td>\n",
       "      <td>model</td>\n",
       "    </tr>\n",
       "    <tr>\n",
       "      <th>2</th>\n",
       "      <td>org.springframework.samples.petclinic.model.Pe...</td>\n",
       "      <td>7</td>\n",
       "      <td>1.0</td>\n",
       "      <td>model</td>\n",
       "    </tr>\n",
       "    <tr>\n",
       "      <th>3</th>\n",
       "      <td>org.springframework.samples.petclinic.model.Vets</td>\n",
       "      <td>16</td>\n",
       "      <td>0.0</td>\n",
       "      <td>model</td>\n",
       "    </tr>\n",
       "    <tr>\n",
       "      <th>4</th>\n",
       "      <td>org.springframework.samples.petclinic.model.Visit</td>\n",
       "      <td>43</td>\n",
       "      <td>1.0</td>\n",
       "      <td>model</td>\n",
       "    </tr>\n",
       "  </tbody>\n",
       "</table>\n",
       "</div>"
      ],
      "text/plain": [
       "                                                 fqn  lines  ratio base_module\n",
       "0  org.springframework.samples.petclinic.model.Na...     18    0.8       model\n",
       "1  org.springframework.samples.petclinic.model.Sp...      7    1.0       model\n",
       "2  org.springframework.samples.petclinic.model.Pe...      7    1.0       model\n",
       "3   org.springframework.samples.petclinic.model.Vets     16    0.0       model\n",
       "4  org.springframework.samples.petclinic.model.Visit     43    1.0       model"
      ]
     },
     "execution_count": 26,
     "metadata": {},
     "output_type": "execute_result"
    }
   ],
   "source": [
    "module_options['base_module'] = module_options['fqn'].str.split(\".\").str[4]\n",
    "module_options.head()"
   ]
  },
  {
   "cell_type": "markdown",
   "id": "f29c2706",
   "metadata": {},
   "source": [
    "### Add base module information to graph"
   ]
  },
  {
   "cell_type": "code",
   "execution_count": 27,
   "id": "68b01f3e",
   "metadata": {},
   "outputs": [
    {
     "data": {
      "text/html": [
       "<div>\n",
       "<style scoped>\n",
       "    .dataframe tbody tr th:only-of-type {\n",
       "        vertical-align: middle;\n",
       "    }\n",
       "\n",
       "    .dataframe tbody tr th {\n",
       "        vertical-align: top;\n",
       "    }\n",
       "\n",
       "    .dataframe thead th {\n",
       "        text-align: right;\n",
       "    }\n",
       "</style>\n",
       "<table border=\"1\" class=\"dataframe\">\n",
       "  <thead>\n",
       "    <tr style=\"text-align: right;\">\n",
       "      <th></th>\n",
       "      <th>fqn</th>\n",
       "      <th>m.name</th>\n",
       "    </tr>\n",
       "  </thead>\n",
       "  <tbody>\n",
       "    <tr>\n",
       "      <th>0</th>\n",
       "      <td>org.springframework.samples.petclinic.model.Na...</td>\n",
       "      <td>model</td>\n",
       "    </tr>\n",
       "    <tr>\n",
       "      <th>1</th>\n",
       "      <td>org.springframework.samples.petclinic.model.Sp...</td>\n",
       "      <td>model</td>\n",
       "    </tr>\n",
       "    <tr>\n",
       "      <th>2</th>\n",
       "      <td>org.springframework.samples.petclinic.model.Pe...</td>\n",
       "      <td>model</td>\n",
       "    </tr>\n",
       "    <tr>\n",
       "      <th>3</th>\n",
       "      <td>org.springframework.samples.petclinic.model.Vets</td>\n",
       "      <td>model</td>\n",
       "    </tr>\n",
       "    <tr>\n",
       "      <th>4</th>\n",
       "      <td>org.springframework.samples.petclinic.model.Visit</td>\n",
       "      <td>model</td>\n",
       "    </tr>\n",
       "  </tbody>\n",
       "</table>\n",
       "</div>"
      ],
      "text/plain": [
       "                                                 fqn m.name\n",
       "0  org.springframework.samples.petclinic.model.Na...  model\n",
       "1  org.springframework.samples.petclinic.model.Sp...  model\n",
       "2  org.springframework.samples.petclinic.model.Pe...  model\n",
       "3   org.springframework.samples.petclinic.model.Vets  model\n",
       "4  org.springframework.samples.petclinic.model.Visit  model"
      ]
     },
     "execution_count": 27,
     "metadata": {},
     "output_type": "execute_result"
    }
   ],
   "source": [
    "query=\"\"\"\n",
    "    UNWIND {data} as module\n",
    "    MATCH (t:Type {fqn : module.fqn})\n",
    "    MERGE (t)-[:BELONGS_TO]->(m)\n",
    "    SET \n",
    "        m:Base:Module,\n",
    "        m.name = module.base_module\n",
    "    RETURN t.fqn as fqn, m.name\n",
    "\"\"\"\n",
    "session.run(query, data=module_options.to_dict(orient='records')).to_df().head()"
   ]
  },
  {
   "cell_type": "markdown",
   "id": "0248e2a0",
   "metadata": {},
   "source": [
    "### Query for basic statisics"
   ]
  },
  {
   "cell_type": "code",
   "execution_count": 28,
   "id": "a1ba5a63",
   "metadata": {},
   "outputs": [
    {
     "data": {
      "text/html": [
       "<div>\n",
       "<style scoped>\n",
       "    .dataframe tbody tr th:only-of-type {\n",
       "        vertical-align: middle;\n",
       "    }\n",
       "\n",
       "    .dataframe tbody tr th {\n",
       "        vertical-align: top;\n",
       "    }\n",
       "\n",
       "    .dataframe thead th {\n",
       "        text-align: right;\n",
       "    }\n",
       "</style>\n",
       "<table border=\"1\" class=\"dataframe\">\n",
       "  <thead>\n",
       "    <tr style=\"text-align: right;\">\n",
       "      <th></th>\n",
       "      <th>module_name</th>\n",
       "      <th>classes</th>\n",
       "    </tr>\n",
       "  </thead>\n",
       "  <tbody>\n",
       "    <tr>\n",
       "      <th>0</th>\n",
       "      <td>model</td>\n",
       "      <td>9</td>\n",
       "    </tr>\n",
       "    <tr>\n",
       "      <th>1</th>\n",
       "      <td>service</td>\n",
       "      <td>1</td>\n",
       "    </tr>\n",
       "    <tr>\n",
       "      <th>2</th>\n",
       "      <td>web</td>\n",
       "      <td>6</td>\n",
       "    </tr>\n",
       "    <tr>\n",
       "      <th>3</th>\n",
       "      <td>util</td>\n",
       "      <td>1</td>\n",
       "    </tr>\n",
       "    <tr>\n",
       "      <th>4</th>\n",
       "      <td>repository</td>\n",
       "      <td>12</td>\n",
       "    </tr>\n",
       "  </tbody>\n",
       "</table>\n",
       "</div>"
      ],
      "text/plain": [
       "  module_name  classes\n",
       "0       model        9\n",
       "1     service        1\n",
       "2         web        6\n",
       "3        util        1\n",
       "4  repository       12"
      ]
     },
     "execution_count": 28,
     "metadata": {},
     "output_type": "execute_result"
    }
   ],
   "source": [
    "query=\"\"\"\n",
    "    MATCH (t:Type)-[:BELONGS_TO]->(m:Base:Module)\n",
    "    RETURN m.name as module_name, count(t) as classes\n",
    "\"\"\"\n",
    "\n",
    "session.run(query).to_df().head()"
   ]
  },
  {
   "cell_type": "markdown",
   "id": "75e11a25",
   "metadata": {},
   "source": [
    "### Add base module dependencies to graph"
   ]
  },
  {
   "cell_type": "code",
   "execution_count": 29,
   "id": "61a89a8f",
   "metadata": {},
   "outputs": [
    {
     "data": {
      "text/html": [
       "<div>\n",
       "<style scoped>\n",
       "    .dataframe tbody tr th:only-of-type {\n",
       "        vertical-align: middle;\n",
       "    }\n",
       "\n",
       "    .dataframe tbody tr th {\n",
       "        vertical-align: top;\n",
       "    }\n",
       "\n",
       "    .dataframe thead th {\n",
       "        text-align: right;\n",
       "    }\n",
       "</style>\n",
       "<table border=\"1\" class=\"dataframe\">\n",
       "  <thead>\n",
       "    <tr style=\"text-align: right;\">\n",
       "      <th></th>\n",
       "      <th>module</th>\n",
       "      <th>dependent_module</th>\n",
       "      <th>dependencies</th>\n",
       "      <th>lines</th>\n",
       "    </tr>\n",
       "  </thead>\n",
       "  <tbody>\n",
       "    <tr>\n",
       "      <th>0</th>\n",
       "      <td>model</td>\n",
       "      <td>model</td>\n",
       "      <td>12</td>\n",
       "      <td>629</td>\n",
       "    </tr>\n",
       "    <tr>\n",
       "      <th>1</th>\n",
       "      <td>service</td>\n",
       "      <td>model</td>\n",
       "      <td>5</td>\n",
       "      <td>370</td>\n",
       "    </tr>\n",
       "    <tr>\n",
       "      <th>2</th>\n",
       "      <td>web</td>\n",
       "      <td>model</td>\n",
       "      <td>10</td>\n",
       "      <td>510</td>\n",
       "    </tr>\n",
       "    <tr>\n",
       "      <th>3</th>\n",
       "      <td>web</td>\n",
       "      <td>web</td>\n",
       "      <td>1</td>\n",
       "      <td>78</td>\n",
       "    </tr>\n",
       "    <tr>\n",
       "      <th>4</th>\n",
       "      <td>repository</td>\n",
       "      <td>model</td>\n",
       "      <td>18</td>\n",
       "      <td>929</td>\n",
       "    </tr>\n",
       "  </tbody>\n",
       "</table>\n",
       "</div>"
      ],
      "text/plain": [
       "       module dependent_module  dependencies  lines\n",
       "0       model            model            12    629\n",
       "1     service            model             5    370\n",
       "2         web            model            10    510\n",
       "3         web              web             1     78\n",
       "4  repository            model            18    929"
      ]
     },
     "execution_count": 29,
     "metadata": {},
     "output_type": "execute_result"
    }
   ],
   "source": [
    "query = \"\"\"\n",
    "    MATCH (m1:Base:Module)<-[:BELONGS_TO]-(t1:Type)<-[:DEPENDS_ON]-(t2:Type)-[:BELONGS_TO]->(m2:Base:Module)\n",
    "    MERGE (m2)-[:USES]->(m1)\n",
    "    RETURN DISTINCT(m2.name) as module, m1.name as dependent_module, COUNT(t2) as dependencies, SUM(t2.lines) as lines\n",
    "\"\"\"\n",
    "base_module_dependencies = session.run(query).to_df()\n",
    "base_module_dependencies.head()"
   ]
  },
  {
   "cell_type": "markdown",
   "id": "53879e51",
   "metadata": {},
   "source": [
    "### Export data for visualization"
   ]
  },
  {
   "cell_type": "code",
   "execution_count": 30,
   "id": "f14c3ede",
   "metadata": {},
   "outputs": [
    {
     "data": {
      "text/plain": [
       "[['model', 'model', 12, 629],\n",
       " ['service', 'model', 5, 370],\n",
       " ['web', 'model', 10, 510],\n",
       " ['web', 'web', 1, 78],\n",
       " ['repository', 'model', 18, 929],\n",
       " ['repository', 'util', 3, 221],\n",
       " ['repository', 'repository', 9, 465]]"
      ]
     },
     "execution_count": 30,
     "metadata": {},
     "output_type": "execute_result"
    }
   ],
   "source": [
    "import json\n",
    "json_data = base_module_dependencies.to_dict(orient='split')['data']\n",
    "with open ( \"output/chord-diagram.json\", mode='w') as json_file:\n",
    "    json_file.write(json.dumps(json_data, indent=3))\n",
    "json_data"
   ]
  },
  {
   "cell_type": "markdown",
   "id": "06c5d449",
   "metadata": {},
   "source": [
    "### Analyze fan in and fan out"
   ]
  },
  {
   "cell_type": "code",
   "execution_count": 31,
   "id": "ad293b40",
   "metadata": {},
   "outputs": [
    {
     "data": {
      "text/html": [
       "<div>\n",
       "<style scoped>\n",
       "    .dataframe tbody tr th:only-of-type {\n",
       "        vertical-align: middle;\n",
       "    }\n",
       "\n",
       "    .dataframe tbody tr th {\n",
       "        vertical-align: top;\n",
       "    }\n",
       "\n",
       "    .dataframe thead th {\n",
       "        text-align: right;\n",
       "    }\n",
       "</style>\n",
       "<table border=\"1\" class=\"dataframe\">\n",
       "  <thead>\n",
       "    <tr style=\"text-align: right;\">\n",
       "      <th></th>\n",
       "      <th>moduleName</th>\n",
       "      <th>totalTypesInModule</th>\n",
       "      <th>totalFanIn</th>\n",
       "      <th>totalFanOut</th>\n",
       "    </tr>\n",
       "  </thead>\n",
       "  <tbody>\n",
       "    <tr>\n",
       "      <th>0</th>\n",
       "      <td>model</td>\n",
       "      <td>7</td>\n",
       "      <td>55</td>\n",
       "      <td>12</td>\n",
       "    </tr>\n",
       "    <tr>\n",
       "      <th>1</th>\n",
       "      <td>service</td>\n",
       "      <td>1</td>\n",
       "      <td>0</td>\n",
       "      <td>10</td>\n",
       "    </tr>\n",
       "    <tr>\n",
       "      <th>2</th>\n",
       "      <td>web</td>\n",
       "      <td>6</td>\n",
       "      <td>1</td>\n",
       "      <td>16</td>\n",
       "    </tr>\n",
       "    <tr>\n",
       "      <th>3</th>\n",
       "      <td>repository</td>\n",
       "      <td>12</td>\n",
       "      <td>10</td>\n",
       "      <td>41</td>\n",
       "    </tr>\n",
       "  </tbody>\n",
       "</table>\n",
       "</div>"
      ],
      "text/plain": [
       "   moduleName  totalTypesInModule  totalFanIn  totalFanOut\n",
       "0       model                   7          55           12\n",
       "1     service                   1           0           10\n",
       "2         web                   6           1           16\n",
       "3  repository                  12          10           41"
      ]
     },
     "execution_count": 31,
     "metadata": {},
     "output_type": "execute_result"
    }
   ],
   "source": [
    "query=\"\"\"\n",
    "MATCH (t1:Type)-[:BELONGS_TO]->(m1:Module)\n",
    "WITH m1, t1\n",
    "MATCH (t1)-[:DEPENDS_ON]->(t2:Type)\n",
    "WHERE NOT (t2)-[:BELONGS_TO]->(m1)\n",
    "WITH m1, t1, count(DISTINCT t2) AS totalTypes,\n",
    "     size(()-[:DEPENDS_ON]->(t1)) AS fanIn,\n",
    "     size((t1)-[:DEPENDS_ON]->()) AS fanOut\n",
    "RETURN m1.name AS moduleName, \n",
    "       count(DISTINCT t1) AS totalTypesInModule, \n",
    "       sum(fanIn) AS totalFanIn, \n",
    "       sum(fanOut) AS totalFanOut\n",
    "\n",
    "\"\"\"\n",
    "session.run(query).to_df()"
   ]
  },
  {
   "cell_type": "code",
   "execution_count": 32,
   "id": "50a2aa2d",
   "metadata": {},
   "outputs": [
    {
     "data": {
      "text/html": [
       "<div>\n",
       "<style scoped>\n",
       "    .dataframe tbody tr th:only-of-type {\n",
       "        vertical-align: middle;\n",
       "    }\n",
       "\n",
       "    .dataframe tbody tr th {\n",
       "        vertical-align: top;\n",
       "    }\n",
       "\n",
       "    .dataframe thead th {\n",
       "        text-align: right;\n",
       "    }\n",
       "</style>\n",
       "<table border=\"1\" class=\"dataframe\">\n",
       "  <thead>\n",
       "    <tr style=\"text-align: right;\">\n",
       "      <th></th>\n",
       "      <th>module</th>\n",
       "      <th>exposed</th>\n",
       "    </tr>\n",
       "  </thead>\n",
       "  <tbody>\n",
       "  </tbody>\n",
       "</table>\n",
       "</div>"
      ],
      "text/plain": [
       "Empty DataFrame\n",
       "Columns: [module, exposed]\n",
       "Index: []"
      ]
     },
     "execution_count": 32,
     "metadata": {},
     "output_type": "execute_result"
    }
   ],
   "source": [
    "query=\"\"\"\n",
    "    MATCH (currentModule:Domain:Module)<-[:BELONGS_TO]-(dependent:Type)\n",
    "        <-[:DEPENDS_ON]-(dependency:Type)-[:BELONGS_TO]->(otherModule:Domain:Module)\n",
    "    RETURN currentModule.name as module, COUNT(DISTINCT(dependent)) as exposed\n",
    "\"\"\"\n",
    "visible = session.run(query).to_df()        \n",
    "visible"
   ]
  },
  {
   "cell_type": "code",
   "execution_count": 33,
   "id": "5383162d",
   "metadata": {},
   "outputs": [
    {
     "data": {
      "text/html": [
       "<div>\n",
       "<style scoped>\n",
       "    .dataframe tbody tr th:only-of-type {\n",
       "        vertical-align: middle;\n",
       "    }\n",
       "\n",
       "    .dataframe tbody tr th {\n",
       "        vertical-align: top;\n",
       "    }\n",
       "\n",
       "    .dataframe thead th {\n",
       "        text-align: right;\n",
       "    }\n",
       "</style>\n",
       "<table border=\"1\" class=\"dataframe\">\n",
       "  <thead>\n",
       "    <tr style=\"text-align: right;\">\n",
       "      <th></th>\n",
       "      <th>module</th>\n",
       "      <th>hidden</th>\n",
       "    </tr>\n",
       "  </thead>\n",
       "  <tbody>\n",
       "  </tbody>\n",
       "</table>\n",
       "</div>"
      ],
      "text/plain": [
       "Empty DataFrame\n",
       "Columns: [module, hidden]\n",
       "Index: []"
      ]
     },
     "execution_count": 33,
     "metadata": {},
     "output_type": "execute_result"
    }
   ],
   "source": [
    "query=\"\"\"\n",
    "    MATCH (currentModule:Domain:Module)<-[:BELONGS_TO]-(type:Type)\n",
    "    WHERE NOT (type:Type)<-[:DEPENDS_ON]-(:Type)-[:BELONGS_TO]->(:Domain:Module)\n",
    "    RETURN currentModule.name as module, COUNT(DISTINCT(type)) as hidden\n",
    "\"\"\"\n",
    "visible = session.run(query).to_df()        \n",
    "visible"
   ]
  },
  {
   "cell_type": "code",
   "execution_count": 34,
   "id": "b6764aaf",
   "metadata": {},
   "outputs": [
    {
     "data": {
      "text/html": [
       "<div>\n",
       "<style scoped>\n",
       "    .dataframe tbody tr th:only-of-type {\n",
       "        vertical-align: middle;\n",
       "    }\n",
       "\n",
       "    .dataframe tbody tr th {\n",
       "        vertical-align: top;\n",
       "    }\n",
       "\n",
       "    .dataframe thead th {\n",
       "        text-align: right;\n",
       "    }\n",
       "</style>\n",
       "<table border=\"1\" class=\"dataframe\">\n",
       "  <thead>\n",
       "    <tr style=\"text-align: right;\">\n",
       "      <th></th>\n",
       "      <th>module</th>\n",
       "      <th>visible</th>\n",
       "      <th>hidden</th>\n",
       "      <th>SUM(closed) * 1.0 / COUNT(numberOfTypes)*1.0</th>\n",
       "    </tr>\n",
       "  </thead>\n",
       "  <tbody>\n",
       "  </tbody>\n",
       "</table>\n",
       "</div>"
      ],
      "text/plain": [
       "Empty DataFrame\n",
       "Columns: [module, visible, hidden, SUM(closed) * 1.0 / COUNT(numberOfTypes)*1.0]\n",
       "Index: []"
      ]
     },
     "execution_count": 34,
     "metadata": {},
     "output_type": "execute_result"
    }
   ],
   "source": [
    "query=\"\"\"\n",
    "MATCH (currentModule:Domain:Module)<-[:BELONGS_TO]-(type:Type)\n",
    "OPTIONAL MATCH (type)<-[:DEPENDS_ON]-(dependency:Type)-[:BELONGS_TO]->(otherModule:Domain:Module)\n",
    "WITH\n",
    "    currentModule,\n",
    "    COUNT(DISTINCT dependency) as exposed,\n",
    "    SIZE((currentModule)<-[:BELONGS_TO]-(:Type)) as closed,\n",
    "    COUNT(type) as numberOfTypes\n",
    "RETURN DISTINCT(currentModule.name) as module, SUM(exposed) as visible, SUM(closed) as hidden, SUM(closed) * 1.0 / COUNT(numberOfTypes)*1.0\n",
    "\"\"\" \n",
    "visible = session.run(query).to_df()        \n",
    "visible"
   ]
  },
  {
   "cell_type": "markdown",
   "id": "1fbf5a8b",
   "metadata": {},
   "source": [
    "## Explore alternative modularization"
   ]
  },
  {
   "cell_type": "code",
   "execution_count": 35,
   "id": "26c2ccc0",
   "metadata": {},
   "outputs": [
    {
     "data": {
      "text/html": [
       "<div>\n",
       "<style scoped>\n",
       "    .dataframe tbody tr th:only-of-type {\n",
       "        vertical-align: middle;\n",
       "    }\n",
       "\n",
       "    .dataframe tbody tr th {\n",
       "        vertical-align: top;\n",
       "    }\n",
       "\n",
       "    .dataframe thead th {\n",
       "        text-align: right;\n",
       "    }\n",
       "</style>\n",
       "<table border=\"1\" class=\"dataframe\">\n",
       "  <thead>\n",
       "    <tr style=\"text-align: right;\">\n",
       "      <th></th>\n",
       "      <th>fqn</th>\n",
       "      <th>lines</th>\n",
       "      <th>ratio</th>\n",
       "      <th>base_module</th>\n",
       "    </tr>\n",
       "  </thead>\n",
       "  <tbody>\n",
       "    <tr>\n",
       "      <th>0</th>\n",
       "      <td>org.springframework.samples.petclinic.model.Na...</td>\n",
       "      <td>18</td>\n",
       "      <td>0.8</td>\n",
       "      <td>model</td>\n",
       "    </tr>\n",
       "    <tr>\n",
       "      <th>1</th>\n",
       "      <td>org.springframework.samples.petclinic.model.Sp...</td>\n",
       "      <td>7</td>\n",
       "      <td>1.0</td>\n",
       "      <td>model</td>\n",
       "    </tr>\n",
       "    <tr>\n",
       "      <th>2</th>\n",
       "      <td>org.springframework.samples.petclinic.model.Pe...</td>\n",
       "      <td>7</td>\n",
       "      <td>1.0</td>\n",
       "      <td>model</td>\n",
       "    </tr>\n",
       "    <tr>\n",
       "      <th>3</th>\n",
       "      <td>org.springframework.samples.petclinic.model.Vets</td>\n",
       "      <td>16</td>\n",
       "      <td>0.0</td>\n",
       "      <td>model</td>\n",
       "    </tr>\n",
       "    <tr>\n",
       "      <th>4</th>\n",
       "      <td>org.springframework.samples.petclinic.model.Visit</td>\n",
       "      <td>43</td>\n",
       "      <td>1.0</td>\n",
       "      <td>model</td>\n",
       "    </tr>\n",
       "  </tbody>\n",
       "</table>\n",
       "</div>"
      ],
      "text/plain": [
       "                                                 fqn  lines  ratio base_module\n",
       "0  org.springframework.samples.petclinic.model.Na...     18    0.8       model\n",
       "1  org.springframework.samples.petclinic.model.Sp...      7    1.0       model\n",
       "2  org.springframework.samples.petclinic.model.Pe...      7    1.0       model\n",
       "3   org.springframework.samples.petclinic.model.Vets     16    0.0       model\n",
       "4  org.springframework.samples.petclinic.model.Visit     43    1.0       model"
      ]
     },
     "execution_count": 35,
     "metadata": {},
     "output_type": "execute_result"
    }
   ],
   "source": [
    "module_options.head()"
   ]
  },
  {
   "cell_type": "code",
   "execution_count": 36,
   "id": "dc38e7e8",
   "metadata": {},
   "outputs": [
    {
     "data": {
      "text/html": [
       "<div>\n",
       "<style scoped>\n",
       "    .dataframe tbody tr th:only-of-type {\n",
       "        vertical-align: middle;\n",
       "    }\n",
       "\n",
       "    .dataframe tbody tr th {\n",
       "        vertical-align: top;\n",
       "    }\n",
       "\n",
       "    .dataframe thead th {\n",
       "        text-align: right;\n",
       "    }\n",
       "</style>\n",
       "<table border=\"1\" class=\"dataframe\">\n",
       "  <thead>\n",
       "    <tr style=\"text-align: right;\">\n",
       "      <th></th>\n",
       "      <th>fqn</th>\n",
       "      <th>lines</th>\n",
       "      <th>ratio</th>\n",
       "      <th>base_module</th>\n",
       "      <th>domain_part</th>\n",
       "    </tr>\n",
       "  </thead>\n",
       "  <tbody>\n",
       "    <tr>\n",
       "      <th>0</th>\n",
       "      <td>org.springframework.samples.petclinic.model.Na...</td>\n",
       "      <td>18</td>\n",
       "      <td>0.8</td>\n",
       "      <td>model</td>\n",
       "      <td>NaN</td>\n",
       "    </tr>\n",
       "    <tr>\n",
       "      <th>1</th>\n",
       "      <td>org.springframework.samples.petclinic.model.Sp...</td>\n",
       "      <td>7</td>\n",
       "      <td>1.0</td>\n",
       "      <td>model</td>\n",
       "      <td>Specialty</td>\n",
       "    </tr>\n",
       "    <tr>\n",
       "      <th>2</th>\n",
       "      <td>org.springframework.samples.petclinic.model.Pe...</td>\n",
       "      <td>7</td>\n",
       "      <td>1.0</td>\n",
       "      <td>model</td>\n",
       "      <td>Pet</td>\n",
       "    </tr>\n",
       "    <tr>\n",
       "      <th>3</th>\n",
       "      <td>org.springframework.samples.petclinic.model.Vets</td>\n",
       "      <td>16</td>\n",
       "      <td>0.0</td>\n",
       "      <td>model</td>\n",
       "      <td>Vet</td>\n",
       "    </tr>\n",
       "    <tr>\n",
       "      <th>4</th>\n",
       "      <td>org.springframework.samples.petclinic.model.Visit</td>\n",
       "      <td>43</td>\n",
       "      <td>1.0</td>\n",
       "      <td>model</td>\n",
       "      <td>Visit</td>\n",
       "    </tr>\n",
       "  </tbody>\n",
       "</table>\n",
       "</div>"
      ],
      "text/plain": [
       "                                                 fqn  lines  ratio  \\\n",
       "0  org.springframework.samples.petclinic.model.Na...     18    0.8   \n",
       "1  org.springframework.samples.petclinic.model.Sp...      7    1.0   \n",
       "2  org.springframework.samples.petclinic.model.Pe...      7    1.0   \n",
       "3   org.springframework.samples.petclinic.model.Vets     16    0.0   \n",
       "4  org.springframework.samples.petclinic.model.Visit     43    1.0   \n",
       "\n",
       "  base_module domain_part  \n",
       "0       model         NaN  \n",
       "1       model   Specialty  \n",
       "2       model         Pet  \n",
       "3       model         Vet  \n",
       "4       model       Visit  "
      ]
     },
     "execution_count": 36,
     "metadata": {},
     "output_type": "execute_result"
    }
   ],
   "source": [
    "domain_parts = [\"Owner\", \"Pet\", \"Visit\", \"Vet\", \"Specialty\", \"Clinic\"]\n",
    "\n",
    "for domain_part in domain_parts:\n",
    "    module_options.loc[module_options['fqn'].str.contains(domain_part), 'domain_part'] = domain_part\n",
    "\n",
    "module_options.head()"
   ]
  },
  {
   "cell_type": "code",
   "execution_count": 37,
   "id": "f2bc7515",
   "metadata": {},
   "outputs": [
    {
     "data": {
      "text/html": [
       "<div>\n",
       "<style scoped>\n",
       "    .dataframe tbody tr th:only-of-type {\n",
       "        vertical-align: middle;\n",
       "    }\n",
       "\n",
       "    .dataframe tbody tr th {\n",
       "        vertical-align: top;\n",
       "    }\n",
       "\n",
       "    .dataframe thead th {\n",
       "        text-align: right;\n",
       "    }\n",
       "</style>\n",
       "<table border=\"1\" class=\"dataframe\">\n",
       "  <thead>\n",
       "    <tr style=\"text-align: right;\">\n",
       "      <th></th>\n",
       "      <th>fqn</th>\n",
       "      <th>lines</th>\n",
       "      <th>ratio</th>\n",
       "      <th>base_module</th>\n",
       "      <th>domain_part</th>\n",
       "      <th>domain</th>\n",
       "    </tr>\n",
       "  </thead>\n",
       "  <tbody>\n",
       "    <tr>\n",
       "      <th>0</th>\n",
       "      <td>org.springframework.samples.petclinic.model.Na...</td>\n",
       "      <td>18</td>\n",
       "      <td>0.8</td>\n",
       "      <td>model</td>\n",
       "      <td>NaN</td>\n",
       "      <td>Framework</td>\n",
       "    </tr>\n",
       "    <tr>\n",
       "      <th>1</th>\n",
       "      <td>org.springframework.samples.petclinic.model.Sp...</td>\n",
       "      <td>7</td>\n",
       "      <td>1.0</td>\n",
       "      <td>model</td>\n",
       "      <td>Specialty</td>\n",
       "      <td>Doctor</td>\n",
       "    </tr>\n",
       "    <tr>\n",
       "      <th>2</th>\n",
       "      <td>org.springframework.samples.petclinic.model.Pe...</td>\n",
       "      <td>7</td>\n",
       "      <td>1.0</td>\n",
       "      <td>model</td>\n",
       "      <td>Pet</td>\n",
       "      <td>Patient</td>\n",
       "    </tr>\n",
       "    <tr>\n",
       "      <th>3</th>\n",
       "      <td>org.springframework.samples.petclinic.model.Vets</td>\n",
       "      <td>16</td>\n",
       "      <td>0.0</td>\n",
       "      <td>model</td>\n",
       "      <td>Vet</td>\n",
       "      <td>Doctor</td>\n",
       "    </tr>\n",
       "    <tr>\n",
       "      <th>4</th>\n",
       "      <td>org.springframework.samples.petclinic.model.Visit</td>\n",
       "      <td>43</td>\n",
       "      <td>1.0</td>\n",
       "      <td>model</td>\n",
       "      <td>Visit</td>\n",
       "      <td>Checkup</td>\n",
       "    </tr>\n",
       "  </tbody>\n",
       "</table>\n",
       "</div>"
      ],
      "text/plain": [
       "                                                 fqn  lines  ratio  \\\n",
       "0  org.springframework.samples.petclinic.model.Na...     18    0.8   \n",
       "1  org.springframework.samples.petclinic.model.Sp...      7    1.0   \n",
       "2  org.springframework.samples.petclinic.model.Pe...      7    1.0   \n",
       "3   org.springframework.samples.petclinic.model.Vets     16    0.0   \n",
       "4  org.springframework.samples.petclinic.model.Visit     43    1.0   \n",
       "\n",
       "  base_module domain_part     domain  \n",
       "0       model         NaN  Framework  \n",
       "1       model   Specialty     Doctor  \n",
       "2       model         Pet    Patient  \n",
       "3       model         Vet     Doctor  \n",
       "4       model       Visit    Checkup  "
      ]
     },
     "execution_count": 37,
     "metadata": {},
     "output_type": "execute_result"
    }
   ],
   "source": [
    "domain_part_mapping = {\n",
    "    \"Visit\" : \"Checkup\",\n",
    "    \"Pet\" : \"Patient\",\n",
    "    \"Owner\" : \"Patient\",\n",
    "    \"Vet\" : \"Doctor\",\n",
    "    \"Specialty\" : \"Doctor\"\n",
    "} \n",
    "    \n",
    "module_options['domain'] = module_options['domain_part'].map(domain_part_mapping).fillna(\"Framework\")\n",
    "module_options.head()"
   ]
  },
  {
   "cell_type": "code",
   "execution_count": 38,
   "id": "279bae2f",
   "metadata": {},
   "outputs": [
    {
     "data": {
      "text/html": [
       "<div>\n",
       "<style scoped>\n",
       "    .dataframe tbody tr th:only-of-type {\n",
       "        vertical-align: middle;\n",
       "    }\n",
       "\n",
       "    .dataframe tbody tr th {\n",
       "        vertical-align: top;\n",
       "    }\n",
       "\n",
       "    .dataframe thead th {\n",
       "        text-align: right;\n",
       "    }\n",
       "</style>\n",
       "<table border=\"1\" class=\"dataframe\">\n",
       "  <thead>\n",
       "    <tr style=\"text-align: right;\">\n",
       "      <th></th>\n",
       "      <th>fqn</th>\n",
       "      <th>m.name</th>\n",
       "    </tr>\n",
       "  </thead>\n",
       "  <tbody>\n",
       "    <tr>\n",
       "      <th>0</th>\n",
       "      <td>org.springframework.samples.petclinic.model.Na...</td>\n",
       "      <td>Framework</td>\n",
       "    </tr>\n",
       "    <tr>\n",
       "      <th>1</th>\n",
       "      <td>org.springframework.samples.petclinic.model.Sp...</td>\n",
       "      <td>Doctor</td>\n",
       "    </tr>\n",
       "    <tr>\n",
       "      <th>2</th>\n",
       "      <td>org.springframework.samples.petclinic.model.Pe...</td>\n",
       "      <td>Patient</td>\n",
       "    </tr>\n",
       "    <tr>\n",
       "      <th>3</th>\n",
       "      <td>org.springframework.samples.petclinic.model.Vets</td>\n",
       "      <td>Doctor</td>\n",
       "    </tr>\n",
       "    <tr>\n",
       "      <th>4</th>\n",
       "      <td>org.springframework.samples.petclinic.model.Visit</td>\n",
       "      <td>Checkup</td>\n",
       "    </tr>\n",
       "  </tbody>\n",
       "</table>\n",
       "</div>"
      ],
      "text/plain": [
       "                                                 fqn     m.name\n",
       "0  org.springframework.samples.petclinic.model.Na...  Framework\n",
       "1  org.springframework.samples.petclinic.model.Sp...     Doctor\n",
       "2  org.springframework.samples.petclinic.model.Pe...    Patient\n",
       "3   org.springframework.samples.petclinic.model.Vets     Doctor\n",
       "4  org.springframework.samples.petclinic.model.Visit    Checkup"
      ]
     },
     "execution_count": 38,
     "metadata": {},
     "output_type": "execute_result"
    }
   ],
   "source": [
    "query=\"\"\"\n",
    "    UNWIND {data} as module\n",
    "    MATCH (t:Type {fqn : module.fqn})\n",
    "    MERGE (t)-[:BELONGS_TO]->(m)\n",
    "    SET \n",
    "        m:Domain:Module,\n",
    "        m.name = module.domain\n",
    "    RETURN t.fqn as fqn, m.name\n",
    "\"\"\"\n",
    "\n",
    "session.run(query, data=module_options.to_dict(orient='records')).to_df().head()"
   ]
  },
  {
   "cell_type": "markdown",
   "id": "87707212",
   "metadata": {},
   "source": [
    "### Add base module dependencies to graph"
   ]
  },
  {
   "cell_type": "code",
   "execution_count": 39,
   "id": "e60a0a0d",
   "metadata": {},
   "outputs": [
    {
     "data": {
      "text/html": [
       "<div>\n",
       "<style scoped>\n",
       "    .dataframe tbody tr th:only-of-type {\n",
       "        vertical-align: middle;\n",
       "    }\n",
       "\n",
       "    .dataframe tbody tr th {\n",
       "        vertical-align: top;\n",
       "    }\n",
       "\n",
       "    .dataframe thead th {\n",
       "        text-align: right;\n",
       "    }\n",
       "</style>\n",
       "<table border=\"1\" class=\"dataframe\">\n",
       "  <thead>\n",
       "    <tr style=\"text-align: right;\">\n",
       "      <th></th>\n",
       "      <th>module</th>\n",
       "      <th>dependent_module</th>\n",
       "      <th>dependencies</th>\n",
       "      <th>lines</th>\n",
       "    </tr>\n",
       "  </thead>\n",
       "  <tbody>\n",
       "    <tr>\n",
       "      <th>0</th>\n",
       "      <td>Doctor</td>\n",
       "      <td>Doctor</td>\n",
       "      <td>6</td>\n",
       "      <td>213</td>\n",
       "    </tr>\n",
       "    <tr>\n",
       "      <th>1</th>\n",
       "      <td>Checkup</td>\n",
       "      <td>Patient</td>\n",
       "      <td>7</td>\n",
       "      <td>303</td>\n",
       "    </tr>\n",
       "    <tr>\n",
       "      <th>2</th>\n",
       "      <td>Patient</td>\n",
       "      <td>Patient</td>\n",
       "      <td>23</td>\n",
       "      <td>1458</td>\n",
       "    </tr>\n",
       "    <tr>\n",
       "      <th>3</th>\n",
       "      <td>Patient</td>\n",
       "      <td>Framework</td>\n",
       "      <td>5</td>\n",
       "      <td>345</td>\n",
       "    </tr>\n",
       "    <tr>\n",
       "      <th>4</th>\n",
       "      <td>Patient</td>\n",
       "      <td>Checkup</td>\n",
       "      <td>2</td>\n",
       "      <td>167</td>\n",
       "    </tr>\n",
       "  </tbody>\n",
       "</table>\n",
       "</div>"
      ],
      "text/plain": [
       "    module dependent_module  dependencies  lines\n",
       "0   Doctor           Doctor             6    213\n",
       "1  Checkup          Patient             7    303\n",
       "2  Patient          Patient            23   1458\n",
       "3  Patient        Framework             5    345\n",
       "4  Patient          Checkup             2    167"
      ]
     },
     "execution_count": 39,
     "metadata": {},
     "output_type": "execute_result"
    }
   ],
   "source": [
    "query = \"\"\"\n",
    "    MATCH (m1:Domain:Module)<-[:BELONGS_TO]-(t1:Type)<-[:DEPENDS_ON]-(t2:Type)-[:BELONGS_TO]->(m2:Domain:Module)\n",
    "    MERGE (m2)-[:USES]->(m1)\n",
    "    RETURN DISTINCT(m2.name) as module, m1.name as dependent_module, COUNT(t2) as dependencies, SUM(t2.lines) as lines\n",
    "\"\"\"\n",
    "domain_module_dependencies = session.run(query).to_df()\n",
    "domain_module_dependencies.head()"
   ]
  },
  {
   "cell_type": "code",
   "execution_count": 40,
   "id": "66c48b23",
   "metadata": {},
   "outputs": [
    {
     "data": {
      "text/html": [
       "<div>\n",
       "<style scoped>\n",
       "    .dataframe tbody tr th:only-of-type {\n",
       "        vertical-align: middle;\n",
       "    }\n",
       "\n",
       "    .dataframe tbody tr th {\n",
       "        vertical-align: top;\n",
       "    }\n",
       "\n",
       "    .dataframe thead th {\n",
       "        text-align: right;\n",
       "    }\n",
       "</style>\n",
       "<table border=\"1\" class=\"dataframe\">\n",
       "  <thead>\n",
       "    <tr style=\"text-align: right;\">\n",
       "      <th></th>\n",
       "      <th>moduleName</th>\n",
       "      <th>totalTypesInModule</th>\n",
       "      <th>totalFanIn</th>\n",
       "      <th>totalFanOut</th>\n",
       "    </tr>\n",
       "  </thead>\n",
       "  <tbody>\n",
       "    <tr>\n",
       "      <th>0</th>\n",
       "      <td>Doctor</td>\n",
       "      <td>6</td>\n",
       "      <td>11</td>\n",
       "      <td>13</td>\n",
       "    </tr>\n",
       "    <tr>\n",
       "      <th>1</th>\n",
       "      <td>Checkup</td>\n",
       "      <td>6</td>\n",
       "      <td>13</td>\n",
       "      <td>18</td>\n",
       "    </tr>\n",
       "    <tr>\n",
       "      <th>2</th>\n",
       "      <td>Patient</td>\n",
       "      <td>13</td>\n",
       "      <td>42</td>\n",
       "      <td>38</td>\n",
       "    </tr>\n",
       "    <tr>\n",
       "      <th>3</th>\n",
       "      <td>Framework</td>\n",
       "      <td>1</td>\n",
       "      <td>0</td>\n",
       "      <td>10</td>\n",
       "    </tr>\n",
       "  </tbody>\n",
       "</table>\n",
       "</div>"
      ],
      "text/plain": [
       "  moduleName  totalTypesInModule  totalFanIn  totalFanOut\n",
       "0     Doctor                   6          11           13\n",
       "1    Checkup                   6          13           18\n",
       "2    Patient                  13          42           38\n",
       "3  Framework                   1           0           10"
      ]
     },
     "execution_count": 40,
     "metadata": {},
     "output_type": "execute_result"
    }
   ],
   "source": [
    "query=\"\"\"\n",
    "MATCH (t1:Type)-[:BELONGS_TO]->(m1:Domain:Module)\n",
    "WITH m1, t1\n",
    "MATCH (t1)-[:DEPENDS_ON]->(t2:Type)\n",
    "WHERE NOT (t2)-[:BELONGS_TO]->(m1)\n",
    "WITH m1, t1, count(DISTINCT t2) AS totalTypes,\n",
    "     size(()-[:DEPENDS_ON]->(t1)) AS fanIn,\n",
    "     size((t1)-[:DEPENDS_ON]->()) AS fanOut\n",
    "RETURN m1.name AS moduleName, \n",
    "       count(DISTINCT t1) AS totalTypesInModule, \n",
    "       sum(fanIn) AS totalFanIn, \n",
    "       sum(fanOut) AS totalFanOut\n",
    "\n",
    "\"\"\"\n",
    "session.run(query).to_df()"
   ]
  },
  {
   "cell_type": "code",
   "execution_count": 41,
   "id": "4adc809d",
   "metadata": {},
   "outputs": [
    {
     "data": {
      "text/html": [
       "<div>\n",
       "<style scoped>\n",
       "    .dataframe tbody tr th:only-of-type {\n",
       "        vertical-align: middle;\n",
       "    }\n",
       "\n",
       "    .dataframe tbody tr th {\n",
       "        vertical-align: top;\n",
       "    }\n",
       "\n",
       "    .dataframe thead th {\n",
       "        text-align: right;\n",
       "    }\n",
       "</style>\n",
       "<table border=\"1\" class=\"dataframe\">\n",
       "  <thead>\n",
       "    <tr style=\"text-align: right;\">\n",
       "      <th></th>\n",
       "      <th>module_name</th>\n",
       "      <th>classes</th>\n",
       "    </tr>\n",
       "  </thead>\n",
       "  <tbody>\n",
       "    <tr>\n",
       "      <th>0</th>\n",
       "      <td>Doctor</td>\n",
       "      <td>6</td>\n",
       "    </tr>\n",
       "    <tr>\n",
       "      <th>1</th>\n",
       "      <td>Checkup</td>\n",
       "      <td>6</td>\n",
       "    </tr>\n",
       "    <tr>\n",
       "      <th>2</th>\n",
       "      <td>Framework</td>\n",
       "      <td>4</td>\n",
       "    </tr>\n",
       "    <tr>\n",
       "      <th>3</th>\n",
       "      <td>Patient</td>\n",
       "      <td>13</td>\n",
       "    </tr>\n",
       "  </tbody>\n",
       "</table>\n",
       "</div>"
      ],
      "text/plain": [
       "  module_name  classes\n",
       "0      Doctor        6\n",
       "1     Checkup        6\n",
       "2   Framework        4\n",
       "3     Patient       13"
      ]
     },
     "execution_count": 41,
     "metadata": {},
     "output_type": "execute_result"
    }
   ],
   "source": [
    "query=\"\"\"\n",
    "    MATCH (t:Type)-[:BELONGS_TO]->(m:Domain:Module)\n",
    "    RETURN m.name as module_name, count(t) as classes\n",
    "\"\"\"\n",
    "\n",
    "session.run(query).to_df().head()"
   ]
  },
  {
   "cell_type": "markdown",
   "id": "6ba0a11d",
   "metadata": {},
   "source": [
    "### Add base module dependencies to graph"
   ]
  },
  {
   "cell_type": "code",
   "execution_count": 42,
   "id": "44f237dc",
   "metadata": {},
   "outputs": [
    {
     "data": {
      "text/plain": [
       "[['Doctor', 'Doctor', 6],\n",
       " ['Checkup', 'Patient', 7],\n",
       " ['Patient', 'Patient', 23],\n",
       " ['Patient', 'Framework', 5],\n",
       " ['Patient', 'Checkup', 2],\n",
       " ['Doctor', 'Framework', 3],\n",
       " ['Framework', 'Patient', 3],\n",
       " ['Framework', 'Doctor', 1],\n",
       " ['Framework', 'Checkup', 1],\n",
       " ['Checkup', 'Checkup', 7]]"
      ]
     },
     "execution_count": 42,
     "metadata": {},
     "output_type": "execute_result"
    }
   ],
   "source": [
    "query = \"\"\"\n",
    "    MATCH (m1:Domain:Module)<-[:BELONGS_TO]-(t1:Type)<-[:DEPENDS_ON]-(t2:Type)-[:BELONGS_TO]->(m2:Domain:Module)\n",
    "    RETURN DISTINCT(m2.name) as module, m1.name as dependent_module, COUNT(t2) as dependencies\n",
    "\"\"\"\n",
    "domain_module_dependencies = session.run(query).to_df()\n",
    "json_data = domain_module_dependencies.to_dict(orient='split')['data']\n",
    "with open ( \"output/chord-diagram.json\", mode='w') as json_file:\n",
    "    json_file.write(json.dumps(json_data, indent=3))\n",
    "json_data"
   ]
  },
  {
   "cell_type": "markdown",
   "id": "218b1d96",
   "metadata": {},
   "source": [
    "### Prepare results for dependency analysis"
   ]
  },
  {
   "cell_type": "code",
   "execution_count": 43,
   "id": "c2dac921",
   "metadata": {},
   "outputs": [
    {
     "name": "stdout",
     "output_type": "stream",
     "text": [
      "[]\n"
     ]
    }
   ],
   "source": [
    "query=\"\"\"\n",
    "MATCH (m:Domain:Module)-[:DEPENDS_ON]->(m_dep:Domain:Module)\n",
    "RETURN m.name as name, COLLECT(DISTINCT m_dep.name) as imports\n",
    "\"\"\"\n",
    "\n",
    "json_data = session.run(query).to_df().to_json(orient=\"records\")\n",
    "print(json_data[:200])"
   ]
  },
  {
   "cell_type": "markdown",
   "id": "7fd47b2a",
   "metadata": {},
   "source": [
    "### Visualize dependencies"
   ]
  },
  {
   "cell_type": "code",
   "execution_count": 44,
   "id": "479ce0fb",
   "metadata": {},
   "outputs": [],
   "source": [
    "with open ( \"output/hierarchical-edge-bundling.json\", mode='w') as json_file:\n",
    "    json_file.write(json_data)"
   ]
  },
  {
   "cell_type": "markdown",
   "id": "628a70aa",
   "metadata": {},
   "source": [
    "### Show link for visualization\n",
    "<a href=\"vis/hierarchical-edge-bundling.html\">hierarchical-edge-bundling.html</a>"
   ]
  }
 ],
 "metadata": {
  "kernelspec": {
   "display_name": "Python 3 (ipykernel)",
   "language": "python",
   "name": "python3"
  },
  "language_info": {
   "codemirror_mode": {
    "name": "ipython",
    "version": 3
   },
   "file_extension": ".py",
   "mimetype": "text/x-python",
   "name": "python",
   "nbconvert_exporter": "python",
   "pygments_lexer": "ipython3",
   "version": "3.9.7"
  }
 },
 "nbformat": 4,
 "nbformat_minor": 5
}
