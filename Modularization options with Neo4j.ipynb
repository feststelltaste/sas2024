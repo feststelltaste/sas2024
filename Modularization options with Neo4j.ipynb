{
 "cells": [
  {
   "cell_type": "markdown",
   "id": "834ff306",
   "metadata": {},
   "source": [
    "# Modularization options with Neo4j (executed)\n",
    "\n",
    "Short demo notebook that integrates various data sources into one graph via the Neo4j graph database."
   ]
  },
  {
   "cell_type": "markdown",
   "id": "d1e35219",
   "metadata": {},
   "source": [
    "## Show current package structure"
   ]
  },
  {
   "cell_type": "code",
   "execution_count": null,
   "id": "bc9325cb",
   "metadata": {},
   "outputs": [],
   "source": [
    "%%bash\n",
    "tree ./spring-framework-petclinic/src/main/java/"
   ]
  },
  {
   "cell_type": "markdown",
   "id": "2547501f",
   "metadata": {},
   "source": [
    "## Set up connection to Neo4J\n",
    "Needs a running Neo4j instance in the background"
   ]
  },
  {
   "cell_type": "markdown",
   "id": "28cd5b24",
   "metadata": {},
   "source": [
    "### Esablish connection to Neo4j graph database"
   ]
  },
  {
   "cell_type": "code",
   "execution_count": null,
   "id": "28462fc2",
   "metadata": {},
   "outputs": [],
   "source": [
    "from neo4j import GraphDatabase\n",
    "\n",
    "URI = \"bolt://localhost\"\n",
    "AUTH = (\"neo4j\", \"neo4j\")\n",
    "\n",
    "driver = GraphDatabase.driver(URI, auth=AUTH)\n",
    "driver.verify_connectivity()\n",
    "session = driver.session()"
   ]
  },
  {
   "cell_type": "markdown",
   "id": "5e38f4ae",
   "metadata": {},
   "source": [
    "Clean data from previous run"
   ]
  },
  {
   "cell_type": "code",
   "execution_count": null,
   "id": "d8ae598a",
   "metadata": {},
   "outputs": [],
   "source": [
    "query=\"\"\"\n",
    "MATCH (a) -[r] -> () DELETE a, r\n",
    "\"\"\"\n",
    "session.run(query);"
   ]
  },
  {
   "cell_type": "code",
   "execution_count": null,
   "id": "a68b6366",
   "metadata": {},
   "outputs": [],
   "source": [
    "query=\"\"\"\n",
    "   MATCH (a) DELETE a\n",
    "\"\"\"\n",
    "session.run(query);"
   ]
  },
  {
   "cell_type": "markdown",
   "id": "9e5ecd3f",
   "metadata": {},
   "source": [
    "# Data import"
   ]
  },
  {
   "cell_type": "markdown",
   "id": "d164dac2",
   "metadata": {},
   "source": [
    "## Import dependencies (from jdeps)"
   ]
  },
  {
   "cell_type": "markdown",
   "id": "9868271e",
   "metadata": {},
   "source": [
    "### Generating dataset\n",
    "\n",
    "You can generate this kind of data with any tool that can show you dependencies between your classes. E.g. in Java, using `jdeps`:\n",
    "    \n",
    "    \n",
    "`jdeps -e 'org.springframework.samples.petclinic.*' -v target/classes/ > spring_petclinic_deps.txt`\n",
    "\n",
    "*Vorsicht: `jdeps` ist nur eine Annäherung an die Abhängigkeiten. Z. B. werden hier Typen, die in Generics verwendet werden, nicht angezeigt.*"
   ]
  },
  {
   "cell_type": "markdown",
   "id": "57b338a0",
   "metadata": {},
   "source": [
    "### Show dataset"
   ]
  },
  {
   "cell_type": "code",
   "execution_count": null,
   "id": "2f46cee5",
   "metadata": {},
   "outputs": [],
   "source": [
    "!head data/spring_petclinic_deps.txt"
   ]
  },
  {
   "cell_type": "markdown",
   "id": "dbd01617",
   "metadata": {},
   "source": [
    "### Import dataset to pandas"
   ]
  },
  {
   "cell_type": "code",
   "execution_count": null,
   "id": "5efea052",
   "metadata": {},
   "outputs": [],
   "source": [
    "import pandas as pd\n",
    "\n",
    "deps = pd.read_csv(\"data/spring_petclinic_deps.txt\", names=[\"raw\"], sep=\"\\r\")\n",
    "deps.head()"
   ]
  },
  {
   "cell_type": "markdown",
   "id": "8d1e8774",
   "metadata": {},
   "source": [
    "### Normalize data\n",
    "*(always a messy thing...)*"
   ]
  },
  {
   "cell_type": "code",
   "execution_count": null,
   "id": "1c6b1c36",
   "metadata": {
    "scrolled": true
   },
   "outputs": [],
   "source": [
    "# class entries begin with three whitespaces\n",
    "deps = deps[deps['raw'].str.startswith(\"   \")]\n",
    "# separates the source from the target\n",
    "splitted = deps['raw'].str.split(\"->\", n=1, expand=True)\n",
    "# remove whitespaces from source and get rid of inner classes\n",
    "deps['from'] = splitted[0].str.strip().str.split(\"\\$\").str[0]\n",
    "# get the target and the artifact names\n",
    "splitted_2 = splitted[1].str.split(\" \", n=2)\n",
    "# get also rid of inner classes\n",
    "deps['to'] = splitted_2.str[1].str.split(\"\\$\").str[0]\n",
    "deps['type'] = splitted_2.str[2].str.strip()\n",
    "deps['name'] = deps['from'].str.split(\".\").str[-1]\n",
    "deps.head()"
   ]
  },
  {
   "cell_type": "markdown",
   "id": "d1aadcb8",
   "metadata": {},
   "source": [
    "### Transform data for source code file names into dictionary\n",
    "To load data into Neo4j, we need a dict-like data structure. We also drop duplicated entries to avoid nodes with the same data."
   ]
  },
  {
   "cell_type": "code",
   "execution_count": null,
   "id": "fec364c2",
   "metadata": {},
   "outputs": [],
   "source": [
    "names_data = deps[['from', 'name']].drop_duplicates().to_dict(orient='records')\n",
    "names_data[:5]"
   ]
  },
  {
   "cell_type": "markdown",
   "id": "3e4d7026",
   "metadata": {},
   "source": [
    "### Import data into Neo4j"
   ]
  },
  {
   "cell_type": "code",
   "execution_count": null,
   "id": "82f67b2e",
   "metadata": {},
   "outputs": [],
   "source": [
    "query=\"\"\"\n",
    "    UNWIND $data as dep_name\n",
    "    CREATE (t:Type)\n",
    "    SET\n",
    "        t.fqn = dep_name.from,\n",
    "        t.name = dep_name.name\n",
    "    RETURN t.fqn, t.name\n",
    "\"\"\"\n",
    "session.run(query, data=names_data).to_df().head()"
   ]
  },
  {
   "cell_type": "markdown",
   "id": "780e24b4",
   "metadata": {},
   "source": [
    "### Create index for `fqn` for faster queries\n",
    "support older and newer versions of Neo4j while creating the index"
   ]
  },
  {
   "cell_type": "code",
   "execution_count": null,
   "id": "1cebee2d",
   "metadata": {},
   "outputs": [],
   "source": [
    "query = \"\"\n",
    "\n",
    "if driver.get_server_info().protocol_version[0] <= 3:\n",
    "    query = \"CREATE INDEX ON :Type(fqn)\"\n",
    "else:\n",
    "    query = \"CREATE INDEX FOR (t:Type) ON (t.fqn)\"\n",
    "    \n",
    "session.run(query);"
   ]
  },
  {
   "cell_type": "markdown",
   "id": "4efdf8ab",
   "metadata": {},
   "source": [
    "### Transform data for dependencies into a dictionary"
   ]
  },
  {
   "cell_type": "code",
   "execution_count": null,
   "id": "87511d55",
   "metadata": {},
   "outputs": [],
   "source": [
    "deps_data = deps[['from', 'to']].to_dict(orient='records')\n",
    "deps_data[:3]"
   ]
  },
  {
   "cell_type": "markdown",
   "id": "f36502e9",
   "metadata": {},
   "source": [
    "### Connect nodes that depend on each other"
   ]
  },
  {
   "cell_type": "code",
   "execution_count": null,
   "id": "e2e6ee8e",
   "metadata": {
    "scrolled": true
   },
   "outputs": [],
   "source": [
    "query=\"\"\"\n",
    "    UNWIND $data as dep\n",
    "    MATCH (from:Type {fqn : dep.from})\n",
    "    MATCH (to:Type {fqn: dep.to})\n",
    "    MERGE (from)-[:DEPENDS_ON]->(to)\n",
    "    RETURN from.fqn, to.fqn\n",
    "\"\"\"\n",
    "session.run(query, data=deps_data).to_df().head()"
   ]
  },
  {
   "cell_type": "markdown",
   "id": "b926d42a",
   "metadata": {},
   "source": [
    "### Prepare results for dependency analysis"
   ]
  },
  {
   "cell_type": "code",
   "execution_count": null,
   "id": "51f838c2",
   "metadata": {},
   "outputs": [],
   "source": [
    "import json\n",
    "query=\"\"\"\n",
    "    MATCH (t:Type)\n",
    "    WITH DISTINCT t\n",
    "    MATCH (type)-[:DEPENDS_ON*0..1]->(directDependency:Type)\n",
    "    RETURN type.fqn as name, COLLECT(DISTINCT directDependency.fqn) as imports\n",
    "\"\"\"\n",
    "\n",
    "json_data = session.run(query).to_df().to_json(orient=\"records\")\n",
    "print(json.dumps(json.loads(json_data), indent=4)[:500] + \"\\n...\")"
   ]
  },
  {
   "cell_type": "markdown",
   "id": "cecddcd4",
   "metadata": {},
   "source": [
    "### Visualize dependencies"
   ]
  },
  {
   "cell_type": "code",
   "execution_count": null,
   "id": "b07c8c41",
   "metadata": {},
   "outputs": [],
   "source": [
    "from IPython.core.display import HTML\n",
    "\n",
    "with open(\"vis/template_hierarchical_edge_bundling_d3_inline.html\") as html_template:\n",
    "    html = html_template.read().replace(\"###JSON###\", str(json_data))\n",
    "\n",
    "    with open(f'output/source_code_file_dependencies.html', mode='w') as html_out:\n",
    "        html_out.write(html)\n",
    "\n",
    "HTML('<a href=\"output/source_code_file_dependencies.html\" target=\"_blank\">Source Code Files Dependencies</a>')"
   ]
  },
  {
   "cell_type": "markdown",
   "id": "7037f1bb",
   "metadata": {},
   "source": [
    "## Import lines of code information"
   ]
  },
  {
   "cell_type": "markdown",
   "id": "8a24d403",
   "metadata": {},
   "source": [
    "### Generate dataset\n",
    "\n",
    "You can generate this data for various source code projects e.g. via `cloc`:\n",
    "\n",
    "`src/main/java/cloc . --by-file --quiet --csv --out spring_petclinic_cloc.csv`\n"
   ]
  },
  {
   "cell_type": "markdown",
   "id": "6e295ff8",
   "metadata": {},
   "source": [
    "### Show dataset"
   ]
  },
  {
   "cell_type": "code",
   "execution_count": null,
   "id": "f9f4ba76",
   "metadata": {},
   "outputs": [],
   "source": [
    "!head data/spring_petclinic_cloc.csv"
   ]
  },
  {
   "cell_type": "markdown",
   "id": "997fcabe",
   "metadata": {},
   "source": [
    "### Import data"
   ]
  },
  {
   "cell_type": "code",
   "execution_count": null,
   "id": "5e11f9dd",
   "metadata": {},
   "outputs": [],
   "source": [
    "cloc = pd.read_csv(\"data/spring_petclinic_cloc.csv\")[:-1].copy()\n",
    "cloc.tail()"
   ]
  },
  {
   "cell_type": "markdown",
   "id": "a5dfdf83",
   "metadata": {},
   "source": [
    "### Normalize data\n",
    "`cloc` delivers paths, but we need a full qualified name (\"fqn\") that matches with exiting data."
   ]
  },
  {
   "cell_type": "code",
   "execution_count": null,
   "id": "54b39a23",
   "metadata": {},
   "outputs": [],
   "source": [
    "cloc['fqn'] = cloc['filename'].str.replace(\"./\", \"\", regex=False)\\\n",
    "                              .str.replace(\"/\",\".\", regex=False)\\\n",
    "                              .str.replace(\".java\",\"\", regex=False)\n",
    "cloc.head()"
   ]
  },
  {
   "cell_type": "markdown",
   "id": "88b4de8d",
   "metadata": {},
   "source": [
    "### Generate dictionary"
   ]
  },
  {
   "cell_type": "code",
   "execution_count": null,
   "id": "1d3a2154",
   "metadata": {},
   "outputs": [],
   "source": [
    "cloc_data = cloc.to_dict(orient='records')\n",
    "cloc_data[:2]"
   ]
  },
  {
   "cell_type": "markdown",
   "id": "3dbcf220",
   "metadata": {},
   "source": [
    "### Import into Neo4j"
   ]
  },
  {
   "cell_type": "code",
   "execution_count": null,
   "id": "1b795fc7",
   "metadata": {},
   "outputs": [],
   "source": [
    "query=\"\"\"\n",
    "    UNWIND $data as loc\n",
    "    MATCH (t:Type {fqn : loc.fqn})\n",
    "    SET\n",
    "        t.lines = loc.code,\n",
    "        t.comments = loc.comment,\n",
    "        t.blanks = loc.blank\n",
    "    RETURN t.fqn, t.name, t.lines, t.comments, t.blanks\n",
    "\"\"\"\n",
    "\n",
    "session.run(query, data=cloc_data).to_df().head()"
   ]
  },
  {
   "cell_type": "markdown",
   "id": "47cba5cc",
   "metadata": {},
   "source": [
    "## Import usage data"
   ]
  },
  {
   "cell_type": "markdown",
   "id": "f036f654",
   "metadata": {},
   "source": [
    "### Generate dataset\n",
    "\n",
    "E.g. via coverage tools like JaCoCo you can get a glimpse on what's happening during the usage of your application.\n",
    "\n",
    "See here for more details: https://www.feststelltaste.de/visualizing-production-coverage-with-jacoco-pandas-and-d3/"
   ]
  },
  {
   "cell_type": "markdown",
   "id": "c971ee30",
   "metadata": {},
   "source": [
    "### Show dataset"
   ]
  },
  {
   "cell_type": "code",
   "execution_count": null,
   "id": "c9439db2",
   "metadata": {},
   "outputs": [],
   "source": [
    "!head data/spring_petclinic_production_coverage_data.csv"
   ]
  },
  {
   "cell_type": "markdown",
   "id": "5e7baf4b",
   "metadata": {},
   "source": [
    "### Import dataset"
   ]
  },
  {
   "cell_type": "code",
   "execution_count": null,
   "id": "758742cb",
   "metadata": {},
   "outputs": [],
   "source": [
    "coverage = pd.read_csv(\"data/spring_petclinic_production_coverage_data.csv\")\n",
    "coverage.head()"
   ]
  },
  {
   "cell_type": "markdown",
   "id": "a35e24a7",
   "metadata": {},
   "source": [
    "### Enrich data\n",
    "Calculate the percentage of executed lines of code per class"
   ]
  },
  {
   "cell_type": "code",
   "execution_count": null,
   "id": "62b82095",
   "metadata": {},
   "outputs": [],
   "source": [
    "coverage['lines'] = coverage.LINE_COVERED + coverage.LINE_MISSED\n",
    "coverage['ratio'] = coverage.LINE_COVERED / coverage.lines\n",
    "coverage.head()"
   ]
  },
  {
   "cell_type": "markdown",
   "id": "06ac0838",
   "metadata": {},
   "source": [
    "### Normalize data"
   ]
  },
  {
   "cell_type": "code",
   "execution_count": null,
   "id": "f1b8cd47",
   "metadata": {},
   "outputs": [],
   "source": [
    "coverage['fqn'] = coverage[\"PACKAGE\"] + \".\" + coverage[\"CLASS\"]\n",
    "coverage.head()"
   ]
  },
  {
   "cell_type": "markdown",
   "id": "bdce153c",
   "metadata": {},
   "source": [
    "### Import data into Neo4j"
   ]
  },
  {
   "cell_type": "code",
   "execution_count": null,
   "id": "154c82b4",
   "metadata": {},
   "outputs": [],
   "source": [
    "query=\"\"\"\n",
    "    UNWIND $data as coverage\n",
    "    MATCH (t:Type {fqn : coverage.fqn})\n",
    "    MERGE (t)-[:HAS_MEASURE]->(m)\n",
    "    SET \n",
    "        m:Measure:Coverage,\n",
    "        m.ratio = coverage.ratio,\n",
    "        m.lines = coverage.lines\n",
    "    RETURN t.fqn as fqn, m.ratio as ratio, m.lines as lines\n",
    "\"\"\"\n",
    "\n",
    "session.run(query, data=coverage.to_dict(orient='records')).to_df().head()"
   ]
  },
  {
   "cell_type": "markdown",
   "id": "c1001337",
   "metadata": {},
   "source": [
    "# Check data"
   ]
  },
  {
   "cell_type": "markdown",
   "id": "f11de2d4",
   "metadata": {},
   "source": [
    "## Query Nodes"
   ]
  },
  {
   "cell_type": "markdown",
   "id": "55bc1975",
   "metadata": {},
   "source": [
    "### List measures"
   ]
  },
  {
   "cell_type": "code",
   "execution_count": null,
   "id": "7750a7cb",
   "metadata": {},
   "outputs": [],
   "source": [
    "query=\"\"\"\n",
    "   MATCH (n:Type)-[:HAS_MEASURE]->(m:Measure)\n",
    "   RETURN n.fqn as fqn, n.lines as lines, m.ratio as ratio\n",
    "\"\"\"\n",
    "\n",
    "module_options = session.run(query).to_df()\n",
    "module_options.head()"
   ]
  },
  {
   "cell_type": "markdown",
   "id": "f9259876",
   "metadata": {},
   "source": [
    "# Explore modularization options"
   ]
  },
  {
   "cell_type": "markdown",
   "id": "291e11c8",
   "metadata": {},
   "source": [
    "## Explore existing modularization"
   ]
  },
  {
   "cell_type": "markdown",
   "id": "99600213",
   "metadata": {},
   "source": [
    "### Extract existing main module structure"
   ]
  },
  {
   "cell_type": "code",
   "execution_count": null,
   "id": "fc65e639",
   "metadata": {},
   "outputs": [],
   "source": [
    "module_options['base_module'] = module_options['fqn'].str.split(\".\").str[4]\n",
    "module_options.head()"
   ]
  },
  {
   "cell_type": "markdown",
   "id": "f29c2706",
   "metadata": {},
   "source": [
    "### Add base module information to graph"
   ]
  },
  {
   "cell_type": "code",
   "execution_count": null,
   "id": "68b01f3e",
   "metadata": {},
   "outputs": [],
   "source": [
    "query=\"\"\"\n",
    "    UNWIND $data as module\n",
    "    MATCH (t:Type {fqn : module.fqn})\n",
    "    MERGE (m:Base:Module{name:module.base_module})\n",
    "    MERGE (t)-[:BELONGS_TO]->(m)\n",
    "    RETURN t.fqn as fqn, m.name as base_module\n",
    "\"\"\"\n",
    "session.run(query, data=module_options.to_dict(orient='records')).to_df().head()"
   ]
  },
  {
   "cell_type": "markdown",
   "id": "75e11a25",
   "metadata": {},
   "source": [
    "### Add base module dependencies to graph"
   ]
  },
  {
   "cell_type": "code",
   "execution_count": null,
   "id": "61a89a8f",
   "metadata": {},
   "outputs": [],
   "source": [
    "query = \"\"\"\n",
    "    MATCH (m1:Base:Module)<-[:BELONGS_TO]-(t1:Type)<-[:DEPENDS_ON]-(t2:Type)-[:BELONGS_TO]->(m2:Base:Module)\n",
    "    WHERE m1 <> m2\n",
    "    MERGE (m2)-[:USES]->(m1)\n",
    "    RETURN DISTINCT(m2.name) as module, m1.name as dependent_module, COUNT(t2) as dependencies\n",
    "\"\"\"\n",
    "base_module_dependencies = session.run(query).to_df()\n",
    "base_module_dependencies.head()"
   ]
  },
  {
   "cell_type": "markdown",
   "id": "0248e2a0",
   "metadata": {},
   "source": [
    "### Query for basic module statistics"
   ]
  },
  {
   "cell_type": "code",
   "execution_count": null,
   "id": "a1ba5a63",
   "metadata": {},
   "outputs": [],
   "source": [
    "query=\"\"\"\n",
    "    MATCH (t:Type)-[:BELONGS_TO]->(m:Base:Module)\n",
    "    RETURN m.name as module_name, count(t) as classes\n",
    "\"\"\"\n",
    "\n",
    "session.run(query).to_df().head()"
   ]
  },
  {
   "cell_type": "markdown",
   "id": "28521271",
   "metadata": {},
   "source": [
    "### Generate JSON output for d3 visualization"
   ]
  },
  {
   "cell_type": "code",
   "execution_count": null,
   "id": "58b6c588",
   "metadata": {},
   "outputs": [],
   "source": [
    "json_data = base_module_dependencies.to_dict(orient='split')['data']\n",
    "print(json.dumps(json_data, indent=4)[:200] + \"\\n...\")"
   ]
  },
  {
   "cell_type": "markdown",
   "id": "53879e51",
   "metadata": {},
   "source": [
    "### Export data for visualization"
   ]
  },
  {
   "cell_type": "code",
   "execution_count": null,
   "id": "78801078",
   "metadata": {},
   "outputs": [],
   "source": [
    "with open(\"vis/template_chord_diagram_d3_inline.html\") as html_template:\n",
    "    html = html_template.read().replace(\"###JSON###\", str(json_data))\n",
    "\n",
    "    with open(f'output/chord_diagram_base_module.html', mode='w') as html_out:\n",
    "        html_out.write(html)\n",
    "\n",
    "HTML('<a href=\"output/chord_diagram_base_module.html\" target=\"_blank\">Open Chord Diagram for Base Modules</a>')"
   ]
  },
  {
   "cell_type": "markdown",
   "id": "1fbf5a8b",
   "metadata": {},
   "source": [
    "## Explore alternative modularization options"
   ]
  },
  {
   "cell_type": "code",
   "execution_count": null,
   "id": "26c2ccc0",
   "metadata": {},
   "outputs": [],
   "source": [
    "module_options.head()"
   ]
  },
  {
   "cell_type": "markdown",
   "id": "26ce5ad2",
   "metadata": {},
   "source": [
    "### Extract domain based modules\n",
    "*(here we use a very simple heuristic by using domain-related names that a part of the class names)*"
   ]
  },
  {
   "cell_type": "code",
   "execution_count": null,
   "id": "dc38e7e8",
   "metadata": {},
   "outputs": [],
   "source": [
    "domain_parts = [\"Owner\", \"Pet\", \"Visit\", \"Vet\", \"Specialty\", \"Clinic\"]\n",
    "\n",
    "for domain_part in domain_parts:\n",
    "    module_options.loc[module_options['fqn'].str.contains(domain_part), 'domain_part'] = domain_part\n",
    "\n",
    "module_options.head()"
   ]
  },
  {
   "cell_type": "markdown",
   "id": "28b03d39",
   "metadata": {},
   "source": [
    "### Come up with an alternative structure"
   ]
  },
  {
   "cell_type": "code",
   "execution_count": null,
   "id": "f2bc7515",
   "metadata": {},
   "outputs": [],
   "source": [
    "domain_part_mapping = {\n",
    "    \"Visit\" : \"Checkup\",\n",
    "    \"Pet\" : \"Patient\",\n",
    "    \"Owner\" : \"Patient\",\n",
    "    \"Vet\" : \"Doctor\",\n",
    "    \"Specialty\" : \"Doctor\"\n",
    "} \n",
    "    \n",
    "module_options['domain'] = module_options['domain_part'].map(domain_part_mapping).fillna(\"Framework\")\n",
    "module_options.head()"
   ]
  },
  {
   "cell_type": "markdown",
   "id": "213acee7",
   "metadata": {},
   "source": [
    "### Add alternative modules to graph"
   ]
  },
  {
   "cell_type": "code",
   "execution_count": null,
   "id": "279bae2f",
   "metadata": {},
   "outputs": [],
   "source": [
    "query=\"\"\"\n",
    "    UNWIND $data as module\n",
    "    MATCH (t:Type {fqn : module.fqn})\n",
    "    MERGE (m:Domain:Module{name:module.domain})\n",
    "    MERGE (t)-[:BELONGS_TO]->(m)\n",
    "    RETURN t.fqn as fqn, m.name\n",
    "\"\"\"\n",
    "\n",
    "session.run(query, data=module_options.to_dict(orient='records')).to_df().head()"
   ]
  },
  {
   "cell_type": "markdown",
   "id": "87707212",
   "metadata": {},
   "source": [
    "### Add base module dependencies to graph"
   ]
  },
  {
   "cell_type": "code",
   "execution_count": null,
   "id": "e60a0a0d",
   "metadata": {},
   "outputs": [],
   "source": [
    "query = \"\"\"\n",
    "    MATCH (m1:Domain:Module)<-[:BELONGS_TO]-(t1:Type)<-[:DEPENDS_ON]-(t2:Type)-[:BELONGS_TO]->(m2:Domain:Module)\n",
    "    WHERE m1 <> m2\n",
    "    MERGE (m2)-[:USES]->(m1)\n",
    "    RETURN DISTINCT(m2.name) as module, m1.name as dependent_module, COUNT(t2) as dependencies, SUM(t2.lines) as lines\n",
    "\"\"\"\n",
    "domain_module_dependencies = session.run(query).to_df()\n",
    "domain_module_dependencies.head()"
   ]
  },
  {
   "cell_type": "markdown",
   "id": "e4685218",
   "metadata": {},
   "source": [
    "### Visualize alternative modularization"
   ]
  },
  {
   "cell_type": "code",
   "execution_count": null,
   "id": "e5df5f65",
   "metadata": {},
   "outputs": [],
   "source": [
    "json_data = domain_module_dependencies.to_dict(orient='split')['data']\n",
    "\n",
    "with open(\"vis/template_chord_diagram_d3_inline.html\") as html_template:\n",
    "    html = html_template.read().replace(\"###JSON###\", str(json_data))\n",
    "\n",
    "    with open(f'output/chord_diagram_domain_module.html', mode='w') as html_out:\n",
    "        html_out.write(html)\n",
    "\n",
    "HTML('<a href=\"output/chord_diagram_domain_module.html\" target=\"_blank\">Open Chord Diagram for Domain Modules</a>')"
   ]
  },
  {
   "cell_type": "markdown",
   "id": "6ba0a11d",
   "metadata": {},
   "source": [
    "### Add base module dependencies to graph"
   ]
  },
  {
   "cell_type": "code",
   "execution_count": null,
   "id": "44f237dc",
   "metadata": {},
   "outputs": [],
   "source": [
    "query = \"\"\"\n",
    "    MATCH (m1:Domain:Module)<-[:BELONGS_TO]-(t1:Type)<-[:DEPENDS_ON]-(t2:Type)-[:BELONGS_TO]->(m2:Domain:Module)\n",
    "    RETURN DISTINCT(m2.name) as module, m1.name as dependent_module, COUNT(t2) as dependencies\n",
    "\"\"\"\n",
    "domain_module_dependencies = session.run(query).to_df()\n",
    "json_data = domain_module_dependencies.to_dict(orient='split')['data']\n",
    "with open ( \"output/chord-diagram.json\", mode='w') as json_file:\n",
    "    json_file.write(json.dumps(json_data, indent=3))\n",
    "json_data"
   ]
  },
  {
   "cell_type": "markdown",
   "id": "218b1d96",
   "metadata": {},
   "source": [
    "### Prepare results for dependency analysis"
   ]
  },
  {
   "cell_type": "code",
   "execution_count": null,
   "id": "c2dac921",
   "metadata": {},
   "outputs": [],
   "source": [
    "query=\"\"\"\n",
    "MATCH (m:Domain:Module)-[:USES]->(m_dep:Domain:Module)\n",
    "RETURN m.name as name, COLLECT(DISTINCT m_dep.name) as imports\n",
    "\"\"\"\n",
    "\n",
    "json_data = session.run(query).to_df().to_json(orient=\"records\")\n",
    "print(json_data[:200])"
   ]
  },
  {
   "cell_type": "markdown",
   "id": "fc355d5a",
   "metadata": {},
   "source": [
    "### Create visualization based on data"
   ]
  },
  {
   "cell_type": "code",
   "execution_count": null,
   "id": "f97f6ff2",
   "metadata": {},
   "outputs": [],
   "source": [
    "with open(\"vis/template_hierarchical_edge_bundling_d3_inline.html\") as html_template:\n",
    "    html = html_template.read().replace(\"###JSON###\", str(json_data))\n",
    "\n",
    "    with open(f'output/domain_modules_dependencies.html', mode='w') as html_out:\n",
    "        html_out.write(html)\n",
    "\n",
    "HTML('<a href=\"output/domain_modules_dependencies.html\" target=\"_blank\">Domain Modules Dependencies</a>')"
   ]
  },
  {
   "cell_type": "markdown",
   "id": "d3c4f317",
   "metadata": {},
   "source": [
    "## Analyze weird dependencies from Framework to other modules"
   ]
  },
  {
   "cell_type": "markdown",
   "id": "adbed41b",
   "metadata": {},
   "source": [
    "### List all classes in the Framework module"
   ]
  },
  {
   "cell_type": "code",
   "execution_count": null,
   "id": "b7900466",
   "metadata": {},
   "outputs": [],
   "source": [
    "query = \"\"\"\n",
    "    MATCH (m1:Domain:Module {name:\"Framework\"})<-[:BELONGS_TO]-(t1:Type)\n",
    "    RETURN t1.name as FrameworkType\n",
    "\"\"\"\n",
    "session.run(query).to_df()"
   ]
  },
  {
   "cell_type": "markdown",
   "id": "2e65764f",
   "metadata": {},
   "source": [
    "### List dependencies from Framework to domain modules"
   ]
  },
  {
   "cell_type": "code",
   "execution_count": null,
   "id": "4b823252",
   "metadata": {},
   "outputs": [],
   "source": [
    "query = \"\"\"\n",
    "    MATCH (m1:Domain:Module {name:\"Framework\"})<-[:BELONGS_TO]-(t1:Type)-[:DEPENDS_ON]->(t2:Type)-[:BELONGS_TO]->(m2:Domain:Module)\n",
    "    RETURN t1.name as FrameworkType, t2.name as DomainType, m2.name as DomainModule\n",
    "\"\"\"\n",
    "session.run(query).to_df()"
   ]
  }
 ],
 "metadata": {
  "kernelspec": {
   "display_name": "Python 3 (ipykernel)",
   "language": "python",
   "name": "python3"
  },
  "language_info": {
   "codemirror_mode": {
    "name": "ipython",
    "version": 3
   },
   "file_extension": ".py",
   "mimetype": "text/x-python",
   "name": "python",
   "nbconvert_exporter": "python",
   "pygments_lexer": "ipython3",
   "version": "3.9.7"
  }
 },
 "nbformat": 4,
 "nbformat_minor": 5
}
