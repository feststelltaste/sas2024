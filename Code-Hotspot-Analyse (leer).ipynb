{
 "cells": [
  {
   "cell_type": "markdown",
   "id": "494fcbe6",
   "metadata": {
    "slideshow": {
     "slide_type": "slide"
    }
   },
   "source": [
    "# Code-Hotspot-Analyse (leer)\n",
    "Step-by-Step-Tutorial\n"
   ]
  },
  {
   "cell_type": "markdown",
   "id": "d7759c33",
   "metadata": {
    "slideshow": {
     "slide_type": "slide"
    }
   },
   "source": [
    "## Rohdaten via Kommandozeile"
   ]
  },
  {
   "cell_type": "markdown",
   "id": "2a7e2ddf",
   "metadata": {
    "slideshow": {
     "slide_type": "slide"
    }
   },
   "source": [
    "### Lines of Code (\"Complexity\")"
   ]
  },
  {
   "cell_type": "markdown",
   "id": "c1fc83ea",
   "metadata": {
    "slideshow": {
     "slide_type": "slide"
    }
   },
   "source": [
    "Variante mit `cloc`"
   ]
  },
  {
   "cell_type": "code",
   "execution_count": null,
   "id": "601576dc",
   "metadata": {
    "slideshow": {
     "slide_type": "-"
    }
   },
   "outputs": [],
   "source": []
  },
  {
   "cell_type": "markdown",
   "id": "0d4ad7d7",
   "metadata": {
    "slideshow": {
     "slide_type": "slide"
    }
   },
   "source": [
    "### Änderungshäufigkeiten (\"Hotness\")"
   ]
  },
  {
   "cell_type": "markdown",
   "id": "a49f0960",
   "metadata": {
    "slideshow": {
     "slide_type": "slide"
    }
   },
   "source": [
    "Änderungen pro Datei mit `git log`"
   ]
  },
  {
   "cell_type": "code",
   "execution_count": null,
   "id": "9c8d52cf",
   "metadata": {
    "slideshow": {
     "slide_type": "-"
    }
   },
   "outputs": [],
   "source": []
  },
  {
   "cell_type": "markdown",
   "id": "77707e34",
   "metadata": {
    "slideshow": {
     "slide_type": "slide"
    }
   },
   "source": [
    "## Datenmassage mit Data-Science-Werkzeugen"
   ]
  },
  {
   "cell_type": "markdown",
   "id": "bcb8b194",
   "metadata": {},
   "source": [
    "### Lines of Code"
   ]
  },
  {
   "cell_type": "markdown",
   "id": "662d04ef",
   "metadata": {},
   "source": [
    "\"Lines of Code\"-Daten einlesen"
   ]
  },
  {
   "cell_type": "code",
   "execution_count": null,
   "id": "e024e1fe",
   "metadata": {
    "slideshow": {
     "slide_type": "-"
    }
   },
   "outputs": [],
   "source": []
  },
  {
   "cell_type": "markdown",
   "id": "de4a0244",
   "metadata": {
    "slideshow": {
     "slide_type": "slide"
    }
   },
   "source": [
    "In der Theorie: Datei mit Zeilenanzahlen direkt einlesen"
   ]
  },
  {
   "cell_type": "code",
   "execution_count": null,
   "id": "01617705",
   "metadata": {
    "slideshow": {
     "slide_type": "fragment"
    }
   },
   "outputs": [],
   "source": []
  },
  {
   "cell_type": "markdown",
   "id": "6545c7b5",
   "metadata": {
    "slideshow": {
     "slide_type": "slide"
    }
   },
   "source": [
    "In der Praxis: Einlesen mit kleineren Anpassungen"
   ]
  },
  {
   "cell_type": "code",
   "execution_count": null,
   "id": "d91ad034",
   "metadata": {
    "scrolled": true,
    "slideshow": {
     "slide_type": "-"
    }
   },
   "outputs": [],
   "source": []
  },
  {
   "cell_type": "markdown",
   "id": "997eb432",
   "metadata": {},
   "source": [
    "### Änderungsdaten"
   ]
  },
  {
   "cell_type": "markdown",
   "id": "3a5b3ff5",
   "metadata": {
    "slideshow": {
     "slide_type": "slide"
    }
   },
   "source": [
    "Blick auf die Rohdaten"
   ]
  },
  {
   "cell_type": "code",
   "execution_count": null,
   "id": "d2312a85",
   "metadata": {
    "slideshow": {
     "slide_type": "-"
    }
   },
   "outputs": [],
   "source": []
  },
  {
   "cell_type": "markdown",
   "id": "3b6c14c8",
   "metadata": {},
   "source": [
    "Datei mit jeder geänderten Datei einlesen (+ Spaltennamen)"
   ]
  },
  {
   "cell_type": "code",
   "execution_count": null,
   "id": "3c0e4280",
   "metadata": {
    "slideshow": {
     "slide_type": "fragment"
    }
   },
   "outputs": [],
   "source": []
  },
  {
   "cell_type": "markdown",
   "id": "f45e61df",
   "metadata": {
    "slideshow": {
     "slide_type": "slide"
    }
   },
   "source": [
    "Hier noch zu erledigen: Änderungshäufigkeit der Dateien zählen"
   ]
  },
  {
   "cell_type": "code",
   "execution_count": null,
   "id": "625cdce8",
   "metadata": {
    "slideshow": {
     "slide_type": "-"
    }
   },
   "outputs": [],
   "source": []
  },
  {
   "cell_type": "markdown",
   "id": "b26bc156",
   "metadata": {
    "slideshow": {
     "slide_type": "slide"
    }
   },
   "source": [
    "Getrennte Daten zusammenführen"
   ]
  },
  {
   "cell_type": "code",
   "execution_count": null,
   "id": "6394fcd3",
   "metadata": {
    "slideshow": {
     "slide_type": "-"
    }
   },
   "outputs": [],
   "source": []
  },
  {
   "cell_type": "markdown",
   "id": "599d781e",
   "metadata": {
    "slideshow": {
     "slide_type": "slide"
    }
   },
   "source": [
    "## Visualisierung der Daten"
   ]
  },
  {
   "cell_type": "markdown",
   "id": "83a8ecac",
   "metadata": {
    "slideshow": {
     "slide_type": "slide"
    }
   },
   "source": [
    "Woher nehmen?\n",
    "[https://observablehq.com/@d3/gallery](https://observablehq.com/@d3/gallery)"
   ]
  },
  {
   "cell_type": "markdown",
   "id": "fc731287",
   "metadata": {
    "slideshow": {
     "slide_type": "slide"
    }
   },
   "source": [
    "Wir brauchen folgendes Datenformat und ein D3-Visualisierungs-Template für Circle Pack Hierarchy Chart.\n",
    "\n",
    "- Komplette Datei: <code><a href=\"demo/spring_petclinic_demo_flare.json\" target=\"_blank\">demo/spring_petclinic_demo_flare.json</a></code>\n",
    "- Template: <code><a href=\"vis/template_circle_pack_hierarchy_chart_d3_inline.html\" target=\"_blank\">vis/template_circle_pack_hierarchy_chart_d3_inline.html</a></code> (hier: Quellcode anzeigen lassen)"
   ]
  },
  {
   "cell_type": "markdown",
   "id": "de7356cf",
   "metadata": {
    "slideshow": {
     "slide_type": "-"
    }
   },
   "source": [
    "<small><pre>{\n",
    "    'name': 'flare',\n",
    "    'children': [{\n",
    "            'name': 'src',\n",
    "            'children': [{\n",
    "                    'name': 'main',\n",
    "                    'children': [{\n",
    "                            'name': 'java',\n",
    "                            'children': [{\n",
    "                                    'name': 'org',\n",
    "                                    'children': [{\n",
    "                                            'name': 'springframework',\n",
    "                                            'children': [{\n",
    "                                                    'name': 'samples',\n",
    "                                                    'children': [{\n",
    "                                                            'name': 'petclinic',\n",
    "                                                            'children': [{\n",
    "                                                                    'name': 'repository',\n",
    "                                                                    'children': [{\n",
    "                                                                            'name': 'jdbc',\n",
    "                                                                            'children': [{\n",
    "                                                                                    'name': 'JdbcOwnerRepositoryImpl.java (158.0 [27])',\n",
    "                                                                                    'size': 158.0,\n",
    "                                                                                    'color': '#b40426'\n",
    "                                                                                }, {\n",
    "                                                                                    'name': 'JdbcVetRepositoryImpl.java (88.0 [20])',\n",
    "                                                                                    'size': 88.0,\n",
    "                                                                                    'color': '#f59d7e'\n",
    "                                                                                }, {\n",
    "                                                                                    'name': 'JdbcVisitRepositoryImpl.java (103.0 [19])',\n",
    "                                                                                    'size': 103.0,\n",
    "                                                                                    'color': '#f7aa8c'\n",
    "                                                                                },\n",
    "...\n",
    "</pre></small>"
   ]
  },
  {
   "cell_type": "markdown",
   "id": "76eb8f7c",
   "metadata": {
    "slideshow": {
     "slide_type": "slide"
    }
   },
   "source": [
    "Daten für Visualisierung aufbereiten: In D3-Datenformat (JSON) umwandeln, HTML-Template für Circle Pack Hierarchy Chart mit Daten füttern und Datei erzeugen (nein, diesen Code schreiben wir nicht selbst heute...)."
   ]
  },
  {
   "cell_type": "code",
   "execution_count": null,
   "id": "471c1e9e",
   "metadata": {
    "slideshow": {
     "slide_type": "-"
    }
   },
   "outputs": [],
   "source": [
    "from matplotlib import cm\n",
    "from matplotlib.colors import rgb2hex\n",
    "import json\n",
    "from IPython.core.display import HTML\n",
    "\n",
    "\n",
    "def create_plot_data(df, color_column_name, size_column_name, seperator):\n",
    "    plot_data = pd.DataFrame(index=df.index)\n",
    "    plot_data['value_for_color'] = df[color_column_name]\n",
    "    plot_data['ratio_for_color'] = plot_data['value_for_color'] / plot_data['value_for_color'].max()\n",
    "    plot_data['color'] = plot_data['ratio_for_color'].apply(lambda x : rgb2hex(cm.coolwarm(x)))\n",
    "    plot_data['size'] = df[size_column_name]\n",
    "    plot_data[['path', 'name']] = df.index.str.rsplit(seperator, n=1).to_list()\n",
    "    plot_data['path_list'] = plot_data['path'].str.split(seperator)\n",
    "    return plot_data\n",
    "\n",
    "def create_flare_json(df):\n",
    "\n",
    "    json_data = {'name': 'flare', 'children': []}\n",
    "\n",
    "    for _, series in df.iterrows():\n",
    "        hierarchical_data = series['path_list']\n",
    "\n",
    "        children = json_data['children']\n",
    "        for part in hierarchical_data:\n",
    "            entry = next((child for child in children if child.get('name', '') == part), None)\n",
    "            if not entry:\n",
    "                entry = {'name': part, 'children': []}\n",
    "                children.append(entry)\n",
    "            children = entry['children']\n",
    "\n",
    "        children.append({\n",
    "            'name': f\"{series['name']} ({series['size']} [{series['value_for_color']}])\",\n",
    "            'size': series['size'],\n",
    "            'color': series['color']\n",
    "        })\n",
    "\n",
    "    return json_data\n",
    "\n",
    "\n",
    "def create_file(hotspots, color_column_name, size_column_name, separator, suffix=\"\"):\n",
    "    json_data = create_flare_json(create_plot_data(hotspots, color_column_name, size_column_name,separator))\n",
    "            \n",
    "    with open(\"vis/template_circle_pack_hierarchy_chart_d3_inline.html\") as html_template:\n",
    "        html = html_template.read().replace(\"###JSON###\", str(json_data))\n",
    "        \n",
    "        with open(f'output/code_hotspots{suffix}.html', mode='w') as html_out:\n",
    "            html_out.write(html)\n",
    "    \n",
    "    return HTML(f'<a href=\"output/code_hotspots{suffix}.html\" target=\"_blank\">Hotspots via Circle Pack Hierarchy Chart {suffix}</a>')\n",
    "            \n",
    "create_file(hotspots, \"changes\", \"code\", \"/\")"
   ]
  },
  {
   "cell_type": "markdown",
   "id": "a6347632",
   "metadata": {},
   "source": [
    "## Herausforderung\n",
    "In `data/spring_petclinic_production_coverage_data.csv` liegt eine Datei mit Messergebnissen in Form einer Code Coverage, welche während einer repräsentativen Nutzung der Anwendung aufgezeichnet wurde. Visualisiert diese Daten mit Hilfe der Circle Pack Hierarchy Chart."
   ]
  },
  {
   "cell_type": "markdown",
   "id": "6beffe1f",
   "metadata": {},
   "source": [
    "Daten einlesen mittels pandas"
   ]
  },
  {
   "cell_type": "code",
   "execution_count": null,
   "id": "3c97f678",
   "metadata": {},
   "outputs": [],
   "source": []
  },
  {
   "cell_type": "markdown",
   "id": "21a44f82",
   "metadata": {},
   "source": [
    "Berechne `ratio`, also den Prozentsatz des durchgelaufenen Codes."
   ]
  },
  {
   "cell_type": "code",
   "execution_count": null,
   "id": "24d35781",
   "metadata": {},
   "outputs": [],
   "source": []
  },
  {
   "cell_type": "markdown",
   "id": "2cbc2005",
   "metadata": {},
   "source": [
    "Erzeuge eine neue Spalte mit dem kompletten Pfad zu einer Quellcodedatei und setze diesen mit `set_index` als Index."
   ]
  },
  {
   "cell_type": "code",
   "execution_count": null,
   "id": "9479f48e",
   "metadata": {},
   "outputs": [],
   "source": []
  },
  {
   "cell_type": "markdown",
   "id": "9949cb47",
   "metadata": {},
   "source": [
    "Nutze die obige `create_file`-Funktion, um eine Visualisierung zu erzeugen (Tipp: `suffix` als letzen Parameter der Funktion verwenden, um eine Datei mit anderem Namen zu erzeugen)"
   ]
  },
  {
   "cell_type": "code",
   "execution_count": null,
   "id": "1576f791",
   "metadata": {},
   "outputs": [],
   "source": []
  }
 ],
 "metadata": {
  "kernelspec": {
   "display_name": "Python 3 (ipykernel)",
   "language": "python",
   "name": "python3"
  },
  "language_info": {
   "codemirror_mode": {
    "name": "ipython",
    "version": 3
   },
   "file_extension": ".py",
   "mimetype": "text/x-python",
   "name": "python",
   "nbconvert_exporter": "python",
   "pygments_lexer": "ipython3",
   "version": "3.9.7"
  },
  "rise": {
   "controls": false,
   "progress": false,
   "scroll": true,
   "showSlideNumber": "speaker",
   "slideNumber ": false,
   "transition": "none"
  }
 },
 "nbformat": 4,
 "nbformat_minor": 5
}
