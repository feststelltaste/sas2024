{
 "cells": [
  {
   "cell_type": "markdown",
   "id": "494fcbe6",
   "metadata": {
    "slideshow": {
     "slide_type": "slide"
    }
   },
   "source": [
    "# Code-Hotspot-Analyse\n",
    "### Step-by-Step\n"
   ]
  },
  {
   "cell_type": "markdown",
   "id": "d7759c33",
   "metadata": {
    "slideshow": {
     "slide_type": "slide"
    }
   },
   "source": [
    "### Rohdaten via Kommandozeile"
   ]
  },
  {
   "cell_type": "markdown",
   "id": "2a7e2ddf",
   "metadata": {
    "slideshow": {
     "slide_type": "slide"
    }
   },
   "source": [
    "#### Lines of Code"
   ]
  },
  {
   "cell_type": "markdown",
   "id": "a66e8f3c",
   "metadata": {
    "slideshow": {
     "slide_type": "slide"
    }
   },
   "source": [
    "Einfache Abschätzung mit `find`"
   ]
  },
  {
   "cell_type": "code",
   "execution_count": 1,
   "id": "f8bf6dbc",
   "metadata": {
    "slideshow": {
     "slide_type": "-"
    }
   },
   "outputs": [
    {
     "name": "stdout",
     "output_type": "stream",
     "text": [
      "   117 ./.mvn/wrapper/MavenWrapperDownloader.java\n",
      "    47 ./src/main/java/org/springframework/samples/petclinic/model/BaseEntity.java\n",
      "    48 ./src/main/java/org/springframework/samples/petclinic/model/NamedEntity.java\n",
      "   153 ./src/main/java/org/springframework/samples/petclinic/model/Owner.java\n",
      "     5 ./src/main/java/org/springframework/samples/petclinic/model/package-info.java\n",
      "    55 ./src/main/java/org/springframework/samples/petclinic/model/Person.java\n",
      "   111 ./src/main/java/org/springframework/samples/petclinic/model/Pet.java\n",
      "    29 ./src/main/java/org/springframework/samples/petclinic/model/PetType.java\n",
      "    30 ./src/main/java/org/springframework/samples/petclinic/model/Specialty.java\n",
      "    78 ./src/main/java/org/springframework/samples/petclinic/model/Vet.java\n"
     ]
    }
   ],
   "source": [
    "%%bash\n",
    "cd spring-framework-petclinic/\n",
    "find . -name *.java | xargs wc -l | head -n-1 > ../file_sizes.txt\n",
    "head ../file_sizes.txt"
   ]
  },
  {
   "cell_type": "markdown",
   "id": "f53fc9ed",
   "metadata": {
    "slideshow": {
     "slide_type": "slide"
    }
   },
   "source": [
    "Genauere Variante in `awk`"
   ]
  },
  {
   "cell_type": "code",
   "execution_count": null,
   "id": "7eb5740a",
   "metadata": {
    "slideshow": {
     "slide_type": "-"
    }
   },
   "outputs": [],
   "source": []
  },
  {
   "cell_type": "markdown",
   "id": "c1fc83ea",
   "metadata": {
    "slideshow": {
     "slide_type": "slide"
    }
   },
   "source": [
    "Elegantere Variante mit `cloc`"
   ]
  },
  {
   "cell_type": "code",
   "execution_count": 2,
   "id": "234a0327",
   "metadata": {
    "slideshow": {
     "slide_type": "-"
    }
   },
   "outputs": [
    {
     "name": "stdout",
     "output_type": "stream",
     "text": [
      "     119 text files.\n",
      "     119 unique files.                                          \n",
      "      24 files ignored.\n",
      "\n",
      "github.com/AlDanial/cloc v 1.82  T=0.52 s (186.3 files/s, 47139.8 lines/s)\n",
      "-------------------------------------------------------------------------------\n",
      "Language                     files          blank        comment           code\n",
      "-------------------------------------------------------------------------------\n",
      "SVG                              2              0              0           9158\n",
      "CSS                              1            852             28           7131\n",
      "Java                            59            593           1395           2163\n",
      "Maven                            1             42             32            528\n",
      "SQL                              8             71              0            414\n",
      "JSP                              9             35              0            367\n",
      "Sass                             4             64              2            318\n",
      "Bourne Shell                     1             33             62            215\n",
      "XML                              8             54             94            189\n",
      "Markdown                         1             74              0            161\n",
      "DOS Batch                        1             35              0            147\n",
      "YAML                             1              5              2             22\n",
      "-------------------------------------------------------------------------------\n",
      "SUM:                            96           1858           1615          20813\n",
      "-------------------------------------------------------------------------------\n"
     ]
    }
   ],
   "source": [
    "%%bash\n",
    "cloc spring-framework-petclinic/"
   ]
  },
  {
   "cell_type": "markdown",
   "id": "cb40f01e",
   "metadata": {
    "slideshow": {
     "slide_type": "slide"
    }
   },
   "source": [
    "Größeninformationen für jede Datei per `cloc`"
   ]
  },
  {
   "cell_type": "code",
   "execution_count": 3,
   "id": "601576dc",
   "metadata": {
    "slideshow": {
     "slide_type": "-"
    }
   },
   "outputs": [
    {
     "name": "stdout",
     "output_type": "stream",
     "text": [
      "language,filename,blank,comment,code,\"github.com/AlDanial/cloc v 1.82  T=0.70 s (137.6 files/s, 34812.8 lines/s)\"\n",
      "SVG,./src/main/webapp/resources/fonts/varela_round-webfont.svg,0,0,7875\n",
      "CSS,./src/main/webapp/resources/css/petclinic.css,852,28,7131\n",
      "SVG,./src/main/webapp/resources/fonts/montserrat-webfont.svg,0,0,1283\n",
      "Maven,./pom.xml,42,32,528\n",
      "Bourne Shell,./mvnw,33,62,215\n",
      "Sass,./src/main/webapp/resources/scss/petclinic.scss,39,0,171\n",
      "Markdown,./readme.md,74,0,161\n",
      "Java,./src/test/java/org/springframework/samples/petclinic/web/OwnerControllerTests.java,26,5,150\n",
      "DOS Batch,./mvnw.cmd,35,0,147\n"
     ]
    }
   ],
   "source": [
    "%%bash\n",
    "cd spring-framework-petclinic/\n",
    "cloc . --by-file --quiet --csv --out ../lines.csv\n",
    "head ../lines.csv"
   ]
  },
  {
   "cell_type": "markdown",
   "id": "0d4ad7d7",
   "metadata": {
    "slideshow": {
     "slide_type": "slide"
    }
   },
   "source": [
    "#### Änderungshäufigkeiten"
   ]
  },
  {
   "cell_type": "markdown",
   "id": "1fd7f2e5",
   "metadata": {},
   "source": [
    "`git log` in Action"
   ]
  },
  {
   "cell_type": "code",
   "execution_count": 4,
   "id": "08c3e4ea",
   "metadata": {},
   "outputs": [
    {
     "name": "stdout",
     "output_type": "stream",
     "text": [
      "commit 0bf6721cfd16facda30fb3bc72085345ea9d278f\n",
      "Author: dependabot[bot] <49699333+dependabot[bot]@users.noreply.github.com>\n",
      "Date:   Fri Jul 7 21:58:11 2023 +0000\n",
      "\n",
      "    Bump h2 from 2.1.214 to 2.2.220\n",
      "    \n",
      "    Bumps [h2](https://github.com/h2database/h2database) from 2.1.214 to 2.2.220.\n",
      "    - [Release notes](https://github.com/h2database/h2database/releases)\n",
      "    - [Commits](https://github.com/h2database/h2database/compare/version-2.1.214...version-2.2.220)\n",
      "    \n",
      "    ---\n",
      "    updated-dependencies:\n",
      "    - dependency-name: com.h2database:h2\n",
      "      dependency-type: direct:production\n",
      "    ...\n",
      "    \n",
      "    Signed-off-by: dependabot[bot] <support@github.com>\n",
      "\n",
      "commit b16554f3cb4e24a74a23d80895847fdb59c46ef9\n",
      "Author: Antoine Rey <antoine.rey@free.fr>\n",
      "Date:   Tue May 16 08:50:00 2023 +0200\n",
      "\n",
      "    Bump to Spring Framework 6.0.9\n"
     ]
    }
   ],
   "source": [
    "%%bash\n",
    "cd spring-framework-petclinic/\n",
    "git log -n 2"
   ]
  },
  {
   "cell_type": "markdown",
   "id": "a49f0960",
   "metadata": {
    "slideshow": {
     "slide_type": "slide"
    }
   },
   "source": [
    "Änderungen pro Datei mit `git log`"
   ]
  },
  {
   "cell_type": "code",
   "execution_count": 5,
   "id": "9c8d52cf",
   "metadata": {
    "slideshow": {
     "slide_type": "-"
    }
   },
   "outputs": [
    {
     "name": "stdout",
     "output_type": "stream",
     "text": [
      "src/main/java/org/springframework/samples/petclinic/web/OwnerController.java\n",
      "src/main/java/org/springframework/samples/petclinic/web/PetController.java\n",
      "src/main/java/org/springframework/samples/petclinic/web/VisitController.java\n",
      "src/main/java/org/springframework/samples/petclinic/model/BaseEntity.java\n",
      "src/main/java/org/springframework/samples/petclinic/model/NamedEntity.java\n",
      "src/main/java/org/springframework/samples/petclinic/model/Owner.java\n",
      "src/main/java/org/springframework/samples/petclinic/model/Person.java\n",
      "src/main/java/org/springframework/samples/petclinic/model/Pet.java\n",
      "src/main/java/org/springframework/samples/petclinic/model/PetType.java\n",
      "src/main/java/org/springframework/samples/petclinic/model/Specialty.java\n",
      "src/main/java/org/springframework/samples/petclinic/model/Vet.java\n",
      "src/main/java/org/springframework/samples/petclinic/model/Vets.java\n",
      "src/main/java/org/springframework/samples/petclinic/model/Visit.java\n",
      "src/main/java/org/springframework/samples/petclinic/repository/OwnerRepository.java\n",
      "src/main/java/org/springframework/samples/petclinic/repository/PetRepository.java\n",
      "src/main/java/org/springframework/samples/petclinic/repository/VetRepository.java\n",
      "src/main/java/org/springframework/samples/petclinic/repository/VisitRepository.java\n",
      "src/main/java/org/springframework/samples/petclinic/repository/jdbc/JdbcOwnerRepositoryImpl.java\n",
      "src/main/java/org/springframework/samples/petclinic/repository/jdbc/JdbcPet.java\n",
      "src/main/java/org/springframework/samples/petclinic/repository/jdbc/JdbcPetRepositoryImpl.java\n",
      "src/main/java/org/springframework/samples/petclinic/repository/jdbc/JdbcPetRowMapper.java\n",
      "src/main/java/org/springframework/samples/petclinic/repository/jdbc/JdbcVetRepositoryImpl.java\n",
      "src/main/java/org/springframework/samples/petclinic/repository/jdbc/JdbcVisitRepositoryImpl.java\n",
      "src/main/java/org/springframework/samples/petclinic/repository/jpa/JpaOwnerRepositoryImpl.java\n",
      "src/main/java/org/springframework/samples/petclinic/repository/jpa/JpaPetRepositoryImpl.java\n",
      "src/main/java/org/springframework/samples/petclinic/repository/jpa/JpaVetRepositoryImpl.java\n",
      "src/main/java/org/springframework/samples/petclinic/repository/jpa/JpaVisitRepositoryImpl.java\n",
      "src/main/java/org/springframework/samples/petclinic/repository/springdatajpa/SpringDataOwnerRepository.java\n",
      "src/main/java/org/springframework/samples/petclinic/repository/springdatajpa/SpringDataPetRepository.java\n",
      "src/main/java/org/springframework/samples/petclinic/repository/springdatajpa/SpringDataVetRepository.java\n",
      "src/main/java/org/springframework/samples/petclinic/repository/springdatajpa/SpringDataVisitRepository.java\n",
      "src/main/java/org/springframework/samples/petclinic/service/ClinicService.java\n",
      "src/main/java/org/springframework/samples/petclinic/service/ClinicServiceImpl.java\n",
      "src/main/java/org/springframework/samples/petclinic/util/CallMonitoringAspect.java\n",
      "src/main/java/org/springframework/samples/petclinic/util/EntityUtils.java\n",
      "src/main/java/org/springframework/samples/petclinic/web/CrashController.java\n",
      "src/main/java/org/springframework/samples/petclinic/web/OwnerController.java\n",
      "src/main/java/org/springframework/samples/petclinic/web/PetController.java\n",
      "src/main/java/org/springframework/samples/petclinic/web/PetTypeFormatter.java\n",
      "src/main/java/org/springframework/samples/petclinic/web/PetValidator.java\n",
      "src/main/java/org/springframework/samples/petclinic/web/VetController.java\n",
      "src/main/java/org/springframework/samples/petclinic/web/VisitController.java\n",
      "src/test/java/org/springframework/samples/petclinic/service/AbstractClinicServiceTests.java\n",
      "src/test/java/org/springframework/samples/petclinic/service/ClinicServiceJdbcTests.java\n",
      "src/main/java/org/springframework/samples/petclinic/PetclinicInitializer.java\n",
      "src/main/java/org/springframework/samples/petclinic/model/BaseEntity.java\n",
      "src/main/java/org/springframework/samples/petclinic/model/NamedEntity.java\n",
      "src/main/java/org/springframework/samples/petclinic/model/Owner.java\n",
      "src/main/java/org/springframework/samples/petclinic/model/Person.java\n",
      "src/main/java/org/springframework/samples/petclinic/model/Pet.java\n",
      "src/main/java/org/springframework/samples/petclinic/model/PetType.java\n",
      "src/main/java/org/springframework/samples/petclinic/model/Specialty.java\n",
      "src/main/java/org/springframework/samples/petclinic/model/Vet.java\n",
      "src/main/java/org/springframework/samples/petclinic/model/Vets.java\n",
      "src/main/java/org/springframework/samples/petclinic/model/Visit.java\n",
      "src/main/java/org/springframework/samples/petclinic/repository/jpa/JpaOwnerRepositoryImpl.java\n",
      "src/main/java/org/springframework/samples/petclinic/repository/jpa/JpaPetRepositoryImpl.java\n",
      "src/main/java/org/springframework/samples/petclinic/repository/jpa/JpaVetRepositoryImpl.java\n",
      "src/main/java/org/springframework/samples/petclinic/repository/jpa/JpaVisitRepositoryImpl.java\n",
      "src/main/java/org/springframework/samples/petclinic/web/OwnerController.java\n",
      "src/main/java/org/springframework/samples/petclinic/web/PetController.java\n",
      "src/main/java/org/springframework/samples/petclinic/web/VisitController.java\n",
      "src/test/java/org/springframework/samples/petclinic/model/ValidatorTests.java\n",
      "src/test/java/org/springframework/samples/petclinic/web/VetControllerTests.java\n",
      "src/main/java/org/springframework/samples/petclinic/web/VetController.java\n",
      "src/main/java/org/springframework/samples/petclinic/web/VetController.java\n",
      "src/main/java/org/springframework/samples/petclinic/web/VetController.java\n",
      "src/main/java/org/springframework/samples/petclinic/repository/jdbc/JdbcVisitRowMapper.java\n",
      "src/main/java/org/springframework/samples/petclinic/util/EntityUtils.java\n",
      "src/main/java/org/springframework/samples/petclinic/repository/jdbc/JdbcPetRepositoryImpl.java\n",
      "src/main/java/org/springframework/samples/petclinic/repository/OwnerRepository.java\n",
      "src/main/java/org/springframework/samples/petclinic/repository/PetRepository.java\n",
      "src/main/java/org/springframework/samples/petclinic/repository/VetRepository.java\n",
      "src/main/java/org/springframework/samples/petclinic/repository/VisitRepository.java\n",
      "src/main/java/org/springframework/samples/petclinic/repository/jdbc/JdbcOwnerRepositoryImpl.java\n",
      "src/main/java/org/springframework/samples/petclinic/repository/jdbc/JdbcPetRepositoryImpl.java\n",
      "src/main/java/org/springframework/samples/petclinic/repository/jdbc/JdbcVetRepositoryImpl.java\n",
      "src/main/java/org/springframework/samples/petclinic/repository/jdbc/JdbcVisitRepositoryImpl.java\n",
      "src/main/java/org/springframework/samples/petclinic/repository/jdbc/OneToManyResultSetExtractor.java\n",
      "src/main/java/org/springframework/samples/petclinic/repository/springdatajpa/SpringDataPetRepository.java\n",
      "src/main/java/org/springframework/samples/petclinic/service/ClinicService.java\n",
      "src/main/java/org/springframework/samples/petclinic/service/ClinicServiceImpl.java\n",
      "src/test/java/org/springframework/samples/petclinic/web/VetControllerTests.java\n",
      "src/main/java/org/springframework/samples/petclinic/model/Vets.java\n",
      "src/main/java/org/springframework/samples/petclinic/repository/jdbc/JdbcPetRowMapper.java\n",
      "src/main/java/org/springframework/samples/petclinic/repository/jdbc/JdbcPetVisitExtractor.java\n",
      "src/main/java/org/springframework/samples/petclinic/repository/jdbc/OneToManyResultSetExtractor.java\n",
      "src/test/java/org/springframework/samples/petclinic/model/ValidatorTests.java\n",
      "src/test/java/org/springframework/samples/petclinic/service/AbstractClinicServiceTests.java\n",
      "src/test/java/org/springframework/samples/petclinic/service/ClinicServiceJdbcTests.java\n",
      "src/test/java/org/springframework/samples/petclinic/service/ClinicServiceJpaTests.java\n",
      "src/test/java/org/springframework/samples/petclinic/service/ClinicServiceSpringDataJpaTests.java\n",
      "src/test/java/org/springframework/samples/petclinic/web/CrashControllerTests.java\n",
      "src/test/java/org/springframework/samples/petclinic/web/OwnerControllerTests.java\n",
      "src/test/java/org/springframework/samples/petclinic/web/PetControllerTests.java\n",
      "src/test/java/org/springframework/samples/petclinic/web/PetTypeFormatterTests.java\n",
      "src/test/java/org/springframework/samples/petclinic/web/VetControllerTests.java\n",
      "src/test/java/org/springframework/samples/petclinic/web/VisitControllerTests.java\n",
      "src/test/java/org/springframework/samples/petclinic/web/VetControllerTests.java\n"
     ]
    },
    {
     "name": "stdout",
     "output_type": "stream",
     "text": [
      "src/test/java/org/springframework/samples/petclinic/web/VetControllerTests.java\n",
      "src/main/java/org/springframework/samples/petclinic/web/CrashController.java\n",
      "src/main/java/org/springframework/samples/petclinic/web/OwnerController.java\n",
      "src/main/java/org/springframework/samples/petclinic/web/PetController.java\n",
      "src/main/java/org/springframework/samples/petclinic/web/VetController.java\n",
      "src/main/java/org/springframework/samples/petclinic/web/VisitController.java\n",
      ".mvn/wrapper/MavenWrapperDownloader.java\n",
      "src/test/java/org/springframework/samples/petclinic/web/CrashControllerTests.java\n",
      "src/test/java/org/springframework/samples/petclinic/web/OwnerControllerTests.java\n",
      "src/test/java/org/springframework/samples/petclinic/web/PetControllerTests.java\n",
      "src/test/java/org/springframework/samples/petclinic/web/PetTypeFormatterTests.java\n",
      "src/test/java/org/springframework/samples/petclinic/web/VetControllerTests.java\n",
      "src/test/java/org/springframework/samples/petclinic/web/VisitControllerTests.java\n",
      "src/test/java/org/springframework/samples/petclinic/model/ValidatorTests.java\n",
      "src/test/java/org/springframework/samples/petclinic/service/AbstractClinicServiceTests.java\n",
      "src/test/java/org/springframework/samples/petclinic/service/ClinicServiceJdbcTests.java\n",
      "src/test/java/org/springframework/samples/petclinic/service/ClinicServiceJpaTests.java\n",
      "src/test/java/org/springframework/samples/petclinic/service/ClinicServiceSpringDataJpaTests.java\n",
      "src/test/java/org/springframework/samples/petclinic/web/CrashControllerTests.java\n",
      "src/test/java/org/springframework/samples/petclinic/web/OwnerControllerTests.java\n",
      "src/test/java/org/springframework/samples/petclinic/web/PetControllerTests.java\n",
      "src/test/java/org/springframework/samples/petclinic/web/PetTypeFormatterTests.java\n",
      "src/test/java/org/springframework/samples/petclinic/web/VetControllerTests.java\n",
      "src/test/java/org/springframework/samples/petclinic/web/VisitControllerTests.java\n",
      "src/main/java/org/springframework/samples/petclinic/model/Owner.java\n",
      "src/main/java/org/springframework/samples/petclinic/model/Person.java\n",
      "src/main/java/org/springframework/samples/petclinic/model/Visit.java\n",
      "src/test/java/org/springframework/samples/petclinic/model/ValidatorTests.java\n",
      "src/main/java/org/springframework/samples/petclinic/repository/jdbc/JdbcOwnerRepositoryImpl.java\n",
      "src/main/java/org/springframework/samples/petclinic/model/Pet.java\n",
      "src/main/java/org/springframework/samples/petclinic/model/Visit.java\n",
      "src/main/java/org/springframework/samples/petclinic/repository/jdbc/JdbcPetRowMapper.java\n",
      "src/main/java/org/springframework/samples/petclinic/repository/jdbc/JdbcVisitRowMapper.java\n",
      "src/test/java/org/springframework/samples/petclinic/service/AbstractClinicServiceTests.java\n",
      "src/main/java/org/springframework/samples/petclinic/repository/jpa/JpaOwnerRepositoryImpl.java\n",
      "src/test/java/org/springframework/samples/petclinic/web/PetTypeFormatterTests.java\n",
      "src/main/java/org/springframework/samples/petclinic/repository/jpa/JpaOwnerRepositoryImpl.java\n",
      "src/main/java/org/springframework/samples/petclinic/PetclinicInitializer.java\n",
      "src/main/java/org/springframework/samples/petclinic/repository/jdbc/JdbcOwnerRepositoryImpl.java\n",
      "src/main/java/org/springframework/samples/petclinic/PetclinicInitializer.java\n",
      "src/main/java/org/springframework/samples/petclinic/model/Pet.java\n",
      "src/main/java/org/springframework/samples/petclinic/model/Visit.java\n",
      "src/main/java/org/springframework/samples/petclinic/repository/jdbc/JdbcPetRepositoryImpl.java\n",
      "src/main/java/org/springframework/samples/petclinic/repository/jdbc/JdbcPetRowMapper.java\n",
      "src/main/java/org/springframework/samples/petclinic/repository/jdbc/JdbcVisitRepositoryImpl.java\n",
      "src/main/java/org/springframework/samples/petclinic/repository/jdbc/JdbcVisitRowMapper.java\n",
      "src/test/java/org/springframework/samples/petclinic/service/AbstractClinicServiceTests.java\n",
      "src/main/java/org/springframework/samples/petclinic/repository/jpa/JpaVetRepositoryImpl.java\n",
      "src/test/java/org/springframework/samples/petclinic/web/CrashControllerTests.java\n",
      "src/test/java/org/springframework/samples/petclinic/web/OwnerControllerTests.java\n",
      "src/test/java/org/springframework/samples/petclinic/web/PetControllerTests.java\n",
      "src/test/java/org/springframework/samples/petclinic/web/VetControllerTests.java\n",
      "src/test/java/org/springframework/samples/petclinic/web/VisitControllerTests.java\n",
      "src/main/java/org/springframework/samples/petclinic/PetclinicInitializer.java\n",
      "src/main/java/org/springframework/samples/petclinic/repository/jdbc/JdbcPetRepositoryImpl.java\n",
      "src/main/java/org/springframework/samples/petclinic/web/VetController.java\n",
      "src/test/java/org/springframework/samples/petclinic/web/VetControllerTests.java\n",
      "src/main/java/org/springframework/samples/petclinic/repository/jdbc/JdbcVisitRepositoryImpl.java\n",
      "src/main/java/org/springframework/samples/petclinic/repository/jpa/JpaVisitRepositoryImpl.java\n",
      "src/main/java/org/springframework/samples/petclinic/service/ClinicService.java\n",
      "src/main/java/org/springframework/samples/petclinic/service/ClinicServiceImpl.java\n",
      "src/test/java/org/springframework/samples/petclinic/service/AbstractClinicServiceTests.java\n",
      "src/main/java/org/springframework/samples/petclinic/model/BaseEntity.java\n",
      "src/main/java/org/springframework/samples/petclinic/web/OwnerController.java\n",
      "src/main/java/org/springframework/samples/petclinic/web/PetController.java\n",
      "src/main/java/org/springframework/samples/petclinic/web/PetValidator.java\n",
      "src/test/java/org/springframework/samples/petclinic/service/AbstractClinicServiceTests.java\n",
      "src/test/java/org/springframework/samples/petclinic/web/CrashControllerTests.java\n",
      "src/test/java/org/springframework/samples/petclinic/web/OwnerControllerTests.java\n",
      "src/test/java/org/springframework/samples/petclinic/web/PetControllerTests.java\n",
      "src/test/java/org/springframework/samples/petclinic/web/PetTypeFormatterTests.java\n",
      "src/test/java/org/springframework/samples/petclinic/web/VetControllerTests.java\n",
      "src/test/java/org/springframework/samples/petclinic/web/VisitControllerTests.java\n",
      "src/main/java/org/springframework/samples/petclinic/model/Visit.java\n",
      "src/main/java/org/springframework/samples/petclinic/repository/jdbc/JdbcVisitRowMapper.java\n",
      "src/main/java/org/springframework/samples/petclinic/model/Pet.java\n",
      "src/main/java/org/springframework/samples/petclinic/repository/jdbc/JdbcPetRowMapper.java\n",
      "src/test/java/org/springframework/samples/petclinic/service/AbstractClinicServiceTests.java\n",
      "src/main/java/org/springframework/samples/petclinic/web/OwnerController.java\n",
      "src/main/java/org/springframework/samples/petclinic/web/PetController.java\n",
      "src/main/java/org/springframework/samples/petclinic/web/OwnerController.java\n",
      "src/main/java/org/springframework/samples/petclinic/web/OwnerController.java\n",
      "src/main/java/org/springframework/samples/petclinic/web/PetController.java\n",
      "src/main/java/org/springframework/samples/petclinic/web/PetValidator.java\n",
      "src/main/java/org/springframework/samples/petclinic/model/Vets.java\n",
      "src/main/java/org/springframework/samples/petclinic/repository/OwnerRepository.java\n",
      "src/main/java/org/springframework/samples/petclinic/model/BaseEntity.java\n",
      "src/main/java/org/springframework/samples/petclinic/model/NamedEntity.java\n",
      "src/main/java/org/springframework/samples/petclinic/model/Owner.java\n",
      "src/main/java/org/springframework/samples/petclinic/model/Pet.java\n",
      "src/main/java/org/springframework/samples/petclinic/model/PetType.java\n",
      "src/main/java/org/springframework/samples/petclinic/model/Vet.java\n",
      "src/main/java/org/springframework/samples/petclinic/model/package-info.java\n",
      "src/main/java/org/springframework/samples/petclinic/repository/OwnerRepository.java\n",
      "src/main/java/org/springframework/samples/petclinic/repository/PetRepository.java\n",
      "src/main/java/org/springframework/samples/petclinic/repository/jdbc/JdbcOwnerRepositoryImpl.java\n",
      "src/main/java/org/springframework/samples/petclinic/repository/jdbc/JdbcPet.java\n",
      "src/main/java/org/springframework/samples/petclinic/repository/jdbc/JdbcPetRepositoryImpl.java\n",
      "src/main/java/org/springframework/samples/petclinic/repository/jdbc/JdbcPetVisitExtractor.java\n",
      "src/main/java/org/springframework/samples/petclinic/repository/jdbc/JdbcVetRepositoryImpl.java\n",
      "src/main/java/org/springframework/samples/petclinic/repository/jdbc/JdbcVisitRepositoryImpl.java\n"
     ]
    },
    {
     "name": "stdout",
     "output_type": "stream",
     "text": [
      "src/main/java/org/springframework/samples/petclinic/repository/jdbc/package-info.java\n",
      "src/main/java/org/springframework/samples/petclinic/repository/jpa/JpaOwnerRepositoryImpl.java\n",
      "src/main/java/org/springframework/samples/petclinic/repository/jpa/JpaPetRepositoryImpl.java\n",
      "src/main/java/org/springframework/samples/petclinic/repository/jpa/JpaVisitRepositoryImpl.java\n",
      "src/main/java/org/springframework/samples/petclinic/repository/jpa/package-info.java\n",
      "src/main/java/org/springframework/samples/petclinic/repository/springdatajpa/SpringDataOwnerRepository.java\n",
      "src/main/java/org/springframework/samples/petclinic/util/CallMonitoringAspect.java\n",
      "src/main/java/org/springframework/samples/petclinic/util/EntityUtils.java\n",
      "src/main/java/org/springframework/samples/petclinic/web/CrashController.java\n",
      "src/main/java/org/springframework/samples/petclinic/web/OwnerController.java\n",
      "src/main/java/org/springframework/samples/petclinic/web/PetValidator.java\n",
      "src/main/java/org/springframework/samples/petclinic/web/VetController.java\n",
      "src/main/java/org/springframework/samples/petclinic/web/VisitController.java\n",
      "src/main/java/org/springframework/samples/petclinic/web/package-info.java\n",
      "src/test/java/org/springframework/samples/petclinic/model/ValidatorTests.java\n",
      "src/test/java/org/springframework/samples/petclinic/service/AbstractClinicServiceTests.java\n",
      "src/test/java/org/springframework/samples/petclinic/service/ClinicServiceJdbcTests.java\n",
      "src/test/java/org/springframework/samples/petclinic/service/ClinicServiceJpaTests.java\n",
      "src/test/java/org/springframework/samples/petclinic/service/ClinicServiceSpringDataJpaTests.java\n",
      "src/test/java/org/springframework/samples/petclinic/web/VetControllerTests.java\n",
      "src/main/java/org/springframework/samples/petclinic/repository/jdbc/JdbcOwnerRepositoryImpl.java\n",
      "src/main/java/org/springframework/samples/petclinic/web/PetValidator.java\n",
      "src/test/java/org/springframework/samples/petclinic/service/AbstractClinicServiceTests.java\n",
      "src/main/java/org/springframework/samples/petclinic/web/OwnerController.java\n",
      "src/main/java/org/springframework/samples/petclinic/web/PetController.java\n",
      "src/main/java/org/springframework/samples/petclinic/util/CallMonitoringAspect.java\n",
      "src/main/java/org/springframework/samples/petclinic/repository/jdbc/JdbcOwnerRepositoryImpl.java\n",
      "src/main/java/org/springframework/samples/petclinic/repository/jdbc/JdbcVisitRepositoryImpl.java\n",
      "src/main/java/org/springframework/samples/petclinic/repository/jdbc/JdbcVisitRowMapper.java\n",
      "src/main/java/org/springframework/samples/petclinic/repository/jdbc/JdbcVisitRepositoryImpl.java\n",
      "src/main/java/org/springframework/samples/petclinic/repository/jdbc/JdbcVisitRowMapper.java\n",
      "src/main/java/org/springframework/samples/petclinic/repository/jdbc/JdbcVetRepositoryImpl.java\n",
      "src/main/java/org/springframework/samples/petclinic/model/Owner.java\n",
      "src/main/java/org/springframework/samples/petclinic/model/Pet.java\n",
      "src/main/java/org/springframework/samples/petclinic/model/Vet.java\n",
      "src/main/java/org/springframework/samples/petclinic/model/Vets.java\n",
      "src/main/java/org/springframework/samples/petclinic/repository/jdbc/JdbcOwnerRepositoryImpl.java\n",
      "src/main/java/org/springframework/samples/petclinic/repository/jdbc/JdbcPetRepositoryImpl.java\n",
      "src/main/java/org/springframework/samples/petclinic/repository/jdbc/JdbcVetRepositoryImpl.java\n",
      "src/main/java/org/springframework/samples/petclinic/web/PetController.java\n",
      "src/main/java/org/springframework/samples/petclinic/web/PetValidator.java\n",
      "src/test/java/org/springframework/samples/petclinic/web/VetControllerTests.java\n",
      "src/main/java/org/springframework/samples/petclinic/repository/jdbc/JdbcOwnerRepositoryImpl.java\n",
      "src/main/java/org/springframework/samples/petclinic/repository/jdbc/JdbcOwnerRepositoryImpl.java\n",
      "src/test/java/org/springframework/samples/petclinic/web/VetControllerTests.java\n",
      "src/test/java/org/springframework/samples/petclinic/service/AbstractClinicServiceTests.java\n",
      "src/main/java/org/springframework/samples/petclinic/repository/jdbc/JdbcPetRepositoryImpl.java\n",
      "src/main/java/org/springframework/samples/petclinic/repository/jdbc/JdbcVetRepositoryImpl.java\n",
      "src/main/java/org/springframework/samples/petclinic/util/EntityUtils.java\n",
      "src/main/java/org/springframework/samples/petclinic/repository/jdbc/JdbcVisitRepositoryImpl.java\n",
      "src/main/java/org/springframework/samples/petclinic/repository/jdbc/JdbcPetRowMapper.java\n",
      "src/main/java/org/springframework/samples/petclinic/repository/jdbc/JdbcOwnerRepositoryImpl.java\n",
      "src/main/java/org/springframework/samples/petclinic/repository/jdbc/JdbcPetVisitExtractor.java\n",
      "src/main/java/org/springframework/samples/petclinic/repository/jdbc/JdbcVisitRowMapper.java\n",
      "src/main/java/org/springframework/samples/petclinic/repository/jdbc/JdbcOwnerRepositoryImpl.java\n",
      "src/main/java/org/springframework/samples/petclinic/repository/jdbc/JdbcPetRowMapper.java\n",
      "src/main/java/org/springframework/samples/petclinic/repository/jdbc/JdbcPetVisitExtractor.java\n",
      "src/main/java/org/springframework/samples/petclinic/repository/jdbc/JdbcVisitRepositoryImpl.java\n",
      "src/main/java/org/springframework/samples/petclinic/repository/jdbc/JdbcVisitRowMapper.java\n",
      "src/main/java/org/springframework/samples/petclinic/web/VetController.java\n",
      "src/test/java/org/springframework/samples/petclinic/web/VetControllerTests.java\n",
      "src/main/java/org/springframework/samples/petclinic/web/VetController.java\n",
      "src/main/java/org/springframework/samples/petclinic/web/VetsAtomView.java\n",
      "src/test/java/org/springframework/samples/petclinic/web/VetControllerTest.java\n",
      "src/test/java/org/springframework/samples/petclinic/web/VisitsViewTests.java\n",
      "src/test/java/org/springframework/samples/petclinic/model/ValidatorTests.java\n",
      "src/main/java/org/springframework/samples/petclinic/repository/jdbc/JdbcOwnerRepositoryImpl.java\n",
      "src/main/java/org/springframework/samples/petclinic/repository/jdbc/JdbcPet.java\n",
      "src/test/java/org/springframework/samples/petclinic/service/AbstractClinicServiceTests.java\n",
      "src/main/java/org/springframework/samples/petclinic/repository/jdbc/JdbcOwnerRepositoryImpl.java\n",
      "src/main/java/org/springframework/samples/petclinic/repository/jdbc/JdbcPetRepositoryImpl.java\n",
      "src/main/java/org/springframework/samples/petclinic/repository/jdbc/JdbcPetRowMapper.java\n",
      "src/main/java/org/springframework/samples/petclinic/repository/jdbc/JdbcVetRepositoryImpl.java\n",
      "src/main/java/org/springframework/samples/petclinic/repository/jdbc/JdbcVisitRepositoryImpl.java\n",
      "src/test/java/org/springframework/samples/petclinic/service/AbstractClinicServiceTests.java\n",
      "src/test/java/org/springframework/samples/petclinic/model/ValidatorTests.java\n",
      "src/test/java/org/springframework/samples/petclinic/service/AbstractClinicServiceTests.java\n",
      "src/test/java/org/springframework/samples/petclinic/web/VisitsViewTests.java\n",
      "src/main/java/org/springframework/samples/petclinic/model/BaseEntity.java\n",
      "src/test/java/org/springframework/samples/petclinic/model/ValidatorTests.java\n",
      "src/test/java/org/springframework/samples/petclinic/service/AbstractClinicServiceTests.java\n",
      "src/main/java/org/springframework/samples/petclinic/util/CallMonitoringAspect.java\n",
      "src/main/java/org/springframework/samples/petclinic/web/OwnerController.java\n",
      "src/main/java/org/springframework/samples/petclinic/model/PetType.java\n",
      "src/main/java/org/springframework/samples/petclinic/repository/jdbc/JdbcVetRepositoryImpl.java\n",
      "src/main/java/org/springframework/samples/petclinic/service/ClinicService.java\n",
      "src/test/java/org/springframework/samples/petclinic/model/OwnerTests.java\n",
      "src/test/java/org/springframework/samples/petclinic/model/ValidatorTests.java\n",
      "src/test/java/org/springframework/samples/petclinic/service/AbstractClinicServiceTests.java\n",
      "src/test/java/org/springframework/samples/petclinic/web/VisitsViewTests.java\n",
      "src/test/java/org/springframework/samples/petclinic/web/VisitsViewTests.java\n",
      "src/main/java/org/springframework/samples/petclinic/web/VisitController.java\n",
      "src/main/java/org/springframework/samples/petclinic/web/VetsAtomView.java\n",
      "src/main/java/org/springframework/samples/petclinic/repository/jdbc/JdbcPet.java\n",
      "src/main/java/org/springframework/samples/petclinic/web/PetValidator.java\n",
      "src/main/java/org/springframework/samples/petclinic/service/ClinicService.java\n",
      "src/test/java/org/springframework/samples/petclinic/model/ValidatorTests.java\n"
     ]
    },
    {
     "name": "stdout",
     "output_type": "stream",
     "text": [
      "src/test/java/org/springframework/samples/petclinic/service/ClinicServiceJpaTests.java\n",
      "src/main/java/org/springframework/samples/petclinic/web/PetValidator.java\n",
      "src/main/java/org/springframework/samples/petclinic/model/BaseEntity.java\n",
      "src/main/java/org/springframework/samples/petclinic/model/BaseEntity.java\n",
      "src/test/java/org/springframework/samples/petclinic/service/ClinicServiceJpaTests.java\n",
      "src/test/java/org/springframework/samples/petclinic/model/ValidatorTests.java\n",
      "src/test/java/org/springframework/samples/petclinic/model/ValidatorTests.java\n",
      "src/test/java/org/springframework/samples/petclinic/web/VisitsViewTests.java\n",
      "src/test/java/org/springframework/samples/petclinic/model/ValidatorTests.java\n",
      "src/main/java/org/springframework/samples/petclinic/web/PetValidator.java\n",
      "src/main/java/org/springframework/samples/petclinic/web/PetController.java\n",
      "src/main/java/org/springframework/samples/petclinic/web/VetController.java\n",
      "src/main/java/org/springframework/samples/petclinic/web/VisitController.java\n",
      "src/main/java/org/springframework/samples/petclinic/web/OwnerController.java\n",
      "src/main/java/org/springframework/samples/petclinic/web/PetController.java\n",
      "src/main/java/org/springframework/samples/petclinic/web/VetController.java\n",
      "src/main/java/org/springframework/samples/petclinic/web/VisitController.java\n",
      "src/main/java/org/springframework/samples/petclinic/repository/jpa/JpaVetRepositoryImpl.java\n",
      "src/main/java/org/springframework/samples/petclinic/repository/jpa/JpaOwnerRepositoryImpl.java\n",
      "src/main/java/org/springframework/samples/petclinic/repository/jpa/JpaPetRepositoryImpl.java\n",
      "src/main/java/org/springframework/samples/petclinic/repository/jpa/JpaVisitRepositoryImpl.java\n",
      "src/test/java/org/springframework/samples/petclinic/service/AbstractClinicServiceTests.java\n",
      "src/main/java/org/springframework/samples/petclinic/repository/jpa/JpaOwnerRepositoryImpl.java\n",
      "src/main/java/org/springframework/samples/petclinic/repository/jpa/JpaPetRepositoryImpl.java\n",
      "src/main/java/org/springframework/samples/petclinic/repository/jpa/JpaVisitRepositoryImpl.java\n",
      "src/test/java/org/springframework/samples/petclinic/service/AbstractClinicServiceTests.java\n",
      "src/test/java/org/springframework/samples/petclinic/model/ValidatorTest.java\n",
      "src/main/java/org/springframework/samples/petclinic/repository/springdatajpa/JpaOwnerRepositoryImpl.java\n",
      "src/main/java/org/springframework/samples/petclinic/repository/springdatajpa/SpringDataOwnerRepository.java\n",
      "src/test/java/org/springframework/samples/petclinic/web/VisitsViewTest.java\n",
      "src/main/java/org/springframework/samples/petclinic/repository/springdatajpa/JpaOwnerRepositoryImpl.java\n",
      "src/main/java/org/springframework/samples/petclinic/util/CallMonitoringAspect.java\n",
      "src/main/java/org/springframework/samples/petclinic/util/EntityUtils.java\n",
      "src/main/java/org/springframework/samples/petclinic/repository/jdbc/JdbcVetRepositoryImpl.java\n",
      "src/main/java/org/springframework/samples/petclinic/repository/jdbc/JdbcOwnerRepositoryImpl.java\n",
      "src/main/java/org/springframework/samples/petclinic/service/ClinicServiceImpl.java\n",
      "src/main/java/org/springframework/samples/petclinic/repository/jdbc/JdbcVetRepositoryImpl.java\n",
      "src/main/java/org/springframework/samples/petclinic/service/ClinicServiceImpl.java\n",
      "src/main/java/org/springframework/samples/petclinic/model/Owner.java\n",
      "src/main/java/org/springframework/samples/petclinic/model/Person.java\n",
      "src/main/java/org/springframework/samples/petclinic/model/Pet.java\n",
      "src/main/java/org/springframework/samples/petclinic/model/Vet.java\n",
      "src/main/java/org/springframework/samples/petclinic/model/Vets.java\n",
      "src/main/java/org/springframework/samples/petclinic/model/Visit.java\n",
      "src/main/java/org/springframework/samples/petclinic/repository/OwnerRepository.java\n",
      "src/main/java/org/springframework/samples/petclinic/repository/PetRepository.java\n",
      "src/main/java/org/springframework/samples/petclinic/repository/VetRepository.java\n",
      "src/main/java/org/springframework/samples/petclinic/repository/VisitRepository.java\n",
      "src/main/java/org/springframework/samples/petclinic/repository/jdbc/JdbcOwnerRepositoryImpl.java\n",
      "src/main/java/org/springframework/samples/petclinic/repository/jdbc/JdbcPetRepositoryImpl.java\n",
      "src/main/java/org/springframework/samples/petclinic/repository/jdbc/JdbcPetRowMapper.java\n",
      "src/main/java/org/springframework/samples/petclinic/repository/jdbc/JdbcVetRepositoryImpl.java\n",
      "src/main/java/org/springframework/samples/petclinic/repository/jdbc/JdbcVisitRepositoryImpl.java\n",
      "src/main/java/org/springframework/samples/petclinic/repository/jpa/JpaOwnerRepositoryImpl.java\n",
      "src/main/java/org/springframework/samples/petclinic/repository/jpa/JpaPetRepositoryImpl.java\n",
      "src/main/java/org/springframework/samples/petclinic/repository/jpa/JpaVetRepositoryImpl.java\n",
      "src/main/java/org/springframework/samples/petclinic/repository/jpa/JpaVisitRepositoryImpl.java\n",
      "src/main/java/org/springframework/samples/petclinic/repository/springdatajpa/JpaOwnerRepositoryImpl.java\n",
      "src/main/java/org/springframework/samples/petclinic/repository/springdatajpa/SpringDataPetRepository.java\n",
      "src/main/java/org/springframework/samples/petclinic/service/ClinicService.java\n",
      "src/main/java/org/springframework/samples/petclinic/service/ClinicServiceImpl.java\n",
      "src/main/java/org/springframework/samples/petclinic/util/EntityUtils.java\n",
      "src/main/java/org/springframework/samples/petclinic/web/OwnerController.java\n",
      "src/main/java/org/springframework/samples/petclinic/web/PetController.java\n",
      "src/main/java/org/springframework/samples/petclinic/web/PetTypeFormatter.java\n",
      "src/main/java/org/springframework/samples/petclinic/web/VetsAtomView.java\n",
      "src/main/java/org/springframework/samples/petclinic/web/VisitController.java\n",
      "src/test/java/org/springframework/samples/petclinic/model/OwnerTests.java\n",
      "src/test/java/org/springframework/samples/petclinic/service/AbstractClinicServiceTests.java\n",
      "src/test/java/org/springframework/samples/petclinic/web/VisitsViewTest.java\n",
      "src/main/java/org/springframework/samples/petclinic/repository/jpa/JpaOwnerRepositoryImpl.java\n",
      "src/test/java/org/springframework/samples/petclinic/service/AbstractClinicServiceTests.java\n",
      "src/test/java/org/springframework/samples/petclinic/service/ClinicServiceJdbcTests.java\n",
      "src/test/java/org/springframework/samples/petclinic/service/ClinicServiceJpaTests.java\n",
      "src/test/java/org/springframework/samples/petclinic/service/ClinicServiceSpringDataJpaTests.java\n",
      "src/test/java/org/springframework/samples/petclinic/repository/AbstractPetRepositoryTests.java\n",
      "src/test/java/org/springframework/samples/petclinic/repository/AbstractVetRepositoryTests.java\n",
      "src/test/java/org/springframework/samples/petclinic/repository/AbstractVisitRepositoryTests.java\n",
      "src/test/java/org/springframework/samples/petclinic/repository/jdbc/JdbcPetRepositoryImplTests.java\n",
      "src/test/java/org/springframework/samples/petclinic/repository/jdbc/JdbcVetRepositoryImplTests.java\n",
      "src/test/java/org/springframework/samples/petclinic/repository/jdbc/JdbcVisitRepositoryImplTests.java\n",
      "src/test/java/org/springframework/samples/petclinic/repository/jpa/JpaPetRepositoryImplTests.java\n",
      "src/test/java/org/springframework/samples/petclinic/repository/jpa/JpaVetRepositoryImplTests.java\n",
      "src/test/java/org/springframework/samples/petclinic/repository/jpa/JpaVisitRepositoryImplTests.java\n",
      "src/test/java/org/springframework/samples/petclinic/repository/springdatajpa/JpaOwnerRepositoryImplTests.java\n",
      "src/test/java/org/springframework/samples/petclinic/repository/springdatajpa/JpaPetRepositoryImplTests.java\n",
      "src/test/java/org/springframework/samples/petclinic/repository/springdatajpa/JpaVetRepositoryImplTests.java\n",
      "src/test/java/org/springframework/samples/petclinic/repository/springdatajpa/JpaVisitRepositoryImplTests.java\n",
      "src/test/java/org/springframework/samples/petclinic/service/AbstractClinicServiceTests.java\n",
      "src/test/java/org/springframework/samples/petclinic/service/ClinicServiceJdbcTests.java\n",
      "src/test/java/org/springframework/samples/petclinic/service/ClinicServiceJpaTests.java\n",
      "src/test/java/org/springframework/samples/petclinic/service/ClinicServiceSpringDataJpaTests.java\n",
      "src/test/java/org/springframework/samples/petclinic/repository/jdbc/JdbcOwnerRepositoryImplTests.java\n",
      "src/test/java/org/springframework/samples/petclinic/repository/jdbc/JdbcPetRepositoryImplTests.java\n"
     ]
    },
    {
     "name": "stdout",
     "output_type": "stream",
     "text": [
      "src/test/java/org/springframework/samples/petclinic/repository/jdbc/JdbcVetRepositoryImplTests.java\n",
      "src/test/java/org/springframework/samples/petclinic/repository/jdbc/JdbcVisitRepositoryImplTests.java\n",
      "src/test/java/org/springframework/samples/petclinic/repository/jpa/JpaOwnerRepositoryImplTests.java\n",
      "src/test/java/org/springframework/samples/petclinic/repository/jpa/JpaPetRepositoryImplTests.java\n",
      "src/test/java/org/springframework/samples/petclinic/repository/jpa/JpaVetRepositoryImplTests.java\n",
      "src/test/java/org/springframework/samples/petclinic/repository/jpa/JpaVisitRepositoryImplTests.java\n",
      "src/test/java/org/springframework/samples/petclinic/repository/springdatajpa/JpaOwnerRepositoryImplTests.java\n",
      "src/test/java/org/springframework/samples/petclinic/repository/springdatajpa/JpaPetRepositoryImplTests.java\n",
      "src/test/java/org/springframework/samples/petclinic/repository/springdatajpa/JpaVetRepositoryImplTests.java\n",
      "src/test/java/org/springframework/samples/petclinic/repository/springdatajpa/JpaVisitRepositoryImplTests.java\n",
      "src/test/java/org/springframework/samples/petclinic/repository/springdatajpa/SpringDataOwnerRepositoryTests.java\n",
      "src/test/java/org/springframework/samples/petclinic/repository/AbstractOwnerRepositoryTests.java\n",
      "src/test/java/org/springframework/samples/petclinic/repository/AbstractPetRepositoryTests.java\n",
      "src/test/java/org/springframework/samples/petclinic/repository/AbstractVetRepositoryTests.java\n",
      "src/test/java/org/springframework/samples/petclinic/repository/AbstractVisitRepositoryTests.java\n",
      "src/main/java/org/springframework/samples/petclinic/repository/jpa/JpaOwnerRepositoryImpl.java\n",
      "src/main/java/org/springframework/samples/petclinic/repository/springdatajpa/JpaOwnerRepositoryImpl.java\n",
      "src/test/java/org/springframework/samples/petclinic/web/VisitsAtomViewTest.java\n",
      "src/test/java/org/springframework/samples/petclinic/web/VisitsViewTest.java\n",
      "src/main/java/org/springframework/samples/petclinic/model/BaseEntity.java\n",
      "src/main/java/org/springframework/samples/petclinic/model/NamedEntity.java\n",
      "src/main/java/org/springframework/samples/petclinic/model/Owner.java\n",
      "src/main/java/org/springframework/samples/petclinic/model/Person.java\n",
      "src/main/java/org/springframework/samples/petclinic/model/Pet.java\n",
      "src/main/java/org/springframework/samples/petclinic/model/PetType.java\n",
      "src/main/java/org/springframework/samples/petclinic/model/Specialty.java\n",
      "src/main/java/org/springframework/samples/petclinic/model/Vet.java\n",
      "src/main/java/org/springframework/samples/petclinic/model/Vets.java\n",
      "src/main/java/org/springframework/samples/petclinic/model/Visit.java\n",
      "src/main/java/org/springframework/samples/petclinic/repository/OwnerRepository.java\n",
      "src/main/java/org/springframework/samples/petclinic/repository/PetRepository.java\n",
      "src/main/java/org/springframework/samples/petclinic/repository/VetRepository.java\n",
      "src/main/java/org/springframework/samples/petclinic/repository/VisitRepository.java\n",
      "src/main/java/org/springframework/samples/petclinic/repository/jdbc/JdbcOwnerRepositoryImpl.java\n",
      "src/main/java/org/springframework/samples/petclinic/repository/jdbc/JdbcPet.java\n",
      "src/main/java/org/springframework/samples/petclinic/repository/jdbc/JdbcPetRepositoryImpl.java\n",
      "src/main/java/org/springframework/samples/petclinic/repository/jdbc/JdbcPetRowMapper.java\n",
      "src/main/java/org/springframework/samples/petclinic/repository/jdbc/JdbcVetRepositoryImpl.java\n",
      "src/main/java/org/springframework/samples/petclinic/repository/jdbc/JdbcVisitRepositoryImpl.java\n",
      "src/main/java/org/springframework/samples/petclinic/repository/jpa/JpaOwnerRepositoryImpl.java\n",
      "src/main/java/org/springframework/samples/petclinic/repository/jpa/JpaPetRepositoryImpl.java\n",
      "src/main/java/org/springframework/samples/petclinic/repository/jpa/JpaVetRepositoryImpl.java\n",
      "src/main/java/org/springframework/samples/petclinic/repository/jpa/JpaVisitRepositoryImpl.java\n",
      "src/main/java/org/springframework/samples/petclinic/repository/springdatajpa/JpaOwnerRepositoryImpl.java\n",
      "src/main/java/org/springframework/samples/petclinic/repository/springdatajpa/SpringDataPetRepository.java\n",
      "src/main/java/org/springframework/samples/petclinic/repository/springdatajpa/SpringDataVisitRepository.java\n",
      "src/main/java/org/springframework/samples/petclinic/service/ClinicService.java\n",
      "src/main/java/org/springframework/samples/petclinic/service/ClinicServiceImpl.java\n",
      "src/main/java/org/springframework/samples/petclinic/util/CallMonitoringAspect.java\n",
      "src/main/java/org/springframework/samples/petclinic/util/EntityUtils.java\n",
      "src/main/java/org/springframework/samples/petclinic/web/CrashController.java\n",
      "src/main/java/org/springframework/samples/petclinic/web/OwnerController.java\n",
      "src/main/java/org/springframework/samples/petclinic/web/PetController.java\n",
      "src/main/java/org/springframework/samples/petclinic/web/PetTypeFormatter.java\n",
      "src/main/java/org/springframework/samples/petclinic/web/PetValidator.java\n",
      "src/main/java/org/springframework/samples/petclinic/web/VetController.java\n",
      "src/main/java/org/springframework/samples/petclinic/web/VetsAtomView.java\n",
      "src/main/java/org/springframework/samples/petclinic/web/VisitController.java\n",
      "src/test/java/org/springframework/samples/petclinic/model/OwnerTests.java\n",
      "src/test/java/org/springframework/samples/petclinic/repository/AbstractOwnerRepositoryTests.java\n",
      "src/test/java/org/springframework/samples/petclinic/repository/AbstractPetRepositoryTests.java\n",
      "src/test/java/org/springframework/samples/petclinic/repository/AbstractVetRepositoryTests.java\n",
      "src/test/java/org/springframework/samples/petclinic/repository/AbstractVisitRepositoryTests.java\n",
      "src/test/java/org/springframework/samples/petclinic/repository/jdbc/JdbcOwnerRepositoryImplTests.java\n",
      "src/test/java/org/springframework/samples/petclinic/repository/jdbc/JdbcPetRepositoryImplTests.java\n",
      "src/test/java/org/springframework/samples/petclinic/repository/jdbc/JdbcVetRepositoryImplTests.java\n",
      "src/test/java/org/springframework/samples/petclinic/repository/jdbc/JdbcVisitRepositoryImplTests.java\n",
      "src/test/java/org/springframework/samples/petclinic/repository/jpa/JpaOwnerRepositoryImplTests.java\n",
      "src/test/java/org/springframework/samples/petclinic/repository/jpa/JpaPetRepositoryImplTests.java\n",
      "src/test/java/org/springframework/samples/petclinic/repository/jpa/JpaVetRepositoryImplTests.java\n",
      "src/test/java/org/springframework/samples/petclinic/repository/jpa/JpaVisitRepositoryImplTests.java\n",
      "src/test/java/org/springframework/samples/petclinic/repository/springdatajpa/JpaOwnerRepositoryImplTests.java\n",
      "src/test/java/org/springframework/samples/petclinic/repository/springdatajpa/JpaPetRepositoryImplTests.java\n",
      "src/test/java/org/springframework/samples/petclinic/repository/springdatajpa/JpaVetRepositoryImplTests.java\n",
      "src/test/java/org/springframework/samples/petclinic/repository/springdatajpa/JpaVisitRepositoryImplTests.java\n",
      "src/test/java/org/springframework/samples/petclinic/repository/springdatajpa/SpringDataOwnerRepositoryTests.java\n",
      "src/test/java/org/springframework/samples/petclinic/web/VisitsAtomViewTest.java\n",
      "src/test/java/org/springframework/samples/petclinic/web/VisitsAtomViewWithContainerTest.java\n",
      "src/main/java/org/springframework/samples/petclinic/repository/jpa/JpaVisitRepositoryImpl.java\n",
      "src/main/java/org/springframework/samples/petclinic/web/VetsAtomView.java\n",
      "src/test/java/org/springframework/samples/petclinic/web/VisitsAtomViewTest.java\n",
      "src/test/java/org/springframework/samples/petclinic/web/VisitsAtomViewWithContainerTest.java\n",
      "src/test/java/org/springframework/samples/petclinic/web/VisitsAtomViewTest.java\n",
      "src/test/java/org/springframework/samples/petclinic/web/VisitsAtomViewTest.java\n",
      "src/test/java/org/springframework/samples/petclinic/model/OwnerTests.java\n",
      "src/test/java/org/springframework/samples/petclinic/repository/AbstractOwnerRepositoryTests.java\n",
      "src/test/java/org/springframework/samples/petclinic/repository/AbstractPetRepositoryTests.java\n",
      "src/test/java/org/springframework/samples/petclinic/repository/AbstractVetRepositoryTests.java\n",
      "src/test/java/org/springframework/samples/petclinic/repository/AbstractVisitRepositoryTests.java\n",
      "src/test/java/org/springframework/samples/petclinic/repository/jdbc/JdbcOwnerRepositoryImplTests.java\n",
      "src/test/java/org/springframework/samples/petclinic/repository/jdbc/JdbcPetRepositoryImplTests.java\n"
     ]
    },
    {
     "name": "stdout",
     "output_type": "stream",
     "text": [
      "src/test/java/org/springframework/samples/petclinic/repository/jdbc/JdbcVetRepositoryImplTests.java\n",
      "src/test/java/org/springframework/samples/petclinic/repository/jdbc/JdbcVisitRepositoryImplTests.java\n",
      "src/test/java/org/springframework/samples/petclinic/repository/jpa/JpaOwnerRepositoryImplTests.java\n",
      "src/test/java/org/springframework/samples/petclinic/repository/jpa/JpaPetRepositoryImplTests.java\n",
      "src/test/java/org/springframework/samples/petclinic/repository/jpa/JpaVetRepositoryImplTests.java\n",
      "src/test/java/org/springframework/samples/petclinic/repository/jpa/JpaVisitRepositoryImplTests.java\n",
      "src/test/java/org/springframework/samples/petclinic/repository/springdatajpa/JpaOwnerRepositoryImplTests.java\n",
      "src/test/java/org/springframework/samples/petclinic/repository/springdatajpa/JpaPetRepositoryImplTests.java\n",
      "src/test/java/org/springframework/samples/petclinic/repository/springdatajpa/JpaVetRepositoryImplTests.java\n",
      "src/test/java/org/springframework/samples/petclinic/repository/springdatajpa/JpaVisitRepositoryImplTests.java\n",
      "src/test/java/org/springframework/samples/petclinic/repository/springdatajpa/SpringDataOwnerRepositoryTests.java\n",
      "src/test/java/org/springframework/samples/petclinic/AbstractOwnerRepositoryTests.java\n",
      "src/test/java/org/springframework/samples/petclinic/AbstractPetRepositoryTests.java\n",
      "src/test/java/org/springframework/samples/petclinic/AbstractVetRepositoryTests.java\n",
      "src/test/java/org/springframework/samples/petclinic/AbstractVisitRepositoryTests.java\n",
      "src/test/java/org/springframework/samples/petclinic/OwnerTests.java\n",
      "src/test/java/org/springframework/samples/petclinic/jdbc/JdbcOwnerRepositoryImplTests.java\n",
      "src/main/java/org/springframework/samples/petclinic/repository/jdbc/JdbcOwnerRepositoryImpl.java\n",
      "src/main/java/org/springframework/samples/petclinic/repository/jdbc/JdbcPet.java\n",
      "src/main/java/org/springframework/samples/petclinic/repository/jdbc/JdbcPetRepositoryImpl.java\n",
      "src/main/java/org/springframework/samples/petclinic/repository/jdbc/JdbcPetRowMapper.java\n",
      "src/main/java/org/springframework/samples/petclinic/repository/jdbc/JdbcVetRepositoryImpl.java\n",
      "src/main/java/org/springframework/samples/petclinic/repository/jdbc/JdbcVisitRepositoryImpl.java\n",
      "src/main/java/org/springframework/samples/petclinic/repository/jpa/JpaOwnerRepositoryImpl.java\n",
      "src/main/java/org/springframework/samples/petclinic/repository/jpa/JpaPetRepositoryImpl.java\n",
      "src/main/java/org/springframework/samples/petclinic/repository/jpa/JpaVetRepositoryImpl.java\n",
      "src/main/java/org/springframework/samples/petclinic/repository/jpa/JpaVisitRepositoryImpl.java\n",
      "src/main/java/org/springframework/samples/petclinic/repository/springdatajpa/JpaOwnerRepositoryImpl.java\n",
      "src/main/java/org/springframework/samples/petclinic/repository/springdatajpa/JpaOwnerRepositoryImpl.java\n",
      "src/main/java/org/springframework/samples/petclinic/repository/springdatajpa/SpringDataPetRepository.java\n",
      "src/main/java/org/springframework/samples/petclinic/repository/springdatajpa/SpringDataVetRepository.java\n",
      "src/main/java/org/springframework/samples/petclinic/repository/springdatajpa/SpringDataVisitRepository.java\n",
      "src/main/java/org/springframework/samples/petclinic/repository/OwnerRepository.java\n",
      "src/main/java/org/springframework/samples/petclinic/repository/PetRepository.java\n",
      "src/main/java/org/springframework/samples/petclinic/repository/VetRepository.java\n",
      "src/main/java/org/springframework/samples/petclinic/repository/VisitRepository.java\n",
      "src/main/java/org/springframework/samples/petclinic/model/BaseEntity.java\n",
      "src/main/java/org/springframework/samples/petclinic/model/NamedEntity.java\n",
      "src/main/java/org/springframework/samples/petclinic/model/Owner.java\n",
      "src/main/java/org/springframework/samples/petclinic/model/Person.java\n",
      "src/main/java/org/springframework/samples/petclinic/model/Pet.java\n",
      "src/main/java/org/springframework/samples/petclinic/model/PetType.java\n",
      "src/main/java/org/springframework/samples/petclinic/model/Specialty.java\n",
      "src/main/java/org/springframework/samples/petclinic/model/Vet.java\n",
      "src/main/java/org/springframework/samples/petclinic/model/Vets.java\n",
      "src/main/java/org/springframework/samples/petclinic/model/Visit.java\n",
      "src/main/java/org/springframework/samples/petclinic/service/ClinicService.java\n",
      "src/main/java/org/springframework/samples/petclinic/service/ClinicServiceImpl.java\n",
      "src/main/java/org/springframework/samples/petclinic/util/CallMonitoringAspect.java\n",
      "src/main/java/org/springframework/samples/petclinic/util/EntityUtils.java\n",
      "src/main/java/org/springframework/samples/petclinic/web/PetTypeFormatter.java\n",
      "src/main/java/org/springframework/samples/petclinic/repository/jdbc/JdbcVetRepositoryImpl.java\n",
      "src/main/java/org/springframework/samples/petclinic/repository/jpa/JpaVetRepositoryImpl.java\n",
      "src/main/java/org/springframework/samples/petclinic/repository/jdbc/JdbcOwnerRepositoryImpl.java\n",
      "src/main/java/org/springframework/samples/petclinic/repository/jdbc/JdbcVetRepositoryImpl.java\n",
      "src/main/java/org/springframework/samples/petclinic/service/ClinicServiceImpl.java\n",
      "src/test/java/org/springframework/samples/petclinic/AbstractOwnerRepositoryTests.java\n",
      "src/test/java/org/springframework/samples/petclinic/AbstractPetRepositoryTests.java\n",
      "src/test/java/org/springframework/samples/petclinic/OwnerTests.java\n",
      "src/main/java/org/springframework/samples/petclinic/model/BaseEntity.java\n",
      "src/main/java/org/springframework/samples/petclinic/model/NamedEntity.java\n",
      "src/main/java/org/springframework/samples/petclinic/model/Owner.java\n",
      "src/main/java/org/springframework/samples/petclinic/model/Person.java\n",
      "src/main/java/org/springframework/samples/petclinic/model/Pet.java\n",
      "src/main/java/org/springframework/samples/petclinic/model/PetType.java\n",
      "src/main/java/org/springframework/samples/petclinic/model/Specialty.java\n",
      "src/main/java/org/springframework/samples/petclinic/model/Vet.java\n",
      "src/main/java/org/springframework/samples/petclinic/model/Vets.java\n",
      "src/main/java/org/springframework/samples/petclinic/model/Visit.java\n",
      "src/main/java/org/springframework/samples/petclinic/model/package-info.java\n",
      "src/main/java/org/springframework/samples/petclinic/repository/OwnerRepository.java\n",
      "src/main/java/org/springframework/samples/petclinic/repository/PetRepository.java\n",
      "src/main/java/org/springframework/samples/petclinic/repository/VetRepository.java\n",
      "src/main/java/org/springframework/samples/petclinic/repository/VisitRepository.java\n",
      "src/main/java/org/springframework/samples/petclinic/repository/jdbc/JdbcOwnerRepositoryImpl.java\n",
      "src/main/java/org/springframework/samples/petclinic/repository/jdbc/JdbcPet.java\n",
      "src/main/java/org/springframework/samples/petclinic/repository/jdbc/JdbcPetRepositoryImpl.java\n",
      "src/main/java/org/springframework/samples/petclinic/repository/jdbc/JdbcVetRepositoryImpl.java\n",
      "src/main/java/org/springframework/samples/petclinic/repository/jdbc/JdbcVisitRepositoryImpl.java\n",
      "src/main/java/org/springframework/samples/petclinic/repository/jpa/JpaOwnerRepositoryImpl.java\n",
      "src/main/java/org/springframework/samples/petclinic/repository/jpa/JpaPetRepositoryImpl.java\n",
      "src/main/java/org/springframework/samples/petclinic/repository/jpa/JpaVetRepositoryImpl.java\n",
      "src/main/java/org/springframework/samples/petclinic/repository/jpa/JpaVisitRepositoryImpl.java\n",
      "src/main/java/org/springframework/samples/petclinic/repository/springdatajpa/JpaOwnerRepositoryImpl.java\n",
      "src/main/java/org/springframework/samples/petclinic/repository/springdatajpa/SpringDataPetRepository.java\n",
      "src/main/java/org/springframework/samples/petclinic/repository/springdatajpa/SpringDataVetRepository.java\n",
      "src/main/java/org/springframework/samples/petclinic/repository/springdatajpa/SpringDataVisitRepository.java\n",
      "src/main/java/org/springframework/samples/petclinic/service/ClinicService.java\n",
      "src/main/java/org/springframework/samples/petclinic/service/ClinicServiceImpl.java\n",
      "src/main/java/org/springframework/samples/petclinic/util/EntityUtils.java\n",
      "src/main/java/org/springframework/samples/petclinic/web/OwnerController.java\n",
      "src/main/java/org/springframework/samples/petclinic/web/PetController.java\n",
      "src/main/java/org/springframework/samples/petclinic/web/PetTypeFormatter.java\n",
      "src/main/java/org/springframework/samples/petclinic/web/PetValidator.java\n",
      "src/main/java/org/springframework/samples/petclinic/web/VetController.java\n"
     ]
    },
    {
     "name": "stdout",
     "output_type": "stream",
     "text": [
      "src/main/java/org/springframework/samples/petclinic/web/VisitController.java\n",
      "src/main/java/org/springframework/samples/petclinic/web/VisitsAtomView.java\n",
      "src/test/java/org/springframework/samples/petclinic/AbstractOwnerRepositoryTests.java\n",
      "src/test/java/org/springframework/samples/petclinic/AbstractPetRepositoryTests.java\n",
      "src/test/java/org/springframework/samples/petclinic/AbstractVetRepositoryTests.java\n",
      "src/test/java/org/springframework/samples/petclinic/AbstractVisitRepositoryTests.java\n",
      "src/test/java/org/springframework/samples/petclinic/OwnerTests.java\n",
      "src/test/java/org/springframework/samples/petclinic/web/VisitsAtomViewTest.java\n",
      "src/main/java/org/springframework/samples/petclinic/util/CallMonitoringAspect.java\n",
      "src/main/java/org/springframework/samples/petclinic/validation/package-info.java\n",
      "src/main/java/org/springframework/samples/petclinic/web/PetController.java\n",
      "src/main/java/org/springframework/samples/petclinic/web/PetValidator.java\n",
      "src/main/java/org/springframework/samples/petclinic/validation/PetValidator.java\n",
      "src/main/java/org/springframework/samples/petclinic/web/CrashController.java\n",
      "src/main/java/org/springframework/samples/petclinic/web/OwnerController.java\n",
      "src/main/java/org/springframework/samples/petclinic/web/PetController.java\n",
      "src/main/java/org/springframework/samples/petclinic/web/PetTypeFormatter.java\n",
      "src/main/java/org/springframework/samples/petclinic/web/VetController.java\n",
      "src/main/java/org/springframework/samples/petclinic/web/VisitController.java\n",
      "src/main/java/org/springframework/samples/petclinic/web/VisitsAtomView.java\n",
      "src/main/java/org/springframework/samples/petclinic/Pet.java\n",
      "src/main/java/org/springframework/samples/petclinic/Vets.java\n",
      "src/main/java/org/springframework/samples/petclinic/web/CrashController.java\n",
      "src/main/java/org/springframework/samples/petclinic/web/OwnerController.java\n",
      "src/main/java/org/springframework/samples/petclinic/web/PetController.java\n",
      "src/main/java/org/springframework/samples/petclinic/web/PetTypeFormatter.java\n",
      "src/main/java/org/springframework/samples/petclinic/web/VetController.java\n",
      "src/main/java/org/springframework/samples/petclinic/web/VisitController.java\n",
      "src/main/java/org/springframework/samples/petclinic/web/VisitsAtomView.java\n",
      "src/test/java/org/springframework/samples/petclinic/web/VisitsAtomViewTest.java\n",
      "src/main/java/org/springframework/samples/petclinic/service/ClinicService.java\n",
      "src/main/java/org/springframework/samples/petclinic/service/ClinicServiceImpl.java\n",
      "src/main/java/org/springframework/samples/petclinic/web/OwnerController.java\n",
      "src/main/java/org/springframework/samples/petclinic/web/OwnerController.java\n",
      "src/main/java/org/springframework/samples/petclinic/web/PetController.java\n",
      "src/main/java/org/springframework/samples/petclinic/web/VisitController.java\n",
      "src/main/java/org/springframework/samples/petclinic/aspects/CallMonitoringAspect.java\n",
      "src/main/java/org/springframework/samples/petclinic/aspects/CallMonitoringAspect.java\n",
      "src/main/java/org/springframework/samples/petclinic/aspects/UsageLogAspect.java\n",
      "src/main/java/org/springframework/samples/petclinic/repository/jdbc/JdbcOwnerRepositoryImpl.java\n",
      "src/main/java/org/springframework/samples/petclinic/repository/jdbc/JdbcVetRepositoryImpl.java\n",
      "src/main/java/org/springframework/samples/petclinic/repository/jdbc/JdbcVisitRepositoryImpl.java\n",
      "src/test/java/org/springframework/samples/petclinic/aspects/UsageLogAspectTests.java\n",
      "src/test/java/org/springframework/samples/petclinic/jdbc/JdbcOwnerRepositoryImplTests.java\n",
      "src/test/java/org/springframework/samples/petclinic/jdbc/JdbcPetRepositoryImplTests.java\n",
      "src/test/java/org/springframework/samples/petclinic/jdbc/JdbcVetRepositoryImplTests.java\n",
      "src/test/java/org/springframework/samples/petclinic/jdbc/JdbcVisitRepositoryImplTests.java\n",
      "src/test/java/org/springframework/samples/petclinic/jpa/JpaOwnerRepositoryImplTests.java\n",
      "src/test/java/org/springframework/samples/petclinic/jpa/JpaPetRepositoryImplTests.java\n",
      "src/test/java/org/springframework/samples/petclinic/jpa/JpaVetRepositoryImplTests.java\n",
      "src/test/java/org/springframework/samples/petclinic/jpa/JpaVisitRepositoryImplTests.java\n",
      "src/test/java/org/springframework/samples/petclinic/springdatajpa/JpaOwnerRepositoryImplTests.java\n",
      "src/test/java/org/springframework/samples/petclinic/springdatajpa/JpaPetRepositoryImplTests.java\n",
      "src/test/java/org/springframework/samples/petclinic/springdatajpa/JpaVetRepositoryImplTests.java\n",
      "src/test/java/org/springframework/samples/petclinic/springdatajpa/JpaVisitRepositoryImplTests.java\n",
      "src/test/java/org/springframework/samples/petclinic/springdatajpa/SpringDataOwnerRepositoryTests.java\n",
      "src/main/java/org/springframework/samples/petclinic/Vet.java\n",
      "src/main/java/org/springframework/samples/petclinic/web/VetController.java\n",
      "src/main/java/org/springframework/samples/petclinic/web/VisitController.java\n",
      "src/main/java/org/springframework/samples/petclinic/repository/springdatajpa/JpaOwnerRepositoryImpl.java\n",
      "src/main/java/org/springframework/samples/petclinic/repository/springdatajpa/SpringDataOwnerRepository.java\n",
      "src/main/java/org/springframework/samples/petclinic/Visit.java\n",
      "src/main/java/org/springframework/samples/petclinic/Visit.java\n",
      "src/main/java/org/springframework/samples/petclinic/Pet.java\n",
      "src/main/java/org/springframework/samples/petclinic/web/ClinicBindingInitializer.java\n",
      "src/main/java/org/springframework/samples/petclinic/web/PetTypeEditor.java\n",
      "src/main/java/org/springframework/samples/petclinic/web/PetTypeFormatter.java\n",
      "src/main/java/org/springframework/samples/petclinic/Owner.java\n",
      "src/main/java/org/springframework/samples/petclinic/repository/jdbc/JdbcOwnerRepositoryImpl.java\n",
      "src/main/java/org/springframework/samples/petclinic/web/CrashController.java\n",
      "src/main/java/org/springframework/samples/petclinic/web/OwnerController.java\n",
      "src/main/java/org/springframework/samples/petclinic/repository/jdbc/JdbcOwnerRepositoryImpl.java\n",
      "src/main/java/org/springframework/samples/petclinic/repository/jdbc/JdbcVetRepositoryImpl.java\n",
      "src/main/java/org/springframework/samples/petclinic/repository/jpa/JpaOwnerRepositoryImpl.java\n",
      "src/main/java/org/springframework/samples/petclinic/repository/springdatajpa/SpringDataOwnerRepository.java\n",
      "src/main/java/org/springframework/samples/petclinic/service/ClinicServiceImpl.java\n",
      "src/main/java/org/springframework/samples/petclinic/repository/jdbc/JdbcOwnerRepositoryImpl.java\n",
      "src/main/java/org/springframework/samples/petclinic/repository/jdbc/JdbcPetRepositoryImpl.java\n",
      "src/main/java/org/springframework/samples/petclinic/repository/jdbc/JdbcVisitRepositoryImpl.java\n",
      "src/main/java/org/springframework/samples/petclinic/web/OwnerController.java\n",
      "src/main/java/org/springframework/samples/petclinic/Pet.java\n",
      "src/main/java/org/springframework/samples/petclinic/repository/jdbc/JdbcOwnerRepositoryImpl.java\n",
      "src/main/java/org/springframework/samples/petclinic/repository/jpa/JpaOwnerRepositoryImpl.java\n",
      "src/main/java/org/springframework/samples/petclinic/repository/jpa/JpaVetRepositoryImpl.java\n",
      "src/test/java/org/springframework/samples/petclinic/AbstractOwnerRepositoryTests.java\n",
      "src/test/java/org/springframework/samples/petclinic/AbstractPetRepositoryTests.java\n",
      "src/test/java/org/springframework/samples/petclinic/AbstractVisitRepositoryTests.java\n",
      "src/test/java/org/springframework/samples/petclinic/jdbc/JdbcOwnerRepositoryImplTests.java\n",
      "src/test/java/org/springframework/samples/petclinic/jdbc/JdbcPetRepositoryImplTests.java\n",
      "src/test/java/org/springframework/samples/petclinic/jdbc/JdbcVetRepositoryImplTests.java\n",
      "src/test/java/org/springframework/samples/petclinic/jdbc/JdbcVisitRepositoryImplTests.java\n",
      "src/test/java/org/springframework/samples/petclinic/jpa/JpaOwnerRepositoryImplTests.java\n",
      "src/test/java/org/springframework/samples/petclinic/jpa/JpaPetRepositoryImplTests.java\n",
      "src/test/java/org/springframework/samples/petclinic/jpa/JpaVetRepositoryImplTests.java\n",
      "src/test/java/org/springframework/samples/petclinic/jpa/JpaVisitRepositoryImplTests.java\n",
      "src/test/java/org/springframework/samples/petclinic/springdatajpa/JpaOwnerRepositoryImplTests.java\n",
      "src/test/java/org/springframework/samples/petclinic/springdatajpa/JpaPetRepositoryImplTests.java\n",
      "src/test/java/org/springframework/samples/petclinic/springdatajpa/JpaVetRepositoryImplTests.java\n"
     ]
    },
    {
     "name": "stdout",
     "output_type": "stream",
     "text": [
      "src/test/java/org/springframework/samples/petclinic/springdatajpa/JpaVisitRepositoryImplTests.java\n",
      "src/test/java/org/springframework/samples/petclinic/springdatajpa/SpringDataOwnerRepositoryTests.java\n",
      "src/main/java/org/springframework/samples/petclinic/Pet.java\n",
      "src/main/java/org/springframework/samples/petclinic/Visit.java\n",
      "src/main/java/org/springframework/samples/petclinic/repository/jdbc/JdbcPetRepositoryImpl.java\n",
      "src/main/java/org/springframework/samples/petclinic/repository/jdbc/JdbcPetRowMapper.java\n",
      "src/main/java/org/springframework/samples/petclinic/repository/jdbc/JdbcVisitRepositoryImpl.java\n",
      "src/main/java/org/springframework/samples/petclinic/web/ClinicBindingInitializer.java\n",
      "src/main/java/org/springframework/samples/petclinic/web/VisitsAtomView.java\n",
      "src/test/java/org/springframework/samples/petclinic/AbstractPetRepositoryTests.java\n",
      "src/test/java/org/springframework/samples/petclinic/web/VisitsAtomViewTest.java\n",
      "src/main/java/org/springframework/samples/petclinic/web/VetController.java\n",
      "src/main/java/org/springframework/samples/petclinic/Person.java\n",
      "src/main/java/org/springframework/samples/petclinic/Vets.java\n",
      "src/main/java/org/springframework/samples/petclinic/aspects/AbstractTraceAspect.java\n",
      "src/main/java/org/springframework/samples/petclinic/aspects/CallMonitoringAspect.java\n",
      "src/main/java/org/springframework/samples/petclinic/aspects/UsageLogAspect.java\n",
      "src/main/java/org/springframework/samples/petclinic/repository/PetRepository.java\n",
      "src/main/java/org/springframework/samples/petclinic/repository/VetRepository.java\n",
      "src/main/java/org/springframework/samples/petclinic/repository/VisitRepository.java\n",
      "src/main/java/org/springframework/samples/petclinic/repository/jdbc/JdbcClinicImplMBean.java\n",
      "src/main/java/org/springframework/samples/petclinic/repository/jdbc/JdbcOwnerRepositoryImpl.java\n",
      "src/main/java/org/springframework/samples/petclinic/repository/jdbc/JdbcPetRepositoryImpl.java\n",
      "src/main/java/org/springframework/samples/petclinic/repository/jdbc/JdbcVetRepositoryImpl.java\n",
      "src/main/java/org/springframework/samples/petclinic/repository/jdbc/JdbcVisitRepositoryImpl.java\n",
      "src/main/java/org/springframework/samples/petclinic/repository/jpa/JpaClinicImpl.java\n",
      "src/main/java/org/springframework/samples/petclinic/repository/jpa/JpaOwnerRepositoryImpl.java\n",
      "src/main/java/org/springframework/samples/petclinic/repository/jpa/JpaPetRepositoryImpl.java\n",
      "src/main/java/org/springframework/samples/petclinic/repository/jpa/JpaVetRepositoryImpl.java\n",
      "src/main/java/org/springframework/samples/petclinic/repository/jpa/JpaVisitRepositoryImpl.java\n",
      "src/main/java/org/springframework/samples/petclinic/repository/jpa/SpringDataClinic.java\n",
      "src/main/java/org/springframework/samples/petclinic/repository/springdatajpa/SpringDataOwnerRepository.java\n",
      "src/main/java/org/springframework/samples/petclinic/repository/springdatajpa/SpringDataPetRepository.java\n",
      "src/main/java/org/springframework/samples/petclinic/repository/springdatajpa/SpringDataVetRepository.java\n",
      "src/main/java/org/springframework/samples/petclinic/repository/springdatajpa/SpringDataVisitRepository.java\n",
      "src/main/java/org/springframework/samples/petclinic/service/ClinicService.java\n",
      "src/main/java/org/springframework/samples/petclinic/service/ClinicServiceImpl.java\n",
      "src/main/java/org/springframework/samples/petclinic/web/PetController.java\n",
      "src/main/java/org/springframework/samples/petclinic/web/PetTypeEditor.java\n",
      "src/main/java/org/springframework/samples/petclinic/web/VetController.java\n",
      "src/main/java/org/springframework/samples/petclinic/web/VisitController.java\n",
      "src/main/java/org/springframework/samples/petclinic/web/VisitsAtomView.java\n",
      "src/test/java/org/springframework/samples/petclinic/AbstractOwnerRepositoryTests.java\n",
      "src/test/java/org/springframework/samples/petclinic/AbstractPetRepositoryTests.java\n",
      "src/test/java/org/springframework/samples/petclinic/AbstractVetRepositoryTests.java\n",
      "src/test/java/org/springframework/samples/petclinic/AbstractVisitRepositoryTests.java\n",
      "src/test/java/org/springframework/samples/petclinic/jdbc/JdbcOwnerRepositoryImplTests.java\n",
      "src/test/java/org/springframework/samples/petclinic/jdbc/JdbcPetRepositoryImplTests.java\n",
      "src/test/java/org/springframework/samples/petclinic/jdbc/JdbcVetRepositoryImplTests.java\n",
      "src/test/java/org/springframework/samples/petclinic/jdbc/JdbcVisitRepositoryImplTests.java\n",
      "src/test/java/org/springframework/samples/petclinic/jpa/JpaPetRepositoryImplTests.java\n",
      "src/test/java/org/springframework/samples/petclinic/jpa/JpaVetRepositoryImplTests.java\n",
      "src/test/java/org/springframework/samples/petclinic/jpa/JpaVisitRepositoryImplTests.java\n",
      "src/test/java/org/springframework/samples/petclinic/springdatajpa/JpaOwnerRepositoryImplTests.java\n",
      "src/test/java/org/springframework/samples/petclinic/springdatajpa/JpaPetRepositoryImplTests.java\n",
      "src/test/java/org/springframework/samples/petclinic/springdatajpa/JpaVetRepositoryImplTests.java\n",
      "src/test/java/org/springframework/samples/petclinic/springdatajpa/JpaVisitRepositoryImplTests.java\n",
      "src/test/java/org/springframework/samples/petclinic/springdatajpa/SpringDataOwnerRepositoryTests.java\n",
      "src/test/java/org/springframework/samples/petclinic/web/VisitsAtomViewTest.java\n",
      "src/main/java/org/springframework/samples/petclinic/Clinic.java\n",
      "src/main/java/org/springframework/samples/petclinic/Owner.java\n",
      "src/main/java/org/springframework/samples/petclinic/aspects/UsageLogAspect.java\n",
      "src/main/java/org/springframework/samples/petclinic/jdbc/JdbcClinicImpl.java\n",
      "src/main/java/org/springframework/samples/petclinic/repository/OwnerRepository.java\n",
      "src/main/java/org/springframework/samples/petclinic/repository/PetRepository.java\n",
      "src/main/java/org/springframework/samples/petclinic/repository/VetRepository.java\n",
      "src/main/java/org/springframework/samples/petclinic/repository/VisitRepository.java\n",
      "src/main/java/org/springframework/samples/petclinic/repository/jdbc/JdbcClinicImplMBean.java\n",
      "src/main/java/org/springframework/samples/petclinic/repository/jdbc/JdbcOwnerRepositoryImpl.java\n",
      "src/main/java/org/springframework/samples/petclinic/repository/jdbc/JdbcPet.java\n",
      "src/main/java/org/springframework/samples/petclinic/repository/jdbc/JdbcPetRepositoryImpl.java\n",
      "src/main/java/org/springframework/samples/petclinic/repository/jdbc/JdbcPetRowMapper.java\n",
      "src/main/java/org/springframework/samples/petclinic/repository/jdbc/JdbcVetRepositoryImpl.java\n",
      "src/main/java/org/springframework/samples/petclinic/repository/jdbc/JdbcVisitRepositoryImpl.java\n",
      "src/main/java/org/springframework/samples/petclinic/repository/jdbc/package-info.java\n",
      "src/main/java/org/springframework/samples/petclinic/repository/jpa/JpaClinicImpl.java\n",
      "src/main/java/org/springframework/samples/petclinic/repository/jpa/JpaOwnerRepositoryImpl.java\n",
      "src/main/java/org/springframework/samples/petclinic/repository/jpa/SpringDataClinic.java\n",
      "src/main/java/org/springframework/samples/petclinic/repository/jpa/SpringDataOwnerRepository.java\n",
      "src/main/java/org/springframework/samples/petclinic/repository/jpa/package-info.java\n",
      "src/main/java/org/springframework/samples/petclinic/service/ClinicService.java\n",
      "src/main/java/org/springframework/samples/petclinic/service/ClinicServiceImpl.java\n",
      "src/main/java/org/springframework/samples/petclinic/web/ClinicBindingInitializer.java\n",
      "src/main/java/org/springframework/samples/petclinic/web/ClinicController.java\n",
      "src/main/java/org/springframework/samples/petclinic/web/OwnerController.java\n",
      "src/main/java/org/springframework/samples/petclinic/web/PetController.java\n",
      "src/main/java/org/springframework/samples/petclinic/web/PetTypeEditor.java\n",
      "src/main/java/org/springframework/samples/petclinic/web/VetController.java\n",
      "src/main/java/org/springframework/samples/petclinic/web/VisitController.java\n",
      "src/main/java/org/springframework/samples/petclinic/web/VisitsAtomView.java\n",
      "src/test/java/org/springframework/samples/petclinic/AbstractOwnerRepositoryTests.java\n",
      "src/test/java/org/springframework/samples/petclinic/AbstractPetRepositoryTests.java\n",
      "src/test/java/org/springframework/samples/petclinic/AbstractVetRepositoryTests.java\n",
      "src/test/java/org/springframework/samples/petclinic/AbstractVisitRepositoryTests.java\n",
      "src/test/java/org/springframework/samples/petclinic/aspects/UsageLogAspectTests.java\n",
      "src/test/java/org/springframework/samples/petclinic/jdbc/JdbcOwnerRepositoryImplTests.java\n"
     ]
    },
    {
     "name": "stdout",
     "output_type": "stream",
     "text": [
      "src/test/java/org/springframework/samples/petclinic/jdbc/JdbcPetRepositoryImplTests.java\n",
      "src/test/java/org/springframework/samples/petclinic/jdbc/JdbcVetRepositoryImplTests.java\n",
      "src/test/java/org/springframework/samples/petclinic/jdbc/JdbcVisitRepositoryImplTests.java\n",
      "src/test/java/org/springframework/samples/petclinic/jpa/JpaOwnerRepositoryImplTests.java\n",
      "src/test/java/org/springframework/samples/petclinic/jpa/JpaPetRepositoryImplTests.java\n",
      "src/test/java/org/springframework/samples/petclinic/jpa/JpaVetRepositoryImplTests.java\n",
      "src/test/java/org/springframework/samples/petclinic/jpa/JpaVisitRepositoryImplTests.java\n",
      "src/test/java/org/springframework/samples/petclinic/jpa/SpringDataOwnerRepositoryTests.java\n",
      "src/main/java/org/springframework/samples/petclinic/web/ClinicController.java\n",
      "src/main/java/org/springframework/samples/petclinic/Visit.java\n",
      "src/main/java/org/springframework/samples/petclinic/validation/VisitValidator.java\n",
      "src/main/java/org/springframework/samples/petclinic/web/VisitController.java\n",
      "src/main/java/org/springframework/samples/petclinic/web/PetController.java\n",
      "src/main/java/org/springframework/samples/petclinic/NamedEntity.java\n",
      "src/main/java/org/springframework/samples/petclinic/Owner.java\n",
      "src/main/java/org/springframework/samples/petclinic/web/EditPetController.java\n",
      "src/main/java/org/springframework/samples/petclinic/web/PetController.java\n",
      "src/main/java/org/springframework/samples/petclinic/Owner.java\n",
      "src/main/java/org/springframework/samples/petclinic/Person.java\n",
      "src/main/java/org/springframework/samples/petclinic/validation/OwnerValidator.java\n",
      "src/main/java/org/springframework/samples/petclinic/web/AddOwnerController.java\n",
      "src/main/java/org/springframework/samples/petclinic/web/EditOwnerController.java\n",
      "src/main/java/org/springframework/samples/petclinic/web/OwnerController.java\n",
      "src/test/java/org/springframework/samples/petclinic/jpa/SpringDataClinicTests.java\n",
      "src/main/java/org/springframework/samples/petclinic/jdbc/JdbcClinicImpl.java\n",
      "src/main/java/org/springframework/samples/petclinic/jdbc/JdbcClinicImplMBean.java\n",
      "src/main/java/org/springframework/samples/petclinic/jdbc/JdbcPet.java\n",
      "src/main/java/org/springframework/samples/petclinic/jpa/JpaClinicImpl.java\n",
      "src/main/java/org/springframework/samples/petclinic/jpa/SpringDataClinic.java\n",
      "src/test/java/org/springframework/samples/petclinic/aspects/UsageLogAspectTests.java\n",
      "src/test/java/org/springframework/samples/petclinic/jdbc/JdbcClinicImplTests.java\n",
      "src/test/java/org/springframework/samples/petclinic/jpa/JpaClinicImplTests.java\n",
      "src/main/java/org/springframework/samples/petclinic/web/AddOwnerController.java\n",
      "src/main/java/org/springframework/samples/petclinic/web/AddPetController.java\n",
      "src/main/java/org/springframework/samples/petclinic/web/AddVisitController.java\n",
      "src/main/java/org/springframework/samples/petclinic/web/ClinicController.java\n",
      "src/main/java/org/springframework/samples/petclinic/web/EditOwnerController.java\n",
      "src/main/java/org/springframework/samples/petclinic/web/EditPetController.java\n",
      "src/main/java/org/springframework/samples/petclinic/web/FindOwnersController.java\n",
      "src/test/java/org/springframework/samples/petclinic/aspects/UsageLogAspectTests.java\n",
      "src/test/java/org/springframework/samples/petclinic/jdbc/JdbcClinicTests.java\n",
      "src/test/java/org/springframework/samples/petclinic/jpa/JpaClinicTests.java\n",
      "src/main/java/org/springframework/samples/petclinic/jpa/JpaClinic.java\n",
      "src/test/java/org/springframework/samples/petclinic/aspects/UsageLogAspectTests.java\n",
      "src/main/java/org/springframework/samples/petclinic/jdbc/JdbcClinic.java\n",
      "src/main/java/org/springframework/samples/petclinic/jdbc/JdbcClinicMBean.java\n",
      "src/main/java/org/springframework/samples/petclinic/jdbc/JdbcPet.java\n",
      "src/test/java/org/springframework/samples/petclinic/AbstractClinicTests.java\n",
      "src/test/java/org/springframework/samples/petclinic/aspects/UsageLogAspectTests.java\n",
      "src/test/java/org/springframework/samples/petclinic/jdbc/JdbcClinicTests.java\n",
      "src/test/java/org/springframework/samples/petclinic/jdbc/SimpleJdbcClinicTests.java\n",
      "src/test/java/org/springframework/samples/petclinic/jpa/JpaClinicTests.java\n",
      "src/main/java/org/springframework/samples/petclinic/BaseEntity.java\n",
      "src/main/java/org/springframework/samples/petclinic/Vet.java\n",
      "src/main/java/org/springframework/samples/petclinic/jpa/EntityManagerClinic.java\n",
      "src/test/java/org/springframework/samples/petclinic/jpa/JpaClinicTests.java\n",
      "src/main/java/org/springframework/samples/petclinic/BaseEntity.java\n",
      "src/main/java/org/springframework/samples/petclinic/Clinic.java\n",
      "src/main/java/org/springframework/samples/petclinic/NamedEntity.java\n",
      "src/main/java/org/springframework/samples/petclinic/Owner.java\n",
      "src/main/java/org/springframework/samples/petclinic/Person.java\n",
      "src/main/java/org/springframework/samples/petclinic/Pet.java\n",
      "src/main/java/org/springframework/samples/petclinic/PetType.java\n",
      "src/main/java/org/springframework/samples/petclinic/Specialty.java\n",
      "src/main/java/org/springframework/samples/petclinic/Vet.java\n",
      "src/main/java/org/springframework/samples/petclinic/Visit.java\n",
      "src/main/java/org/springframework/samples/petclinic/hibernate/HibernateClinic.java\n",
      "src/main/java/org/springframework/samples/petclinic/hibernate/package-info.java\n",
      "src/main/java/org/springframework/samples/petclinic/jdbc/SimpleJdbcClinic.java\n",
      "src/main/java/org/springframework/samples/petclinic/jpa/EntityManagerClinic.java\n",
      "src/main/java/org/springframework/samples/petclinic/web/AddPetController.java\n",
      "src/main/java/org/springframework/samples/petclinic/web/AddVisitController.java\n",
      "src/main/java/org/springframework/samples/petclinic/web/ClinicController.java\n",
      "src/main/java/org/springframework/samples/petclinic/web/EditOwnerController.java\n",
      "src/main/java/org/springframework/samples/petclinic/web/EditPetController.java\n",
      "src/test/java/org/springframework/samples/petclinic/AbstractClinicTests.java\n",
      "src/test/java/org/springframework/samples/petclinic/aspects/UsageLogAspectTests.java\n",
      "src/test/java/org/springframework/samples/petclinic/hibernate/HibernateClinicTests.java\n",
      "src/test/java/org/springframework/samples/petclinic/jpa/HibernateEntityManagerClinicTests.java\n",
      "src/test/java/org/springframework/samples/petclinic/jpa/JpaClinicTests.java\n",
      "src/main/java/org/springframework/samples/petclinic/web/ClinicController.java\n",
      "src/main/java/org/springframework/samples/petclinic/web/AddOwnerController.java\n",
      "src/main/java/org/springframework/samples/petclinic/web/AddPetController.java\n",
      "src/main/java/org/springframework/samples/petclinic/web/AddVisitController.java\n",
      "src/main/java/org/springframework/samples/petclinic/web/EditOwnerController.java\n",
      "src/main/java/org/springframework/samples/petclinic/web/EditPetController.java\n",
      "src/main/java/org/springframework/samples/petclinic/web/FindOwnersController.java\n",
      "org.springframework.samples.petclinic/src/main/java/org/springframework/samples/petclinic/HomeController.java\n",
      "org.springframework.samples.petclinic/src/main/java/org/springframework/samples/petclinic/appointments/Appointment.java\n",
      "org.springframework.samples.petclinic/src/main/java/org/springframework/samples/petclinic/appointments/AppointmentBook.java\n",
      "org.springframework.samples.petclinic/src/main/java/org/springframework/samples/petclinic/appointments/AppointmentForm.java\n",
      "org.springframework.samples.petclinic/src/main/java/org/springframework/samples/petclinic/appointments/Appointments.java\n",
      "org.springframework.samples.petclinic/src/main/java/org/springframework/samples/petclinic/appointments/AppointmentsController.java\n",
      "org.springframework.samples.petclinic/src/main/java/org/springframework/samples/petclinic/appointments/StubAppointmentBook.java\n",
      "org.springframework.samples.petclinic/src/main/java/org/springframework/samples/petclinic/owners/Owner.java\n",
      "org.springframework.samples.petclinic/src/main/java/org/springframework/samples/petclinic/owners/OwnerController.java\n",
      "org.springframework.samples.petclinic/src/main/java/org/springframework/samples/petclinic/owners/OwnerRepository.java\n",
      "org.springframework.samples.petclinic/src/main/java/org/springframework/samples/petclinic/owners/OwnerSearchForm.java\n",
      "org.springframework.samples.petclinic/src/main/java/org/springframework/samples/petclinic/owners/OwnersController.java\n",
      "org.springframework.samples.petclinic/src/main/java/org/springframework/samples/petclinic/owners/StubOwnerRepository.java\n"
     ]
    },
    {
     "name": "stdout",
     "output_type": "stream",
     "text": [
      "org.springframework.samples.petclinic/src/main/java/org/springframework/samples/petclinic/owners/pets/Gender.java\n",
      "org.springframework.samples.petclinic/src/main/java/org/springframework/samples/petclinic/owners/pets/Pet.java\n",
      "org.springframework.samples.petclinic/src/main/java/org/springframework/samples/petclinic/owners/pets/PetController.java\n",
      "org.springframework.samples.petclinic/src/main/java/org/springframework/samples/petclinic/owners/pets/PetRepository.java\n",
      "org.springframework.samples.petclinic/src/main/java/org/springframework/samples/petclinic/owners/pets/StubPetRepository.java\n",
      "org.springframework.samples.petclinic/src/main/java/org/springframework/samples/petclinic/util/ExternalContext.java\n",
      "org.springframework.samples.petclinic/src/main/java/org/springframework/samples/petclinic/util/Measurement.java\n",
      "org.springframework.samples.petclinic/src/main/java/org/springframework/samples/petclinic/util/Unit.java\n",
      "src/main/java/org/springframework/samples/petclinic/jdbc/SimpleJdbcClinic.java\n",
      "src/main/java/org/springframework/samples/petclinic/toplink/EssentialsHSQLPlatformWithNativeSequence.java\n",
      "src/main/java/org/springframework/samples/petclinic/toplink/package-info.java\n",
      "src/test/java/org/springframework/samples/petclinic/AbstractClinicTests.java\n",
      "src/test/java/org/springframework/samples/petclinic/hibernate/HibernateClinicTests.java\n",
      "src/test/java/org/springframework/samples/petclinic/jpa/AbstractJpaClinicTests.java\n",
      "src/test/java/org/springframework/samples/petclinic/jpa/EntityManagerClinicTests.java\n",
      "src/test/java/org/springframework/samples/petclinic/jpa/HibernateEntityManagerClinicTests.java\n",
      "src/test/java/org/springframework/samples/petclinic/jpa/OpenJpaEntityManagerClinicTests.java\n",
      "src/test/java/org/springframework/samples/petclinic/AbstractClinicTests.java\n",
      "src/test/java/org/springframework/samples/petclinic/jpa/AbstractJpaClinicTests.java\n",
      "src/main/java/org/springframework/samples/petclinic/aspects/AbstractTraceAspect.java\n",
      "src/main/java/org/springframework/samples/petclinic/jdbc/SimpleJdbcClinic.java\n",
      "src/test/java/org/springframework/samples/petclinic/jpa/AbstractJpaClinicTests.java\n",
      "src/test/java/org/springframework/samples/petclinic/hibernate/HibernateClinicTests.java\n",
      "src/test/java/org/springframework/samples/petclinic/jdbc/SimpleJdbcClinicTests.java\n",
      "src/test/java/org/springframework/samples/petclinic/PetClinicTestSuite.java\n",
      "src/main/java/org/springframework/samples/petclinic/config/DbcpDataSourceFactory.java\n",
      "src/main/java/org/springframework/samples/petclinic/BaseEntity.java\n",
      "src/main/java/org/springframework/samples/petclinic/Clinic.java\n",
      "src/main/java/org/springframework/samples/petclinic/NamedEntity.java\n",
      "src/main/java/org/springframework/samples/petclinic/Owner.java\n",
      "src/main/java/org/springframework/samples/petclinic/Person.java\n",
      "src/main/java/org/springframework/samples/petclinic/Pet.java\n",
      "src/main/java/org/springframework/samples/petclinic/PetType.java\n",
      "src/main/java/org/springframework/samples/petclinic/Specialty.java\n",
      "src/main/java/org/springframework/samples/petclinic/Vet.java\n",
      "src/main/java/org/springframework/samples/petclinic/Vets.java\n",
      "src/main/java/org/springframework/samples/petclinic/Visit.java\n",
      "src/main/java/org/springframework/samples/petclinic/aspects/AbstractTraceAspect.java\n",
      "src/main/java/org/springframework/samples/petclinic/aspects/CallMonitoringAspect.java\n",
      "src/main/java/org/springframework/samples/petclinic/aspects/UsageLogAspect.java\n",
      "src/main/java/org/springframework/samples/petclinic/config/DbcpDataSourceFactory.java\n",
      "src/main/java/org/springframework/samples/petclinic/hibernate/HibernateClinic.java\n",
      "src/main/java/org/springframework/samples/petclinic/hibernate/package-info.java\n",
      "src/main/java/org/springframework/samples/petclinic/jdbc/JdbcPet.java\n",
      "src/main/java/org/springframework/samples/petclinic/jdbc/SimpleJdbcClinic.java\n",
      "src/main/java/org/springframework/samples/petclinic/jdbc/SimpleJdbcClinicMBean.java\n",
      "src/main/java/org/springframework/samples/petclinic/jdbc/package-info.java\n",
      "src/main/java/org/springframework/samples/petclinic/jpa/EntityManagerClinic.java\n",
      "src/main/java/org/springframework/samples/petclinic/jpa/package-info.java\n",
      "src/main/java/org/springframework/samples/petclinic/package-info.java\n",
      "src/main/java/org/springframework/samples/petclinic/toplink/EssentialsHSQLPlatformWithNativeSequence.java\n",
      "src/main/java/org/springframework/samples/petclinic/toplink/package-info.java\n",
      "src/main/java/org/springframework/samples/petclinic/util/EntityUtils.java\n",
      "src/main/java/org/springframework/samples/petclinic/validation/OwnerValidator.java\n",
      "src/main/java/org/springframework/samples/petclinic/validation/PetValidator.java\n",
      "src/main/java/org/springframework/samples/petclinic/validation/VisitValidator.java\n",
      "src/main/java/org/springframework/samples/petclinic/validation/package-info.java\n",
      "src/main/java/org/springframework/samples/petclinic/web/AddOwnerForm.java\n",
      "src/main/java/org/springframework/samples/petclinic/web/AddPetForm.java\n",
      "src/main/java/org/springframework/samples/petclinic/web/AddVisitForm.java\n",
      "src/main/java/org/springframework/samples/petclinic/web/ClinicBindingInitializer.java\n",
      "src/main/java/org/springframework/samples/petclinic/web/ClinicController.java\n",
      "src/main/java/org/springframework/samples/petclinic/web/EditOwnerForm.java\n",
      "src/main/java/org/springframework/samples/petclinic/web/EditPetForm.java\n",
      "src/main/java/org/springframework/samples/petclinic/web/FindOwnersForm.java\n",
      "src/main/java/org/springframework/samples/petclinic/web/PetTypeEditor.java\n",
      "src/main/java/org/springframework/samples/petclinic/web/VisitsAtomView.java\n",
      "src/main/java/org/springframework/samples/petclinic/web/package-info.java\n",
      "src/test/java/org/springframework/samples/petclinic/AbstractClinicTests.java\n",
      "src/test/java/org/springframework/samples/petclinic/OwnerTests.java\n",
      "src/test/java/org/springframework/samples/petclinic/PetClinicTestSuite.java\n",
      "src/test/java/org/springframework/samples/petclinic/hibernate/HibernateClinicTests.java\n",
      "src/test/java/org/springframework/samples/petclinic/jdbc/SimpleJdbcClinicTests.java\n",
      "src/test/java/org/springframework/samples/petclinic/jpa/AbstractJpaClinicTests.java\n",
      "src/test/java/org/springframework/samples/petclinic/jpa/EntityManagerClinicTests.java\n",
      "src/test/java/org/springframework/samples/petclinic/jpa/HibernateEntityManagerClinicTests.java\n",
      "src/test/java/org/springframework/samples/petclinic/jpa/OpenJpaEntityManagerClinicTests.java\n",
      "src/test/java/org/springframework/samples/petclinic/web/VisitsAtomViewTest.java\n",
      "org.springframework.samples.petclinic/src/main/java/org/springframework/samples/petclinic/appointments/Appointment.java\n",
      "org.springframework.samples.petclinic/src/main/java/org/springframework/samples/petclinic/appointments/AppointmentBook.java\n",
      "org.springframework.samples.petclinic/src/main/java/org/springframework/samples/petclinic/appointments/AppointmentForm.java\n",
      "org.springframework.samples.petclinic/src/main/java/org/springframework/samples/petclinic/appointments/Appointments.java\n",
      "org.springframework.samples.petclinic/src/main/java/org/springframework/samples/petclinic/appointments/AppointmentsController.java\n",
      "org.springframework.samples.petclinic/src/main/java/org/springframework/samples/petclinic/appointments/StubAppointmentBook.java\n",
      "org.springframework.samples.petclinic/src/main/java/org/springframework/samples/petclinic/owners/Owner.java\n",
      "org.springframework.samples.petclinic/src/main/java/org/springframework/samples/petclinic/owners/OwnersController.java\n",
      "org.springframework.samples.petclinic/src/main/java/org/springframework/samples/petclinic/owners/Owner.java\n",
      "org.springframework.samples.petclinic/src/main/java/org/springframework/samples/petclinic/owners/OwnerController.java\n",
      "org.springframework.samples.petclinic/src/main/java/org/springframework/samples/petclinic/owners/OwnerRepository.java\n",
      "org.springframework.samples.petclinic/src/main/java/org/springframework/samples/petclinic/owners/OwnerSearchForm.java\n",
      "org.springframework.samples.petclinic/src/main/java/org/springframework/samples/petclinic/owners/OwnersController.java\n",
      "org.springframework.samples.petclinic/src/main/java/org/springframework/samples/petclinic/owners/StubOwnerRepository.java\n",
      "org.springframework.samples.petclinic/src/main/java/org/springframework/samples/petclinic/owners/pets/PetController.java\n"
     ]
    },
    {
     "name": "stdout",
     "output_type": "stream",
     "text": [
      "org.springframework.samples.petclinic/src/main/java/org/springframework/samples/petclinic/util/ExternalContext.java\n",
      "org.springframework.samples.petclinic/src/main/java/org/springframework/samples/petclinic/util/ResponseContext.java\n",
      "org.springframework.samples.petclinic/src/main/java/org/springframework/samples/petclinic/appointments/AppointmentsController.java\n",
      "org.springframework.samples.petclinic/src/main/java/org/springframework/samples/petclinic/owners/Owner.java\n",
      "org.springframework.samples.petclinic/src/main/java/org/springframework/samples/petclinic/owners/OwnerController.java\n",
      "org.springframework.samples.petclinic/src/main/java/org/springframework/samples/petclinic/owners/OwnerRepository.java\n",
      "org.springframework.samples.petclinic/src/main/java/org/springframework/samples/petclinic/owners/OwnersController.java\n",
      "org.springframework.samples.petclinic/src/main/java/org/springframework/samples/petclinic/owners/StubOwnerRepository.java\n",
      "org.springframework.samples.petclinic/src/main/java/org/springframework/samples/petclinic/owners/pets/Gender.java\n",
      "org.springframework.samples.petclinic/src/main/java/org/springframework/samples/petclinic/owners/pets/Pet.java\n",
      "org.springframework.samples.petclinic/src/main/java/org/springframework/samples/petclinic/owners/pets/PetController.java\n",
      "org.springframework.samples.petclinic/src/main/java/org/springframework/samples/petclinic/owners/pets/PetRepository.java\n",
      "org.springframework.samples.petclinic/src/main/java/org/springframework/samples/petclinic/owners/pets/StubPetRepository.java\n",
      "org.springframework.samples.petclinic/src/main/java/org/springframework/samples/petclinic/pet/Gender.java\n",
      "org.springframework.samples.petclinic/src/main/java/org/springframework/samples/petclinic/HomeController.java\n",
      "org.springframework.samples.petclinic/src/main/java/org/springframework/samples/petclinic/owner/Owner.java\n",
      "org.springframework.samples.petclinic/src/main/java/org/springframework/samples/petclinic/owner/OwnersController.java\n",
      "org.springframework.samples.petclinic/src/main/java/org/springframework/samples/petclinic/HomeController.java\n",
      "org.springframework.samples.petclinic/src/main/java/org/springframework/samples/petclinic/owner/StubOwnerRepository.java\n",
      "org.springframework.samples.petclinic/src/main/java/org/springframework/samples/petclinic/pet/StubPetRepository.java\n",
      "org.springframework.samples.petclinic/src/main/java/org/springframework/samples/petclinic/HomeController.java\n",
      "org.springframework.samples.petclinic/src/main/java/org/springframework/samples/petclinic/owner/Owner.java\n",
      "org.springframework.samples.petclinic/src/main/java/org/springframework/samples/petclinic/owner/OwnerController.java\n",
      "org.springframework.samples.petclinic/src/main/java/org/springframework/samples/petclinic/owner/OwnerRepository.java\n",
      "org.springframework.samples.petclinic/src/main/java/org/springframework/samples/petclinic/owner/OwnersController.java\n",
      "org.springframework.samples.petclinic/src/main/java/org/springframework/samples/petclinic/pet/Gender.java\n",
      "org.springframework.samples.petclinic/src/main/java/org/springframework/samples/petclinic/pet/Pet.java\n",
      "org.springframework.samples.petclinic/src/main/java/org/springframework/samples/petclinic/pet/PetController.java\n",
      "org.springframework.samples.petclinic/src/main/java/org/springframework/samples/petclinic/pet/PetRepository.java\n",
      "org.springframework.samples.petclinic/src/main/java/org/springframework/samples/petclinic/util/Measurement.java\n",
      "org.springframework.samples.petclinic/src/main/java/org/springframework/samples/petclinic/util/ResponseContext.java\n",
      "org.springframework.samples.petclinic/src/main/java/org/springframework/samples/petclinic/util/Unit.java\n"
     ]
    }
   ],
   "source": [
    "%%bash\n",
    "cd spring-framework-petclinic/\n",
    "git log --name-only --no-merges --format=\"\" -- *.java > ../changes.txt\n",
    "cat ../changes.txt"
   ]
  },
  {
   "cell_type": "markdown",
   "id": "77707e34",
   "metadata": {
    "slideshow": {
     "slide_type": "slide"
    }
   },
   "source": [
    "### Datenmassage mit Data-Science-Werkzeugen"
   ]
  },
  {
   "cell_type": "markdown",
   "id": "de4a0244",
   "metadata": {
    "slideshow": {
     "slide_type": "slide"
    }
   },
   "source": [
    "In der Theorie: Datei mit Zeilenanzahlen direkt einlesen"
   ]
  },
  {
   "cell_type": "code",
   "execution_count": 6,
   "id": "e024e1fe",
   "metadata": {
    "slideshow": {
     "slide_type": "-"
    }
   },
   "outputs": [
    {
     "name": "stdout",
     "output_type": "stream",
     "text": [
      "language,filename,blank,comment,code,\"github.com/AlDanial/cloc v 1.82  T=0.70 s (137.6 files/s, 34812.8 lines/s)\"\r\n",
      "SVG,./src/main/webapp/resources/fonts/varela_round-webfont.svg,0,0,7875\r\n",
      "CSS,./src/main/webapp/resources/css/petclinic.css,852,28,7131\r\n",
      "SVG,./src/main/webapp/resources/fonts/montserrat-webfont.svg,0,0,1283\r\n"
     ]
    }
   ],
   "source": [
    "!head -n 4 lines.csv"
   ]
  },
  {
   "cell_type": "code",
   "execution_count": 7,
   "id": "01617705",
   "metadata": {
    "slideshow": {
     "slide_type": "fragment"
    }
   },
   "outputs": [
    {
     "data": {
      "text/html": [
       "<div>\n",
       "<style scoped>\n",
       "    .dataframe tbody tr th:only-of-type {\n",
       "        vertical-align: middle;\n",
       "    }\n",
       "\n",
       "    .dataframe tbody tr th {\n",
       "        vertical-align: top;\n",
       "    }\n",
       "\n",
       "    .dataframe thead th {\n",
       "        text-align: right;\n",
       "    }\n",
       "</style>\n",
       "<table border=\"1\" class=\"dataframe\">\n",
       "  <thead>\n",
       "    <tr style=\"text-align: right;\">\n",
       "      <th></th>\n",
       "      <th>language</th>\n",
       "      <th>filename</th>\n",
       "      <th>blank</th>\n",
       "      <th>comment</th>\n",
       "      <th>code</th>\n",
       "      <th>github.com/AlDanial/cloc v 1.82  T=0.70 s (137.6 files/s, 34812.8 lines/s)</th>\n",
       "    </tr>\n",
       "  </thead>\n",
       "  <tbody>\n",
       "    <tr>\n",
       "      <th>0</th>\n",
       "      <td>SVG</td>\n",
       "      <td>./src/main/webapp/resources/fonts/varela_round...</td>\n",
       "      <td>0</td>\n",
       "      <td>0</td>\n",
       "      <td>7875</td>\n",
       "      <td>NaN</td>\n",
       "    </tr>\n",
       "    <tr>\n",
       "      <th>1</th>\n",
       "      <td>CSS</td>\n",
       "      <td>./src/main/webapp/resources/css/petclinic.css</td>\n",
       "      <td>852</td>\n",
       "      <td>28</td>\n",
       "      <td>7131</td>\n",
       "      <td>NaN</td>\n",
       "    </tr>\n",
       "    <tr>\n",
       "      <th>2</th>\n",
       "      <td>SVG</td>\n",
       "      <td>./src/main/webapp/resources/fonts/montserrat-w...</td>\n",
       "      <td>0</td>\n",
       "      <td>0</td>\n",
       "      <td>1283</td>\n",
       "      <td>NaN</td>\n",
       "    </tr>\n",
       "  </tbody>\n",
       "</table>\n",
       "</div>"
      ],
      "text/plain": [
       "  language                                           filename  blank  comment  \\\n",
       "0      SVG  ./src/main/webapp/resources/fonts/varela_round...      0        0   \n",
       "1      CSS      ./src/main/webapp/resources/css/petclinic.css    852       28   \n",
       "2      SVG  ./src/main/webapp/resources/fonts/montserrat-w...      0        0   \n",
       "\n",
       "   code  \\\n",
       "0  7875   \n",
       "1  7131   \n",
       "2  1283   \n",
       "\n",
       "   github.com/AlDanial/cloc v 1.82  T=0.70 s (137.6 files/s, 34812.8 lines/s)  \n",
       "0                                                NaN                           \n",
       "1                                                NaN                           \n",
       "2                                                NaN                           "
      ]
     },
     "execution_count": 7,
     "metadata": {},
     "output_type": "execute_result"
    }
   ],
   "source": [
    "import pandas as pd\n",
    "pd.read_csv(\"lines.csv\").head(3)"
   ]
  },
  {
   "cell_type": "markdown",
   "id": "6545c7b5",
   "metadata": {
    "slideshow": {
     "slide_type": "slide"
    }
   },
   "source": [
    "In der Praxis: Einlesen mit kleineren Anpassungen"
   ]
  },
  {
   "cell_type": "code",
   "execution_count": 8,
   "id": "d91ad034",
   "metadata": {
    "scrolled": true,
    "slideshow": {
     "slide_type": "-"
    }
   },
   "outputs": [
    {
     "data": {
      "text/html": [
       "<div>\n",
       "<style scoped>\n",
       "    .dataframe tbody tr th:only-of-type {\n",
       "        vertical-align: middle;\n",
       "    }\n",
       "\n",
       "    .dataframe tbody tr th {\n",
       "        vertical-align: top;\n",
       "    }\n",
       "\n",
       "    .dataframe thead th {\n",
       "        text-align: right;\n",
       "    }\n",
       "</style>\n",
       "<table border=\"1\" class=\"dataframe\">\n",
       "  <thead>\n",
       "    <tr style=\"text-align: right;\">\n",
       "      <th></th>\n",
       "      <th>code</th>\n",
       "    </tr>\n",
       "    <tr>\n",
       "      <th>filename</th>\n",
       "      <th></th>\n",
       "    </tr>\n",
       "  </thead>\n",
       "  <tbody>\n",
       "    <tr>\n",
       "      <th>src/main/webapp/resources/fonts/varela_round-webfont.svg</th>\n",
       "      <td>7875</td>\n",
       "    </tr>\n",
       "    <tr>\n",
       "      <th>src/main/webapp/resources/css/petclinic.css</th>\n",
       "      <td>7131</td>\n",
       "    </tr>\n",
       "    <tr>\n",
       "      <th>src/main/webapp/resources/fonts/montserrat-webfont.svg</th>\n",
       "      <td>1283</td>\n",
       "    </tr>\n",
       "    <tr>\n",
       "      <th>pom.xml</th>\n",
       "      <td>528</td>\n",
       "    </tr>\n",
       "    <tr>\n",
       "      <th>mvnw</th>\n",
       "      <td>215</td>\n",
       "    </tr>\n",
       "  </tbody>\n",
       "</table>\n",
       "</div>"
      ],
      "text/plain": [
       "                                                    code\n",
       "filename                                                \n",
       "src/main/webapp/resources/fonts/varela_round-we...  7875\n",
       "src/main/webapp/resources/css/petclinic.css         7131\n",
       "src/main/webapp/resources/fonts/montserrat-webf...  1283\n",
       "pom.xml                                              528\n",
       "mvnw                                                 215"
      ]
     },
     "execution_count": 8,
     "metadata": {},
     "output_type": "execute_result"
    }
   ],
   "source": [
    "lines = pd.read_csv(\"lines.csv\", index_col=1)[:-1][['code']]\n",
    "lines.index = lines.index.str[2:]\n",
    "lines.head()"
   ]
  },
  {
   "cell_type": "markdown",
   "id": "3a5b3ff5",
   "metadata": {
    "slideshow": {
     "slide_type": "slide"
    }
   },
   "source": [
    "Datei mit jeder geänderten Datei einlesen (+ Spaltennamen)"
   ]
  },
  {
   "cell_type": "code",
   "execution_count": 9,
   "id": "d2312a85",
   "metadata": {
    "slideshow": {
     "slide_type": "-"
    }
   },
   "outputs": [
    {
     "name": "stdout",
     "output_type": "stream",
     "text": [
      "src/main/java/org/springframework/samples/petclinic/web/OwnerController.java\r\n",
      "src/main/java/org/springframework/samples/petclinic/web/PetController.java\r\n",
      "src/main/java/org/springframework/samples/petclinic/web/VisitController.java\r\n",
      "src/main/java/org/springframework/samples/petclinic/model/BaseEntity.java\r\n",
      "src/main/java/org/springframework/samples/petclinic/model/NamedEntity.java\r\n"
     ]
    }
   ],
   "source": [
    "!head -n 5 changes.txt"
   ]
  },
  {
   "cell_type": "code",
   "execution_count": 10,
   "id": "3c0e4280",
   "metadata": {
    "slideshow": {
     "slide_type": "fragment"
    }
   },
   "outputs": [
    {
     "data": {
      "text/html": [
       "<div>\n",
       "<style scoped>\n",
       "    .dataframe tbody tr th:only-of-type {\n",
       "        vertical-align: middle;\n",
       "    }\n",
       "\n",
       "    .dataframe tbody tr th {\n",
       "        vertical-align: top;\n",
       "    }\n",
       "\n",
       "    .dataframe thead th {\n",
       "        text-align: right;\n",
       "    }\n",
       "</style>\n",
       "<table border=\"1\" class=\"dataframe\">\n",
       "  <thead>\n",
       "    <tr style=\"text-align: right;\">\n",
       "      <th></th>\n",
       "      <th>filepath</th>\n",
       "    </tr>\n",
       "  </thead>\n",
       "  <tbody>\n",
       "    <tr>\n",
       "      <th>0</th>\n",
       "      <td>src/main/java/org/springframework/samples/petc...</td>\n",
       "    </tr>\n",
       "    <tr>\n",
       "      <th>1</th>\n",
       "      <td>src/main/java/org/springframework/samples/petc...</td>\n",
       "    </tr>\n",
       "    <tr>\n",
       "      <th>2</th>\n",
       "      <td>src/main/java/org/springframework/samples/petc...</td>\n",
       "    </tr>\n",
       "    <tr>\n",
       "      <th>3</th>\n",
       "      <td>src/main/java/org/springframework/samples/petc...</td>\n",
       "    </tr>\n",
       "    <tr>\n",
       "      <th>4</th>\n",
       "      <td>src/main/java/org/springframework/samples/petc...</td>\n",
       "    </tr>\n",
       "  </tbody>\n",
       "</table>\n",
       "</div>"
      ],
      "text/plain": [
       "                                            filepath\n",
       "0  src/main/java/org/springframework/samples/petc...\n",
       "1  src/main/java/org/springframework/samples/petc...\n",
       "2  src/main/java/org/springframework/samples/petc...\n",
       "3  src/main/java/org/springframework/samples/petc...\n",
       "4  src/main/java/org/springframework/samples/petc..."
      ]
     },
     "execution_count": 10,
     "metadata": {},
     "output_type": "execute_result"
    }
   ],
   "source": [
    "change_per_file = pd.read_csv(\"changes.txt\", names=['filepath'])\n",
    "change_per_file.head()"
   ]
  },
  {
   "cell_type": "markdown",
   "id": "f45e61df",
   "metadata": {
    "slideshow": {
     "slide_type": "slide"
    }
   },
   "source": [
    "Noch zu erledigen: Änderungen / Vorkommen der Dateien zählen"
   ]
  },
  {
   "cell_type": "code",
   "execution_count": 11,
   "id": "625cdce8",
   "metadata": {
    "slideshow": {
     "slide_type": "-"
    }
   },
   "outputs": [
    {
     "data": {
      "text/html": [
       "<div>\n",
       "<style scoped>\n",
       "    .dataframe tbody tr th:only-of-type {\n",
       "        vertical-align: middle;\n",
       "    }\n",
       "\n",
       "    .dataframe tbody tr th {\n",
       "        vertical-align: top;\n",
       "    }\n",
       "\n",
       "    .dataframe thead th {\n",
       "        text-align: right;\n",
       "    }\n",
       "</style>\n",
       "<table border=\"1\" class=\"dataframe\">\n",
       "  <thead>\n",
       "    <tr style=\"text-align: right;\">\n",
       "      <th></th>\n",
       "      <th>changes</th>\n",
       "    </tr>\n",
       "  </thead>\n",
       "  <tbody>\n",
       "    <tr>\n",
       "      <th>src/main/java/org/springframework/samples/petclinic/repository/jdbc/JdbcOwnerRepositoryImpl.java</th>\n",
       "      <td>27</td>\n",
       "    </tr>\n",
       "    <tr>\n",
       "      <th>src/main/java/org/springframework/samples/petclinic/web/OwnerController.java</th>\n",
       "      <td>23</td>\n",
       "    </tr>\n",
       "    <tr>\n",
       "      <th>src/main/java/org/springframework/samples/petclinic/web/PetController.java</th>\n",
       "      <td>22</td>\n",
       "    </tr>\n",
       "    <tr>\n",
       "      <th>src/test/java/org/springframework/samples/petclinic/service/AbstractClinicServiceTests.java</th>\n",
       "      <td>21</td>\n",
       "    </tr>\n",
       "    <tr>\n",
       "      <th>src/main/java/org/springframework/samples/petclinic/repository/jdbc/JdbcVetRepositoryImpl.java</th>\n",
       "      <td>20</td>\n",
       "    </tr>\n",
       "  </tbody>\n",
       "</table>\n",
       "</div>"
      ],
      "text/plain": [
       "                                                    changes\n",
       "src/main/java/org/springframework/samples/petcl...       27\n",
       "src/main/java/org/springframework/samples/petcl...       23\n",
       "src/main/java/org/springframework/samples/petcl...       22\n",
       "src/test/java/org/springframework/samples/petcl...       21\n",
       "src/main/java/org/springframework/samples/petcl...       20"
      ]
     },
     "execution_count": 11,
     "metadata": {},
     "output_type": "execute_result"
    }
   ],
   "source": [
    "changes = pd.DataFrame(change_per_file['filepath'].value_counts())\n",
    "changes.columns = [\"changes\"]\n",
    "changes.head()"
   ]
  },
  {
   "cell_type": "markdown",
   "id": "b26bc156",
   "metadata": {
    "slideshow": {
     "slide_type": "slide"
    }
   },
   "source": [
    "Getrennte Daten zusammenführen"
   ]
  },
  {
   "cell_type": "code",
   "execution_count": 12,
   "id": "6394fcd3",
   "metadata": {
    "slideshow": {
     "slide_type": "-"
    }
   },
   "outputs": [
    {
     "data": {
      "text/html": [
       "<div>\n",
       "<style scoped>\n",
       "    .dataframe tbody tr th:only-of-type {\n",
       "        vertical-align: middle;\n",
       "    }\n",
       "\n",
       "    .dataframe tbody tr th {\n",
       "        vertical-align: top;\n",
       "    }\n",
       "\n",
       "    .dataframe thead th {\n",
       "        text-align: right;\n",
       "    }\n",
       "</style>\n",
       "<table border=\"1\" class=\"dataframe\">\n",
       "  <thead>\n",
       "    <tr style=\"text-align: right;\">\n",
       "      <th></th>\n",
       "      <th>changes</th>\n",
       "      <th>code</th>\n",
       "    </tr>\n",
       "  </thead>\n",
       "  <tbody>\n",
       "    <tr>\n",
       "      <th>src/main/java/org/springframework/samples/petclinic/repository/jdbc/JdbcOwnerRepositoryImpl.java</th>\n",
       "      <td>27</td>\n",
       "      <td>98.0</td>\n",
       "    </tr>\n",
       "    <tr>\n",
       "      <th>src/main/java/org/springframework/samples/petclinic/web/OwnerController.java</th>\n",
       "      <td>23</td>\n",
       "      <td>83.0</td>\n",
       "    </tr>\n",
       "    <tr>\n",
       "      <th>src/main/java/org/springframework/samples/petclinic/web/PetController.java</th>\n",
       "      <td>22</td>\n",
       "      <td>76.0</td>\n",
       "    </tr>\n",
       "    <tr>\n",
       "      <th>src/test/java/org/springframework/samples/petclinic/service/AbstractClinicServiceTests.java</th>\n",
       "      <td>21</td>\n",
       "      <td>135.0</td>\n",
       "    </tr>\n",
       "    <tr>\n",
       "      <th>src/main/java/org/springframework/samples/petclinic/repository/jdbc/JdbcVetRepositoryImpl.java</th>\n",
       "      <td>20</td>\n",
       "      <td>48.0</td>\n",
       "    </tr>\n",
       "  </tbody>\n",
       "</table>\n",
       "</div>"
      ],
      "text/plain": [
       "                                                    changes   code\n",
       "src/main/java/org/springframework/samples/petcl...       27   98.0\n",
       "src/main/java/org/springframework/samples/petcl...       23   83.0\n",
       "src/main/java/org/springframework/samples/petcl...       22   76.0\n",
       "src/test/java/org/springframework/samples/petcl...       21  135.0\n",
       "src/main/java/org/springframework/samples/petcl...       20   48.0"
      ]
     },
     "execution_count": 12,
     "metadata": {},
     "output_type": "execute_result"
    }
   ],
   "source": [
    "hotspots = changes.join(lines).dropna()\n",
    "hotspots.head()"
   ]
  },
  {
   "cell_type": "markdown",
   "id": "599d781e",
   "metadata": {
    "slideshow": {
     "slide_type": "slide"
    }
   },
   "source": [
    "### Visualisierung"
   ]
  },
  {
   "cell_type": "markdown",
   "id": "83a8ecac",
   "metadata": {
    "slideshow": {
     "slide_type": "slide"
    }
   },
   "source": [
    "#### Woher nehmen?\n",
    "![](demo/d3_gallery_demo.gif)"
   ]
  },
  {
   "cell_type": "markdown",
   "id": "fc731287",
   "metadata": {
    "slideshow": {
     "slide_type": "slide"
    }
   },
   "source": [
    "#### Hinter den Kulissen der Visualisierung\n",
    "Wir brauchen: Datenformat und Template"
   ]
  },
  {
   "cell_type": "markdown",
   "id": "de7356cf",
   "metadata": {
    "slideshow": {
     "slide_type": "-"
    }
   },
   "source": [
    "<small><pre>{\n",
    "    'name': 'flare',\n",
    "    'children': [{\n",
    "            'name': 'src',\n",
    "            'children': [{\n",
    "                    'name': 'main',\n",
    "                    'children': [{\n",
    "                            'name': 'java',\n",
    "                            'children': [{\n",
    "                                    'name': 'org',\n",
    "                                    'children': [{\n",
    "                                            'name': 'springframework',\n",
    "                                            'children': [{\n",
    "                                                    'name': 'samples',\n",
    "                                                    'children': [{\n",
    "                                                            'name': 'petclinic',\n",
    "                                                            'children': [{\n",
    "                                                                    'name': 'repository',\n",
    "                                                                    'children': [{\n",
    "                                                                            'name': 'jdbc',\n",
    "                                                                            'children': [{\n",
    "                                                                                    'name': 'JdbcOwnerRepositoryImpl.java (158.0 [27])',\n",
    "                                                                                    'size': 158.0,\n",
    "                                                                                    'color': '#b40426'\n",
    "                                                                                }, {\n",
    "                                                                                    'name': 'JdbcVetRepositoryImpl.java (88.0 [20])',\n",
    "                                                                                    'size': 88.0,\n",
    "                                                                                    'color': '#f59d7e'\n",
    "                                                                                }, {\n",
    "                                                                                    'name': 'JdbcVisitRepositoryImpl.java (103.0 [19])',\n",
    "                                                                                    'size': 103.0,\n",
    "                                                                                    'color': '#f7aa8c'\n",
    "                                                                                }, {\n",
    "                                                                                    'name': 'JdbcPetRepositoryImpl.java (116.0 [17])',\n",
    "                                                                                    'size': 116.0,\n",
    "                                                                                    'color': '#f5c2aa'\n",
    "                                                                                }, {\n",
    "                                                                                    'name': 'JdbcPetRowMapper.java (40.0 [13])',\n",
    "                                                                                    'size': 40.0,\n",
    "                                                                                    'color': '#d8dce2'\n",
    "                                                                                }, {\n",
    "                                                                                    'name': 'JdbcPet.java (48.0 [8])',\n",
    "                                                                                    'size': 48.0,\n",
    "                                                                                    'color': '#9dbdff'\n",
    "                                                                                }, {\n",
    "                                                                                    'name': 'JdbcVisitRowMapper.java (40.0 [8])',\n",
    "                                                                                    'size': 40.0,\n",
    "                                                                                    'color': '#9dbdff'\n",
    "                                                                                }, {\n",
    "                                                                                    'name': 'JdbcPetVisitExtractor.java (53.0 [4])',\n",
    "                                                                                    'size': 53.0,\n",
    "                                                                                    'color': '#688aef'\n",
    "                                                                                }, {\n",
    "                                                                                    'name': 'OneToManyResultSetExtractor.java (159.0 [2])',\n",
    "                                                                                    'size': 159.0,\n",
    "                                                                                    'color': '#506bda'\n",
    "                                                                                }, {\n",
    "                                                                                    'name': 'package-info.java (6.0 [2])',\n",
    "                                                                                    'size': 6.0,\n",
    "                                                                                    'color': '#506bda'\n",
    "                                                                                }\n",
    "                                                                            ]\n",
    "                                                                        }, {\n",
    "                                                                            'name': 'jpa',\n",
    "                                                                            'children': [{\n",
    "                                                                                    'name': 'JpaOwnerRepositoryImpl.java (81.0 [17])',\n",
    "                                                                                    'size': 81.0,\n",
    "                                                                                    'color': '#f5c2aa'\n",
    "                                                                                }, {\n",
    "                                                                                    'name': 'JpaVisitRepositoryImpl.java (64.0 [12])',\n",
    "                                                                                    'size': 64.0,\n",
    "                                                                                    'color': '#cdd9ec'\n",
    "                                                                                }, {\n",
    "                                                                                    'name': 'JpaVetRepositoryImpl.java (48.0 [11])',\n",
    "                                                                                    'size': 48.0,\n",
    "                                                                                    'color': '#c3d5f4'\n",
    "                                                                                }, {\n",
    "                                                                                    'name': 'JpaPetRepositoryImpl.java (63.0 [10])',\n",
    "                                                                                    'size': 63.0,\n",
    "                                                                                    'color': '#b6cefa'\n",
    "                                                                                }, {\n",
    "                                                                                    'name': 'package-info.java (6.0 [2])',\n",
    "                                                                                    'size': 6.0,\n",
    "                                                                                    'color': '#506bda'\n",
    "                                                                                }\n",
    "                                                                            ]\n",
    "                                                                        }\n",
    "                                                                                ...\n",
    "</pre></small>"
   ]
  },
  {
   "cell_type": "markdown",
   "id": "786ea93b",
   "metadata": {
    "slideshow": {
     "slide_type": "slide"
    }
   },
   "source": [
    "Daten für Visualisierung aufbereiten"
   ]
  },
  {
   "cell_type": "code",
   "execution_count": 13,
   "id": "25fb09e0",
   "metadata": {
    "slideshow": {
     "slide_type": "-"
    }
   },
   "outputs": [],
   "source": [
    "from matplotlib import cm\n",
    "from matplotlib.colors import rgb2hex\n",
    "\n",
    "def create_plot_data(df, color_column_name, size_column_name, seperator):\n",
    "    plot_data = pd.DataFrame(index=df.index)\n",
    "    plot_data['value_for_color'] = df[color_column_name]\n",
    "    plot_data['ratio_for_color'] = plot_data['value_for_color'] / plot_data['value_for_color'].max()\n",
    "    plot_data['color'] = plot_data['ratio_for_color'].apply(lambda x : rgb2hex(cm.coolwarm(x)))\n",
    "    plot_data['size'] = df[size_column_name]\n",
    "    plot_data[['path', 'name']] = df.index.str.rsplit(seperator, n=1).to_list()\n",
    "    plot_data['path_list'] = plot_data['path'].str.split(seperator)\n",
    "    return plot_data"
   ]
  },
  {
   "cell_type": "markdown",
   "id": "76eb8f7c",
   "metadata": {
    "slideshow": {
     "slide_type": "slide"
    }
   },
   "source": [
    "In D3-Datenformat (JSON) umwandeln"
   ]
  },
  {
   "cell_type": "code",
   "execution_count": 14,
   "id": "471c1e9e",
   "metadata": {
    "slideshow": {
     "slide_type": "-"
    }
   },
   "outputs": [],
   "source": [
    "import json\n",
    "\n",
    "def create_flare_json(df):\n",
    "\n",
    "    json_data = {'name': 'flare', 'children': []}\n",
    "\n",
    "    for _, series in df.iterrows():\n",
    "        hierarchical_data = series['path_list']\n",
    "\n",
    "        children = json_data['children']\n",
    "        for part in hierarchical_data:\n",
    "            entry = next((child for child in children if child.get('name', '') == part), None)\n",
    "            if not entry:\n",
    "                entry = {'name': part, 'children': []}\n",
    "                children.append(entry)\n",
    "            children = entry['children']\n",
    "\n",
    "        children.append({\n",
    "            'name': f\"{series['name']} ({series['size']} [{series['value_for_color']}])\",\n",
    "            'size': series['size'],\n",
    "            'color': series['color']\n",
    "        })\n",
    "\n",
    "    return json_data"
   ]
  },
  {
   "cell_type": "markdown",
   "id": "54d7eb7b",
   "metadata": {
    "slideshow": {
     "slide_type": "slide"
    }
   },
   "source": [
    "Alles anstoßen, HTML-Template mit Daten füttern und Datei erzeugen"
   ]
  },
  {
   "cell_type": "code",
   "execution_count": 15,
   "id": "f8d82463",
   "metadata": {
    "slideshow": {
     "slide_type": "-"
    }
   },
   "outputs": [
    {
     "data": {
      "text/html": [
       "<a href=\"hotspots.html\">hotspots.html</a>"
      ],
      "text/plain": [
       "<IPython.core.display.HTML object>"
      ]
     },
     "execution_count": 15,
     "metadata": {},
     "output_type": "execute_result"
    }
   ],
   "source": [
    "from IPython.core.display import HTML\n",
    "\n",
    "def create_hotspot_file(hotspots, color_column_name, size_column_name, separator):\n",
    "    json_data = create_flare_json(create_plot_data(hotspots, color_column_name, size_column_name,separator))\n",
    "            \n",
    "    with open(\"vis/template_hierarchical_d3_inline.html\") as html_template:\n",
    "        html = html_template.read().replace(\"###FLARE_JSON###\", str(json_data))\n",
    "        \n",
    "        with open(f'hotspots.html', mode='w') as html_out:\n",
    "            html_out.write(html)\n",
    "    \n",
    "    return HTML('<a href=\"hotspots.html\">hotspots.html</a>')\n",
    "            \n",
    "create_hotspot_file(hotspots, \"changes\", \"code\", \"/\")"
   ]
  },
  {
   "cell_type": "markdown",
   "id": "e14c365f",
   "metadata": {
    "slideshow": {
     "slide_type": "slide"
    }
   },
   "source": [
    "### Ende der Demo"
   ]
  }
 ],
 "metadata": {
  "celltoolbar": "Slideshow",
  "kernelspec": {
   "display_name": "Python 3 (ipykernel)",
   "language": "python",
   "name": "python3"
  },
  "language_info": {
   "codemirror_mode": {
    "name": "ipython",
    "version": 3
   },
   "file_extension": ".py",
   "mimetype": "text/x-python",
   "name": "python",
   "nbconvert_exporter": "python",
   "pygments_lexer": "ipython3",
   "version": "3.9.18"
  },
  "rise": {
   "controls": false,
   "progress": false,
   "scroll": true,
   "showSlideNumber": "speaker",
   "slideNumber ": false,
   "transition": "none"
  }
 },
 "nbformat": 4,
 "nbformat_minor": 5
}
