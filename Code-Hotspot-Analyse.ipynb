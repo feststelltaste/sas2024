{
 "cells": [
  {
   "cell_type": "markdown",
   "id": "494fcbe6",
   "metadata": {
    "slideshow": {
     "slide_type": "slide"
    }
   },
   "source": [
    "# Code-Hotspot-Analyse\n",
    "Step-by-Step-Tutorial\n"
   ]
  },
  {
   "cell_type": "markdown",
   "id": "d7759c33",
   "metadata": {
    "slideshow": {
     "slide_type": "slide"
    }
   },
   "source": [
    "## Rohdaten via Kommandozeile"
   ]
  },
  {
   "cell_type": "markdown",
   "id": "2a7e2ddf",
   "metadata": {
    "slideshow": {
     "slide_type": "slide"
    }
   },
   "source": [
    "### Lines of Code (\"Complexity\")"
   ]
  },
  {
   "cell_type": "markdown",
   "id": "c1fc83ea",
   "metadata": {
    "slideshow": {
     "slide_type": "slide"
    }
   },
   "source": [
    "Variante mit `cloc`"
   ]
  },
  {
   "cell_type": "code",
   "execution_count": 1,
   "id": "601576dc",
   "metadata": {
    "slideshow": {
     "slide_type": "-"
    }
   },
   "outputs": [
    {
     "name": "stdout",
     "output_type": "stream",
     "text": [
      "language,filename,blank,comment,code,\"github.com/AlDanial/cloc v 1.98  T=1.63 s (67.0 files/s 10622.5 lines/s)\"\n",
      "SVG,./src/main/webapp/resources/fonts/varela_round-webfont.svg,0,0,7875\n",
      "SVG,./src/main/webapp/resources/fonts/montserrat-webfont.svg,0,0,1283\n",
      "Maven,./pom.xml,41,32,483\n",
      "XSD,./src/main/resources/cache/ehcache.xsd,13,1,405\n",
      "XML,./src/test/jmeter/petclinic_test_plan.jmx,0,0,401\n",
      "Bourne Shell,./mvnw,33,62,215\n",
      "LESS,./src/main/webapp/resources/less/petclinic.less,44,13,182\n",
      "Text,./LICENSE.txt,32,0,169\n",
      "Markdown,./readme.md,73,0,156\n"
     ]
    }
   ],
   "source": [
    "%%bash\n",
    "cd spring-framework-petclinic/\n",
    "cloc . --by-file --quiet --csv --out ../output/cloc_lines.csv\n",
    "head ../output/cloc_lines.csv"
   ]
  },
  {
   "cell_type": "markdown",
   "id": "0d4ad7d7",
   "metadata": {
    "slideshow": {
     "slide_type": "slide"
    }
   },
   "source": [
    "### Änderungshäufigkeiten (\"Hotness\")"
   ]
  },
  {
   "cell_type": "markdown",
   "id": "a49f0960",
   "metadata": {
    "slideshow": {
     "slide_type": "slide"
    }
   },
   "source": [
    "Änderungen pro Datei mit `git log`"
   ]
  },
  {
   "cell_type": "code",
   "execution_count": 2,
   "id": "9c8d52cf",
   "metadata": {
    "slideshow": {
     "slide_type": "-"
    }
   },
   "outputs": [
    {
     "name": "stdout",
     "output_type": "stream",
     "text": [
      "src/test/java/org/springframework/samples/petclinic/web/VetControllerTests.java\n",
      "src/main/java/org/springframework/samples/petclinic/web/VetController.java\n",
      "src/main/java/org/springframework/samples/petclinic/web/VetController.java\n",
      "src/main/java/org/springframework/samples/petclinic/web/VetController.java\n",
      "src/main/java/org/springframework/samples/petclinic/repository/jdbc/JdbcVisitRowMapper.java\n",
      "src/main/java/org/springframework/samples/petclinic/util/EntityUtils.java\n",
      "src/main/java/org/springframework/samples/petclinic/repository/jdbc/JdbcPetRepositoryImpl.java\n",
      "src/main/java/org/springframework/samples/petclinic/repository/OwnerRepository.java\n",
      "src/main/java/org/springframework/samples/petclinic/repository/PetRepository.java\n",
      "src/main/java/org/springframework/samples/petclinic/repository/VetRepository.java\n"
     ]
    }
   ],
   "source": [
    "%%bash\n",
    "cd spring-framework-petclinic/\n",
    "git log --name-only --no-merges --format=\"\" -- *.java > ../output/changes.txt\n",
    "head ../output/changes.txt"
   ]
  },
  {
   "cell_type": "markdown",
   "id": "77707e34",
   "metadata": {
    "slideshow": {
     "slide_type": "slide"
    }
   },
   "source": [
    "## Datenmassage mit Data-Science-Werkzeugen"
   ]
  },
  {
   "cell_type": "markdown",
   "id": "bcb8b194",
   "metadata": {},
   "source": [
    "### Lines of Code"
   ]
  },
  {
   "cell_type": "markdown",
   "id": "662d04ef",
   "metadata": {},
   "source": [
    "\"Lines of Code\"-Daten einlesen"
   ]
  },
  {
   "cell_type": "code",
   "execution_count": 3,
   "id": "e024e1fe",
   "metadata": {
    "slideshow": {
     "slide_type": "-"
    }
   },
   "outputs": [
    {
     "name": "stdout",
     "output_type": "stream",
     "text": [
      "language,filename,blank,comment,code,\"github.com/AlDanial/cloc v 1.98  T=1.63 s (67.0 files/s 10622.5 lines/s)\"\r\n",
      "SVG,./src/main/webapp/resources/fonts/varela_round-webfont.svg,0,0,7875\r\n",
      "SVG,./src/main/webapp/resources/fonts/montserrat-webfont.svg,0,0,1283\r\n",
      "Maven,./pom.xml,41,32,483\r\n",
      "XSD,./src/main/resources/cache/ehcache.xsd,13,1,405\r\n"
     ]
    }
   ],
   "source": [
    "!head -n 5 output/cloc_lines.csv"
   ]
  },
  {
   "cell_type": "markdown",
   "id": "de4a0244",
   "metadata": {
    "slideshow": {
     "slide_type": "slide"
    }
   },
   "source": [
    "In der Theorie: Datei mit Zeilenanzahlen direkt einlesen"
   ]
  },
  {
   "cell_type": "code",
   "execution_count": 4,
   "id": "01617705",
   "metadata": {
    "slideshow": {
     "slide_type": "fragment"
    }
   },
   "outputs": [
    {
     "data": {
      "text/html": [
       "<div>\n",
       "<style scoped>\n",
       "    .dataframe tbody tr th:only-of-type {\n",
       "        vertical-align: middle;\n",
       "    }\n",
       "\n",
       "    .dataframe tbody tr th {\n",
       "        vertical-align: top;\n",
       "    }\n",
       "\n",
       "    .dataframe thead th {\n",
       "        text-align: right;\n",
       "    }\n",
       "</style>\n",
       "<table border=\"1\" class=\"dataframe\">\n",
       "  <thead>\n",
       "    <tr style=\"text-align: right;\">\n",
       "      <th></th>\n",
       "      <th>language</th>\n",
       "      <th>filename</th>\n",
       "      <th>blank</th>\n",
       "      <th>comment</th>\n",
       "      <th>code</th>\n",
       "      <th>github.com/AlDanial/cloc v 1.98  T=1.63 s (67.0 files/s 10622.5 lines/s)</th>\n",
       "    </tr>\n",
       "  </thead>\n",
       "  <tbody>\n",
       "    <tr>\n",
       "      <th>0</th>\n",
       "      <td>SVG</td>\n",
       "      <td>./src/main/webapp/resources/fonts/varela_round...</td>\n",
       "      <td>0</td>\n",
       "      <td>0</td>\n",
       "      <td>7875</td>\n",
       "      <td>NaN</td>\n",
       "    </tr>\n",
       "    <tr>\n",
       "      <th>1</th>\n",
       "      <td>SVG</td>\n",
       "      <td>./src/main/webapp/resources/fonts/montserrat-w...</td>\n",
       "      <td>0</td>\n",
       "      <td>0</td>\n",
       "      <td>1283</td>\n",
       "      <td>NaN</td>\n",
       "    </tr>\n",
       "    <tr>\n",
       "      <th>2</th>\n",
       "      <td>Maven</td>\n",
       "      <td>./pom.xml</td>\n",
       "      <td>41</td>\n",
       "      <td>32</td>\n",
       "      <td>483</td>\n",
       "      <td>NaN</td>\n",
       "    </tr>\n",
       "  </tbody>\n",
       "</table>\n",
       "</div>"
      ],
      "text/plain": [
       "  language                                           filename  blank  comment  \\\n",
       "0      SVG  ./src/main/webapp/resources/fonts/varela_round...      0        0   \n",
       "1      SVG  ./src/main/webapp/resources/fonts/montserrat-w...      0        0   \n",
       "2    Maven                                          ./pom.xml     41       32   \n",
       "\n",
       "   code  \\\n",
       "0  7875   \n",
       "1  1283   \n",
       "2   483   \n",
       "\n",
       "   github.com/AlDanial/cloc v 1.98  T=1.63 s (67.0 files/s 10622.5 lines/s)  \n",
       "0                                                NaN                         \n",
       "1                                                NaN                         \n",
       "2                                                NaN                         "
      ]
     },
     "execution_count": 4,
     "metadata": {},
     "output_type": "execute_result"
    }
   ],
   "source": [
    "import pandas as pd\n",
    "pd.read_csv(\"output/cloc_lines.csv\").head(3)"
   ]
  },
  {
   "cell_type": "markdown",
   "id": "6545c7b5",
   "metadata": {
    "slideshow": {
     "slide_type": "slide"
    }
   },
   "source": [
    "In der Praxis: Einlesen mit kleineren Anpassungen"
   ]
  },
  {
   "cell_type": "code",
   "execution_count": 5,
   "id": "d91ad034",
   "metadata": {
    "scrolled": true,
    "slideshow": {
     "slide_type": "-"
    }
   },
   "outputs": [
    {
     "data": {
      "text/html": [
       "<div>\n",
       "<style scoped>\n",
       "    .dataframe tbody tr th:only-of-type {\n",
       "        vertical-align: middle;\n",
       "    }\n",
       "\n",
       "    .dataframe tbody tr th {\n",
       "        vertical-align: top;\n",
       "    }\n",
       "\n",
       "    .dataframe thead th {\n",
       "        text-align: right;\n",
       "    }\n",
       "</style>\n",
       "<table border=\"1\" class=\"dataframe\">\n",
       "  <thead>\n",
       "    <tr style=\"text-align: right;\">\n",
       "      <th></th>\n",
       "      <th>code</th>\n",
       "    </tr>\n",
       "    <tr>\n",
       "      <th>filename</th>\n",
       "      <th></th>\n",
       "    </tr>\n",
       "  </thead>\n",
       "  <tbody>\n",
       "    <tr>\n",
       "      <th>src/main/webapp/resources/fonts/varela_round-webfont.svg</th>\n",
       "      <td>7875</td>\n",
       "    </tr>\n",
       "    <tr>\n",
       "      <th>src/main/webapp/resources/fonts/montserrat-webfont.svg</th>\n",
       "      <td>1283</td>\n",
       "    </tr>\n",
       "    <tr>\n",
       "      <th>pom.xml</th>\n",
       "      <td>483</td>\n",
       "    </tr>\n",
       "    <tr>\n",
       "      <th>src/main/resources/cache/ehcache.xsd</th>\n",
       "      <td>405</td>\n",
       "    </tr>\n",
       "    <tr>\n",
       "      <th>src/test/jmeter/petclinic_test_plan.jmx</th>\n",
       "      <td>401</td>\n",
       "    </tr>\n",
       "  </tbody>\n",
       "</table>\n",
       "</div>"
      ],
      "text/plain": [
       "                                                    code\n",
       "filename                                                \n",
       "src/main/webapp/resources/fonts/varela_round-we...  7875\n",
       "src/main/webapp/resources/fonts/montserrat-webf...  1283\n",
       "pom.xml                                              483\n",
       "src/main/resources/cache/ehcache.xsd                 405\n",
       "src/test/jmeter/petclinic_test_plan.jmx              401"
      ]
     },
     "execution_count": 5,
     "metadata": {},
     "output_type": "execute_result"
    }
   ],
   "source": [
    "lines = pd.read_csv(\"output/cloc_lines.csv\", index_col=1)[:-1][['code']]\n",
    "lines.index = lines.index.str[2:]\n",
    "lines.head()"
   ]
  },
  {
   "cell_type": "markdown",
   "id": "997eb432",
   "metadata": {},
   "source": [
    "### Änderungsdaten"
   ]
  },
  {
   "cell_type": "markdown",
   "id": "3a5b3ff5",
   "metadata": {
    "slideshow": {
     "slide_type": "slide"
    }
   },
   "source": [
    "Blick auf die Rohdaten"
   ]
  },
  {
   "cell_type": "code",
   "execution_count": 6,
   "id": "d2312a85",
   "metadata": {
    "slideshow": {
     "slide_type": "-"
    }
   },
   "outputs": [
    {
     "name": "stdout",
     "output_type": "stream",
     "text": [
      "src/test/java/org/springframework/samples/petclinic/web/VetControllerTests.java\r\n",
      "src/main/java/org/springframework/samples/petclinic/web/VetController.java\r\n",
      "src/main/java/org/springframework/samples/petclinic/web/VetController.java\r\n",
      "src/main/java/org/springframework/samples/petclinic/web/VetController.java\r\n",
      "src/main/java/org/springframework/samples/petclinic/repository/jdbc/JdbcVisitRowMapper.java\r\n"
     ]
    }
   ],
   "source": [
    "!head -n 5 output/changes.txt"
   ]
  },
  {
   "cell_type": "markdown",
   "id": "3b6c14c8",
   "metadata": {},
   "source": [
    "Datei mit jeder geänderten Datei einlesen (+ Spaltennamen)"
   ]
  },
  {
   "cell_type": "code",
   "execution_count": 7,
   "id": "3c0e4280",
   "metadata": {
    "slideshow": {
     "slide_type": "fragment"
    }
   },
   "outputs": [
    {
     "data": {
      "text/html": [
       "<div>\n",
       "<style scoped>\n",
       "    .dataframe tbody tr th:only-of-type {\n",
       "        vertical-align: middle;\n",
       "    }\n",
       "\n",
       "    .dataframe tbody tr th {\n",
       "        vertical-align: top;\n",
       "    }\n",
       "\n",
       "    .dataframe thead th {\n",
       "        text-align: right;\n",
       "    }\n",
       "</style>\n",
       "<table border=\"1\" class=\"dataframe\">\n",
       "  <thead>\n",
       "    <tr style=\"text-align: right;\">\n",
       "      <th></th>\n",
       "      <th>filepath</th>\n",
       "    </tr>\n",
       "  </thead>\n",
       "  <tbody>\n",
       "    <tr>\n",
       "      <th>0</th>\n",
       "      <td>src/test/java/org/springframework/samples/petc...</td>\n",
       "    </tr>\n",
       "    <tr>\n",
       "      <th>1</th>\n",
       "      <td>src/main/java/org/springframework/samples/petc...</td>\n",
       "    </tr>\n",
       "    <tr>\n",
       "      <th>2</th>\n",
       "      <td>src/main/java/org/springframework/samples/petc...</td>\n",
       "    </tr>\n",
       "    <tr>\n",
       "      <th>3</th>\n",
       "      <td>src/main/java/org/springframework/samples/petc...</td>\n",
       "    </tr>\n",
       "    <tr>\n",
       "      <th>4</th>\n",
       "      <td>src/main/java/org/springframework/samples/petc...</td>\n",
       "    </tr>\n",
       "  </tbody>\n",
       "</table>\n",
       "</div>"
      ],
      "text/plain": [
       "                                            filepath\n",
       "0  src/test/java/org/springframework/samples/petc...\n",
       "1  src/main/java/org/springframework/samples/petc...\n",
       "2  src/main/java/org/springframework/samples/petc...\n",
       "3  src/main/java/org/springframework/samples/petc...\n",
       "4  src/main/java/org/springframework/samples/petc..."
      ]
     },
     "execution_count": 7,
     "metadata": {},
     "output_type": "execute_result"
    }
   ],
   "source": [
    "change_per_file = pd.read_csv(\"output/changes.txt\", names=['filepath'])\n",
    "change_per_file.head()"
   ]
  },
  {
   "cell_type": "markdown",
   "id": "f45e61df",
   "metadata": {
    "slideshow": {
     "slide_type": "slide"
    }
   },
   "source": [
    "Hier noch zu erledigen: Änderungshäufigkeit der Dateien zählen"
   ]
  },
  {
   "cell_type": "code",
   "execution_count": 8,
   "id": "625cdce8",
   "metadata": {
    "slideshow": {
     "slide_type": "-"
    }
   },
   "outputs": [
    {
     "data": {
      "text/html": [
       "<div>\n",
       "<style scoped>\n",
       "    .dataframe tbody tr th:only-of-type {\n",
       "        vertical-align: middle;\n",
       "    }\n",
       "\n",
       "    .dataframe tbody tr th {\n",
       "        vertical-align: top;\n",
       "    }\n",
       "\n",
       "    .dataframe thead th {\n",
       "        text-align: right;\n",
       "    }\n",
       "</style>\n",
       "<table border=\"1\" class=\"dataframe\">\n",
       "  <thead>\n",
       "    <tr style=\"text-align: right;\">\n",
       "      <th></th>\n",
       "      <th>changes</th>\n",
       "    </tr>\n",
       "    <tr>\n",
       "      <th>filepath</th>\n",
       "      <th></th>\n",
       "    </tr>\n",
       "  </thead>\n",
       "  <tbody>\n",
       "    <tr>\n",
       "      <th>src/main/java/org/springframework/samples/petclinic/repository/jdbc/JdbcOwnerRepositoryImpl.java</th>\n",
       "      <td>26</td>\n",
       "    </tr>\n",
       "    <tr>\n",
       "      <th>src/test/java/org/springframework/samples/petclinic/service/AbstractClinicServiceTests.java</th>\n",
       "      <td>20</td>\n",
       "    </tr>\n",
       "    <tr>\n",
       "      <th>src/main/java/org/springframework/samples/petclinic/web/OwnerController.java</th>\n",
       "      <td>20</td>\n",
       "    </tr>\n",
       "    <tr>\n",
       "      <th>src/main/java/org/springframework/samples/petclinic/web/PetController.java</th>\n",
       "      <td>19</td>\n",
       "    </tr>\n",
       "    <tr>\n",
       "      <th>src/main/java/org/springframework/samples/petclinic/repository/jdbc/JdbcVetRepositoryImpl.java</th>\n",
       "      <td>19</td>\n",
       "    </tr>\n",
       "  </tbody>\n",
       "</table>\n",
       "</div>"
      ],
      "text/plain": [
       "                                                    changes\n",
       "filepath                                                   \n",
       "src/main/java/org/springframework/samples/petcl...       26\n",
       "src/test/java/org/springframework/samples/petcl...       20\n",
       "src/main/java/org/springframework/samples/petcl...       20\n",
       "src/main/java/org/springframework/samples/petcl...       19\n",
       "src/main/java/org/springframework/samples/petcl...       19"
      ]
     },
     "execution_count": 8,
     "metadata": {},
     "output_type": "execute_result"
    }
   ],
   "source": [
    "changes = pd.DataFrame(change_per_file['filepath'].value_counts())\n",
    "changes.columns = [\"changes\"]\n",
    "changes.head()"
   ]
  },
  {
   "cell_type": "markdown",
   "id": "b26bc156",
   "metadata": {
    "slideshow": {
     "slide_type": "slide"
    }
   },
   "source": [
    "Getrennte Daten zusammenführen"
   ]
  },
  {
   "cell_type": "code",
   "execution_count": 9,
   "id": "6394fcd3",
   "metadata": {
    "slideshow": {
     "slide_type": "-"
    }
   },
   "outputs": [
    {
     "data": {
      "text/html": [
       "<div>\n",
       "<style scoped>\n",
       "    .dataframe tbody tr th:only-of-type {\n",
       "        vertical-align: middle;\n",
       "    }\n",
       "\n",
       "    .dataframe tbody tr th {\n",
       "        vertical-align: top;\n",
       "    }\n",
       "\n",
       "    .dataframe thead th {\n",
       "        text-align: right;\n",
       "    }\n",
       "</style>\n",
       "<table border=\"1\" class=\"dataframe\">\n",
       "  <thead>\n",
       "    <tr style=\"text-align: right;\">\n",
       "      <th></th>\n",
       "      <th>changes</th>\n",
       "      <th>code</th>\n",
       "    </tr>\n",
       "    <tr>\n",
       "      <th>filepath</th>\n",
       "      <th></th>\n",
       "      <th></th>\n",
       "    </tr>\n",
       "  </thead>\n",
       "  <tbody>\n",
       "    <tr>\n",
       "      <th>src/main/java/org/springframework/samples/petclinic/repository/jdbc/JdbcOwnerRepositoryImpl.java</th>\n",
       "      <td>26</td>\n",
       "      <td>98.0</td>\n",
       "    </tr>\n",
       "    <tr>\n",
       "      <th>src/test/java/org/springframework/samples/petclinic/service/AbstractClinicServiceTests.java</th>\n",
       "      <td>20</td>\n",
       "      <td>135.0</td>\n",
       "    </tr>\n",
       "    <tr>\n",
       "      <th>src/main/java/org/springframework/samples/petclinic/web/OwnerController.java</th>\n",
       "      <td>20</td>\n",
       "      <td>85.0</td>\n",
       "    </tr>\n",
       "    <tr>\n",
       "      <th>src/main/java/org/springframework/samples/petclinic/web/PetController.java</th>\n",
       "      <td>19</td>\n",
       "      <td>78.0</td>\n",
       "    </tr>\n",
       "    <tr>\n",
       "      <th>src/main/java/org/springframework/samples/petclinic/repository/jdbc/JdbcVetRepositoryImpl.java</th>\n",
       "      <td>19</td>\n",
       "      <td>48.0</td>\n",
       "    </tr>\n",
       "  </tbody>\n",
       "</table>\n",
       "</div>"
      ],
      "text/plain": [
       "                                                    changes   code\n",
       "filepath                                                          \n",
       "src/main/java/org/springframework/samples/petcl...       26   98.0\n",
       "src/test/java/org/springframework/samples/petcl...       20  135.0\n",
       "src/main/java/org/springframework/samples/petcl...       20   85.0\n",
       "src/main/java/org/springframework/samples/petcl...       19   78.0\n",
       "src/main/java/org/springframework/samples/petcl...       19   48.0"
      ]
     },
     "execution_count": 9,
     "metadata": {},
     "output_type": "execute_result"
    }
   ],
   "source": [
    "hotspots = changes.join(lines).dropna()\n",
    "hotspots.head()"
   ]
  },
  {
   "cell_type": "markdown",
   "id": "599d781e",
   "metadata": {
    "slideshow": {
     "slide_type": "slide"
    }
   },
   "source": [
    "## Visualisierung der Daten"
   ]
  },
  {
   "cell_type": "markdown",
   "id": "83a8ecac",
   "metadata": {
    "slideshow": {
     "slide_type": "slide"
    }
   },
   "source": [
    "Woher nehmen?\n",
    "[https://observablehq.com/@d3/gallery](https://observablehq.com/@d3/gallery)"
   ]
  },
  {
   "cell_type": "markdown",
   "id": "fc731287",
   "metadata": {
    "slideshow": {
     "slide_type": "slide"
    }
   },
   "source": [
    "Wir brauchen folgendes Datenformat und ein D3-Visualisierungs-Template für Circle Pack Hierarchy Chart.\n",
    "\n",
    "- Komplette Datei: <code><a href=\"demo/spring_petclinic_demo_flare.json\" target=\"_blank\">demo/spring_petclinic_demo_flare.json</a></code>\n",
    "- Template: <code><a href=\"vis/template_circle_pack_hierarchy_chart_d3_inline.html\" target=\"_blank\">vis/template_circle_pack_hierarchy_chart_d3_inline.html</a></code> (hier: Quellcode anzeigen lassen)"
   ]
  },
  {
   "cell_type": "markdown",
   "id": "de7356cf",
   "metadata": {
    "slideshow": {
     "slide_type": "-"
    }
   },
   "source": [
    "<small><pre>{\n",
    "    'name': 'flare',\n",
    "    'children': [{\n",
    "            'name': 'src',\n",
    "            'children': [{\n",
    "                    'name': 'main',\n",
    "                    'children': [{\n",
    "                            'name': 'java',\n",
    "                            'children': [{\n",
    "                                    'name': 'org',\n",
    "                                    'children': [{\n",
    "                                            'name': 'springframework',\n",
    "                                            'children': [{\n",
    "                                                    'name': 'samples',\n",
    "                                                    'children': [{\n",
    "                                                            'name': 'petclinic',\n",
    "                                                            'children': [{\n",
    "                                                                    'name': 'repository',\n",
    "                                                                    'children': [{\n",
    "                                                                            'name': 'jdbc',\n",
    "                                                                            'children': [{\n",
    "                                                                                    'name': 'JdbcOwnerRepositoryImpl.java (158.0 [27])',\n",
    "                                                                                    'size': 158.0,\n",
    "                                                                                    'color': '#b40426'\n",
    "                                                                                }, {\n",
    "                                                                                    'name': 'JdbcVetRepositoryImpl.java (88.0 [20])',\n",
    "                                                                                    'size': 88.0,\n",
    "                                                                                    'color': '#f59d7e'\n",
    "                                                                                }, {\n",
    "                                                                                    'name': 'JdbcVisitRepositoryImpl.java (103.0 [19])',\n",
    "                                                                                    'size': 103.0,\n",
    "                                                                                    'color': '#f7aa8c'\n",
    "                                                                                },\n",
    "...\n",
    "</pre></small>"
   ]
  },
  {
   "cell_type": "markdown",
   "id": "76eb8f7c",
   "metadata": {
    "slideshow": {
     "slide_type": "slide"
    }
   },
   "source": [
    "Daten für Visualisierung aufbereiten: In D3-Datenformat (JSON) umwandeln, HTML-Template für Circle Pack Hierarchy Chart mit Daten füttern und Datei erzeugen (nein, diesen Code schreiben wir nicht selbst heute...)."
   ]
  },
  {
   "cell_type": "code",
   "execution_count": 10,
   "id": "471c1e9e",
   "metadata": {
    "slideshow": {
     "slide_type": "-"
    }
   },
   "outputs": [
    {
     "data": {
      "text/html": [
       "<a href=\"output/code_hotspots.html\" target=\"_blank\">Hotspots via Circle Pack Hierarchy Chart </a>"
      ],
      "text/plain": [
       "<IPython.core.display.HTML object>"
      ]
     },
     "execution_count": 10,
     "metadata": {},
     "output_type": "execute_result"
    }
   ],
   "source": [
    "from matplotlib import cm\n",
    "from matplotlib.colors import rgb2hex\n",
    "import json\n",
    "from IPython.core.display import HTML\n",
    "\n",
    "\n",
    "def create_plot_data(df, color_column_name, size_column_name, seperator):\n",
    "    plot_data = pd.DataFrame(index=df.index)\n",
    "    plot_data['value_for_color'] = df[color_column_name]\n",
    "    plot_data['ratio_for_color'] = plot_data['value_for_color'] / plot_data['value_for_color'].max()\n",
    "    plot_data['color'] = plot_data['ratio_for_color'].apply(lambda x : rgb2hex(cm.coolwarm(x)))\n",
    "    plot_data['size'] = df[size_column_name]\n",
    "    plot_data[['path', 'name']] = df.index.str.rsplit(seperator, n=1).to_list()\n",
    "    plot_data['path_list'] = plot_data['path'].str.split(seperator)\n",
    "    return plot_data\n",
    "\n",
    "def create_flare_json(df):\n",
    "\n",
    "    json_data = {'name': 'flare', 'children': []}\n",
    "\n",
    "    for _, series in df.iterrows():\n",
    "        hierarchical_data = series['path_list']\n",
    "\n",
    "        children = json_data['children']\n",
    "        for part in hierarchical_data:\n",
    "            entry = next((child for child in children if child.get('name', '') == part), None)\n",
    "            if not entry:\n",
    "                entry = {'name': part, 'children': []}\n",
    "                children.append(entry)\n",
    "            children = entry['children']\n",
    "\n",
    "        children.append({\n",
    "            'name': f\"{series['name']} ({series['size']} [{series['value_for_color']}])\",\n",
    "            'size': series['size'],\n",
    "            'color': series['color']\n",
    "        })\n",
    "\n",
    "    return json_data\n",
    "\n",
    "\n",
    "def create_file(hotspots, color_column_name, size_column_name, separator, suffix=\"\"):\n",
    "    json_data = create_flare_json(create_plot_data(hotspots, color_column_name, size_column_name,separator))\n",
    "            \n",
    "    with open(\"vis/template_circle_pack_hierarchy_chart_d3_inline.html\") as html_template:\n",
    "        html = html_template.read().replace(\"###JSON###\", str(json_data))\n",
    "        \n",
    "        with open(f'output/code_hotspots{suffix}.html', mode='w') as html_out:\n",
    "            html_out.write(html)\n",
    "    \n",
    "    return HTML(f'<a href=\"output/code_hotspots{suffix}.html\" target=\"_blank\">Hotspots via Circle Pack Hierarchy Chart {suffix}</a>')\n",
    "            \n",
    "create_file(hotspots, \"changes\", \"code\", \"/\")"
   ]
  },
  {
   "cell_type": "markdown",
   "id": "a6347632",
   "metadata": {},
   "source": [
    "## Herausforderung\n",
    "In `data/spring_petclinic_production_coverage_data.csv` liegt eine Datei mit Messergebnissen in Form einer Code Coverage, welche während einer repräsentativen Nutzung der Anwendung aufgezeichnet wurde. Visualisiert diese Daten mit Hilfe der Circle Pack Hierarchy Chart."
   ]
  },
  {
   "cell_type": "markdown",
   "id": "6beffe1f",
   "metadata": {},
   "source": [
    "Daten einlesen mittels pandas"
   ]
  },
  {
   "cell_type": "code",
   "execution_count": 11,
   "id": "3c97f678",
   "metadata": {},
   "outputs": [
    {
     "data": {
      "text/html": [
       "<div>\n",
       "<style scoped>\n",
       "    .dataframe tbody tr th:only-of-type {\n",
       "        vertical-align: middle;\n",
       "    }\n",
       "\n",
       "    .dataframe tbody tr th {\n",
       "        vertical-align: top;\n",
       "    }\n",
       "\n",
       "    .dataframe thead th {\n",
       "        text-align: right;\n",
       "    }\n",
       "</style>\n",
       "<table border=\"1\" class=\"dataframe\">\n",
       "  <thead>\n",
       "    <tr style=\"text-align: right;\">\n",
       "      <th></th>\n",
       "      <th>PACKAGE</th>\n",
       "      <th>CLASS</th>\n",
       "      <th>LINE_MISSED</th>\n",
       "      <th>LINE_COVERED</th>\n",
       "    </tr>\n",
       "  </thead>\n",
       "  <tbody>\n",
       "    <tr>\n",
       "      <th>0</th>\n",
       "      <td>org.springframework.samples.petclinic</td>\n",
       "      <td>PetclinicInitializer</td>\n",
       "      <td>0</td>\n",
       "      <td>24</td>\n",
       "    </tr>\n",
       "    <tr>\n",
       "      <th>1</th>\n",
       "      <td>org.springframework.samples.petclinic.model</td>\n",
       "      <td>NamedEntity</td>\n",
       "      <td>1</td>\n",
       "      <td>4</td>\n",
       "    </tr>\n",
       "    <tr>\n",
       "      <th>2</th>\n",
       "      <td>org.springframework.samples.petclinic.model</td>\n",
       "      <td>Specialty</td>\n",
       "      <td>0</td>\n",
       "      <td>1</td>\n",
       "    </tr>\n",
       "    <tr>\n",
       "      <th>3</th>\n",
       "      <td>org.springframework.samples.petclinic.model</td>\n",
       "      <td>PetType</td>\n",
       "      <td>0</td>\n",
       "      <td>1</td>\n",
       "    </tr>\n",
       "    <tr>\n",
       "      <th>4</th>\n",
       "      <td>org.springframework.samples.petclinic.model</td>\n",
       "      <td>Vets</td>\n",
       "      <td>4</td>\n",
       "      <td>0</td>\n",
       "    </tr>\n",
       "  </tbody>\n",
       "</table>\n",
       "</div>"
      ],
      "text/plain": [
       "                                       PACKAGE                 CLASS  \\\n",
       "0        org.springframework.samples.petclinic  PetclinicInitializer   \n",
       "1  org.springframework.samples.petclinic.model           NamedEntity   \n",
       "2  org.springframework.samples.petclinic.model             Specialty   \n",
       "3  org.springframework.samples.petclinic.model               PetType   \n",
       "4  org.springframework.samples.petclinic.model                  Vets   \n",
       "\n",
       "   LINE_MISSED  LINE_COVERED  \n",
       "0            0            24  \n",
       "1            1             4  \n",
       "2            0             1  \n",
       "3            0             1  \n",
       "4            4             0  "
      ]
     },
     "execution_count": 11,
     "metadata": {},
     "output_type": "execute_result"
    }
   ],
   "source": [
    "coverage = pd.read_csv(\"data/spring_petclinic_production_coverage_data.csv\")\n",
    "coverage.head()"
   ]
  },
  {
   "cell_type": "markdown",
   "id": "21a44f82",
   "metadata": {},
   "source": [
    "Berechne `ratio`, also den Prozentsatz des durchgelaufenen Codes."
   ]
  },
  {
   "cell_type": "code",
   "execution_count": 12,
   "id": "24d35781",
   "metadata": {},
   "outputs": [
    {
     "data": {
      "text/html": [
       "<div>\n",
       "<style scoped>\n",
       "    .dataframe tbody tr th:only-of-type {\n",
       "        vertical-align: middle;\n",
       "    }\n",
       "\n",
       "    .dataframe tbody tr th {\n",
       "        vertical-align: top;\n",
       "    }\n",
       "\n",
       "    .dataframe thead th {\n",
       "        text-align: right;\n",
       "    }\n",
       "</style>\n",
       "<table border=\"1\" class=\"dataframe\">\n",
       "  <thead>\n",
       "    <tr style=\"text-align: right;\">\n",
       "      <th></th>\n",
       "      <th>PACKAGE</th>\n",
       "      <th>CLASS</th>\n",
       "      <th>LINE_MISSED</th>\n",
       "      <th>LINE_COVERED</th>\n",
       "      <th>size</th>\n",
       "      <th>ratio</th>\n",
       "    </tr>\n",
       "  </thead>\n",
       "  <tbody>\n",
       "    <tr>\n",
       "      <th>0</th>\n",
       "      <td>org.springframework.samples.petclinic</td>\n",
       "      <td>PetclinicInitializer</td>\n",
       "      <td>0</td>\n",
       "      <td>24</td>\n",
       "      <td>24</td>\n",
       "      <td>1.0</td>\n",
       "    </tr>\n",
       "    <tr>\n",
       "      <th>1</th>\n",
       "      <td>org.springframework.samples.petclinic.model</td>\n",
       "      <td>NamedEntity</td>\n",
       "      <td>1</td>\n",
       "      <td>4</td>\n",
       "      <td>5</td>\n",
       "      <td>0.8</td>\n",
       "    </tr>\n",
       "    <tr>\n",
       "      <th>2</th>\n",
       "      <td>org.springframework.samples.petclinic.model</td>\n",
       "      <td>Specialty</td>\n",
       "      <td>0</td>\n",
       "      <td>1</td>\n",
       "      <td>1</td>\n",
       "      <td>1.0</td>\n",
       "    </tr>\n",
       "    <tr>\n",
       "      <th>3</th>\n",
       "      <td>org.springframework.samples.petclinic.model</td>\n",
       "      <td>PetType</td>\n",
       "      <td>0</td>\n",
       "      <td>1</td>\n",
       "      <td>1</td>\n",
       "      <td>1.0</td>\n",
       "    </tr>\n",
       "    <tr>\n",
       "      <th>4</th>\n",
       "      <td>org.springframework.samples.petclinic.model</td>\n",
       "      <td>Vets</td>\n",
       "      <td>4</td>\n",
       "      <td>0</td>\n",
       "      <td>4</td>\n",
       "      <td>0.0</td>\n",
       "    </tr>\n",
       "  </tbody>\n",
       "</table>\n",
       "</div>"
      ],
      "text/plain": [
       "                                       PACKAGE                 CLASS  \\\n",
       "0        org.springframework.samples.petclinic  PetclinicInitializer   \n",
       "1  org.springframework.samples.petclinic.model           NamedEntity   \n",
       "2  org.springframework.samples.petclinic.model             Specialty   \n",
       "3  org.springframework.samples.petclinic.model               PetType   \n",
       "4  org.springframework.samples.petclinic.model                  Vets   \n",
       "\n",
       "   LINE_MISSED  LINE_COVERED  size  ratio  \n",
       "0            0            24    24    1.0  \n",
       "1            1             4     5    0.8  \n",
       "2            0             1     1    1.0  \n",
       "3            0             1     1    1.0  \n",
       "4            4             0     4    0.0  "
      ]
     },
     "execution_count": 12,
     "metadata": {},
     "output_type": "execute_result"
    }
   ],
   "source": [
    "coverage['size'] = coverage['LINE_MISSED'] + coverage['LINE_COVERED']\n",
    "coverage['ratio'] = coverage['LINE_COVERED'] / coverage['size']\n",
    "coverage.head()"
   ]
  },
  {
   "cell_type": "markdown",
   "id": "2cbc2005",
   "metadata": {},
   "source": [
    "Erzeuge eine neue Spalte mit dem kompletten Pfad zu einer Quellcodedatei und setze diesen mit `set_index` als Index."
   ]
  },
  {
   "cell_type": "code",
   "execution_count": 13,
   "id": "9479f48e",
   "metadata": {},
   "outputs": [
    {
     "data": {
      "text/html": [
       "<div>\n",
       "<style scoped>\n",
       "    .dataframe tbody tr th:only-of-type {\n",
       "        vertical-align: middle;\n",
       "    }\n",
       "\n",
       "    .dataframe tbody tr th {\n",
       "        vertical-align: top;\n",
       "    }\n",
       "\n",
       "    .dataframe thead th {\n",
       "        text-align: right;\n",
       "    }\n",
       "</style>\n",
       "<table border=\"1\" class=\"dataframe\">\n",
       "  <thead>\n",
       "    <tr style=\"text-align: right;\">\n",
       "      <th></th>\n",
       "      <th>PACKAGE</th>\n",
       "      <th>CLASS</th>\n",
       "      <th>LINE_MISSED</th>\n",
       "      <th>LINE_COVERED</th>\n",
       "      <th>size</th>\n",
       "      <th>ratio</th>\n",
       "      <th>fqn</th>\n",
       "    </tr>\n",
       "    <tr>\n",
       "      <th>fqn</th>\n",
       "      <th></th>\n",
       "      <th></th>\n",
       "      <th></th>\n",
       "      <th></th>\n",
       "      <th></th>\n",
       "      <th></th>\n",
       "      <th></th>\n",
       "    </tr>\n",
       "  </thead>\n",
       "  <tbody>\n",
       "    <tr>\n",
       "      <th>org.springframework.samples.petclinic.PetclinicInitializer</th>\n",
       "      <td>org.springframework.samples.petclinic</td>\n",
       "      <td>PetclinicInitializer</td>\n",
       "      <td>0</td>\n",
       "      <td>24</td>\n",
       "      <td>24</td>\n",
       "      <td>1.0</td>\n",
       "      <td>org.springframework.samples.petclinic.Petclini...</td>\n",
       "    </tr>\n",
       "    <tr>\n",
       "      <th>org.springframework.samples.petclinic.model.NamedEntity</th>\n",
       "      <td>org.springframework.samples.petclinic.model</td>\n",
       "      <td>NamedEntity</td>\n",
       "      <td>1</td>\n",
       "      <td>4</td>\n",
       "      <td>5</td>\n",
       "      <td>0.8</td>\n",
       "      <td>org.springframework.samples.petclinic.model.Na...</td>\n",
       "    </tr>\n",
       "    <tr>\n",
       "      <th>org.springframework.samples.petclinic.model.Specialty</th>\n",
       "      <td>org.springframework.samples.petclinic.model</td>\n",
       "      <td>Specialty</td>\n",
       "      <td>0</td>\n",
       "      <td>1</td>\n",
       "      <td>1</td>\n",
       "      <td>1.0</td>\n",
       "      <td>org.springframework.samples.petclinic.model.Sp...</td>\n",
       "    </tr>\n",
       "    <tr>\n",
       "      <th>org.springframework.samples.petclinic.model.PetType</th>\n",
       "      <td>org.springframework.samples.petclinic.model</td>\n",
       "      <td>PetType</td>\n",
       "      <td>0</td>\n",
       "      <td>1</td>\n",
       "      <td>1</td>\n",
       "      <td>1.0</td>\n",
       "      <td>org.springframework.samples.petclinic.model.Pe...</td>\n",
       "    </tr>\n",
       "    <tr>\n",
       "      <th>org.springframework.samples.petclinic.model.Vets</th>\n",
       "      <td>org.springframework.samples.petclinic.model</td>\n",
       "      <td>Vets</td>\n",
       "      <td>4</td>\n",
       "      <td>0</td>\n",
       "      <td>4</td>\n",
       "      <td>0.0</td>\n",
       "      <td>org.springframework.samples.petclinic.model.Vets</td>\n",
       "    </tr>\n",
       "  </tbody>\n",
       "</table>\n",
       "</div>"
      ],
      "text/plain": [
       "                                                                                        PACKAGE  \\\n",
       "fqn                                                                                               \n",
       "org.springframework.samples.petclinic.Petclinic...        org.springframework.samples.petclinic   \n",
       "org.springframework.samples.petclinic.model.Nam...  org.springframework.samples.petclinic.model   \n",
       "org.springframework.samples.petclinic.model.Spe...  org.springframework.samples.petclinic.model   \n",
       "org.springframework.samples.petclinic.model.Pet...  org.springframework.samples.petclinic.model   \n",
       "org.springframework.samples.petclinic.model.Vets    org.springframework.samples.petclinic.model   \n",
       "\n",
       "                                                                   CLASS  \\\n",
       "fqn                                                                        \n",
       "org.springframework.samples.petclinic.Petclinic...  PetclinicInitializer   \n",
       "org.springframework.samples.petclinic.model.Nam...           NamedEntity   \n",
       "org.springframework.samples.petclinic.model.Spe...             Specialty   \n",
       "org.springframework.samples.petclinic.model.Pet...               PetType   \n",
       "org.springframework.samples.petclinic.model.Vets                    Vets   \n",
       "\n",
       "                                                    LINE_MISSED  LINE_COVERED  \\\n",
       "fqn                                                                             \n",
       "org.springframework.samples.petclinic.Petclinic...            0            24   \n",
       "org.springframework.samples.petclinic.model.Nam...            1             4   \n",
       "org.springframework.samples.petclinic.model.Spe...            0             1   \n",
       "org.springframework.samples.petclinic.model.Pet...            0             1   \n",
       "org.springframework.samples.petclinic.model.Vets              4             0   \n",
       "\n",
       "                                                    size  ratio  \\\n",
       "fqn                                                               \n",
       "org.springframework.samples.petclinic.Petclinic...    24    1.0   \n",
       "org.springframework.samples.petclinic.model.Nam...     5    0.8   \n",
       "org.springframework.samples.petclinic.model.Spe...     1    1.0   \n",
       "org.springframework.samples.petclinic.model.Pet...     1    1.0   \n",
       "org.springframework.samples.petclinic.model.Vets       4    0.0   \n",
       "\n",
       "                                                                                                  fqn  \n",
       "fqn                                                                                                    \n",
       "org.springframework.samples.petclinic.Petclinic...  org.springframework.samples.petclinic.Petclini...  \n",
       "org.springframework.samples.petclinic.model.Nam...  org.springframework.samples.petclinic.model.Na...  \n",
       "org.springframework.samples.petclinic.model.Spe...  org.springframework.samples.petclinic.model.Sp...  \n",
       "org.springframework.samples.petclinic.model.Pet...  org.springframework.samples.petclinic.model.Pe...  \n",
       "org.springframework.samples.petclinic.model.Vets     org.springframework.samples.petclinic.model.Vets  "
      ]
     },
     "execution_count": 13,
     "metadata": {},
     "output_type": "execute_result"
    }
   ],
   "source": [
    "coverage['fqn'] = coverage['PACKAGE'] + \".\" + coverage['CLASS']\n",
    "coverage = coverage.set_index(coverage['fqn'])\n",
    "coverage.head()"
   ]
  },
  {
   "cell_type": "markdown",
   "id": "9949cb47",
   "metadata": {},
   "source": [
    "Nutze die obige `create_file`-Funktion, um eine Visualisierung zu erzeugen (Tipp: `suffix` als letzen Parameter der Funktion verwenden, um eine Datei mit anderem Namen zu erzeugen)"
   ]
  },
  {
   "cell_type": "code",
   "execution_count": 14,
   "id": "1576f791",
   "metadata": {},
   "outputs": [
    {
     "data": {
      "text/html": [
       "<a href=\"output/code_hotspots_coverage.html\" target=\"_blank\">Hotspots via Circle Pack Hierarchy Chart _coverage</a>"
      ],
      "text/plain": [
       "<IPython.core.display.HTML object>"
      ]
     },
     "execution_count": 14,
     "metadata": {},
     "output_type": "execute_result"
    }
   ],
   "source": [
    "create_file(coverage, \"ratio\", \"size\", \".\", \"_coverage\")"
   ]
  }
 ],
 "metadata": {
  "kernelspec": {
   "display_name": "Python 3 (ipykernel)",
   "language": "python",
   "name": "python3"
  },
  "language_info": {
   "codemirror_mode": {
    "name": "ipython",
    "version": 3
   },
   "file_extension": ".py",
   "mimetype": "text/x-python",
   "name": "python",
   "nbconvert_exporter": "python",
   "pygments_lexer": "ipython3",
   "version": "3.9.7"
  },
  "rise": {
   "controls": false,
   "progress": false,
   "scroll": true,
   "showSlideNumber": "speaker",
   "slideNumber ": false,
   "transition": "none"
  }
 },
 "nbformat": 4,
 "nbformat_minor": 5
}
